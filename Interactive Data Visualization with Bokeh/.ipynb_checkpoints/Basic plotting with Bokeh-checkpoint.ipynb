{
 "cells": [
  {
   "cell_type": "markdown",
   "metadata": {},
   "source": [
    "## A simple scatter plot\n",
    "\n",
    "In this example, you're going to make a scatter plot of female literacy vs fertility using data from the European Environmental Agency(https://www.eea.europa.eu/data-and-maps/figures/correlation-between-fertility-and-female-education). This dataset highlights that countries with low female literacy have high birthrates. The x-axis data has been loaded for you as fertility and the y-axis data has been loaded as female_literacy.\n",
    "\n",
    "Your job is to create a figure, assign x-axis and y-axis labels, and plot female_literacy vs fertility using the circle glyph.\n",
    "\n",
    "After you have created the figure, in this exercise and the ones to follow, play around with it! Explore the different options available to you on the tab to the right, such as \"Pan\", \"Box Zoom\", and \"Wheel Zoom\". You can click on the question mark sign for more details on any of these tool"
   ]
  },
  {
   "cell_type": "markdown",
   "metadata": {},
   "source": [
    "    # Import figure from bokeh.plotting\n",
    "    from bokeh.plotting import ____\n",
    "\n",
    "    # Import output_file and show from bokeh.io\n",
    "    from bokeh.io import ____, ____\n",
    "\n",
    "    # Create the figure: p\n",
    "    p = ____(____='fertility (children per woman)', ____='female_literacy (% population)')\n",
    "\n",
    "    # Add a circle glyph to the figure p\n",
    "    p.circle(____, ____)\n",
    "\n",
    "    # Call the output_file() function and specify the name of the file\n",
    "\n",
    "\n",
    "    # Display the plot\n",
    "\n"
   ]
  },
  {
   "cell_type": "code",
   "execution_count": 15,
   "metadata": {
    "collapsed": false
   },
   "outputs": [
    {
     "data": {
      "text/html": [
       "\n",
       "    <div class=\"bk-root\">\n",
       "        <a href=\"http://bokeh.pydata.org\" target=\"_blank\" class=\"bk-logo bk-logo-small bk-logo-notebook\"></a>\n",
       "        <span id=\"01aa20d8-5797-4ca9-ae58-c06e0720b996\">Loading BokehJS ...</span>\n",
       "    </div>"
      ]
     },
     "metadata": {},
     "output_type": "display_data"
    },
    {
     "data": {
      "application/javascript": [
       "\n",
       "(function(global) {\n",
       "  function now() {\n",
       "    return new Date();\n",
       "  }\n",
       "\n",
       "  var force = \"1\";\n",
       "\n",
       "  if (typeof (window._bokeh_onload_callbacks) === \"undefined\" || force !== \"\") {\n",
       "    window._bokeh_onload_callbacks = [];\n",
       "    window._bokeh_is_loading = undefined;\n",
       "  }\n",
       "\n",
       "\n",
       "  \n",
       "  if (typeof (window._bokeh_timeout) === \"undefined\" || force !== \"\") {\n",
       "    window._bokeh_timeout = Date.now() + 5000;\n",
       "    window._bokeh_failed_load = false;\n",
       "  }\n",
       "\n",
       "  var NB_LOAD_WARNING = {'data': {'text/html':\n",
       "     \"<div style='background-color: #fdd'>\\n\"+\n",
       "     \"<p>\\n\"+\n",
       "     \"BokehJS does not appear to have successfully loaded. If loading BokehJS from CDN, this \\n\"+\n",
       "     \"may be due to a slow or bad network connection. Possible fixes:\\n\"+\n",
       "     \"</p>\\n\"+\n",
       "     \"<ul>\\n\"+\n",
       "     \"<li>re-rerun `output_notebook()` to attempt to load from CDN again, or</li>\\n\"+\n",
       "     \"<li>use INLINE resources instead, as so:</li>\\n\"+\n",
       "     \"</ul>\\n\"+\n",
       "     \"<code>\\n\"+\n",
       "     \"from bokeh.resources import INLINE\\n\"+\n",
       "     \"output_notebook(resources=INLINE)\\n\"+\n",
       "     \"</code>\\n\"+\n",
       "     \"</div>\"}};\n",
       "\n",
       "  function display_loaded() {\n",
       "    if (window.Bokeh !== undefined) {\n",
       "      Bokeh.$(\"#01aa20d8-5797-4ca9-ae58-c06e0720b996\").text(\"BokehJS successfully loaded.\");\n",
       "    } else if (Date.now() < window._bokeh_timeout) {\n",
       "      setTimeout(display_loaded, 100)\n",
       "    }\n",
       "  }\n",
       "\n",
       "  function run_callbacks() {\n",
       "    window._bokeh_onload_callbacks.forEach(function(callback) { callback() });\n",
       "    delete window._bokeh_onload_callbacks\n",
       "    console.info(\"Bokeh: all callbacks have finished\");\n",
       "  }\n",
       "\n",
       "  function load_libs(js_urls, callback) {\n",
       "    window._bokeh_onload_callbacks.push(callback);\n",
       "    if (window._bokeh_is_loading > 0) {\n",
       "      console.log(\"Bokeh: BokehJS is being loaded, scheduling callback at\", now());\n",
       "      return null;\n",
       "    }\n",
       "    if (js_urls == null || js_urls.length === 0) {\n",
       "      run_callbacks();\n",
       "      return null;\n",
       "    }\n",
       "    console.log(\"Bokeh: BokehJS not loaded, scheduling load and callback at\", now());\n",
       "    window._bokeh_is_loading = js_urls.length;\n",
       "    for (var i = 0; i < js_urls.length; i++) {\n",
       "      var url = js_urls[i];\n",
       "      var s = document.createElement('script');\n",
       "      s.src = url;\n",
       "      s.async = false;\n",
       "      s.onreadystatechange = s.onload = function() {\n",
       "        window._bokeh_is_loading--;\n",
       "        if (window._bokeh_is_loading === 0) {\n",
       "          console.log(\"Bokeh: all BokehJS libraries loaded\");\n",
       "          run_callbacks()\n",
       "        }\n",
       "      };\n",
       "      s.onerror = function() {\n",
       "        console.warn(\"failed to load library \" + url);\n",
       "      };\n",
       "      console.log(\"Bokeh: injecting script tag for BokehJS library: \", url);\n",
       "      document.getElementsByTagName(\"head\")[0].appendChild(s);\n",
       "    }\n",
       "  };var element = document.getElementById(\"01aa20d8-5797-4ca9-ae58-c06e0720b996\");\n",
       "  if (element == null) {\n",
       "    console.log(\"Bokeh: ERROR: autoload.js configured with elementid '01aa20d8-5797-4ca9-ae58-c06e0720b996' but no matching script tag was found. \")\n",
       "    return false;\n",
       "  }\n",
       "\n",
       "  var js_urls = ['https://cdn.pydata.org/bokeh/release/bokeh-0.12.2.min.js', 'https://cdn.pydata.org/bokeh/release/bokeh-widgets-0.12.2.min.js', 'https://cdn.pydata.org/bokeh/release/bokeh-compiler-0.12.2.min.js'];\n",
       "\n",
       "  var inline_js = [\n",
       "    function(Bokeh) {\n",
       "      Bokeh.set_log_level(\"info\");\n",
       "    },\n",
       "    \n",
       "    function(Bokeh) {\n",
       "      \n",
       "      Bokeh.$(\"#01aa20d8-5797-4ca9-ae58-c06e0720b996\").text(\"BokehJS is loading...\");\n",
       "    },\n",
       "    function(Bokeh) {\n",
       "      console.log(\"Bokeh: injecting CSS: https://cdn.pydata.org/bokeh/release/bokeh-0.12.2.min.css\");\n",
       "      Bokeh.embed.inject_css(\"https://cdn.pydata.org/bokeh/release/bokeh-0.12.2.min.css\");\n",
       "      console.log(\"Bokeh: injecting CSS: https://cdn.pydata.org/bokeh/release/bokeh-widgets-0.12.2.min.css\");\n",
       "      Bokeh.embed.inject_css(\"https://cdn.pydata.org/bokeh/release/bokeh-widgets-0.12.2.min.css\");\n",
       "    }\n",
       "  ];\n",
       "\n",
       "  function run_inline_js() {\n",
       "    \n",
       "    if ((window.Bokeh !== undefined) || (force === \"1\")) {\n",
       "      for (var i = 0; i < inline_js.length; i++) {\n",
       "        inline_js[i](window.Bokeh);\n",
       "      }if (force === \"1\") {\n",
       "        display_loaded();\n",
       "      }} else if (Date.now() < window._bokeh_timeout) {\n",
       "      setTimeout(run_inline_js, 100);\n",
       "    } else if (!window._bokeh_failed_load) {\n",
       "      console.log(\"Bokeh: BokehJS failed to load within specified timeout.\");\n",
       "      window._bokeh_failed_load = true;\n",
       "    } else if (!force) {\n",
       "      var cell = $(\"#01aa20d8-5797-4ca9-ae58-c06e0720b996\").parents('.cell').data().cell;\n",
       "      cell.output_area.append_execute_result(NB_LOAD_WARNING)\n",
       "    }\n",
       "\n",
       "  }\n",
       "\n",
       "  if (window._bokeh_is_loading === 0) {\n",
       "    console.log(\"Bokeh: BokehJS loaded, going straight to plotting\");\n",
       "    run_inline_js();\n",
       "  } else {\n",
       "    load_libs(js_urls, function() {\n",
       "      console.log(\"Bokeh: BokehJS plotting callback run at\", now());\n",
       "      run_inline_js();\n",
       "    });\n",
       "  }\n",
       "}(this));"
      ]
     },
     "metadata": {},
     "output_type": "display_data"
    }
   ],
   "source": [
    "import pandas as pd \n",
    "from bokeh.plotting import figure\n",
    "from bokeh.io import output_file, show,output_notebook\n",
    "import numpy as np\n",
    "from bokeh.charts.attributes import cat, color\n",
    "from bokeh.charts.operations import blend\n",
    "from bokeh.charts.utils import df_from_json\n",
    "output_notebook()"
   ]
  },
  {
   "cell_type": "code",
   "execution_count": 16,
   "metadata": {
    "collapsed": false
   },
   "outputs": [
    {
     "data": {
      "text/html": [
       "<div>\n",
       "<table border=\"1\" class=\"dataframe\">\n",
       "  <thead>\n",
       "    <tr style=\"text-align: right;\">\n",
       "      <th></th>\n",
       "      <th>Country</th>\n",
       "      <th>Continent</th>\n",
       "      <th>female literacy</th>\n",
       "      <th>fertility</th>\n",
       "      <th>population</th>\n",
       "    </tr>\n",
       "  </thead>\n",
       "  <tbody>\n",
       "    <tr>\n",
       "      <th>0</th>\n",
       "      <td>Chine</td>\n",
       "      <td>ASI</td>\n",
       "      <td>90.5</td>\n",
       "      <td>1.769</td>\n",
       "      <td>1.324655e+09</td>\n",
       "    </tr>\n",
       "    <tr>\n",
       "      <th>1</th>\n",
       "      <td>Inde</td>\n",
       "      <td>ASI</td>\n",
       "      <td>50.8</td>\n",
       "      <td>2.682</td>\n",
       "      <td>1.139965e+09</td>\n",
       "    </tr>\n",
       "    <tr>\n",
       "      <th>2</th>\n",
       "      <td>USA</td>\n",
       "      <td>NAM</td>\n",
       "      <td>99</td>\n",
       "      <td>2.077</td>\n",
       "      <td>3.040600e+08</td>\n",
       "    </tr>\n",
       "    <tr>\n",
       "      <th>3</th>\n",
       "      <td>Indonésie</td>\n",
       "      <td>ASI</td>\n",
       "      <td>88.8</td>\n",
       "      <td>2.132</td>\n",
       "      <td>2.273451e+08</td>\n",
       "    </tr>\n",
       "    <tr>\n",
       "      <th>4</th>\n",
       "      <td>Brésil</td>\n",
       "      <td>LAT</td>\n",
       "      <td>90.2</td>\n",
       "      <td>1.827</td>\n",
       "      <td>1.919715e+08</td>\n",
       "    </tr>\n",
       "  </tbody>\n",
       "</table>\n",
       "</div>"
      ],
      "text/plain": [
       "    Country  Continent female literacy fertility    population\n",
       "0      Chine       ASI            90.5     1.769  1.324655e+09\n",
       "1       Inde       ASI            50.8     2.682  1.139965e+09\n",
       "2        USA       NAM              99     2.077  3.040600e+08\n",
       "3  Indonésie       ASI            88.8     2.132  2.273451e+08\n",
       "4     Brésil       LAT            90.2     1.827  1.919715e+08"
      ]
     },
     "execution_count": 16,
     "metadata": {},
     "output_type": "execute_result"
    }
   ],
   "source": [
    "data = pd.read_excel(\"../data/TREND01-5G-educ-fertility-bubbles.xls\")\n",
    "data.head()"
   ]
  },
  {
   "cell_type": "code",
   "execution_count": 17,
   "metadata": {
    "collapsed": false
   },
   "outputs": [
    {
     "data": {
      "text/html": [
       "<div>\n",
       "<table border=\"1\" class=\"dataframe\">\n",
       "  <thead>\n",
       "    <tr style=\"text-align: right;\">\n",
       "      <th></th>\n",
       "      <th>Country</th>\n",
       "      <th>Continent</th>\n",
       "      <th>female literacy</th>\n",
       "      <th>fertility</th>\n",
       "      <th>population</th>\n",
       "    </tr>\n",
       "  </thead>\n",
       "  <tbody>\n",
       "    <tr>\n",
       "      <th>177</th>\n",
       "      <td>Antilles néerlandaises</td>\n",
       "      <td>NaN</td>\n",
       "      <td>96.3</td>\n",
       "      <td>NaN</td>\n",
       "      <td>NaN</td>\n",
       "    </tr>\n",
       "    <tr>\n",
       "      <th>178</th>\n",
       "      <td>Iles Caïmanes</td>\n",
       "      <td>NaN</td>\n",
       "      <td>99</td>\n",
       "      <td>NaN</td>\n",
       "      <td>NaN</td>\n",
       "    </tr>\n",
       "    <tr>\n",
       "      <th>179</th>\n",
       "      <td>Seychelles</td>\n",
       "      <td>NaN</td>\n",
       "      <td>92.3</td>\n",
       "      <td>NaN</td>\n",
       "      <td>NaN</td>\n",
       "    </tr>\n",
       "    <tr>\n",
       "      <th>180</th>\n",
       "      <td>Territoires autonomes palestiniens</td>\n",
       "      <td>NaN</td>\n",
       "      <td>90.9</td>\n",
       "      <td>NaN</td>\n",
       "      <td>NaN</td>\n",
       "    </tr>\n",
       "    <tr>\n",
       "      <th>181</th>\n",
       "      <td>WORLD</td>\n",
       "      <td>WORLD</td>\n",
       "      <td>77</td>\n",
       "      <td>NaN</td>\n",
       "      <td>NaN</td>\n",
       "    </tr>\n",
       "  </tbody>\n",
       "</table>\n",
       "</div>"
      ],
      "text/plain": [
       "                               Country  Continent female literacy fertility  \\\n",
       "177              Antilles néerlandaises       NaN            96.3       NaN   \n",
       "178                       Iles Caïmanes       NaN              99       NaN   \n",
       "179                          Seychelles       NaN            92.3       NaN   \n",
       "180  Territoires autonomes palestiniens       NaN            90.9       NaN   \n",
       "181                               WORLD     WORLD              77       NaN   \n",
       "\n",
       "     population  \n",
       "177         NaN  \n",
       "178         NaN  \n",
       "179         NaN  \n",
       "180         NaN  \n",
       "181         NaN  "
      ]
     },
     "execution_count": 17,
     "metadata": {},
     "output_type": "execute_result"
    }
   ],
   "source": [
    "data.tail()"
   ]
  },
  {
   "cell_type": "code",
   "execution_count": 18,
   "metadata": {
    "collapsed": true
   },
   "outputs": [],
   "source": [
    "p = figure(x_axis_label='fertility (children per woman)', y_axis_label='female_literacy (% population)')"
   ]
  },
  {
   "cell_type": "code",
   "execution_count": 19,
   "metadata": {
    "collapsed": false
   },
   "outputs": [
    {
     "data": {
      "text/plain": [
       "(182, 5)"
      ]
     },
     "execution_count": 19,
     "metadata": {},
     "output_type": "execute_result"
    }
   ],
   "source": [
    "data.shape"
   ]
  },
  {
   "cell_type": "code",
   "execution_count": 20,
   "metadata": {
    "collapsed": false
   },
   "outputs": [],
   "source": [
    "data.dropna(subset=['fertility', 'population','female literacy'], inplace=True)"
   ]
  },
  {
   "cell_type": "code",
   "execution_count": 21,
   "metadata": {
    "collapsed": false
   },
   "outputs": [
    {
     "data": {
      "text/plain": [
       "(162, 5)"
      ]
     },
     "execution_count": 21,
     "metadata": {},
     "output_type": "execute_result"
    }
   ],
   "source": [
    "data.shape"
   ]
  },
  {
   "cell_type": "code",
   "execution_count": 22,
   "metadata": {
    "collapsed": false
   },
   "outputs": [],
   "source": [
    "df = df_from_json(data)"
   ]
  },
  {
   "cell_type": "code",
   "execution_count": 23,
   "metadata": {
    "collapsed": false
   },
   "outputs": [
    {
     "name": "stdout",
     "output_type": "stream",
     "text": [
      "None\n"
     ]
    }
   ],
   "source": [
    "print(df)"
   ]
  },
  {
   "cell_type": "code",
   "execution_count": 24,
   "metadata": {
    "collapsed": true
   },
   "outputs": [],
   "source": [
    "data = data.fillna('')"
   ]
  },
  {
   "cell_type": "code",
   "execution_count": 25,
   "metadata": {
    "collapsed": true
   },
   "outputs": [],
   "source": [
    "fertility = [np.asarray(i) for i in data['fertility']]\n",
    "female_lit = [np.asarray(i) for i in data['female literacy']]"
   ]
  },
  {
   "cell_type": "code",
   "execution_count": 26,
   "metadata": {
    "collapsed": false
   },
   "outputs": [
    {
     "data": {
      "text/plain": [
       "<bokeh.models.renderers.GlyphRenderer at 0x1fae2da60b8>"
      ]
     },
     "execution_count": 26,
     "metadata": {},
     "output_type": "execute_result"
    }
   ],
   "source": [
    "p.circle(fertility,female_lit)"
   ]
  },
  {
   "cell_type": "code",
   "execution_count": 28,
   "metadata": {
    "collapsed": false
   },
   "outputs": [
    {
     "data": {
      "text/html": [
       "\n",
       "\n",
       "    <div class=\"bk-root\">\n",
       "        <div class=\"plotdiv\" id=\"6a0ac9b2-9323-4069-988e-e30c5654be5e\"></div>\n",
       "    </div>\n",
       "<script type=\"text/javascript\">\n",
       "  \n",
       "  (function(global) {\n",
       "    function now() {\n",
       "      return new Date();\n",
       "    }\n",
       "  \n",
       "    var force = \"\";\n",
       "  \n",
       "    if (typeof (window._bokeh_onload_callbacks) === \"undefined\" || force !== \"\") {\n",
       "      window._bokeh_onload_callbacks = [];\n",
       "      window._bokeh_is_loading = undefined;\n",
       "    }\n",
       "  \n",
       "  \n",
       "    \n",
       "    if (typeof (window._bokeh_timeout) === \"undefined\" || force !== \"\") {\n",
       "      window._bokeh_timeout = Date.now() + 0;\n",
       "      window._bokeh_failed_load = false;\n",
       "    }\n",
       "  \n",
       "    var NB_LOAD_WARNING = {'data': {'text/html':\n",
       "       \"<div style='background-color: #fdd'>\\n\"+\n",
       "       \"<p>\\n\"+\n",
       "       \"BokehJS does not appear to have successfully loaded. If loading BokehJS from CDN, this \\n\"+\n",
       "       \"may be due to a slow or bad network connection. Possible fixes:\\n\"+\n",
       "       \"</p>\\n\"+\n",
       "       \"<ul>\\n\"+\n",
       "       \"<li>re-rerun `output_notebook()` to attempt to load from CDN again, or</li>\\n\"+\n",
       "       \"<li>use INLINE resources instead, as so:</li>\\n\"+\n",
       "       \"</ul>\\n\"+\n",
       "       \"<code>\\n\"+\n",
       "       \"from bokeh.resources import INLINE\\n\"+\n",
       "       \"output_notebook(resources=INLINE)\\n\"+\n",
       "       \"</code>\\n\"+\n",
       "       \"</div>\"}};\n",
       "  \n",
       "    function display_loaded() {\n",
       "      if (window.Bokeh !== undefined) {\n",
       "        Bokeh.$(\"#6a0ac9b2-9323-4069-988e-e30c5654be5e\").text(\"BokehJS successfully loaded.\");\n",
       "      } else if (Date.now() < window._bokeh_timeout) {\n",
       "        setTimeout(display_loaded, 100)\n",
       "      }\n",
       "    }\n",
       "  \n",
       "    function run_callbacks() {\n",
       "      window._bokeh_onload_callbacks.forEach(function(callback) { callback() });\n",
       "      delete window._bokeh_onload_callbacks\n",
       "      console.info(\"Bokeh: all callbacks have finished\");\n",
       "    }\n",
       "  \n",
       "    function load_libs(js_urls, callback) {\n",
       "      window._bokeh_onload_callbacks.push(callback);\n",
       "      if (window._bokeh_is_loading > 0) {\n",
       "        console.log(\"Bokeh: BokehJS is being loaded, scheduling callback at\", now());\n",
       "        return null;\n",
       "      }\n",
       "      if (js_urls == null || js_urls.length === 0) {\n",
       "        run_callbacks();\n",
       "        return null;\n",
       "      }\n",
       "      console.log(\"Bokeh: BokehJS not loaded, scheduling load and callback at\", now());\n",
       "      window._bokeh_is_loading = js_urls.length;\n",
       "      for (var i = 0; i < js_urls.length; i++) {\n",
       "        var url = js_urls[i];\n",
       "        var s = document.createElement('script');\n",
       "        s.src = url;\n",
       "        s.async = false;\n",
       "        s.onreadystatechange = s.onload = function() {\n",
       "          window._bokeh_is_loading--;\n",
       "          if (window._bokeh_is_loading === 0) {\n",
       "            console.log(\"Bokeh: all BokehJS libraries loaded\");\n",
       "            run_callbacks()\n",
       "          }\n",
       "        };\n",
       "        s.onerror = function() {\n",
       "          console.warn(\"failed to load library \" + url);\n",
       "        };\n",
       "        console.log(\"Bokeh: injecting script tag for BokehJS library: \", url);\n",
       "        document.getElementsByTagName(\"head\")[0].appendChild(s);\n",
       "      }\n",
       "    };var element = document.getElementById(\"6a0ac9b2-9323-4069-988e-e30c5654be5e\");\n",
       "    if (element == null) {\n",
       "      console.log(\"Bokeh: ERROR: autoload.js configured with elementid '6a0ac9b2-9323-4069-988e-e30c5654be5e' but no matching script tag was found. \")\n",
       "      return false;\n",
       "    }\n",
       "  \n",
       "    var js_urls = [];\n",
       "  \n",
       "    var inline_js = [\n",
       "      function(Bokeh) {\n",
       "        Bokeh.$(function() {\n",
       "            var docs_json = {\"370ca920-428d-49ad-9c42-f754a0234ed8\":{\"roots\":{\"references\":[{\"attributes\":{\"plot\":{\"id\":\"3ccbc927-89a6-4386-b03e-9799e49dec2a\",\"subtype\":\"Figure\",\"type\":\"Plot\"}},\"id\":\"3b70f0b1-273d-45ce-9734-09f9a5d4b9f0\",\"type\":\"WheelZoomTool\"},{\"attributes\":{\"data_source\":{\"id\":\"210c87db-75dd-4e24-aa9e-308af762bcb2\",\"type\":\"ColumnDataSource\"},\"glyph\":{\"id\":\"850a8d5b-ac16-4950-9632-96267acac1c1\",\"type\":\"Circle\"},\"hover_glyph\":null,\"nonselection_glyph\":{\"id\":\"b2715314-ef7b-4406-99ad-a3fe98b646d0\",\"type\":\"Circle\"},\"selection_glyph\":null},\"id\":\"452d553d-82a1-449e-9560-f5b618e90d79\",\"type\":\"GlyphRenderer\"},{\"attributes\":{\"axis_label\":\"fertility (children per woman)\",\"formatter\":{\"id\":\"99d23923-6da3-48d7-b896-69e836a8eb98\",\"type\":\"BasicTickFormatter\"},\"plot\":{\"id\":\"3ccbc927-89a6-4386-b03e-9799e49dec2a\",\"subtype\":\"Figure\",\"type\":\"Plot\"},\"ticker\":{\"id\":\"4323247e-ff6a-484b-8809-3476f8e4d738\",\"type\":\"BasicTicker\"}},\"id\":\"7b7ce12f-d02a-4017-9fcd-8c24a4aa753c\",\"type\":\"LinearAxis\"},{\"attributes\":{\"axis_label\":\"female_literacy (% population)\",\"formatter\":{\"id\":\"64cfe82d-b83f-46f0-8938-a1ca0272c3de\",\"type\":\"BasicTickFormatter\"},\"plot\":{\"id\":\"3ccbc927-89a6-4386-b03e-9799e49dec2a\",\"subtype\":\"Figure\",\"type\":\"Plot\"},\"ticker\":{\"id\":\"e39dc98f-ac37-495a-a066-0cbfe0aefca7\",\"type\":\"BasicTicker\"}},\"id\":\"f1b43572-4464-4ebe-a54a-5c35de0ab3ac\",\"type\":\"LinearAxis\"},{\"attributes\":{\"callback\":null},\"id\":\"a67d3120-1dbb-4b5d-92b8-0e919060eb92\",\"type\":\"DataRange1d\"},{\"attributes\":{\"plot\":{\"id\":\"3ccbc927-89a6-4386-b03e-9799e49dec2a\",\"subtype\":\"Figure\",\"type\":\"Plot\"},\"ticker\":{\"id\":\"4323247e-ff6a-484b-8809-3476f8e4d738\",\"type\":\"BasicTicker\"}},\"id\":\"445b6b11-1a41-4e0f-a43d-76f1eb71a5d3\",\"type\":\"Grid\"},{\"attributes\":{\"below\":[{\"id\":\"7b7ce12f-d02a-4017-9fcd-8c24a4aa753c\",\"type\":\"LinearAxis\"}],\"left\":[{\"id\":\"f1b43572-4464-4ebe-a54a-5c35de0ab3ac\",\"type\":\"LinearAxis\"}],\"renderers\":[{\"id\":\"7b7ce12f-d02a-4017-9fcd-8c24a4aa753c\",\"type\":\"LinearAxis\"},{\"id\":\"445b6b11-1a41-4e0f-a43d-76f1eb71a5d3\",\"type\":\"Grid\"},{\"id\":\"f1b43572-4464-4ebe-a54a-5c35de0ab3ac\",\"type\":\"LinearAxis\"},{\"id\":\"bda8c05c-6e04-4e40-b8e1-87d2d22f2ca1\",\"type\":\"Grid\"},{\"id\":\"a9b851e3-e9fa-4f00-821e-5d8ea7607308\",\"type\":\"BoxAnnotation\"},{\"id\":\"452d553d-82a1-449e-9560-f5b618e90d79\",\"type\":\"GlyphRenderer\"}],\"title\":{\"id\":\"2bf85bc5-2917-4902-b0cb-00dcd334540d\",\"type\":\"Title\"},\"tool_events\":{\"id\":\"22ed1947-0432-44ae-b7dd-da6580c6e148\",\"type\":\"ToolEvents\"},\"toolbar\":{\"id\":\"51a014ad-6a1b-4b86-a467-f37dc08699f3\",\"type\":\"Toolbar\"},\"x_range\":{\"id\":\"a67d3120-1dbb-4b5d-92b8-0e919060eb92\",\"type\":\"DataRange1d\"},\"y_range\":{\"id\":\"e97bb630-7387-4006-97e2-c869f0aa63fa\",\"type\":\"DataRange1d\"}},\"id\":\"3ccbc927-89a6-4386-b03e-9799e49dec2a\",\"subtype\":\"Figure\",\"type\":\"Plot\"},{\"attributes\":{\"fill_alpha\":{\"value\":0.1},\"fill_color\":{\"value\":\"#1f77b4\"},\"line_alpha\":{\"value\":0.1},\"line_color\":{\"value\":\"#1f77b4\"},\"x\":{\"field\":\"x\"},\"y\":{\"field\":\"y\"}},\"id\":\"b2715314-ef7b-4406-99ad-a3fe98b646d0\",\"type\":\"Circle\"},{\"attributes\":{},\"id\":\"e39dc98f-ac37-495a-a066-0cbfe0aefca7\",\"type\":\"BasicTicker\"},{\"attributes\":{\"callback\":null,\"column_names\":[\"x\",\"y\"],\"data\":{\"x\":[1.769,2.682,2.077,2.132,1.827,3.872,2.288,5.173,1.393,1.262,2.156,3.026,2.033,1.324,2.816,5.211,2.1,1.781,1.822,5.908,1.881,1.852,1.39,2.281,2.505,1.224,1.361,1.468,2.404,5.52,4.058,2.223,4.859,1.267,2.342,1.579,6.254,2.334,3.961,6.505,2.53,2.823,2.498,2.248,2.508,3.04,1.854,4.22,5.1,4.967,1.325,4.514,3.173,2.308,4.62,4.541,5.637,1.926,1.747,2.294,5.841,5.455,7.069,2.859,4.018,2.513,5.405,5.737,3.363,4.89,1.385,1.505,6.081,1.784,1.378,1.45,1.841,1.37,2.612,5.329,5.33,3.371,1.281,1.871,2.153,5.378,4.45,1.46,1.436,1.612,3.19,2.752,3.35,4.01,4.166,2.642,2.977,3.415,2.295,3.019,2.683,5.165,1.849,1.836,2.518,2.43,4.528,1.263,1.885,1.943,1.899,1.442,1.953,4.697,1.582,2.025,1.841,5.011,1.212,1.502,2.516,1.367,2.089,4.388,1.854,1.748,2.978,2.152,2.362,1.988,1.426,3.29,3.264,1.436,1.393,2.822,4.969,5.659,3.24,1.693,1.647,2.36,1.792,3.45,1.516,2.233,2.563,5.283,3.885,0.966,2.373,2.663,1.251,2.052,3.371,2.093,2.0,3.883,3.852,3.718,1.732,3.928],\"y\":[90.5,50.8,99.0,88.8,90.2,40.0,49.8,48.8,99.4,99.0,91.5,93.9,90.2,99.0,57.8,22.8,81.3,77.2,91.5,56.1,99.0,99.0,98.5,89.2,88.1,96.6,99.6,96.9,93.4,66.3,59.6,97.7,82.8,99.3,63.9,99.0,66.8,44.1,69.2,12.6,84.6,45.4,94.9,98.9,89.8,80.2,100.0,59.3,42.8,40.1,96.9,44.3,77.2,89.1,65.3,67.8,57.0,98.7,99.0,99.5,21.6,65.8,15.1,70.9,68.7,81.7,18.2,61.0,88.8,33.0,95.9,99.8,21.9,99.0,92.9,99.0,71.0,98.9,88.3,26.4,66.1,86.0,99.7,99.0,99.2,28.1,59.9,99.0,97.9,96.2,83.5,95.9,99.5,55.6,53.7,81.3,93.5,63.2,81.4,88.9,77.9,28.9,99.0,100.0,99.1,99.3,54.5,91.6,100.0,96.2,91.5,98.0,99.0,41.1,99.7,99.0,86.0,53.0,95.9,97.8,92.8,99.7,98.5,49.5,98.7,99.4,80.9,93.1,90.8,97.8,99.8,87.7,95.1,95.4,99.7,83.5,34.3,36.5,83.2,99.8,98.2,90.4,84.8,85.6,96.7,89.4,38.7,89.1,67.8,90.7,88.4,79.3,93.5,93.3,96.5,99.0,98.4,79.5,98.5,83.3,98.0,99.1]}},\"id\":\"210c87db-75dd-4e24-aa9e-308af762bcb2\",\"type\":\"ColumnDataSource\"},{\"attributes\":{},\"id\":\"22ed1947-0432-44ae-b7dd-da6580c6e148\",\"type\":\"ToolEvents\"},{\"attributes\":{\"plot\":{\"id\":\"3ccbc927-89a6-4386-b03e-9799e49dec2a\",\"subtype\":\"Figure\",\"type\":\"Plot\"}},\"id\":\"fc0f4a90-29cf-4bfc-b62a-9ad18263a4ac\",\"type\":\"HelpTool\"},{\"attributes\":{\"bottom_units\":\"screen\",\"fill_alpha\":{\"value\":0.5},\"fill_color\":{\"value\":\"lightgrey\"},\"left_units\":\"screen\",\"level\":\"overlay\",\"line_alpha\":{\"value\":1.0},\"line_color\":{\"value\":\"black\"},\"line_dash\":[4,4],\"line_width\":{\"value\":2},\"plot\":null,\"render_mode\":\"css\",\"right_units\":\"screen\",\"top_units\":\"screen\"},\"id\":\"a9b851e3-e9fa-4f00-821e-5d8ea7607308\",\"type\":\"BoxAnnotation\"},{\"attributes\":{\"plot\":{\"id\":\"3ccbc927-89a6-4386-b03e-9799e49dec2a\",\"subtype\":\"Figure\",\"type\":\"Plot\"}},\"id\":\"8fa7ffb5-d624-40a1-b3b4-b791f8ffe608\",\"type\":\"ResetTool\"},{\"attributes\":{\"plot\":{\"id\":\"3ccbc927-89a6-4386-b03e-9799e49dec2a\",\"subtype\":\"Figure\",\"type\":\"Plot\"}},\"id\":\"e9c0093a-c20e-4fe2-a640-54433d840781\",\"type\":\"PanTool\"},{\"attributes\":{\"fill_color\":{\"value\":\"#1f77b4\"},\"line_color\":{\"value\":\"#1f77b4\"},\"x\":{\"field\":\"x\"},\"y\":{\"field\":\"y\"}},\"id\":\"850a8d5b-ac16-4950-9632-96267acac1c1\",\"type\":\"Circle\"},{\"attributes\":{\"plot\":null,\"text\":null},\"id\":\"2bf85bc5-2917-4902-b0cb-00dcd334540d\",\"type\":\"Title\"},{\"attributes\":{\"plot\":{\"id\":\"3ccbc927-89a6-4386-b03e-9799e49dec2a\",\"subtype\":\"Figure\",\"type\":\"Plot\"}},\"id\":\"614b91eb-23cc-41cc-81d5-ce1683dc6a63\",\"type\":\"SaveTool\"},{\"attributes\":{},\"id\":\"64cfe82d-b83f-46f0-8938-a1ca0272c3de\",\"type\":\"BasicTickFormatter\"},{\"attributes\":{\"dimension\":1,\"plot\":{\"id\":\"3ccbc927-89a6-4386-b03e-9799e49dec2a\",\"subtype\":\"Figure\",\"type\":\"Plot\"},\"ticker\":{\"id\":\"e39dc98f-ac37-495a-a066-0cbfe0aefca7\",\"type\":\"BasicTicker\"}},\"id\":\"bda8c05c-6e04-4e40-b8e1-87d2d22f2ca1\",\"type\":\"Grid\"},{\"attributes\":{},\"id\":\"4323247e-ff6a-484b-8809-3476f8e4d738\",\"type\":\"BasicTicker\"},{\"attributes\":{\"active_drag\":\"auto\",\"active_scroll\":\"auto\",\"active_tap\":\"auto\",\"tools\":[{\"id\":\"e9c0093a-c20e-4fe2-a640-54433d840781\",\"type\":\"PanTool\"},{\"id\":\"3b70f0b1-273d-45ce-9734-09f9a5d4b9f0\",\"type\":\"WheelZoomTool\"},{\"id\":\"62318661-d246-40d0-9116-9abbf4c4bbf6\",\"type\":\"BoxZoomTool\"},{\"id\":\"614b91eb-23cc-41cc-81d5-ce1683dc6a63\",\"type\":\"SaveTool\"},{\"id\":\"8fa7ffb5-d624-40a1-b3b4-b791f8ffe608\",\"type\":\"ResetTool\"},{\"id\":\"fc0f4a90-29cf-4bfc-b62a-9ad18263a4ac\",\"type\":\"HelpTool\"}]},\"id\":\"51a014ad-6a1b-4b86-a467-f37dc08699f3\",\"type\":\"Toolbar\"},{\"attributes\":{\"callback\":null},\"id\":\"e97bb630-7387-4006-97e2-c869f0aa63fa\",\"type\":\"DataRange1d\"},{\"attributes\":{},\"id\":\"99d23923-6da3-48d7-b896-69e836a8eb98\",\"type\":\"BasicTickFormatter\"},{\"attributes\":{\"overlay\":{\"id\":\"a9b851e3-e9fa-4f00-821e-5d8ea7607308\",\"type\":\"BoxAnnotation\"},\"plot\":{\"id\":\"3ccbc927-89a6-4386-b03e-9799e49dec2a\",\"subtype\":\"Figure\",\"type\":\"Plot\"}},\"id\":\"62318661-d246-40d0-9116-9abbf4c4bbf6\",\"type\":\"BoxZoomTool\"}],\"root_ids\":[\"3ccbc927-89a6-4386-b03e-9799e49dec2a\"]},\"title\":\"Bokeh Application\",\"version\":\"0.12.2\"}};\n",
       "            var render_items = [{\"docid\":\"370ca920-428d-49ad-9c42-f754a0234ed8\",\"elementid\":\"6a0ac9b2-9323-4069-988e-e30c5654be5e\",\"modelid\":\"3ccbc927-89a6-4386-b03e-9799e49dec2a\"}];\n",
       "            \n",
       "            Bokeh.embed.embed_items(docs_json, render_items);\n",
       "        });\n",
       "      },\n",
       "      function(Bokeh) {\n",
       "      }\n",
       "    ];\n",
       "  \n",
       "    function run_inline_js() {\n",
       "      \n",
       "      if ((window.Bokeh !== undefined) || (force === \"1\")) {\n",
       "        for (var i = 0; i < inline_js.length; i++) {\n",
       "          inline_js[i](window.Bokeh);\n",
       "        }if (force === \"1\") {\n",
       "          display_loaded();\n",
       "        }} else if (Date.now() < window._bokeh_timeout) {\n",
       "        setTimeout(run_inline_js, 100);\n",
       "      } else if (!window._bokeh_failed_load) {\n",
       "        console.log(\"Bokeh: BokehJS failed to load within specified timeout.\");\n",
       "        window._bokeh_failed_load = true;\n",
       "      } else if (!force) {\n",
       "        var cell = $(\"#6a0ac9b2-9323-4069-988e-e30c5654be5e\").parents('.cell').data().cell;\n",
       "        cell.output_area.append_execute_result(NB_LOAD_WARNING)\n",
       "      }\n",
       "  \n",
       "    }\n",
       "  \n",
       "    if (window._bokeh_is_loading === 0) {\n",
       "      console.log(\"Bokeh: BokehJS loaded, going straight to plotting\");\n",
       "      run_inline_js();\n",
       "    } else {\n",
       "      load_libs(js_urls, function() {\n",
       "        console.log(\"Bokeh: BokehJS plotting callback run at\", now());\n",
       "        run_inline_js();\n",
       "      });\n",
       "    }\n",
       "  }(this));\n",
       "</script>"
      ]
     },
     "metadata": {},
     "output_type": "display_data"
    }
   ],
   "source": [
    "show(p)"
   ]
  },
  {
   "cell_type": "markdown",
   "metadata": {
    "collapsed": true
   },
   "source": [
    "***\n",
    "\n",
    "## A scatter plot with different shapes\n",
    "\n",
    "By calling multiple glyph functions on the same figure object, we can overlay multiple data sets in the same figure.\n",
    "\n",
    "In this exercise, you will plot female literacy vs fertility for two different regions, Africa and Latin America. Each set of x and y data has been loaded separately for you as **`fertility_africa`**, **`female_literacy_africa`**, **`fertility_latinamerica`**, and **`female_literacy_latinamerica`**.\n",
    "\n",
    "Your job is to plot the Latin America data with the `circle()` glyph, and the Africa data with the `x()` glyph.\n",
    "\n",
    "`figure` has already been imported for you from `bokeh.plotting`.\n"
   ]
  },
  {
   "cell_type": "markdown",
   "metadata": {},
   "source": [
    "#### Instructions \n",
    "   - Create the figure p with the figure() function. It has two parameters: x_axis_label and y_axis_label.\n",
    "   - Add a circle glyph to the figure p using the function p.circle() where the inputs are the x and y data from Latin America: fertility_latinamerica and female_literacy_latinamerica.\n",
    "   - Add an x glyph to the figure p using the function p.x() where the inputs are the x and y data from Africa: fertility_africa and female_literacy_africa.\n",
    "   - The code to create, display, and specify the name of the output file has been written for you, so after adding the x glyph, hit 'Submit Answer' to view the figure.\n"
   ]
  },
  {
   "cell_type": "markdown",
   "metadata": {},
   "source": [
    "\n",
    "            # Create the figure: p\n",
    "            p = ____(____='fertility', ____='female_literacy (% population)')\n",
    "\n",
    "            # Add a circle glyph to the figure p\n",
    "\n",
    "\n",
    "            # Add an x glyph to the figure p\n",
    "\n",
    "\n",
    "            # Specify the name of the file\n",
    "            output_file('fert_lit_separate.html')\n",
    "\n",
    "            # Display the plot\n",
    "            show(p)\n"
   ]
  },
  {
   "cell_type": "code",
   "execution_count": 29,
   "metadata": {
    "collapsed": false
   },
   "outputs": [
    {
     "data": {
      "text/plain": [
       "array(['ASI', 'NAM', 'LAT', 'AF', 'EUR', 'OCE'], dtype=object)"
      ]
     },
     "execution_count": 29,
     "metadata": {},
     "output_type": "execute_result"
    }
   ],
   "source": [
    "data.Continent.unique()"
   ]
  },
  {
   "cell_type": "code",
   "execution_count": 30,
   "metadata": {
    "collapsed": true
   },
   "outputs": [],
   "source": [
    "p = figure(x_axis_label='fertility', y_axis_label='female_literacy (% population)')"
   ]
  },
  {
   "cell_type": "code",
   "execution_count": 31,
   "metadata": {
    "collapsed": false
   },
   "outputs": [
    {
     "data": {
      "text/plain": [
       "(24, 5)"
      ]
     },
     "execution_count": 31,
     "metadata": {},
     "output_type": "execute_result"
    }
   ],
   "source": [
    "latinamerica = data[data['Continent'] == 'LAT']\n",
    "latinamerica.shape"
   ]
  },
  {
   "cell_type": "code",
   "execution_count": 32,
   "metadata": {
    "collapsed": false
   },
   "outputs": [
    {
     "data": {
      "text/plain": [
       "(49, 5)"
      ]
     },
     "execution_count": 32,
     "metadata": {},
     "output_type": "execute_result"
    }
   ],
   "source": [
    "africa = data[data['Continent'] == 'AF']\n",
    "africa.shape"
   ]
  },
  {
   "cell_type": "code",
   "execution_count": 33,
   "metadata": {
    "collapsed": false
   },
   "outputs": [],
   "source": [
    "lat_fertility = [np.asarray(i) for i in latinamerica['fertility']]\n",
    "lat_female_lit = [np.asarray(i) for i in latinamerica['female literacy']]"
   ]
  },
  {
   "cell_type": "code",
   "execution_count": 34,
   "metadata": {
    "collapsed": true
   },
   "outputs": [],
   "source": [
    "af_fertility = [np.asarray(i) for i in africa['fertility']]\n",
    "af_female_lit = [np.asarray(i) for i in africa['female literacy']]"
   ]
  },
  {
   "cell_type": "code",
   "execution_count": 35,
   "metadata": {
    "collapsed": false
   },
   "outputs": [
    {
     "data": {
      "text/plain": [
       "<bokeh.models.renderers.GlyphRenderer at 0x1fae494afd0>"
      ]
     },
     "execution_count": 35,
     "metadata": {},
     "output_type": "execute_result"
    }
   ],
   "source": [
    "p.circle(lat_fertility,lat_female_lit)"
   ]
  },
  {
   "cell_type": "code",
   "execution_count": 36,
   "metadata": {
    "collapsed": false
   },
   "outputs": [
    {
     "data": {
      "text/plain": [
       "<bokeh.models.renderers.GlyphRenderer at 0x1fae49449e8>"
      ]
     },
     "execution_count": 36,
     "metadata": {},
     "output_type": "execute_result"
    }
   ],
   "source": [
    "p.x(af_fertility,af_female_lit)"
   ]
  },
  {
   "cell_type": "code",
   "execution_count": 37,
   "metadata": {
    "collapsed": false
   },
   "outputs": [
    {
     "data": {
      "text/html": [
       "\n",
       "\n",
       "    <div class=\"bk-root\">\n",
       "        <div class=\"plotdiv\" id=\"e5d2d8c5-f9b0-4cf5-b672-90dfedbc3652\"></div>\n",
       "    </div>\n",
       "<script type=\"text/javascript\">\n",
       "  \n",
       "  (function(global) {\n",
       "    function now() {\n",
       "      return new Date();\n",
       "    }\n",
       "  \n",
       "    var force = \"\";\n",
       "  \n",
       "    if (typeof (window._bokeh_onload_callbacks) === \"undefined\" || force !== \"\") {\n",
       "      window._bokeh_onload_callbacks = [];\n",
       "      window._bokeh_is_loading = undefined;\n",
       "    }\n",
       "  \n",
       "  \n",
       "    \n",
       "    if (typeof (window._bokeh_timeout) === \"undefined\" || force !== \"\") {\n",
       "      window._bokeh_timeout = Date.now() + 0;\n",
       "      window._bokeh_failed_load = false;\n",
       "    }\n",
       "  \n",
       "    var NB_LOAD_WARNING = {'data': {'text/html':\n",
       "       \"<div style='background-color: #fdd'>\\n\"+\n",
       "       \"<p>\\n\"+\n",
       "       \"BokehJS does not appear to have successfully loaded. If loading BokehJS from CDN, this \\n\"+\n",
       "       \"may be due to a slow or bad network connection. Possible fixes:\\n\"+\n",
       "       \"</p>\\n\"+\n",
       "       \"<ul>\\n\"+\n",
       "       \"<li>re-rerun `output_notebook()` to attempt to load from CDN again, or</li>\\n\"+\n",
       "       \"<li>use INLINE resources instead, as so:</li>\\n\"+\n",
       "       \"</ul>\\n\"+\n",
       "       \"<code>\\n\"+\n",
       "       \"from bokeh.resources import INLINE\\n\"+\n",
       "       \"output_notebook(resources=INLINE)\\n\"+\n",
       "       \"</code>\\n\"+\n",
       "       \"</div>\"}};\n",
       "  \n",
       "    function display_loaded() {\n",
       "      if (window.Bokeh !== undefined) {\n",
       "        Bokeh.$(\"#e5d2d8c5-f9b0-4cf5-b672-90dfedbc3652\").text(\"BokehJS successfully loaded.\");\n",
       "      } else if (Date.now() < window._bokeh_timeout) {\n",
       "        setTimeout(display_loaded, 100)\n",
       "      }\n",
       "    }\n",
       "  \n",
       "    function run_callbacks() {\n",
       "      window._bokeh_onload_callbacks.forEach(function(callback) { callback() });\n",
       "      delete window._bokeh_onload_callbacks\n",
       "      console.info(\"Bokeh: all callbacks have finished\");\n",
       "    }\n",
       "  \n",
       "    function load_libs(js_urls, callback) {\n",
       "      window._bokeh_onload_callbacks.push(callback);\n",
       "      if (window._bokeh_is_loading > 0) {\n",
       "        console.log(\"Bokeh: BokehJS is being loaded, scheduling callback at\", now());\n",
       "        return null;\n",
       "      }\n",
       "      if (js_urls == null || js_urls.length === 0) {\n",
       "        run_callbacks();\n",
       "        return null;\n",
       "      }\n",
       "      console.log(\"Bokeh: BokehJS not loaded, scheduling load and callback at\", now());\n",
       "      window._bokeh_is_loading = js_urls.length;\n",
       "      for (var i = 0; i < js_urls.length; i++) {\n",
       "        var url = js_urls[i];\n",
       "        var s = document.createElement('script');\n",
       "        s.src = url;\n",
       "        s.async = false;\n",
       "        s.onreadystatechange = s.onload = function() {\n",
       "          window._bokeh_is_loading--;\n",
       "          if (window._bokeh_is_loading === 0) {\n",
       "            console.log(\"Bokeh: all BokehJS libraries loaded\");\n",
       "            run_callbacks()\n",
       "          }\n",
       "        };\n",
       "        s.onerror = function() {\n",
       "          console.warn(\"failed to load library \" + url);\n",
       "        };\n",
       "        console.log(\"Bokeh: injecting script tag for BokehJS library: \", url);\n",
       "        document.getElementsByTagName(\"head\")[0].appendChild(s);\n",
       "      }\n",
       "    };var element = document.getElementById(\"e5d2d8c5-f9b0-4cf5-b672-90dfedbc3652\");\n",
       "    if (element == null) {\n",
       "      console.log(\"Bokeh: ERROR: autoload.js configured with elementid 'e5d2d8c5-f9b0-4cf5-b672-90dfedbc3652' but no matching script tag was found. \")\n",
       "      return false;\n",
       "    }\n",
       "  \n",
       "    var js_urls = [];\n",
       "  \n",
       "    var inline_js = [\n",
       "      function(Bokeh) {\n",
       "        Bokeh.$(function() {\n",
       "            var docs_json = {\"0fe1246c-07fd-4c81-b947-e83161575644\":{\"roots\":{\"references\":[{\"attributes\":{\"below\":[{\"id\":\"90a6f793-fb71-4a10-8cae-09167d1e1c20\",\"type\":\"LinearAxis\"}],\"left\":[{\"id\":\"dc80f6a9-94cb-46e5-9aea-37002f19c98b\",\"type\":\"LinearAxis\"}],\"renderers\":[{\"id\":\"90a6f793-fb71-4a10-8cae-09167d1e1c20\",\"type\":\"LinearAxis\"},{\"id\":\"94c82d42-bb4a-48bc-9cb0-7cf9ee0f5365\",\"type\":\"Grid\"},{\"id\":\"dc80f6a9-94cb-46e5-9aea-37002f19c98b\",\"type\":\"LinearAxis\"},{\"id\":\"fc941727-40f5-45d0-b32d-f9370beb0c0c\",\"type\":\"Grid\"},{\"id\":\"31534445-6b39-449b-9582-83a7d964fde1\",\"type\":\"BoxAnnotation\"},{\"id\":\"a1e55b1a-c556-4f3b-a1fa-62c0b457469e\",\"type\":\"GlyphRenderer\"},{\"id\":\"318c6e0a-e8c6-4327-a41e-07163a588a15\",\"type\":\"GlyphRenderer\"}],\"title\":{\"id\":\"1f0a50a1-fa6f-4215-a37a-f5449ef6672c\",\"type\":\"Title\"},\"tool_events\":{\"id\":\"68787e6c-a55a-47bf-9969-a1dc7fc0c4de\",\"type\":\"ToolEvents\"},\"toolbar\":{\"id\":\"62454226-0690-4548-ae36-991a5d549065\",\"type\":\"Toolbar\"},\"x_range\":{\"id\":\"eea1c800-35e6-404e-823c-ad605e05e393\",\"type\":\"DataRange1d\"},\"y_range\":{\"id\":\"31380543-b728-4e1e-9a9c-30ab3cb07e3a\",\"type\":\"DataRange1d\"}},\"id\":\"affd5d05-fe75-44eb-91db-be811ad4dab9\",\"subtype\":\"Figure\",\"type\":\"Plot\"},{\"attributes\":{\"callback\":null},\"id\":\"31380543-b728-4e1e-9a9c-30ab3cb07e3a\",\"type\":\"DataRange1d\"},{\"attributes\":{\"fill_color\":{\"value\":\"#1f77b4\"},\"line_color\":{\"value\":\"#1f77b4\"},\"x\":{\"field\":\"x\"},\"y\":{\"field\":\"y\"}},\"id\":\"6bdc1a55-1b1a-47a5-a457-f983c9f608c9\",\"type\":\"X\"},{\"attributes\":{\"callback\":null,\"column_names\":[\"x\",\"y\"],\"data\":{\"x\":[5.173,2.816,5.211,5.908,2.505,5.52,4.058,4.859,2.342,6.254,2.334,4.22,4.967,4.514,4.62,4.541,5.637,5.841,5.455,7.069,5.405,5.737,3.363,4.89,6.081,1.841,5.329,5.33,5.378,4.45,4.166,2.642,5.165,4.528,4.697,5.011,4.388,3.29,3.264,2.822,4.969,5.659,3.24,1.792,3.45,5.283,3.885,2.663,3.718],\"y\":[48.8,57.8,22.8,56.1,88.1,66.3,59.6,82.8,63.9,66.8,44.1,59.3,40.1,44.3,65.3,67.8,57.0,21.6,65.8,15.1,18.2,61.0,88.8,33.0,21.9,71.0,26.4,66.1,28.1,59.9,53.7,81.3,28.9,54.5,41.1,53.0,49.5,87.7,95.1,83.5,34.3,36.5,83.2,84.8,85.6,89.1,67.8,79.3,83.3]}},\"id\":\"3a1a3e1e-5c48-41ad-81bf-632b9ef95f34\",\"type\":\"ColumnDataSource\"},{\"attributes\":{\"axis_label\":\"female_literacy (% population)\",\"formatter\":{\"id\":\"6d35860f-32a8-4c1e-ab3d-9bc43075b253\",\"type\":\"BasicTickFormatter\"},\"plot\":{\"id\":\"affd5d05-fe75-44eb-91db-be811ad4dab9\",\"subtype\":\"Figure\",\"type\":\"Plot\"},\"ticker\":{\"id\":\"fbe1408c-e216-468a-91b2-2a6cf0f50dc8\",\"type\":\"BasicTicker\"}},\"id\":\"dc80f6a9-94cb-46e5-9aea-37002f19c98b\",\"type\":\"LinearAxis\"},{\"attributes\":{\"fill_alpha\":{\"value\":0.1},\"fill_color\":{\"value\":\"#1f77b4\"},\"line_alpha\":{\"value\":0.1},\"line_color\":{\"value\":\"#1f77b4\"},\"x\":{\"field\":\"x\"},\"y\":{\"field\":\"y\"}},\"id\":\"ff3c5d0e-012d-4a98-a5a8-7ff1ace0cacf\",\"type\":\"Circle\"},{\"attributes\":{\"data_source\":{\"id\":\"3a1a3e1e-5c48-41ad-81bf-632b9ef95f34\",\"type\":\"ColumnDataSource\"},\"glyph\":{\"id\":\"6bdc1a55-1b1a-47a5-a457-f983c9f608c9\",\"type\":\"X\"},\"hover_glyph\":null,\"nonselection_glyph\":{\"id\":\"8d56db52-16bd-4afc-acdf-df142f5d96ba\",\"type\":\"X\"},\"selection_glyph\":null},\"id\":\"318c6e0a-e8c6-4327-a41e-07163a588a15\",\"type\":\"GlyphRenderer\"},{\"attributes\":{\"overlay\":{\"id\":\"31534445-6b39-449b-9582-83a7d964fde1\",\"type\":\"BoxAnnotation\"},\"plot\":{\"id\":\"affd5d05-fe75-44eb-91db-be811ad4dab9\",\"subtype\":\"Figure\",\"type\":\"Plot\"}},\"id\":\"d646510f-cbf9-404f-bb71-59c4bbd4f1e1\",\"type\":\"BoxZoomTool\"},{\"attributes\":{},\"id\":\"1b65e6d1-e119-47fe-ba31-394532713119\",\"type\":\"BasicTicker\"},{\"attributes\":{\"dimension\":1,\"plot\":{\"id\":\"affd5d05-fe75-44eb-91db-be811ad4dab9\",\"subtype\":\"Figure\",\"type\":\"Plot\"},\"ticker\":{\"id\":\"fbe1408c-e216-468a-91b2-2a6cf0f50dc8\",\"type\":\"BasicTicker\"}},\"id\":\"fc941727-40f5-45d0-b32d-f9370beb0c0c\",\"type\":\"Grid\"},{\"attributes\":{\"fill_color\":{\"value\":\"#1f77b4\"},\"line_color\":{\"value\":\"#1f77b4\"},\"x\":{\"field\":\"x\"},\"y\":{\"field\":\"y\"}},\"id\":\"78cc0140-6b42-4ded-b52f-85d16a6cc9d6\",\"type\":\"Circle\"},{\"attributes\":{\"active_drag\":\"auto\",\"active_scroll\":\"auto\",\"active_tap\":\"auto\",\"tools\":[{\"id\":\"a72f66d1-c0d5-4dcf-8488-89d24ddebc3e\",\"type\":\"PanTool\"},{\"id\":\"131a1d09-e9e3-42a7-aeb6-d6a827406263\",\"type\":\"WheelZoomTool\"},{\"id\":\"d646510f-cbf9-404f-bb71-59c4bbd4f1e1\",\"type\":\"BoxZoomTool\"},{\"id\":\"158d68ac-35c7-4515-9614-0aec3f142e80\",\"type\":\"SaveTool\"},{\"id\":\"f130bcd9-77b9-4a61-8de6-5701035f36be\",\"type\":\"ResetTool\"},{\"id\":\"a2b079e9-d48f-426f-adc9-bd408ed449d9\",\"type\":\"HelpTool\"}]},\"id\":\"62454226-0690-4548-ae36-991a5d549065\",\"type\":\"Toolbar\"},{\"attributes\":{\"plot\":{\"id\":\"affd5d05-fe75-44eb-91db-be811ad4dab9\",\"subtype\":\"Figure\",\"type\":\"Plot\"}},\"id\":\"158d68ac-35c7-4515-9614-0aec3f142e80\",\"type\":\"SaveTool\"},{\"attributes\":{},\"id\":\"fbe1408c-e216-468a-91b2-2a6cf0f50dc8\",\"type\":\"BasicTicker\"},{\"attributes\":{\"plot\":{\"id\":\"affd5d05-fe75-44eb-91db-be811ad4dab9\",\"subtype\":\"Figure\",\"type\":\"Plot\"},\"ticker\":{\"id\":\"1b65e6d1-e119-47fe-ba31-394532713119\",\"type\":\"BasicTicker\"}},\"id\":\"94c82d42-bb4a-48bc-9cb0-7cf9ee0f5365\",\"type\":\"Grid\"},{\"attributes\":{},\"id\":\"68787e6c-a55a-47bf-9969-a1dc7fc0c4de\",\"type\":\"ToolEvents\"},{\"attributes\":{\"plot\":{\"id\":\"affd5d05-fe75-44eb-91db-be811ad4dab9\",\"subtype\":\"Figure\",\"type\":\"Plot\"}},\"id\":\"f130bcd9-77b9-4a61-8de6-5701035f36be\",\"type\":\"ResetTool\"},{\"attributes\":{},\"id\":\"90f8c4f0-3d02-4dfc-8a2a-649ffa48d4ef\",\"type\":\"BasicTickFormatter\"},{\"attributes\":{\"bottom_units\":\"screen\",\"fill_alpha\":{\"value\":0.5},\"fill_color\":{\"value\":\"lightgrey\"},\"left_units\":\"screen\",\"level\":\"overlay\",\"line_alpha\":{\"value\":1.0},\"line_color\":{\"value\":\"black\"},\"line_dash\":[4,4],\"line_width\":{\"value\":2},\"plot\":null,\"render_mode\":\"css\",\"right_units\":\"screen\",\"top_units\":\"screen\"},\"id\":\"31534445-6b39-449b-9582-83a7d964fde1\",\"type\":\"BoxAnnotation\"},{\"attributes\":{\"plot\":{\"id\":\"affd5d05-fe75-44eb-91db-be811ad4dab9\",\"subtype\":\"Figure\",\"type\":\"Plot\"}},\"id\":\"a2b079e9-d48f-426f-adc9-bd408ed449d9\",\"type\":\"HelpTool\"},{\"attributes\":{\"callback\":null},\"id\":\"eea1c800-35e6-404e-823c-ad605e05e393\",\"type\":\"DataRange1d\"},{\"attributes\":{\"plot\":{\"id\":\"affd5d05-fe75-44eb-91db-be811ad4dab9\",\"subtype\":\"Figure\",\"type\":\"Plot\"}},\"id\":\"131a1d09-e9e3-42a7-aeb6-d6a827406263\",\"type\":\"WheelZoomTool\"},{\"attributes\":{\"fill_alpha\":{\"value\":0.1},\"fill_color\":{\"value\":\"#1f77b4\"},\"line_alpha\":{\"value\":0.1},\"line_color\":{\"value\":\"#1f77b4\"},\"x\":{\"field\":\"x\"},\"y\":{\"field\":\"y\"}},\"id\":\"8d56db52-16bd-4afc-acdf-df142f5d96ba\",\"type\":\"X\"},{\"attributes\":{\"plot\":null,\"text\":null},\"id\":\"1f0a50a1-fa6f-4215-a37a-f5449ef6672c\",\"type\":\"Title\"},{\"attributes\":{\"callback\":null,\"column_names\":[\"x\",\"y\"],\"data\":{\"x\":[1.827,2.156,2.404,2.223,2.53,2.498,1.926,4.018,2.513,1.505,2.612,3.371,3.19,2.977,2.295,2.683,1.943,2.516,2.089,2.362,1.647,2.373,3.371,1.732],\"y\":[90.2,91.5,93.4,97.7,84.6,94.9,98.7,68.7,81.7,99.8,88.3,86.0,83.5,93.5,81.4,77.9,96.2,92.8,98.5,90.8,98.2,88.4,96.5,98.0]}},\"id\":\"9004ec97-3677-4156-9065-4c8fca9920da\",\"type\":\"ColumnDataSource\"},{\"attributes\":{\"data_source\":{\"id\":\"9004ec97-3677-4156-9065-4c8fca9920da\",\"type\":\"ColumnDataSource\"},\"glyph\":{\"id\":\"78cc0140-6b42-4ded-b52f-85d16a6cc9d6\",\"type\":\"Circle\"},\"hover_glyph\":null,\"nonselection_glyph\":{\"id\":\"ff3c5d0e-012d-4a98-a5a8-7ff1ace0cacf\",\"type\":\"Circle\"},\"selection_glyph\":null},\"id\":\"a1e55b1a-c556-4f3b-a1fa-62c0b457469e\",\"type\":\"GlyphRenderer\"},{\"attributes\":{\"plot\":{\"id\":\"affd5d05-fe75-44eb-91db-be811ad4dab9\",\"subtype\":\"Figure\",\"type\":\"Plot\"}},\"id\":\"a72f66d1-c0d5-4dcf-8488-89d24ddebc3e\",\"type\":\"PanTool\"},{\"attributes\":{},\"id\":\"6d35860f-32a8-4c1e-ab3d-9bc43075b253\",\"type\":\"BasicTickFormatter\"},{\"attributes\":{\"axis_label\":\"fertility\",\"formatter\":{\"id\":\"90f8c4f0-3d02-4dfc-8a2a-649ffa48d4ef\",\"type\":\"BasicTickFormatter\"},\"plot\":{\"id\":\"affd5d05-fe75-44eb-91db-be811ad4dab9\",\"subtype\":\"Figure\",\"type\":\"Plot\"},\"ticker\":{\"id\":\"1b65e6d1-e119-47fe-ba31-394532713119\",\"type\":\"BasicTicker\"}},\"id\":\"90a6f793-fb71-4a10-8cae-09167d1e1c20\",\"type\":\"LinearAxis\"}],\"root_ids\":[\"affd5d05-fe75-44eb-91db-be811ad4dab9\"]},\"title\":\"Bokeh Application\",\"version\":\"0.12.2\"}};\n",
       "            var render_items = [{\"docid\":\"0fe1246c-07fd-4c81-b947-e83161575644\",\"elementid\":\"e5d2d8c5-f9b0-4cf5-b672-90dfedbc3652\",\"modelid\":\"affd5d05-fe75-44eb-91db-be811ad4dab9\"}];\n",
       "            \n",
       "            Bokeh.embed.embed_items(docs_json, render_items);\n",
       "        });\n",
       "      },\n",
       "      function(Bokeh) {\n",
       "      }\n",
       "    ];\n",
       "  \n",
       "    function run_inline_js() {\n",
       "      \n",
       "      if ((window.Bokeh !== undefined) || (force === \"1\")) {\n",
       "        for (var i = 0; i < inline_js.length; i++) {\n",
       "          inline_js[i](window.Bokeh);\n",
       "        }if (force === \"1\") {\n",
       "          display_loaded();\n",
       "        }} else if (Date.now() < window._bokeh_timeout) {\n",
       "        setTimeout(run_inline_js, 100);\n",
       "      } else if (!window._bokeh_failed_load) {\n",
       "        console.log(\"Bokeh: BokehJS failed to load within specified timeout.\");\n",
       "        window._bokeh_failed_load = true;\n",
       "      } else if (!force) {\n",
       "        var cell = $(\"#e5d2d8c5-f9b0-4cf5-b672-90dfedbc3652\").parents('.cell').data().cell;\n",
       "        cell.output_area.append_execute_result(NB_LOAD_WARNING)\n",
       "      }\n",
       "  \n",
       "    }\n",
       "  \n",
       "    if (window._bokeh_is_loading === 0) {\n",
       "      console.log(\"Bokeh: BokehJS loaded, going straight to plotting\");\n",
       "      run_inline_js();\n",
       "    } else {\n",
       "      load_libs(js_urls, function() {\n",
       "        console.log(\"Bokeh: BokehJS plotting callback run at\", now());\n",
       "        run_inline_js();\n",
       "      });\n",
       "    }\n",
       "  }(this));\n",
       "</script>"
      ]
     },
     "metadata": {},
     "output_type": "display_data"
    }
   ],
   "source": [
    "show(p)"
   ]
  },
  {
   "cell_type": "markdown",
   "metadata": {},
   "source": [
    "***\n",
    "## Customizing your scatter plots"
   ]
  },
  {
   "cell_type": "markdown",
   "metadata": {},
   "source": [
    "The three most important arguments to customize scatter glyphs are **color**, **size**, and **alpha**. Bokeh accepts colors as hexadecimal strings, tuples of RGB values between 0 and 255, and any of the 147 CSS color names. Size values are supplied in screen space units with 100 meaning the size of the entire figure.\n",
    "\n",
    "The **alpha** parameter controls transparency. It takes in floating point numbers between 0.0, meaning completely transparent, and 1.0, meaning completely opaque.\n",
    "\n",
    "In this exercise, you'll plot female literacy vs fertility for Africa and Latin America as red and blue circle glyphs, respectively."
   ]
  },
  {
   "cell_type": "markdown",
   "metadata": {},
   "source": [
    "#### Instructions\n",
    "\n",
    " - Using the Latin America data (**fertility_latinamerica** and **female_literacy_latinamerica**), add a **blue** circle glyph of **size=10** and **alpha=0.8** to the figure **p**. To do this, you will need to specify the **color**, **size** and **alpha** keyword arguments inside **p.circle()**.\n",
    " - Using the Africa data (**fertility_africa** and **female_literacy_africa**), add a **red** circle glyph of **size=10** and **alpha=0.8** to the figure **p**.\n"
   ]
  },
  {
   "cell_type": "markdown",
   "metadata": {},
   "source": [
    "    # Create the figure: p\n",
    "    p = figure(x_axis_label='fertility (children per woman)', y_axis_label='female_literacy (% population)')\n",
    "\n",
    "    # Add a blue circle glyph to the figure p\n",
    "    p.circle(fertility_latinamerica, female_literacy_latinamerica, ____, ____, ____)\n",
    "\n",
    "    # Add a red circle glyph to the figure p\n",
    "\n",
    "\n",
    "    # Specify the name of the file\n",
    "    output_file('fert_lit_separate_colors.html')\n",
    "\n",
    "    # Display the plot\n",
    "    show(p)\n"
   ]
  },
  {
   "cell_type": "code",
   "execution_count": 38,
   "metadata": {
    "collapsed": true
   },
   "outputs": [],
   "source": [
    "\n",
    "p = figure(x_axis_label='fertility (children per woman)', y_axis_label='female_literacy (% population)')\n"
   ]
  },
  {
   "cell_type": "code",
   "execution_count": 39,
   "metadata": {
    "collapsed": false
   },
   "outputs": [
    {
     "data": {
      "text/plain": [
       "<bokeh.models.renderers.GlyphRenderer at 0x1fae48ec5f8>"
      ]
     },
     "execution_count": 39,
     "metadata": {},
     "output_type": "execute_result"
    }
   ],
   "source": [
    "\n",
    "p.circle(lat_fertility, lat_female_lit, color='blue', size=10, alpha=0.8)\n",
    "p.circle(af_fertility , af_female_lit, color='red', size=10, alpha=0.8)\n"
   ]
  },
  {
   "cell_type": "code",
   "execution_count": 40,
   "metadata": {
    "collapsed": false
   },
   "outputs": [
    {
     "data": {
      "text/html": [
       "\n",
       "\n",
       "    <div class=\"bk-root\">\n",
       "        <div class=\"plotdiv\" id=\"91b8de00-fd56-4a3d-85f6-35907bdc0cd6\"></div>\n",
       "    </div>\n",
       "<script type=\"text/javascript\">\n",
       "  \n",
       "  (function(global) {\n",
       "    function now() {\n",
       "      return new Date();\n",
       "    }\n",
       "  \n",
       "    var force = \"\";\n",
       "  \n",
       "    if (typeof (window._bokeh_onload_callbacks) === \"undefined\" || force !== \"\") {\n",
       "      window._bokeh_onload_callbacks = [];\n",
       "      window._bokeh_is_loading = undefined;\n",
       "    }\n",
       "  \n",
       "  \n",
       "    \n",
       "    if (typeof (window._bokeh_timeout) === \"undefined\" || force !== \"\") {\n",
       "      window._bokeh_timeout = Date.now() + 0;\n",
       "      window._bokeh_failed_load = false;\n",
       "    }\n",
       "  \n",
       "    var NB_LOAD_WARNING = {'data': {'text/html':\n",
       "       \"<div style='background-color: #fdd'>\\n\"+\n",
       "       \"<p>\\n\"+\n",
       "       \"BokehJS does not appear to have successfully loaded. If loading BokehJS from CDN, this \\n\"+\n",
       "       \"may be due to a slow or bad network connection. Possible fixes:\\n\"+\n",
       "       \"</p>\\n\"+\n",
       "       \"<ul>\\n\"+\n",
       "       \"<li>re-rerun `output_notebook()` to attempt to load from CDN again, or</li>\\n\"+\n",
       "       \"<li>use INLINE resources instead, as so:</li>\\n\"+\n",
       "       \"</ul>\\n\"+\n",
       "       \"<code>\\n\"+\n",
       "       \"from bokeh.resources import INLINE\\n\"+\n",
       "       \"output_notebook(resources=INLINE)\\n\"+\n",
       "       \"</code>\\n\"+\n",
       "       \"</div>\"}};\n",
       "  \n",
       "    function display_loaded() {\n",
       "      if (window.Bokeh !== undefined) {\n",
       "        Bokeh.$(\"#91b8de00-fd56-4a3d-85f6-35907bdc0cd6\").text(\"BokehJS successfully loaded.\");\n",
       "      } else if (Date.now() < window._bokeh_timeout) {\n",
       "        setTimeout(display_loaded, 100)\n",
       "      }\n",
       "    }\n",
       "  \n",
       "    function run_callbacks() {\n",
       "      window._bokeh_onload_callbacks.forEach(function(callback) { callback() });\n",
       "      delete window._bokeh_onload_callbacks\n",
       "      console.info(\"Bokeh: all callbacks have finished\");\n",
       "    }\n",
       "  \n",
       "    function load_libs(js_urls, callback) {\n",
       "      window._bokeh_onload_callbacks.push(callback);\n",
       "      if (window._bokeh_is_loading > 0) {\n",
       "        console.log(\"Bokeh: BokehJS is being loaded, scheduling callback at\", now());\n",
       "        return null;\n",
       "      }\n",
       "      if (js_urls == null || js_urls.length === 0) {\n",
       "        run_callbacks();\n",
       "        return null;\n",
       "      }\n",
       "      console.log(\"Bokeh: BokehJS not loaded, scheduling load and callback at\", now());\n",
       "      window._bokeh_is_loading = js_urls.length;\n",
       "      for (var i = 0; i < js_urls.length; i++) {\n",
       "        var url = js_urls[i];\n",
       "        var s = document.createElement('script');\n",
       "        s.src = url;\n",
       "        s.async = false;\n",
       "        s.onreadystatechange = s.onload = function() {\n",
       "          window._bokeh_is_loading--;\n",
       "          if (window._bokeh_is_loading === 0) {\n",
       "            console.log(\"Bokeh: all BokehJS libraries loaded\");\n",
       "            run_callbacks()\n",
       "          }\n",
       "        };\n",
       "        s.onerror = function() {\n",
       "          console.warn(\"failed to load library \" + url);\n",
       "        };\n",
       "        console.log(\"Bokeh: injecting script tag for BokehJS library: \", url);\n",
       "        document.getElementsByTagName(\"head\")[0].appendChild(s);\n",
       "      }\n",
       "    };var element = document.getElementById(\"91b8de00-fd56-4a3d-85f6-35907bdc0cd6\");\n",
       "    if (element == null) {\n",
       "      console.log(\"Bokeh: ERROR: autoload.js configured with elementid '91b8de00-fd56-4a3d-85f6-35907bdc0cd6' but no matching script tag was found. \")\n",
       "      return false;\n",
       "    }\n",
       "  \n",
       "    var js_urls = [];\n",
       "  \n",
       "    var inline_js = [\n",
       "      function(Bokeh) {\n",
       "        Bokeh.$(function() {\n",
       "            var docs_json = {\"09a297de-d824-4515-9760-ba0d3aa0f09b\":{\"roots\":{\"references\":[{\"attributes\":{},\"id\":\"acffbdde-eed1-476f-8625-560533cabe20\",\"type\":\"BasicTicker\"},{\"attributes\":{\"fill_alpha\":{\"value\":0.1},\"fill_color\":{\"value\":\"#1f77b4\"},\"line_alpha\":{\"value\":0.1},\"line_color\":{\"value\":\"#1f77b4\"},\"size\":{\"units\":\"screen\",\"value\":10},\"x\":{\"field\":\"x\"},\"y\":{\"field\":\"y\"}},\"id\":\"02e09e40-1b56-4e33-8c41-11049617afcc\",\"type\":\"Circle\"},{\"attributes\":{\"plot\":{\"id\":\"b867f377-8e9e-4682-bbe7-da91c1eb4812\",\"subtype\":\"Figure\",\"type\":\"Plot\"}},\"id\":\"7e227006-ca13-46ef-bd3d-481ad38a99f5\",\"type\":\"WheelZoomTool\"},{\"attributes\":{\"dimension\":1,\"plot\":{\"id\":\"b867f377-8e9e-4682-bbe7-da91c1eb4812\",\"subtype\":\"Figure\",\"type\":\"Plot\"},\"ticker\":{\"id\":\"450d6927-36e9-499f-a757-0d669731cd09\",\"type\":\"BasicTicker\"}},\"id\":\"65152911-771d-450b-86b3-46e060c12ad4\",\"type\":\"Grid\"},{\"attributes\":{\"below\":[{\"id\":\"f1410a0e-3cc4-4d23-893d-4ce721fab679\",\"type\":\"LinearAxis\"}],\"left\":[{\"id\":\"4dbc91cd-d1b2-4e46-8515-d56b6f60be81\",\"type\":\"LinearAxis\"}],\"renderers\":[{\"id\":\"f1410a0e-3cc4-4d23-893d-4ce721fab679\",\"type\":\"LinearAxis\"},{\"id\":\"ffdc4f49-ce61-44e6-b2a1-854bf3639d0b\",\"type\":\"Grid\"},{\"id\":\"4dbc91cd-d1b2-4e46-8515-d56b6f60be81\",\"type\":\"LinearAxis\"},{\"id\":\"65152911-771d-450b-86b3-46e060c12ad4\",\"type\":\"Grid\"},{\"id\":\"66818de9-1fd4-45f2-a4b1-b599a534d36a\",\"type\":\"BoxAnnotation\"},{\"id\":\"63b3410e-fc98-46c9-b533-4d064f179852\",\"type\":\"GlyphRenderer\"},{\"id\":\"5b9d7e85-3725-407b-a227-2af4e3091bdd\",\"type\":\"GlyphRenderer\"}],\"title\":{\"id\":\"bb1ed337-80c5-47e2-9787-19d4c6d269f8\",\"type\":\"Title\"},\"tool_events\":{\"id\":\"7a8fdf25-67b8-4153-824e-ffd1deb2e7ae\",\"type\":\"ToolEvents\"},\"toolbar\":{\"id\":\"f9fdbae7-ae0e-4619-baf9-fde0f784f591\",\"type\":\"Toolbar\"},\"x_range\":{\"id\":\"dcff5c2c-18db-46dd-a2c3-b57a09fafc18\",\"type\":\"DataRange1d\"},\"y_range\":{\"id\":\"6e276eba-3b61-4015-8eb7-bc1e5e59d544\",\"type\":\"DataRange1d\"}},\"id\":\"b867f377-8e9e-4682-bbe7-da91c1eb4812\",\"subtype\":\"Figure\",\"type\":\"Plot\"},{\"attributes\":{\"data_source\":{\"id\":\"ea68d88b-e10d-4c06-b3a1-6e3fdf10d934\",\"type\":\"ColumnDataSource\"},\"glyph\":{\"id\":\"431d8354-50aa-4918-bda9-e88368847601\",\"type\":\"Circle\"},\"hover_glyph\":null,\"nonselection_glyph\":{\"id\":\"51776cbe-7a2a-4d51-a37a-3f2ff8210e3b\",\"type\":\"Circle\"},\"selection_glyph\":null},\"id\":\"5b9d7e85-3725-407b-a227-2af4e3091bdd\",\"type\":\"GlyphRenderer\"},{\"attributes\":{\"fill_alpha\":{\"value\":0.8},\"fill_color\":{\"value\":\"red\"},\"line_alpha\":{\"value\":0.8},\"line_color\":{\"value\":\"red\"},\"size\":{\"units\":\"screen\",\"value\":10},\"x\":{\"field\":\"x\"},\"y\":{\"field\":\"y\"}},\"id\":\"431d8354-50aa-4918-bda9-e88368847601\",\"type\":\"Circle\"},{\"attributes\":{\"callback\":null,\"column_names\":[\"y\",\"x\"],\"data\":{\"x\":[5.173,2.816,5.211,5.908,2.505,5.52,4.058,4.859,2.342,6.254,2.334,4.22,4.967,4.514,4.62,4.541,5.637,5.841,5.455,7.069,5.405,5.737,3.363,4.89,6.081,1.841,5.329,5.33,5.378,4.45,4.166,2.642,5.165,4.528,4.697,5.011,4.388,3.29,3.264,2.822,4.969,5.659,3.24,1.792,3.45,5.283,3.885,2.663,3.718],\"y\":[48.8,57.8,22.8,56.1,88.1,66.3,59.6,82.8,63.9,66.8,44.1,59.3,40.1,44.3,65.3,67.8,57.0,21.6,65.8,15.1,18.2,61.0,88.8,33.0,21.9,71.0,26.4,66.1,28.1,59.9,53.7,81.3,28.9,54.5,41.1,53.0,49.5,87.7,95.1,83.5,34.3,36.5,83.2,84.8,85.6,89.1,67.8,79.3,83.3]}},\"id\":\"ea68d88b-e10d-4c06-b3a1-6e3fdf10d934\",\"type\":\"ColumnDataSource\"},{\"attributes\":{},\"id\":\"7a8fdf25-67b8-4153-824e-ffd1deb2e7ae\",\"type\":\"ToolEvents\"},{\"attributes\":{\"callback\":null},\"id\":\"6e276eba-3b61-4015-8eb7-bc1e5e59d544\",\"type\":\"DataRange1d\"},{\"attributes\":{\"fill_alpha\":{\"value\":0.1},\"fill_color\":{\"value\":\"#1f77b4\"},\"line_alpha\":{\"value\":0.1},\"line_color\":{\"value\":\"#1f77b4\"},\"size\":{\"units\":\"screen\",\"value\":10},\"x\":{\"field\":\"x\"},\"y\":{\"field\":\"y\"}},\"id\":\"51776cbe-7a2a-4d51-a37a-3f2ff8210e3b\",\"type\":\"Circle\"},{\"attributes\":{\"plot\":null,\"text\":null},\"id\":\"bb1ed337-80c5-47e2-9787-19d4c6d269f8\",\"type\":\"Title\"},{\"attributes\":{\"plot\":{\"id\":\"b867f377-8e9e-4682-bbe7-da91c1eb4812\",\"subtype\":\"Figure\",\"type\":\"Plot\"}},\"id\":\"a75c9ae2-e9c2-450f-8ab2-0617cced34b8\",\"type\":\"ResetTool\"},{\"attributes\":{},\"id\":\"642daaf0-ffb3-4c3a-8aa9-e312315c5b4e\",\"type\":\"BasicTickFormatter\"},{\"attributes\":{\"bottom_units\":\"screen\",\"fill_alpha\":{\"value\":0.5},\"fill_color\":{\"value\":\"lightgrey\"},\"left_units\":\"screen\",\"level\":\"overlay\",\"line_alpha\":{\"value\":1.0},\"line_color\":{\"value\":\"black\"},\"line_dash\":[4,4],\"line_width\":{\"value\":2},\"plot\":null,\"render_mode\":\"css\",\"right_units\":\"screen\",\"top_units\":\"screen\"},\"id\":\"66818de9-1fd4-45f2-a4b1-b599a534d36a\",\"type\":\"BoxAnnotation\"},{\"attributes\":{\"callback\":null},\"id\":\"dcff5c2c-18db-46dd-a2c3-b57a09fafc18\",\"type\":\"DataRange1d\"},{\"attributes\":{\"axis_label\":\"female_literacy (% population)\",\"formatter\":{\"id\":\"d1bb056c-a4e9-450a-8c2c-383b09907a6c\",\"type\":\"BasicTickFormatter\"},\"plot\":{\"id\":\"b867f377-8e9e-4682-bbe7-da91c1eb4812\",\"subtype\":\"Figure\",\"type\":\"Plot\"},\"ticker\":{\"id\":\"450d6927-36e9-499f-a757-0d669731cd09\",\"type\":\"BasicTicker\"}},\"id\":\"4dbc91cd-d1b2-4e46-8515-d56b6f60be81\",\"type\":\"LinearAxis\"},{\"attributes\":{\"active_drag\":\"auto\",\"active_scroll\":\"auto\",\"active_tap\":\"auto\",\"tools\":[{\"id\":\"a9ded880-aca0-4be9-80be-37d057eddc2d\",\"type\":\"PanTool\"},{\"id\":\"7e227006-ca13-46ef-bd3d-481ad38a99f5\",\"type\":\"WheelZoomTool\"},{\"id\":\"8e048c90-3f88-45d0-8403-470301930331\",\"type\":\"BoxZoomTool\"},{\"id\":\"758e311f-c6e8-4440-bf04-d4a5f1913b8b\",\"type\":\"SaveTool\"},{\"id\":\"a75c9ae2-e9c2-450f-8ab2-0617cced34b8\",\"type\":\"ResetTool\"},{\"id\":\"fc396fd3-8d44-4a71-b8dc-6a2ff9a55100\",\"type\":\"HelpTool\"}]},\"id\":\"f9fdbae7-ae0e-4619-baf9-fde0f784f591\",\"type\":\"Toolbar\"},{\"attributes\":{\"overlay\":{\"id\":\"66818de9-1fd4-45f2-a4b1-b599a534d36a\",\"type\":\"BoxAnnotation\"},\"plot\":{\"id\":\"b867f377-8e9e-4682-bbe7-da91c1eb4812\",\"subtype\":\"Figure\",\"type\":\"Plot\"}},\"id\":\"8e048c90-3f88-45d0-8403-470301930331\",\"type\":\"BoxZoomTool\"},{\"attributes\":{\"callback\":null,\"column_names\":[\"y\",\"x\"],\"data\":{\"x\":[1.827,2.156,2.404,2.223,2.53,2.498,1.926,4.018,2.513,1.505,2.612,3.371,3.19,2.977,2.295,2.683,1.943,2.516,2.089,2.362,1.647,2.373,3.371,1.732],\"y\":[90.2,91.5,93.4,97.7,84.6,94.9,98.7,68.7,81.7,99.8,88.3,86.0,83.5,93.5,81.4,77.9,96.2,92.8,98.5,90.8,98.2,88.4,96.5,98.0]}},\"id\":\"d51f8db0-a2b2-4af9-aef9-c7336548e139\",\"type\":\"ColumnDataSource\"},{\"attributes\":{\"plot\":{\"id\":\"b867f377-8e9e-4682-bbe7-da91c1eb4812\",\"subtype\":\"Figure\",\"type\":\"Plot\"}},\"id\":\"758e311f-c6e8-4440-bf04-d4a5f1913b8b\",\"type\":\"SaveTool\"},{\"attributes\":{\"plot\":{\"id\":\"b867f377-8e9e-4682-bbe7-da91c1eb4812\",\"subtype\":\"Figure\",\"type\":\"Plot\"},\"ticker\":{\"id\":\"acffbdde-eed1-476f-8625-560533cabe20\",\"type\":\"BasicTicker\"}},\"id\":\"ffdc4f49-ce61-44e6-b2a1-854bf3639d0b\",\"type\":\"Grid\"},{\"attributes\":{},\"id\":\"450d6927-36e9-499f-a757-0d669731cd09\",\"type\":\"BasicTicker\"},{\"attributes\":{\"data_source\":{\"id\":\"d51f8db0-a2b2-4af9-aef9-c7336548e139\",\"type\":\"ColumnDataSource\"},\"glyph\":{\"id\":\"0fdf9909-6fb9-4e52-9d9f-a18afc3cc1a9\",\"type\":\"Circle\"},\"hover_glyph\":null,\"nonselection_glyph\":{\"id\":\"02e09e40-1b56-4e33-8c41-11049617afcc\",\"type\":\"Circle\"},\"selection_glyph\":null},\"id\":\"63b3410e-fc98-46c9-b533-4d064f179852\",\"type\":\"GlyphRenderer\"},{\"attributes\":{\"axis_label\":\"fertility (children per woman)\",\"formatter\":{\"id\":\"642daaf0-ffb3-4c3a-8aa9-e312315c5b4e\",\"type\":\"BasicTickFormatter\"},\"plot\":{\"id\":\"b867f377-8e9e-4682-bbe7-da91c1eb4812\",\"subtype\":\"Figure\",\"type\":\"Plot\"},\"ticker\":{\"id\":\"acffbdde-eed1-476f-8625-560533cabe20\",\"type\":\"BasicTicker\"}},\"id\":\"f1410a0e-3cc4-4d23-893d-4ce721fab679\",\"type\":\"LinearAxis\"},{\"attributes\":{\"plot\":{\"id\":\"b867f377-8e9e-4682-bbe7-da91c1eb4812\",\"subtype\":\"Figure\",\"type\":\"Plot\"}},\"id\":\"fc396fd3-8d44-4a71-b8dc-6a2ff9a55100\",\"type\":\"HelpTool\"},{\"attributes\":{},\"id\":\"d1bb056c-a4e9-450a-8c2c-383b09907a6c\",\"type\":\"BasicTickFormatter\"},{\"attributes\":{\"fill_alpha\":{\"value\":0.8},\"fill_color\":{\"value\":\"blue\"},\"line_alpha\":{\"value\":0.8},\"line_color\":{\"value\":\"blue\"},\"size\":{\"units\":\"screen\",\"value\":10},\"x\":{\"field\":\"x\"},\"y\":{\"field\":\"y\"}},\"id\":\"0fdf9909-6fb9-4e52-9d9f-a18afc3cc1a9\",\"type\":\"Circle\"},{\"attributes\":{\"plot\":{\"id\":\"b867f377-8e9e-4682-bbe7-da91c1eb4812\",\"subtype\":\"Figure\",\"type\":\"Plot\"}},\"id\":\"a9ded880-aca0-4be9-80be-37d057eddc2d\",\"type\":\"PanTool\"}],\"root_ids\":[\"b867f377-8e9e-4682-bbe7-da91c1eb4812\"]},\"title\":\"Bokeh Application\",\"version\":\"0.12.2\"}};\n",
       "            var render_items = [{\"docid\":\"09a297de-d824-4515-9760-ba0d3aa0f09b\",\"elementid\":\"91b8de00-fd56-4a3d-85f6-35907bdc0cd6\",\"modelid\":\"b867f377-8e9e-4682-bbe7-da91c1eb4812\"}];\n",
       "            \n",
       "            Bokeh.embed.embed_items(docs_json, render_items);\n",
       "        });\n",
       "      },\n",
       "      function(Bokeh) {\n",
       "      }\n",
       "    ];\n",
       "  \n",
       "    function run_inline_js() {\n",
       "      \n",
       "      if ((window.Bokeh !== undefined) || (force === \"1\")) {\n",
       "        for (var i = 0; i < inline_js.length; i++) {\n",
       "          inline_js[i](window.Bokeh);\n",
       "        }if (force === \"1\") {\n",
       "          display_loaded();\n",
       "        }} else if (Date.now() < window._bokeh_timeout) {\n",
       "        setTimeout(run_inline_js, 100);\n",
       "      } else if (!window._bokeh_failed_load) {\n",
       "        console.log(\"Bokeh: BokehJS failed to load within specified timeout.\");\n",
       "        window._bokeh_failed_load = true;\n",
       "      } else if (!force) {\n",
       "        var cell = $(\"#91b8de00-fd56-4a3d-85f6-35907bdc0cd6\").parents('.cell').data().cell;\n",
       "        cell.output_area.append_execute_result(NB_LOAD_WARNING)\n",
       "      }\n",
       "  \n",
       "    }\n",
       "  \n",
       "    if (window._bokeh_is_loading === 0) {\n",
       "      console.log(\"Bokeh: BokehJS loaded, going straight to plotting\");\n",
       "      run_inline_js();\n",
       "    } else {\n",
       "      load_libs(js_urls, function() {\n",
       "        console.log(\"Bokeh: BokehJS plotting callback run at\", now());\n",
       "        run_inline_js();\n",
       "      });\n",
       "    }\n",
       "  }(this));\n",
       "</script>"
      ]
     },
     "metadata": {},
     "output_type": "display_data"
    }
   ],
   "source": [
    "show(p)"
   ]
  },
  {
   "cell_type": "markdown",
   "metadata": {},
   "source": [
    "*** \n",
    "\n",
    "## Lines \n",
    "\n",
    "We can draw lines on Bokeh plots with the **line()** glyph function.\n",
    "\n",
    "In this exercise, you'll plot the daily adjusted closing price of Apple Inc.'s stock (AAPL) from 2000 to 2013.\n",
    "\n",
    "The data points are provided for you as lists. **date** is a list of **datetime objects** to plot on the x-axis and **price** is a list of prices to plot on the y-axis.\n",
    "\n",
    "Since we are plotting dates on the x-axis, you must add **x_axis_type='datetime'** when creating the figure object."
   ]
  },
  {
   "cell_type": "markdown",
   "metadata": {},
   "source": [
    "#### Instructions\n",
    "\n",
    "  - Import the **figure** function from **bokeh.plotting**\n",
    "  - Create a figure **p** using the **figure()** function with **x_axis_type** set to **'datetime'**. The other two parameters are **x_axis_label** and **y_axis_label**\n",
    "  - Plot **date** and **price** along the x- and y-axes using **p.line()**."
   ]
  },
  {
   "cell_type": "markdown",
   "metadata": {},
   "source": [
    "    # Import figure from bokeh.plotting\n",
    "    from ____ import ____\n",
    "\n",
    "    # Create a figure with x_axis_type=\"datetime\": p\n",
    "    p = ____(____, ____='Date', ____='US Dollars')\n",
    "\n",
    "    # Plot date along the x axis and price along the y axis\n",
    "\n",
    "\n",
    "    # Specify the name of the output file and show the result\n",
    "    output_file('line.html')\n",
    "    show(p)"
   ]
  },
  {
   "cell_type": "code",
   "execution_count": 41,
   "metadata": {
    "collapsed": false
   },
   "outputs": [],
   "source": [
    "from bokeh.sampledata.stocks import AAPL, GOOG, IBM, MSFT"
   ]
  },
  {
   "cell_type": "code",
   "execution_count": 45,
   "metadata": {
    "collapsed": true
   },
   "outputs": [],
   "source": [
    "aapl = np.array(AAPL['adj_close'])\n",
    "aapl_dates = np.array(AAPL['date'], dtype=np.datetime64)\n"
   ]
  },
  {
   "cell_type": "code",
   "execution_count": 56,
   "metadata": {
    "collapsed": false
   },
   "outputs": [
    {
     "data": {
      "text/plain": [
       "array(['2000-03-01', '2000-03-02', '2000-03-03', ..., '2013-02-27',\n",
       "       '2013-02-28', '2013-03-01'], dtype='datetime64[D]')"
      ]
     },
     "execution_count": 56,
     "metadata": {},
     "output_type": "execute_result"
    }
   ],
   "source": [
    "aapl_dates"
   ]
  },
  {
   "cell_type": "code",
   "execution_count": 48,
   "metadata": {
    "collapsed": false
   },
   "outputs": [],
   "source": [
    "aapl_price = np.array(AAPL['adj_close'])"
   ]
  },
  {
   "cell_type": "code",
   "execution_count": 47,
   "metadata": {
    "collapsed": false
   },
   "outputs": [
    {
     "data": {
      "text/plain": [
       "dict_keys(['open', 'high', 'date', 'volume', 'close', 'low', 'adj_close'])"
      ]
     },
     "execution_count": 47,
     "metadata": {},
     "output_type": "execute_result"
    }
   ],
   "source": [
    "AAPL.keys()"
   ]
  },
  {
   "cell_type": "code",
   "execution_count": 49,
   "metadata": {
    "collapsed": true
   },
   "outputs": [],
   "source": [
    "p = figure(x_axis_type='datetime', x_axis_label='Date', y_axis_label='US Dollars')"
   ]
  },
  {
   "cell_type": "code",
   "execution_count": 53,
   "metadata": {
    "collapsed": false
   },
   "outputs": [
    {
     "data": {
      "text/plain": [
       "<bokeh.models.renderers.GlyphRenderer at 0x1fae5bb2da0>"
      ]
     },
     "execution_count": 53,
     "metadata": {},
     "output_type": "execute_result"
    }
   ],
   "source": [
    "p.line(aapl_dates, aapl_price,color='red')"
   ]
  },
  {
   "cell_type": "code",
   "execution_count": 54,
   "metadata": {
    "collapsed": false
   },
   "outputs": [
    {
     "data": {
      "text/plain": [
       "<bokeh.models.renderers.GlyphRenderer at 0x1fae5bb29e8>"
      ]
     },
     "execution_count": 54,
     "metadata": {},
     "output_type": "execute_result"
    }
   ],
   "source": [
    "p.circle(aapl_dates, aapl_price, fill_color='white', size=4)"
   ]
  },
  {
   "cell_type": "code",
   "execution_count": 55,
   "metadata": {
    "collapsed": false
   },
   "outputs": [
    {
     "data": {
      "text/html": [
       "\n",
       "\n",
       "    <div class=\"bk-root\">\n",
       "        <div class=\"plotdiv\" id=\"7ddba15a-3b1e-4f76-9868-4f80e6143ae2\"></div>\n",
       "    </div>\n",
       "<script type=\"text/javascript\">\n",
       "  \n",
       "  (function(global) {\n",
       "    function now() {\n",
       "      return new Date();\n",
       "    }\n",
       "  \n",
       "    var force = \"\";\n",
       "  \n",
       "    if (typeof (window._bokeh_onload_callbacks) === \"undefined\" || force !== \"\") {\n",
       "      window._bokeh_onload_callbacks = [];\n",
       "      window._bokeh_is_loading = undefined;\n",
       "    }\n",
       "  \n",
       "  \n",
       "    \n",
       "    if (typeof (window._bokeh_timeout) === \"undefined\" || force !== \"\") {\n",
       "      window._bokeh_timeout = Date.now() + 0;\n",
       "      window._bokeh_failed_load = false;\n",
       "    }\n",
       "  \n",
       "    var NB_LOAD_WARNING = {'data': {'text/html':\n",
       "       \"<div style='background-color: #fdd'>\\n\"+\n",
       "       \"<p>\\n\"+\n",
       "       \"BokehJS does not appear to have successfully loaded. If loading BokehJS from CDN, this \\n\"+\n",
       "       \"may be due to a slow or bad network connection. Possible fixes:\\n\"+\n",
       "       \"</p>\\n\"+\n",
       "       \"<ul>\\n\"+\n",
       "       \"<li>re-rerun `output_notebook()` to attempt to load from CDN again, or</li>\\n\"+\n",
       "       \"<li>use INLINE resources instead, as so:</li>\\n\"+\n",
       "       \"</ul>\\n\"+\n",
       "       \"<code>\\n\"+\n",
       "       \"from bokeh.resources import INLINE\\n\"+\n",
       "       \"output_notebook(resources=INLINE)\\n\"+\n",
       "       \"</code>\\n\"+\n",
       "       \"</div>\"}};\n",
       "  \n",
       "    function display_loaded() {\n",
       "      if (window.Bokeh !== undefined) {\n",
       "        Bokeh.$(\"#7ddba15a-3b1e-4f76-9868-4f80e6143ae2\").text(\"BokehJS successfully loaded.\");\n",
       "      } else if (Date.now() < window._bokeh_timeout) {\n",
       "        setTimeout(display_loaded, 100)\n",
       "      }\n",
       "    }\n",
       "  \n",
       "    function run_callbacks() {\n",
       "      window._bokeh_onload_callbacks.forEach(function(callback) { callback() });\n",
       "      delete window._bokeh_onload_callbacks\n",
       "      console.info(\"Bokeh: all callbacks have finished\");\n",
       "    }\n",
       "  \n",
       "    function load_libs(js_urls, callback) {\n",
       "      window._bokeh_onload_callbacks.push(callback);\n",
       "      if (window._bokeh_is_loading > 0) {\n",
       "        console.log(\"Bokeh: BokehJS is being loaded, scheduling callback at\", now());\n",
       "        return null;\n",
       "      }\n",
       "      if (js_urls == null || js_urls.length === 0) {\n",
       "        run_callbacks();\n",
       "        return null;\n",
       "      }\n",
       "      console.log(\"Bokeh: BokehJS not loaded, scheduling load and callback at\", now());\n",
       "      window._bokeh_is_loading = js_urls.length;\n",
       "      for (var i = 0; i < js_urls.length; i++) {\n",
       "        var url = js_urls[i];\n",
       "        var s = document.createElement('script');\n",
       "        s.src = url;\n",
       "        s.async = false;\n",
       "        s.onreadystatechange = s.onload = function() {\n",
       "          window._bokeh_is_loading--;\n",
       "          if (window._bokeh_is_loading === 0) {\n",
       "            console.log(\"Bokeh: all BokehJS libraries loaded\");\n",
       "            run_callbacks()\n",
       "          }\n",
       "        };\n",
       "        s.onerror = function() {\n",
       "          console.warn(\"failed to load library \" + url);\n",
       "        };\n",
       "        console.log(\"Bokeh: injecting script tag for BokehJS library: \", url);\n",
       "        document.getElementsByTagName(\"head\")[0].appendChild(s);\n",
       "      }\n",
       "    };var element = document.getElementById(\"7ddba15a-3b1e-4f76-9868-4f80e6143ae2\");\n",
       "    if (element == null) {\n",
       "      console.log(\"Bokeh: ERROR: autoload.js configured with elementid '7ddba15a-3b1e-4f76-9868-4f80e6143ae2' but no matching script tag was found. \")\n",
       "      return false;\n",
       "    }\n",
       "  \n",
       "    var js_urls = [];\n",
       "  \n",
       "    var inline_js = [\n",
       "      function(Bokeh) {\n",
       "        Bokeh.$(function() {\n",
       "            var docs_json = {\"599bc2a6-849d-428d-b03c-535cd7530974\":{\"roots\":{\"references\":[{\"attributes\":{},\"id\":\"fd6ba100-ebee-468c-8661-c0604df2bcd2\",\"type\":\"DatetimeTickFormatter\"},{\"attributes\":{\"data_source\":{\"id\":\"4fccfbc8-0cb0-43ba-9f7c-e721443673e0\",\"type\":\"ColumnDataSource\"},\"glyph\":{\"id\":\"4f4064ef-ec29-4c22-b531-187ec3352068\",\"type\":\"Line\"},\"hover_glyph\":null,\"nonselection_glyph\":{\"id\":\"2eda2b4f-915b-4442-b90c-f7fd79004d41\",\"type\":\"Line\"},\"selection_glyph\":null},\"id\":\"2703c66b-123e-4a48-8b17-cb7a2e2181ef\",\"type\":\"GlyphRenderer\"},{\"attributes\":{},\"id\":\"1a1b4353-ee63-41c6-b353-87d0321bafcd\",\"type\":\"ToolEvents\"},{\"attributes\":{\"overlay\":{\"id\":\"ec446ee3-df99-4326-ada7-8ce92354060e\",\"type\":\"BoxAnnotation\"},\"plot\":{\"id\":\"f0fa4658-1c2d-4fdb-8287-83477315c49c\",\"subtype\":\"Figure\",\"type\":\"Plot\"}},\"id\":\"b4607dba-9b01-4609-834a-19ab0a875053\",\"type\":\"BoxZoomTool\"},{\"attributes\":{},\"id\":\"7b570245-ac97-4d36-83bc-c73675a9f586\",\"type\":\"YearsTicker\"},{\"attributes\":{\"plot\":{\"id\":\"f0fa4658-1c2d-4fdb-8287-83477315c49c\",\"subtype\":\"Figure\",\"type\":\"Plot\"}},\"id\":\"f63100b4-1f69-4d4c-93ca-1ccaf94132d5\",\"type\":\"HelpTool\"},{\"attributes\":{\"months\":[0,1,2,3,4,5,6,7,8,9,10,11]},\"id\":\"2553aeca-626a-4b01-9945-b1cf94d1d5a1\",\"type\":\"MonthsTicker\"},{\"attributes\":{\"fill_alpha\":{\"value\":0.1},\"fill_color\":{\"value\":\"#1f77b4\"},\"line_alpha\":{\"value\":0.1},\"line_color\":{\"value\":\"#1f77b4\"},\"x\":{\"field\":\"x\"},\"y\":{\"field\":\"y\"}},\"id\":\"8bfc5d66-a3e9-4a22-b930-282231e8873a\",\"type\":\"Circle\"},{\"attributes\":{\"bottom_units\":\"screen\",\"fill_alpha\":{\"value\":0.5},\"fill_color\":{\"value\":\"lightgrey\"},\"left_units\":\"screen\",\"level\":\"overlay\",\"line_alpha\":{\"value\":1.0},\"line_color\":{\"value\":\"black\"},\"line_dash\":[4,4],\"line_width\":{\"value\":2},\"plot\":null,\"render_mode\":\"css\",\"right_units\":\"screen\",\"top_units\":\"screen\"},\"id\":\"ec446ee3-df99-4326-ada7-8ce92354060e\",\"type\":\"BoxAnnotation\"},{\"attributes\":{\"line_color\":{\"value\":\"#1f77b4\"},\"x\":{\"field\":\"x\"},\"y\":{\"field\":\"y\"}},\"id\":\"b837c37e-d75c-4b46-977d-74558733ca05\",\"type\":\"Line\"},{\"attributes\":{\"active_drag\":\"auto\",\"active_scroll\":\"auto\",\"active_tap\":\"auto\",\"tools\":[{\"id\":\"2c47a651-3f68-4734-b9ae-72d4a0069011\",\"type\":\"PanTool\"},{\"id\":\"67ab6175-a1a0-46c6-b7ae-b65075cb5d80\",\"type\":\"WheelZoomTool\"},{\"id\":\"b4607dba-9b01-4609-834a-19ab0a875053\",\"type\":\"BoxZoomTool\"},{\"id\":\"1f97c5a5-598f-4e1c-937c-348fcdb86f09\",\"type\":\"SaveTool\"},{\"id\":\"f3bb3d59-ab90-4706-bad9-38bb5530bbd8\",\"type\":\"ResetTool\"},{\"id\":\"f63100b4-1f69-4d4c-93ca-1ccaf94132d5\",\"type\":\"HelpTool\"}]},\"id\":\"024d36c9-8f46-4be7-afb8-be6a3f47eb27\",\"type\":\"Toolbar\"},{\"attributes\":{\"months\":[0,4,8]},\"id\":\"5fcc9821-e086-44ef-b1ae-5ed623b60999\",\"type\":\"MonthsTicker\"},{\"attributes\":{\"callback\":null,\"column_names\":[\"x\",\"y\"],\"data\":{\"x\":[951868800000.0,951955200000.0,952041600000.0,952300800000.0,952387200000.0,952473600000.0,952560000000.0,952646400000.0,952905600000.0,952992000000.0,953078400000.0,953164800000.0,953251200000.0,953510400000.0,953596800000.0,953683200000.0,953769600000.0,953856000000.0,954115200000.0,954201600000.0,954288000000.0,954374400000.0,954460800000.0,954720000000.0,954806400000.0,954892800000.0,954979200000.0,955065600000.0,955324800000.0,955411200000.0,955497600000.0,955584000000.0,955670400000.0,955929600000.0,956016000000.0,956102400000.0,956188800000.0,956534400000.0,956620800000.0,956707200000.0,956793600000.0,956880000000.0,957139200000.0,957225600000.0,957312000000.0,957398400000.0,957484800000.0,957744000000.0,957830400000.0,957916800000.0,958003200000.0,958089600000.0,958348800000.0,958435200000.0,958521600000.0,958608000000.0,958694400000.0,958953600000.0,959040000000.0,959126400000.0,959212800000.0,959299200000.0,959644800000.0,959731200000.0,959817600000.0,959904000000.0,960163200000.0,960249600000.0,960336000000.0,960422400000.0,960508800000.0,960768000000.0,960854400000.0,960940800000.0,961027200000.0,961113600000.0,961372800000.0,961459200000.0,961545600000.0,961632000000.0,961718400000.0,961977600000.0,962064000000.0,962150400000.0,962236800000.0,962323200000.0,962582400000.0,962755200000.0,962841600000.0,962928000000.0,963187200000.0,963273600000.0,963360000000.0,963446400000.0,963532800000.0,963792000000.0,963878400000.0,963964800000.0,964051200000.0,964137600000.0,964396800000.0,964483200000.0,964569600000.0,964656000000.0,964742400000.0,965001600000.0,965088000000.0,965174400000.0,965260800000.0,965347200000.0,965606400000.0,965692800000.0,965779200000.0,965865600000.0,965952000000.0,966211200000.0,966297600000.0,966384000000.0,966470400000.0,966556800000.0,966816000000.0,966902400000.0,966988800000.0,967075200000.0,967161600000.0,967420800000.0,967507200000.0,967593600000.0,967680000000.0,967766400000.0,968112000000.0,968198400000.0,968284800000.0,968371200000.0,968630400000.0,968716800000.0,968803200000.0,968889600000.0,968976000000.0,969235200000.0,969321600000.0,969408000000.0,969494400000.0,969580800000.0,969840000000.0,969926400000.0,970012800000.0,970099200000.0,970185600000.0,970444800000.0,970531200000.0,970617600000.0,970704000000.0,970790400000.0,971049600000.0,971136000000.0,971222400000.0,971308800000.0,971395200000.0,971654400000.0,971740800000.0,971827200000.0,971913600000.0,972000000000.0,972259200000.0,972345600000.0,972432000000.0,972518400000.0,972604800000.0,972864000000.0,972950400000.0,973036800000.0,973123200000.0,973209600000.0,973468800000.0,973555200000.0,973641600000.0,973728000000.0,973814400000.0,974073600000.0,974160000000.0,974246400000.0,974332800000.0,974419200000.0,974678400000.0,974764800000.0,974851200000.0,975024000000.0,975283200000.0,975369600000.0,975456000000.0,975542400000.0,975628800000.0,975888000000.0,975974400000.0,976060800000.0,976147200000.0,976233600000.0,976492800000.0,976579200000.0,976665600000.0,976752000000.0,976838400000.0,977097600000.0,977184000000.0,977270400000.0,977356800000.0,977443200000.0,977788800000.0,977875200000.0,977961600000.0,978048000000.0,978393600000.0,978480000000.0,978566400000.0,978652800000.0,978912000000.0,978998400000.0,979084800000.0,979171200000.0,979257600000.0,979603200000.0,979689600000.0,979776000000.0,979862400000.0,980121600000.0,980208000000.0,980294400000.0,980380800000.0,980467200000.0,980726400000.0,980812800000.0,980899200000.0,980985600000.0,981072000000.0,981331200000.0,981417600000.0,981504000000.0,981590400000.0,981676800000.0,981936000000.0,982022400000.0,982108800000.0,982195200000.0,982281600000.0,982627200000.0,982713600000.0,982800000000.0,982886400000.0,983145600000.0,983232000000.0,983318400000.0,983404800000.0,983491200000.0,983750400000.0,983836800000.0,983923200000.0,984009600000.0,984096000000.0,984355200000.0,984441600000.0,984528000000.0,984614400000.0,984700800000.0,984960000000.0,985046400000.0,985132800000.0,985219200000.0,985305600000.0,985564800000.0,985651200000.0,985737600000.0,985824000000.0,985910400000.0,986169600000.0,986256000000.0,986342400000.0,986428800000.0,986515200000.0,986774400000.0,986860800000.0,986947200000.0,987033600000.0,987379200000.0,987465600000.0,987552000000.0,987638400000.0,987724800000.0,987984000000.0,988070400000.0,988156800000.0,988243200000.0,988329600000.0,988588800000.0,988675200000.0,988761600000.0,988848000000.0,988934400000.0,989193600000.0,989280000000.0,989366400000.0,989452800000.0,989539200000.0,989798400000.0,989884800000.0,989971200000.0,990057600000.0,990144000000.0,990403200000.0,990489600000.0,990576000000.0,990662400000.0,990748800000.0,991094400000.0,991180800000.0,991267200000.0,991353600000.0,991612800000.0,991699200000.0,991785600000.0,991872000000.0,991958400000.0,992217600000.0,992304000000.0,992390400000.0,992476800000.0,992563200000.0,992822400000.0,992908800000.0,992995200000.0,993081600000.0,993168000000.0,993427200000.0,993513600000.0,993600000000.0,993686400000.0,993772800000.0,994032000000.0,994118400000.0,994291200000.0,994377600000.0,994636800000.0,994723200000.0,994809600000.0,994896000000.0,994982400000.0,995241600000.0,995328000000.0,995414400000.0,995500800000.0,995587200000.0,995846400000.0,995932800000.0,996019200000.0,996105600000.0,996192000000.0,996451200000.0,996537600000.0,996624000000.0,996710400000.0,996796800000.0,997056000000.0,997142400000.0,997228800000.0,997315200000.0,997401600000.0,997660800000.0,997747200000.0,997833600000.0,997920000000.0,998006400000.0,998265600000.0,998352000000.0,998438400000.0,998524800000.0,998611200000.0,998870400000.0,998956800000.0,999043200000.0,999129600000.0,999216000000.0,999561600000.0,999648000000.0,999734400000.0,999820800000.0,1000080000000.0,1000684800000.0,1000771200000.0,1000857600000.0,1000944000000.0,1001030400000.0,1001289600000.0,1001376000000.0,1001462400000.0,1001548800000.0,1001635200000.0,1001894400000.0,1001980800000.0,1002067200000.0,1002153600000.0,1002240000000.0,1002499200000.0,1002585600000.0,1002672000000.0,1002758400000.0,1002844800000.0,1003104000000.0,1003190400000.0,1003276800000.0,1003363200000.0,1003449600000.0,1003708800000.0,1003795200000.0,1003881600000.0,1003968000000.0,1004054400000.0,1004313600000.0,1004400000000.0,1004486400000.0,1004572800000.0,1004659200000.0,1004918400000.0,1005004800000.0,1005091200000.0,1005177600000.0,1005264000000.0,1005523200000.0,1005609600000.0,1005696000000.0,1005782400000.0,1005868800000.0,1006128000000.0,1006214400000.0,1006300800000.0,1006473600000.0,1006732800000.0,1006819200000.0,1006905600000.0,1006992000000.0,1007078400000.0,1007337600000.0,1007424000000.0,1007510400000.0,1007596800000.0,1007683200000.0,1007942400000.0,1008028800000.0,1008115200000.0,1008201600000.0,1008288000000.0,1008547200000.0,1008633600000.0,1008720000000.0,1008806400000.0,1008892800000.0,1009152000000.0,1009324800000.0,1009411200000.0,1009497600000.0,1009756800000.0,1009929600000.0,1010016000000.0,1010102400000.0,1010361600000.0,1010448000000.0,1010534400000.0,1010620800000.0,1010707200000.0,1010966400000.0,1011052800000.0,1011139200000.0,1011225600000.0,1011312000000.0,1011657600000.0,1011744000000.0,1011830400000.0,1011916800000.0,1012176000000.0,1012262400000.0,1012348800000.0,1012435200000.0,1012521600000.0,1012780800000.0,1012867200000.0,1012953600000.0,1013040000000.0,1013126400000.0,1013385600000.0,1013472000000.0,1013558400000.0,1013644800000.0,1013731200000.0,1014076800000.0,1014163200000.0,1014249600000.0,1014336000000.0,1014595200000.0,1014681600000.0,1014768000000.0,1014854400000.0,1014940800000.0,1015200000000.0,1015286400000.0,1015372800000.0,1015459200000.0,1015545600000.0,1015804800000.0,1015891200000.0,1015977600000.0,1016064000000.0,1016150400000.0,1016409600000.0,1016496000000.0,1016582400000.0,1016668800000.0,1016755200000.0,1017014400000.0,1017100800000.0,1017187200000.0,1017273600000.0,1017619200000.0,1017705600000.0,1017792000000.0,1017878400000.0,1017964800000.0,1018224000000.0,1018310400000.0,1018396800000.0,1018483200000.0,1018569600000.0,1018828800000.0,1018915200000.0,1019001600000.0,1019088000000.0,1019174400000.0,1019433600000.0,1019520000000.0,1019606400000.0,1019692800000.0,1019779200000.0,1020038400000.0,1020124800000.0,1020211200000.0,1020297600000.0,1020384000000.0,1020643200000.0,1020729600000.0,1020816000000.0,1020902400000.0,1020988800000.0,1021248000000.0,1021334400000.0,1021420800000.0,1021507200000.0,1021593600000.0,1021852800000.0,1021939200000.0,1022025600000.0,1022112000000.0,1022198400000.0,1022544000000.0,1022630400000.0,1022716800000.0,1022803200000.0,1023062400000.0,1023148800000.0,1023235200000.0,1023321600000.0,1023408000000.0,1023667200000.0,1023753600000.0,1023840000000.0,1023926400000.0,1024012800000.0,1024272000000.0,1024358400000.0,1024444800000.0,1024531200000.0,1024617600000.0,1024876800000.0,1024963200000.0,1025049600000.0,1025136000000.0,1025222400000.0,1025481600000.0,1025568000000.0,1025654400000.0,1025827200000.0,1026086400000.0,1026172800000.0,1026259200000.0,1026345600000.0,1026432000000.0,1026691200000.0,1026777600000.0,1026864000000.0,1026950400000.0,1027036800000.0,1027296000000.0,1027382400000.0,1027468800000.0,1027555200000.0,1027641600000.0,1027900800000.0,1027987200000.0,1028073600000.0,1028160000000.0,1028246400000.0,1028505600000.0,1028592000000.0,1028678400000.0,1028764800000.0,1028851200000.0,1029110400000.0,1029196800000.0,1029283200000.0,1029369600000.0,1029456000000.0,1029715200000.0,1029801600000.0,1029888000000.0,1029974400000.0,1030060800000.0,1030320000000.0,1030406400000.0,1030492800000.0,1030579200000.0,1030665600000.0,1031011200000.0,1031097600000.0,1031184000000.0,1031270400000.0,1031529600000.0,1031616000000.0,1031702400000.0,1031788800000.0,1031875200000.0,1032134400000.0,1032220800000.0,1032307200000.0,1032393600000.0,1032480000000.0,1032739200000.0,1032825600000.0,1032912000000.0,1032998400000.0,1033084800000.0,1033344000000.0,1033430400000.0,1033516800000.0,1033603200000.0,1033689600000.0,1033948800000.0,1034035200000.0,1034121600000.0,1034208000000.0,1034294400000.0,1034553600000.0,1034640000000.0,1034726400000.0,1034812800000.0,1034899200000.0,1035158400000.0,1035244800000.0,1035331200000.0,1035417600000.0,1035504000000.0,1035763200000.0,1035849600000.0,1035936000000.0,1036022400000.0,1036108800000.0,1036368000000.0,1036454400000.0,1036540800000.0,1036627200000.0,1036713600000.0,1036972800000.0,1037059200000.0,1037145600000.0,1037232000000.0,1037318400000.0,1037577600000.0,1037664000000.0,1037750400000.0,1037836800000.0,1037923200000.0,1038182400000.0,1038268800000.0,1038355200000.0,1038528000000.0,1038787200000.0,1038873600000.0,1038960000000.0,1039046400000.0,1039132800000.0,1039392000000.0,1039478400000.0,1039564800000.0,1039651200000.0,1039737600000.0,1039996800000.0,1040083200000.0,1040169600000.0,1040256000000.0,1040342400000.0,1040601600000.0,1040688000000.0,1040860800000.0,1040947200000.0,1041206400000.0,1041292800000.0,1041465600000.0,1041552000000.0,1041811200000.0,1041897600000.0,1041984000000.0,1042070400000.0,1042156800000.0,1042416000000.0,1042502400000.0,1042588800000.0,1042675200000.0,1042761600000.0,1043107200000.0,1043193600000.0,1043280000000.0,1043366400000.0,1043625600000.0,1043712000000.0,1043798400000.0,1043884800000.0,1043971200000.0,1044230400000.0,1044316800000.0,1044403200000.0,1044489600000.0,1044576000000.0,1044835200000.0,1044921600000.0,1045008000000.0,1045094400000.0,1045180800000.0,1045526400000.0,1045612800000.0,1045699200000.0,1045785600000.0,1046044800000.0,1046131200000.0,1046217600000.0,1046304000000.0,1046390400000.0,1046649600000.0,1046736000000.0,1046822400000.0,1046908800000.0,1046995200000.0,1047254400000.0,1047340800000.0,1047427200000.0,1047513600000.0,1047600000000.0,1047859200000.0,1047945600000.0,1048032000000.0,1048118400000.0,1048204800000.0,1048464000000.0,1048550400000.0,1048636800000.0,1048723200000.0,1048809600000.0,1049068800000.0,1049155200000.0,1049241600000.0,1049328000000.0,1049414400000.0,1049673600000.0,1049760000000.0,1049846400000.0,1049932800000.0,1050019200000.0,1050278400000.0,1050364800000.0,1050451200000.0,1050537600000.0,1050883200000.0,1050969600000.0,1051056000000.0,1051142400000.0,1051228800000.0,1051488000000.0,1051574400000.0,1051660800000.0,1051747200000.0,1051833600000.0,1052092800000.0,1052179200000.0,1052265600000.0,1052352000000.0,1052438400000.0,1052697600000.0,1052784000000.0,1052870400000.0,1052956800000.0,1053043200000.0,1053302400000.0,1053388800000.0,1053475200000.0,1053561600000.0,1053648000000.0,1053993600000.0,1054080000000.0,1054166400000.0,1054252800000.0,1054512000000.0,1054598400000.0,1054684800000.0,1054771200000.0,1054857600000.0,1055116800000.0,1055203200000.0,1055289600000.0,1055376000000.0,1055462400000.0,1055721600000.0,1055808000000.0,1055894400000.0,1055980800000.0,1056067200000.0,1056326400000.0,1056412800000.0,1056499200000.0,1056585600000.0,1056672000000.0,1056931200000.0,1057017600000.0,1057104000000.0,1057190400000.0,1057536000000.0,1057622400000.0,1057708800000.0,1057795200000.0,1057881600000.0,1058140800000.0,1058227200000.0,1058313600000.0,1058400000000.0,1058486400000.0,1058745600000.0,1058832000000.0,1058918400000.0,1059004800000.0,1059091200000.0,1059350400000.0,1059436800000.0,1059523200000.0,1059609600000.0,1059696000000.0,1059955200000.0,1060041600000.0,1060128000000.0,1060214400000.0,1060300800000.0,1060560000000.0,1060646400000.0,1060732800000.0,1060819200000.0,1060905600000.0,1061164800000.0,1061251200000.0,1061337600000.0,1061424000000.0,1061510400000.0,1061769600000.0,1061856000000.0,1061942400000.0,1062028800000.0,1062115200000.0,1062460800000.0,1062547200000.0,1062633600000.0,1062720000000.0,1062979200000.0,1063065600000.0,1063152000000.0,1063238400000.0,1063324800000.0,1063584000000.0,1063670400000.0,1063756800000.0,1063843200000.0,1063929600000.0,1064188800000.0,1064275200000.0,1064361600000.0,1064448000000.0,1064534400000.0,1064793600000.0,1064880000000.0,1064966400000.0,1065052800000.0,1065139200000.0,1065398400000.0,1065484800000.0,1065571200000.0,1065657600000.0,1065744000000.0,1066003200000.0,1066089600000.0,1066176000000.0,1066262400000.0,1066348800000.0,1066608000000.0,1066694400000.0,1066780800000.0,1066867200000.0,1066953600000.0,1067212800000.0,1067299200000.0,1067385600000.0,1067472000000.0,1067558400000.0,1067817600000.0,1067904000000.0,1067990400000.0,1068076800000.0,1068163200000.0,1068422400000.0,1068508800000.0,1068595200000.0,1068681600000.0,1068768000000.0,1069027200000.0,1069113600000.0,1069200000000.0,1069286400000.0,1069372800000.0,1069632000000.0,1069718400000.0,1069804800000.0,1069977600000.0,1070236800000.0,1070323200000.0,1070409600000.0,1070496000000.0,1070582400000.0,1070841600000.0,1070928000000.0,1071014400000.0,1071100800000.0,1071187200000.0,1071446400000.0,1071532800000.0,1071619200000.0,1071705600000.0,1071792000000.0,1072051200000.0,1072137600000.0,1072224000000.0,1072396800000.0,1072656000000.0,1072742400000.0,1072828800000.0,1073001600000.0,1073260800000.0,1073347200000.0,1073433600000.0,1073520000000.0,1073606400000.0,1073865600000.0,1073952000000.0,1074038400000.0,1074124800000.0,1074211200000.0,1074556800000.0,1074643200000.0,1074729600000.0,1074816000000.0,1075075200000.0,1075161600000.0,1075248000000.0,1075334400000.0,1075420800000.0,1075680000000.0,1075766400000.0,1075852800000.0,1075939200000.0,1076025600000.0,1076284800000.0,1076371200000.0,1076457600000.0,1076544000000.0,1076630400000.0,1076976000000.0,1077062400000.0,1077148800000.0,1077235200000.0,1077494400000.0,1077580800000.0,1077667200000.0,1077753600000.0,1077840000000.0,1078099200000.0,1078185600000.0,1078272000000.0,1078358400000.0,1078444800000.0,1078704000000.0,1078790400000.0,1078876800000.0,1078963200000.0,1079049600000.0,1079308800000.0,1079395200000.0,1079481600000.0,1079568000000.0,1079654400000.0,1079913600000.0,1080000000000.0,1080086400000.0,1080172800000.0,1080259200000.0,1080518400000.0,1080604800000.0,1080691200000.0,1080777600000.0,1080864000000.0,1081123200000.0,1081209600000.0,1081296000000.0,1081382400000.0,1081728000000.0,1081814400000.0,1081900800000.0,1081987200000.0,1082073600000.0,1082332800000.0,1082419200000.0,1082505600000.0,1082592000000.0,1082678400000.0,1082937600000.0,1083024000000.0,1083110400000.0,1083196800000.0,1083283200000.0,1083542400000.0,1083628800000.0,1083715200000.0,1083801600000.0,1083888000000.0,1084147200000.0,1084233600000.0,1084320000000.0,1084406400000.0,1084492800000.0,1084752000000.0,1084838400000.0,1084924800000.0,1085011200000.0,1085097600000.0,1085356800000.0,1085443200000.0,1085529600000.0,1085616000000.0,1085702400000.0,1086048000000.0,1086134400000.0,1086220800000.0,1086307200000.0,1086566400000.0,1086652800000.0,1086739200000.0,1086825600000.0,1087171200000.0,1087257600000.0,1087344000000.0,1087430400000.0,1087516800000.0,1087776000000.0,1087862400000.0,1087948800000.0,1088035200000.0,1088121600000.0,1088380800000.0,1088467200000.0,1088553600000.0,1088640000000.0,1088726400000.0,1089072000000.0,1089158400000.0,1089244800000.0,1089331200000.0,1089590400000.0,1089676800000.0,1089763200000.0,1089849600000.0,1089936000000.0,1090195200000.0,1090281600000.0,1090368000000.0,1090454400000.0,1090540800000.0,1090800000000.0,1090886400000.0,1090972800000.0,1091059200000.0,1091145600000.0,1091404800000.0,1091491200000.0,1091577600000.0,1091664000000.0,1091750400000.0,1092009600000.0,1092096000000.0,1092182400000.0,1092268800000.0,1092355200000.0,1092614400000.0,1092700800000.0,1092787200000.0,1092873600000.0,1092960000000.0,1093219200000.0,1093305600000.0,1093392000000.0,1093478400000.0,1093564800000.0,1093824000000.0,1093910400000.0,1093996800000.0,1094083200000.0,1094169600000.0,1094515200000.0,1094601600000.0,1094688000000.0,1094774400000.0,1095033600000.0,1095120000000.0,1095206400000.0,1095292800000.0,1095379200000.0,1095638400000.0,1095724800000.0,1095811200000.0,1095897600000.0,1095984000000.0,1096243200000.0,1096329600000.0,1096416000000.0,1096502400000.0,1096588800000.0,1096848000000.0,1096934400000.0,1097020800000.0,1097107200000.0,1097193600000.0,1097452800000.0,1097539200000.0,1097625600000.0,1097712000000.0,1097798400000.0,1098057600000.0,1098144000000.0,1098230400000.0,1098316800000.0,1098403200000.0,1098662400000.0,1098748800000.0,1098835200000.0,1098921600000.0,1099008000000.0,1099267200000.0,1099353600000.0,1099440000000.0,1099526400000.0,1099612800000.0,1099872000000.0,1099958400000.0,1100044800000.0,1100131200000.0,1100217600000.0,1100476800000.0,1100563200000.0,1100649600000.0,1100736000000.0,1100822400000.0,1101081600000.0,1101168000000.0,1101254400000.0,1101427200000.0,1101686400000.0,1101772800000.0,1101859200000.0,1101945600000.0,1102032000000.0,1102291200000.0,1102377600000.0,1102464000000.0,1102550400000.0,1102636800000.0,1102896000000.0,1102982400000.0,1103068800000.0,1103155200000.0,1103241600000.0,1103500800000.0,1103587200000.0,1103673600000.0,1103760000000.0,1104105600000.0,1104192000000.0,1104278400000.0,1104364800000.0,1104451200000.0,1104710400000.0,1104796800000.0,1104883200000.0,1104969600000.0,1105056000000.0,1105315200000.0,1105401600000.0,1105488000000.0,1105574400000.0,1105660800000.0,1106006400000.0,1106092800000.0,1106179200000.0,1106265600000.0,1106524800000.0,1106611200000.0,1106697600000.0,1106784000000.0,1106870400000.0,1107129600000.0,1107216000000.0,1107302400000.0,1107388800000.0,1107475200000.0,1107734400000.0,1107820800000.0,1107907200000.0,1107993600000.0,1108080000000.0,1108339200000.0,1108425600000.0,1108512000000.0,1108598400000.0,1108684800000.0,1109030400000.0,1109116800000.0,1109203200000.0,1109289600000.0,1109548800000.0,1109635200000.0,1109721600000.0,1109808000000.0,1109894400000.0,1110153600000.0,1110240000000.0,1110326400000.0,1110412800000.0,1110499200000.0,1110758400000.0,1110844800000.0,1110931200000.0,1111017600000.0,1111104000000.0,1111363200000.0,1111449600000.0,1111536000000.0,1111622400000.0,1111968000000.0,1112054400000.0,1112140800000.0,1112227200000.0,1112313600000.0,1112572800000.0,1112659200000.0,1112745600000.0,1112832000000.0,1112918400000.0,1113177600000.0,1113264000000.0,1113350400000.0,1113436800000.0,1113523200000.0,1113782400000.0,1113868800000.0,1113955200000.0,1114041600000.0,1114128000000.0,1114387200000.0,1114473600000.0,1114560000000.0,1114646400000.0,1114732800000.0,1114992000000.0,1115078400000.0,1115164800000.0,1115251200000.0,1115337600000.0,1115596800000.0,1115683200000.0,1115769600000.0,1115856000000.0,1115942400000.0,1116201600000.0,1116288000000.0,1116374400000.0,1116460800000.0,1116547200000.0,1116806400000.0,1116892800000.0,1116979200000.0,1117065600000.0,1117152000000.0,1117497600000.0,1117584000000.0,1117670400000.0,1117756800000.0,1118016000000.0,1118102400000.0,1118188800000.0,1118275200000.0,1118361600000.0,1118620800000.0,1118707200000.0,1118793600000.0,1118880000000.0,1118966400000.0,1119225600000.0,1119312000000.0,1119398400000.0,1119484800000.0,1119571200000.0,1119830400000.0,1119916800000.0,1120003200000.0,1120089600000.0,1120176000000.0,1120521600000.0,1120608000000.0,1120694400000.0,1120780800000.0,1121040000000.0,1121126400000.0,1121212800000.0,1121299200000.0,1121385600000.0,1121644800000.0,1121731200000.0,1121817600000.0,1121904000000.0,1121990400000.0,1122249600000.0,1122336000000.0,1122422400000.0,1122508800000.0,1122595200000.0,1122854400000.0,1122940800000.0,1123027200000.0,1123113600000.0,1123200000000.0,1123459200000.0,1123545600000.0,1123632000000.0,1123718400000.0,1123804800000.0,1124064000000.0,1124150400000.0,1124236800000.0,1124323200000.0,1124409600000.0,1124668800000.0,1124755200000.0,1124841600000.0,1124928000000.0,1125014400000.0,1125273600000.0,1125360000000.0,1125446400000.0,1125532800000.0,1125619200000.0,1125964800000.0,1126051200000.0,1126137600000.0,1126224000000.0,1126483200000.0,1126569600000.0,1126656000000.0,1126742400000.0,1126828800000.0,1127088000000.0,1127174400000.0,1127260800000.0,1127347200000.0,1127433600000.0,1127692800000.0,1127779200000.0,1127865600000.0,1127952000000.0,1128038400000.0,1128297600000.0,1128384000000.0,1128470400000.0,1128556800000.0,1128643200000.0,1128902400000.0,1128988800000.0,1129075200000.0,1129161600000.0,1129248000000.0,1129507200000.0,1129593600000.0,1129680000000.0,1129766400000.0,1129852800000.0,1130112000000.0,1130198400000.0,1130284800000.0,1130371200000.0,1130457600000.0,1130716800000.0,1130803200000.0,1130889600000.0,1130976000000.0,1131062400000.0,1131321600000.0,1131408000000.0,1131494400000.0,1131580800000.0,1131667200000.0,1131926400000.0,1132012800000.0,1132099200000.0,1132185600000.0,1132272000000.0,1132531200000.0,1132617600000.0,1132704000000.0,1132876800000.0,1133136000000.0,1133222400000.0,1133308800000.0,1133395200000.0,1133481600000.0,1133740800000.0,1133827200000.0,1133913600000.0,1134000000000.0,1134086400000.0,1134345600000.0,1134432000000.0,1134518400000.0,1134604800000.0,1134691200000.0,1134950400000.0,1135036800000.0,1135123200000.0,1135209600000.0,1135296000000.0,1135641600000.0,1135728000000.0,1135814400000.0,1135900800000.0,1136246400000.0,1136332800000.0,1136419200000.0,1136505600000.0,1136764800000.0,1136851200000.0,1136937600000.0,1137024000000.0,1137110400000.0,1137456000000.0,1137542400000.0,1137628800000.0,1137715200000.0,1137974400000.0,1138060800000.0,1138147200000.0,1138233600000.0,1138320000000.0,1138579200000.0,1138665600000.0,1138752000000.0,1138838400000.0,1138924800000.0,1139184000000.0,1139270400000.0,1139356800000.0,1139443200000.0,1139529600000.0,1139788800000.0,1139875200000.0,1139961600000.0,1140048000000.0,1140134400000.0,1140480000000.0,1140566400000.0,1140652800000.0,1140739200000.0,1140998400000.0,1141084800000.0,1141171200000.0,1141257600000.0,1141344000000.0,1141603200000.0,1141689600000.0,1141776000000.0,1141862400000.0,1141948800000.0,1142208000000.0,1142294400000.0,1142380800000.0,1142467200000.0,1142553600000.0,1142812800000.0,1142899200000.0,1142985600000.0,1143072000000.0,1143158400000.0,1143417600000.0,1143504000000.0,1143590400000.0,1143676800000.0,1143763200000.0,1144022400000.0,1144108800000.0,1144195200000.0,1144281600000.0,1144368000000.0,1144627200000.0,1144713600000.0,1144800000000.0,1144886400000.0,1145232000000.0,1145318400000.0,1145404800000.0,1145491200000.0,1145577600000.0,1145836800000.0,1145923200000.0,1146009600000.0,1146096000000.0,1146182400000.0,1146441600000.0,1146528000000.0,1146614400000.0,1146700800000.0,1146787200000.0,1147046400000.0,1147132800000.0,1147219200000.0,1147305600000.0,1147392000000.0,1147651200000.0,1147737600000.0,1147824000000.0,1147910400000.0,1147996800000.0,1148256000000.0,1148342400000.0,1148428800000.0,1148515200000.0,1148601600000.0,1148947200000.0,1149033600000.0,1149120000000.0,1149206400000.0,1149465600000.0,1149552000000.0,1149638400000.0,1149724800000.0,1149811200000.0,1150070400000.0,1150156800000.0,1150243200000.0,1150329600000.0,1150416000000.0,1150675200000.0,1150761600000.0,1150848000000.0,1150934400000.0,1151020800000.0,1151280000000.0,1151366400000.0,1151452800000.0,1151539200000.0,1151625600000.0,1151884800000.0,1152057600000.0,1152144000000.0,1152230400000.0,1152489600000.0,1152576000000.0,1152662400000.0,1152748800000.0,1152835200000.0,1153094400000.0,1153180800000.0,1153267200000.0,1153353600000.0,1153440000000.0,1153699200000.0,1153785600000.0,1153872000000.0,1153958400000.0,1154044800000.0,1154304000000.0,1154390400000.0,1154476800000.0,1154563200000.0,1154649600000.0,1154908800000.0,1154995200000.0,1155081600000.0,1155168000000.0,1155254400000.0,1155513600000.0,1155600000000.0,1155686400000.0,1155772800000.0,1155859200000.0,1156118400000.0,1156204800000.0,1156291200000.0,1156377600000.0,1156464000000.0,1156723200000.0,1156809600000.0,1156896000000.0,1156982400000.0,1157068800000.0,1157414400000.0,1157500800000.0,1157587200000.0,1157673600000.0,1157932800000.0,1158019200000.0,1158105600000.0,1158192000000.0,1158278400000.0,1158537600000.0,1158624000000.0,1158710400000.0,1158796800000.0,1158883200000.0,1159142400000.0,1159228800000.0,1159315200000.0,1159401600000.0,1159488000000.0,1159747200000.0,1159833600000.0,1159920000000.0,1160006400000.0,1160092800000.0,1160352000000.0,1160438400000.0,1160524800000.0,1160611200000.0,1160697600000.0,1160956800000.0,1161043200000.0,1161129600000.0,1161216000000.0,1161302400000.0,1161561600000.0,1161648000000.0,1161734400000.0,1161820800000.0,1161907200000.0,1162166400000.0,1162252800000.0,1162339200000.0,1162425600000.0,1162512000000.0,1162771200000.0,1162857600000.0,1162944000000.0,1163030400000.0,1163116800000.0,1163376000000.0,1163462400000.0,1163548800000.0,1163635200000.0,1163721600000.0,1163980800000.0,1164067200000.0,1164153600000.0,1164326400000.0,1164585600000.0,1164672000000.0,1164758400000.0,1164844800000.0,1164931200000.0,1165190400000.0,1165276800000.0,1165363200000.0,1165449600000.0,1165536000000.0,1165795200000.0,1165881600000.0,1165968000000.0,1166054400000.0,1166140800000.0,1166400000000.0,1166486400000.0,1166572800000.0,1166659200000.0,1166745600000.0,1167091200000.0,1167177600000.0,1167264000000.0,1167350400000.0,1167782400000.0,1167868800000.0,1167955200000.0,1168214400000.0,1168300800000.0,1168387200000.0,1168473600000.0,1168560000000.0,1168905600000.0,1168992000000.0,1169078400000.0,1169164800000.0,1169424000000.0,1169510400000.0,1169596800000.0,1169683200000.0,1169769600000.0,1170028800000.0,1170115200000.0,1170201600000.0,1170288000000.0,1170374400000.0,1170633600000.0,1170720000000.0,1170806400000.0,1170892800000.0,1170979200000.0,1171238400000.0,1171324800000.0,1171411200000.0,1171497600000.0,1171584000000.0,1171929600000.0,1172016000000.0,1172102400000.0,1172188800000.0,1172448000000.0,1172534400000.0,1172620800000.0,1172707200000.0,1172793600000.0,1173052800000.0,1173139200000.0,1173225600000.0,1173312000000.0,1173398400000.0,1173657600000.0,1173744000000.0,1173830400000.0,1173916800000.0,1174003200000.0,1174262400000.0,1174348800000.0,1174435200000.0,1174521600000.0,1174608000000.0,1174867200000.0,1174953600000.0,1175040000000.0,1175126400000.0,1175212800000.0,1175472000000.0,1175558400000.0,1175644800000.0,1175731200000.0,1176076800000.0,1176163200000.0,1176249600000.0,1176336000000.0,1176422400000.0,1176681600000.0,1176768000000.0,1176854400000.0,1176940800000.0,1177027200000.0,1177286400000.0,1177372800000.0,1177459200000.0,1177545600000.0,1177632000000.0,1177891200000.0,1177977600000.0,1178064000000.0,1178150400000.0,1178236800000.0,1178496000000.0,1178582400000.0,1178668800000.0,1178755200000.0,1178841600000.0,1179100800000.0,1179187200000.0,1179273600000.0,1179360000000.0,1179446400000.0,1179705600000.0,1179792000000.0,1179878400000.0,1179964800000.0,1180051200000.0,1180396800000.0,1180483200000.0,1180569600000.0,1180656000000.0,1180915200000.0,1181001600000.0,1181088000000.0,1181174400000.0,1181260800000.0,1181520000000.0,1181606400000.0,1181692800000.0,1181779200000.0,1181865600000.0,1182124800000.0,1182211200000.0,1182297600000.0,1182384000000.0,1182470400000.0,1182729600000.0,1182816000000.0,1182902400000.0,1182988800000.0,1183075200000.0,1183334400000.0,1183420800000.0,1183593600000.0,1183680000000.0,1183939200000.0,1184025600000.0,1184112000000.0,1184198400000.0,1184284800000.0,1184544000000.0,1184630400000.0,1184716800000.0,1184803200000.0,1184889600000.0,1185148800000.0,1185235200000.0,1185321600000.0,1185408000000.0,1185494400000.0,1185753600000.0,1185840000000.0,1185926400000.0,1186012800000.0,1186099200000.0,1186358400000.0,1186444800000.0,1186531200000.0,1186617600000.0,1186704000000.0,1186963200000.0,1187049600000.0,1187136000000.0,1187222400000.0,1187308800000.0,1187568000000.0,1187654400000.0,1187740800000.0,1187827200000.0,1187913600000.0,1188172800000.0,1188259200000.0,1188345600000.0,1188432000000.0,1188518400000.0,1188864000000.0,1188950400000.0,1189036800000.0,1189123200000.0,1189382400000.0,1189468800000.0,1189555200000.0,1189641600000.0,1189728000000.0,1189987200000.0,1190073600000.0,1190160000000.0,1190246400000.0,1190332800000.0,1190592000000.0,1190678400000.0,1190764800000.0,1190851200000.0,1190937600000.0,1191196800000.0,1191283200000.0,1191369600000.0,1191456000000.0,1191542400000.0,1191801600000.0,1191888000000.0,1191974400000.0,1192060800000.0,1192147200000.0,1192406400000.0,1192492800000.0,1192579200000.0,1192665600000.0,1192752000000.0,1193011200000.0,1193097600000.0,1193184000000.0,1193270400000.0,1193356800000.0,1193616000000.0,1193702400000.0,1193788800000.0,1193875200000.0,1193961600000.0,1194220800000.0,1194307200000.0,1194393600000.0,1194480000000.0,1194566400000.0,1194825600000.0,1194912000000.0,1194998400000.0,1195084800000.0,1195171200000.0,1195430400000.0,1195516800000.0,1195603200000.0,1195776000000.0,1196035200000.0,1196121600000.0,1196208000000.0,1196294400000.0,1196380800000.0,1196640000000.0,1196726400000.0,1196812800000.0,1196899200000.0,1196985600000.0,1197244800000.0,1197331200000.0,1197417600000.0,1197504000000.0,1197590400000.0,1197849600000.0,1197936000000.0,1198022400000.0,1198108800000.0,1198195200000.0,1198454400000.0,1198627200000.0,1198713600000.0,1198800000000.0,1199059200000.0,1199232000000.0,1199318400000.0,1199404800000.0,1199664000000.0,1199750400000.0,1199836800000.0,1199923200000.0,1200009600000.0,1200268800000.0,1200355200000.0,1200441600000.0,1200528000000.0,1200614400000.0,1200960000000.0,1201046400000.0,1201132800000.0,1201219200000.0,1201478400000.0,1201564800000.0,1201651200000.0,1201737600000.0,1201824000000.0,1202083200000.0,1202169600000.0,1202256000000.0,1202342400000.0,1202428800000.0,1202688000000.0,1202774400000.0,1202860800000.0,1202947200000.0,1203033600000.0,1203379200000.0,1203465600000.0,1203552000000.0,1203638400000.0,1203897600000.0,1203984000000.0,1204070400000.0,1204156800000.0,1204243200000.0,1204502400000.0,1204588800000.0,1204675200000.0,1204761600000.0,1204848000000.0,1205107200000.0,1205193600000.0,1205280000000.0,1205366400000.0,1205452800000.0,1205712000000.0,1205798400000.0,1205884800000.0,1205971200000.0,1206316800000.0,1206403200000.0,1206489600000.0,1206576000000.0,1206662400000.0,1206921600000.0,1207008000000.0,1207094400000.0,1207180800000.0,1207267200000.0,1207526400000.0,1207612800000.0,1207699200000.0,1207785600000.0,1207872000000.0,1208131200000.0,1208217600000.0,1208304000000.0,1208390400000.0,1208476800000.0,1208736000000.0,1208822400000.0,1208908800000.0,1208995200000.0,1209081600000.0,1209340800000.0,1209427200000.0,1209513600000.0,1209600000000.0,1209686400000.0,1209945600000.0,1210032000000.0,1210118400000.0,1210204800000.0,1210291200000.0,1210550400000.0,1210636800000.0,1210723200000.0,1210809600000.0,1210896000000.0,1211155200000.0,1211241600000.0,1211328000000.0,1211414400000.0,1211500800000.0,1211846400000.0,1211932800000.0,1212019200000.0,1212105600000.0,1212364800000.0,1212451200000.0,1212537600000.0,1212624000000.0,1212710400000.0,1212969600000.0,1213056000000.0,1213142400000.0,1213228800000.0,1213315200000.0,1213574400000.0,1213660800000.0,1213747200000.0,1213833600000.0,1213920000000.0,1214179200000.0,1214265600000.0,1214352000000.0,1214438400000.0,1214524800000.0,1214784000000.0,1214870400000.0,1214956800000.0,1215043200000.0,1215388800000.0,1215475200000.0,1215561600000.0,1215648000000.0,1215734400000.0,1215993600000.0,1216080000000.0,1216166400000.0,1216252800000.0,1216339200000.0,1216598400000.0,1216684800000.0,1216771200000.0,1216857600000.0,1216944000000.0,1217203200000.0,1217289600000.0,1217376000000.0,1217462400000.0,1217548800000.0,1217808000000.0,1217894400000.0,1217980800000.0,1218067200000.0,1218153600000.0,1218412800000.0,1218499200000.0,1218585600000.0,1218672000000.0,1218758400000.0,1219017600000.0,1219104000000.0,1219190400000.0,1219276800000.0,1219363200000.0,1219622400000.0,1219708800000.0,1219795200000.0,1219881600000.0,1219968000000.0,1220313600000.0,1220400000000.0,1220486400000.0,1220572800000.0,1220832000000.0,1220918400000.0,1221004800000.0,1221091200000.0,1221177600000.0,1221436800000.0,1221523200000.0,1221609600000.0,1221696000000.0,1221782400000.0,1222041600000.0,1222128000000.0,1222214400000.0,1222300800000.0,1222387200000.0,1222646400000.0,1222732800000.0,1222819200000.0,1222905600000.0,1222992000000.0,1223251200000.0,1223337600000.0,1223424000000.0,1223510400000.0,1223596800000.0,1223856000000.0,1223942400000.0,1224028800000.0,1224115200000.0,1224201600000.0,1224460800000.0,1224547200000.0,1224633600000.0,1224720000000.0,1224806400000.0,1225065600000.0,1225152000000.0,1225238400000.0,1225324800000.0,1225411200000.0,1225670400000.0,1225756800000.0,1225843200000.0,1225929600000.0,1226016000000.0,1226275200000.0,1226361600000.0,1226448000000.0,1226534400000.0,1226620800000.0,1226880000000.0,1226966400000.0,1227052800000.0,1227139200000.0,1227225600000.0,1227484800000.0,1227571200000.0,1227657600000.0,1227830400000.0,1228089600000.0,1228176000000.0,1228262400000.0,1228348800000.0,1228435200000.0,1228694400000.0,1228780800000.0,1228867200000.0,1228953600000.0,1229040000000.0,1229299200000.0,1229385600000.0,1229472000000.0,1229558400000.0,1229644800000.0,1229904000000.0,1229990400000.0,1230076800000.0,1230249600000.0,1230508800000.0,1230595200000.0,1230681600000.0,1230854400000.0,1231113600000.0,1231200000000.0,1231286400000.0,1231372800000.0,1231459200000.0,1231718400000.0,1231804800000.0,1231891200000.0,1231977600000.0,1232064000000.0,1232409600000.0,1232496000000.0,1232582400000.0,1232668800000.0,1232928000000.0,1233014400000.0,1233100800000.0,1233187200000.0,1233273600000.0,1233532800000.0,1233619200000.0,1233705600000.0,1233792000000.0,1233878400000.0,1234137600000.0,1234224000000.0,1234310400000.0,1234396800000.0,1234483200000.0,1234828800000.0,1234915200000.0,1235001600000.0,1235088000000.0,1235347200000.0,1235433600000.0,1235520000000.0,1235606400000.0,1235692800000.0,1235952000000.0,1236038400000.0,1236124800000.0,1236211200000.0,1236297600000.0,1236556800000.0,1236643200000.0,1236729600000.0,1236816000000.0,1236902400000.0,1237161600000.0,1237248000000.0,1237334400000.0,1237420800000.0,1237507200000.0,1237766400000.0,1237852800000.0,1237939200000.0,1238025600000.0,1238112000000.0,1238371200000.0,1238457600000.0,1238544000000.0,1238630400000.0,1238716800000.0,1238976000000.0,1239062400000.0,1239148800000.0,1239235200000.0,1239580800000.0,1239667200000.0,1239753600000.0,1239840000000.0,1239926400000.0,1240185600000.0,1240272000000.0,1240358400000.0,1240444800000.0,1240531200000.0,1240790400000.0,1240876800000.0,1240963200000.0,1241049600000.0,1241136000000.0,1241395200000.0,1241481600000.0,1241568000000.0,1241654400000.0,1241740800000.0,1242000000000.0,1242086400000.0,1242172800000.0,1242259200000.0,1242345600000.0,1242604800000.0,1242691200000.0,1242777600000.0,1242864000000.0,1242950400000.0,1243296000000.0,1243382400000.0,1243468800000.0,1243555200000.0,1243814400000.0,1243900800000.0,1243987200000.0,1244073600000.0,1244160000000.0,1244419200000.0,1244505600000.0,1244592000000.0,1244678400000.0,1244764800000.0,1245024000000.0,1245110400000.0,1245196800000.0,1245283200000.0,1245369600000.0,1245628800000.0,1245715200000.0,1245801600000.0,1245888000000.0,1245974400000.0,1246233600000.0,1246320000000.0,1246406400000.0,1246492800000.0,1246838400000.0,1246924800000.0,1247011200000.0,1247097600000.0,1247184000000.0,1247443200000.0,1247529600000.0,1247616000000.0,1247702400000.0,1247788800000.0,1248048000000.0,1248134400000.0,1248220800000.0,1248307200000.0,1248393600000.0,1248652800000.0,1248739200000.0,1248825600000.0,1248912000000.0,1248998400000.0,1249257600000.0,1249344000000.0,1249430400000.0,1249516800000.0,1249603200000.0,1249862400000.0,1249948800000.0,1250035200000.0,1250121600000.0,1250208000000.0,1250467200000.0,1250553600000.0,1250640000000.0,1250726400000.0,1250812800000.0,1251072000000.0,1251158400000.0,1251244800000.0,1251331200000.0,1251417600000.0,1251676800000.0,1251763200000.0,1251849600000.0,1251936000000.0,1252022400000.0,1252368000000.0,1252454400000.0,1252540800000.0,1252627200000.0,1252886400000.0,1252972800000.0,1253059200000.0,1253145600000.0,1253232000000.0,1253491200000.0,1253577600000.0,1253664000000.0,1253750400000.0,1253836800000.0,1254096000000.0,1254182400000.0,1254268800000.0,1254355200000.0,1254441600000.0,1254700800000.0,1254787200000.0,1254873600000.0,1254960000000.0,1255046400000.0,1255305600000.0,1255392000000.0,1255478400000.0,1255564800000.0,1255651200000.0,1255910400000.0,1255996800000.0,1256083200000.0,1256169600000.0,1256256000000.0,1256515200000.0,1256601600000.0,1256688000000.0,1256774400000.0,1256860800000.0,1257120000000.0,1257206400000.0,1257292800000.0,1257379200000.0,1257465600000.0,1257724800000.0,1257811200000.0,1257897600000.0,1257984000000.0,1258070400000.0,1258329600000.0,1258416000000.0,1258502400000.0,1258588800000.0,1258675200000.0,1258934400000.0,1259020800000.0,1259107200000.0,1259280000000.0,1259539200000.0,1259625600000.0,1259712000000.0,1259798400000.0,1259884800000.0,1260144000000.0,1260230400000.0,1260316800000.0,1260403200000.0,1260489600000.0,1260748800000.0,1260835200000.0,1260921600000.0,1261008000000.0,1261094400000.0,1261353600000.0,1261440000000.0,1261526400000.0,1261612800000.0,1261958400000.0,1262044800000.0,1262131200000.0,1262217600000.0,1262563200000.0,1262649600000.0,1262736000000.0,1262822400000.0,1262908800000.0,1263168000000.0,1263254400000.0,1263340800000.0,1263427200000.0,1263513600000.0,1263859200000.0,1263945600000.0,1264032000000.0,1264118400000.0,1264377600000.0,1264464000000.0,1264550400000.0,1264636800000.0,1264723200000.0,1264982400000.0,1265068800000.0,1265155200000.0,1265241600000.0,1265328000000.0,1265587200000.0,1265673600000.0,1265760000000.0,1265846400000.0,1265932800000.0,1266278400000.0,1266364800000.0,1266451200000.0,1266537600000.0,1266796800000.0,1266883200000.0,1266969600000.0,1267056000000.0,1267142400000.0,1267401600000.0,1267488000000.0,1267574400000.0,1267660800000.0,1267747200000.0,1268006400000.0,1268092800000.0,1268179200000.0,1268265600000.0,1268352000000.0,1268611200000.0,1268697600000.0,1268784000000.0,1268870400000.0,1268956800000.0,1269216000000.0,1269302400000.0,1269388800000.0,1269475200000.0,1269561600000.0,1269820800000.0,1269907200000.0,1269993600000.0,1270080000000.0,1270425600000.0,1270512000000.0,1270598400000.0,1270684800000.0,1270771200000.0,1271030400000.0,1271116800000.0,1271203200000.0,1271289600000.0,1271376000000.0,1271635200000.0,1271721600000.0,1271808000000.0,1271894400000.0,1271980800000.0,1272240000000.0,1272326400000.0,1272412800000.0,1272499200000.0,1272585600000.0,1272844800000.0,1272931200000.0,1273017600000.0,1273104000000.0,1273190400000.0,1273449600000.0,1273536000000.0,1273622400000.0,1273708800000.0,1273795200000.0,1274054400000.0,1274140800000.0,1274227200000.0,1274313600000.0,1274400000000.0,1274659200000.0,1274745600000.0,1274832000000.0,1274918400000.0,1275004800000.0,1275350400000.0,1275436800000.0,1275523200000.0,1275609600000.0,1275868800000.0,1275955200000.0,1276041600000.0,1276128000000.0,1276214400000.0,1276473600000.0,1276560000000.0,1276646400000.0,1276732800000.0,1276819200000.0,1277078400000.0,1277164800000.0,1277251200000.0,1277337600000.0,1277424000000.0,1277683200000.0,1277769600000.0,1277856000000.0,1277942400000.0,1278028800000.0,1278374400000.0,1278460800000.0,1278547200000.0,1278633600000.0,1278892800000.0,1278979200000.0,1279065600000.0,1279152000000.0,1279238400000.0,1279497600000.0,1279584000000.0,1279670400000.0,1279756800000.0,1279843200000.0,1280102400000.0,1280188800000.0,1280275200000.0,1280361600000.0,1280448000000.0,1280707200000.0,1280793600000.0,1280880000000.0,1280966400000.0,1281052800000.0,1281312000000.0,1281398400000.0,1281484800000.0,1281571200000.0,1281657600000.0,1281916800000.0,1282003200000.0,1282089600000.0,1282176000000.0,1282262400000.0,1282521600000.0,1282608000000.0,1282694400000.0,1282780800000.0,1282867200000.0,1283126400000.0,1283212800000.0,1283299200000.0,1283385600000.0,1283472000000.0,1283817600000.0,1283904000000.0,1283990400000.0,1284076800000.0,1284336000000.0,1284422400000.0,1284508800000.0,1284595200000.0,1284681600000.0,1284940800000.0,1285027200000.0,1285113600000.0,1285200000000.0,1285286400000.0,1285545600000.0,1285632000000.0,1285718400000.0,1285804800000.0,1285891200000.0,1286150400000.0,1286236800000.0,1286323200000.0,1286409600000.0,1286496000000.0,1286755200000.0,1286841600000.0,1286928000000.0,1287014400000.0,1287100800000.0,1287360000000.0,1287446400000.0,1287532800000.0,1287619200000.0,1287705600000.0,1287964800000.0,1288051200000.0,1288137600000.0,1288224000000.0,1288310400000.0,1288569600000.0,1288656000000.0,1288742400000.0,1288828800000.0,1288915200000.0,1289174400000.0,1289260800000.0,1289347200000.0,1289433600000.0,1289520000000.0,1289779200000.0,1289865600000.0,1289952000000.0,1290038400000.0,1290124800000.0,1290384000000.0,1290470400000.0,1290556800000.0,1290729600000.0,1290988800000.0,1291075200000.0,1291161600000.0,1291248000000.0,1291334400000.0,1291593600000.0,1291680000000.0,1291766400000.0,1291852800000.0,1291939200000.0,1292198400000.0,1292284800000.0,1292371200000.0,1292457600000.0,1292544000000.0,1292803200000.0,1292889600000.0,1292976000000.0,1293062400000.0,1293408000000.0,1293494400000.0,1293580800000.0,1293667200000.0,1293753600000.0,1294012800000.0,1294099200000.0,1294185600000.0,1294272000000.0,1294358400000.0,1294617600000.0,1294704000000.0,1294790400000.0,1294876800000.0,1294963200000.0,1295308800000.0,1295395200000.0,1295481600000.0,1295568000000.0,1295827200000.0,1295913600000.0,1296000000000.0,1296086400000.0,1296172800000.0,1296432000000.0,1296518400000.0,1296604800000.0,1296691200000.0,1296777600000.0,1297036800000.0,1297123200000.0,1297209600000.0,1297296000000.0,1297382400000.0,1297641600000.0,1297728000000.0,1297814400000.0,1297900800000.0,1297987200000.0,1298332800000.0,1298419200000.0,1298505600000.0,1298592000000.0,1298851200000.0,1298937600000.0,1299024000000.0,1299110400000.0,1299196800000.0,1299456000000.0,1299542400000.0,1299628800000.0,1299715200000.0,1299801600000.0,1300060800000.0,1300147200000.0,1300233600000.0,1300320000000.0,1300406400000.0,1300665600000.0,1300752000000.0,1300838400000.0,1300924800000.0,1301011200000.0,1301270400000.0,1301356800000.0,1301443200000.0,1301529600000.0,1301616000000.0,1301875200000.0,1301961600000.0,1302048000000.0,1302134400000.0,1302220800000.0,1302480000000.0,1302566400000.0,1302652800000.0,1302739200000.0,1302825600000.0,1303084800000.0,1303171200000.0,1303257600000.0,1303344000000.0,1303689600000.0,1303776000000.0,1303862400000.0,1303948800000.0,1304035200000.0,1304294400000.0,1304380800000.0,1304467200000.0,1304553600000.0,1304640000000.0,1304899200000.0,1304985600000.0,1305072000000.0,1305158400000.0,1305244800000.0,1305504000000.0,1305590400000.0,1305676800000.0,1305763200000.0,1305849600000.0,1306108800000.0,1306195200000.0,1306281600000.0,1306368000000.0,1306454400000.0,1306800000000.0,1306886400000.0,1306972800000.0,1307059200000.0,1307318400000.0,1307404800000.0,1307491200000.0,1307577600000.0,1307664000000.0,1307923200000.0,1308009600000.0,1308096000000.0,1308182400000.0,1308268800000.0,1308528000000.0,1308614400000.0,1308700800000.0,1308787200000.0,1308873600000.0,1309132800000.0,1309219200000.0,1309305600000.0,1309392000000.0,1309478400000.0,1309824000000.0,1309910400000.0,1309996800000.0,1310083200000.0,1310342400000.0,1310428800000.0,1310515200000.0,1310601600000.0,1310688000000.0,1310947200000.0,1311033600000.0,1311120000000.0,1311206400000.0,1311292800000.0,1311552000000.0,1311638400000.0,1311724800000.0,1311811200000.0,1311897600000.0,1312156800000.0,1312243200000.0,1312329600000.0,1312416000000.0,1312502400000.0,1312761600000.0,1312848000000.0,1312934400000.0,1313020800000.0,1313107200000.0,1313366400000.0,1313452800000.0,1313539200000.0,1313625600000.0,1313712000000.0,1313971200000.0,1314057600000.0,1314144000000.0,1314230400000.0,1314316800000.0,1314576000000.0,1314662400000.0,1314748800000.0,1314835200000.0,1314921600000.0,1315267200000.0,1315353600000.0,1315440000000.0,1315526400000.0,1315785600000.0,1315872000000.0,1315958400000.0,1316044800000.0,1316131200000.0,1316390400000.0,1316476800000.0,1316563200000.0,1316649600000.0,1316736000000.0,1316995200000.0,1317081600000.0,1317168000000.0,1317254400000.0,1317340800000.0,1317600000000.0,1317686400000.0,1317772800000.0,1317859200000.0,1317945600000.0,1318204800000.0,1318291200000.0,1318377600000.0,1318464000000.0,1318550400000.0,1318809600000.0,1318896000000.0,1318982400000.0,1319068800000.0,1319155200000.0,1319414400000.0,1319500800000.0,1319587200000.0,1319673600000.0,1319760000000.0,1320019200000.0,1320105600000.0,1320192000000.0,1320278400000.0,1320364800000.0,1320624000000.0,1320710400000.0,1320796800000.0,1320883200000.0,1320969600000.0,1321228800000.0,1321315200000.0,1321401600000.0,1321488000000.0,1321574400000.0,1321833600000.0,1321920000000.0,1322006400000.0,1322179200000.0,1322438400000.0,1322524800000.0,1322611200000.0,1322697600000.0,1322784000000.0,1323043200000.0,1323129600000.0,1323216000000.0,1323302400000.0,1323388800000.0,1323648000000.0,1323734400000.0,1323820800000.0,1323907200000.0,1323993600000.0,1324252800000.0,1324339200000.0,1324425600000.0,1324512000000.0,1324598400000.0,1324944000000.0,1325030400000.0,1325116800000.0,1325203200000.0,1325548800000.0,1325635200000.0,1325721600000.0,1325808000000.0,1326067200000.0,1326153600000.0,1326240000000.0,1326326400000.0,1326412800000.0,1326758400000.0,1326844800000.0,1326931200000.0,1327017600000.0,1327276800000.0,1327363200000.0,1327449600000.0,1327536000000.0,1327622400000.0,1327881600000.0,1327968000000.0,1328054400000.0,1328140800000.0,1328227200000.0,1328486400000.0,1328572800000.0,1328659200000.0,1328745600000.0,1328832000000.0,1329091200000.0,1329177600000.0,1329264000000.0,1329350400000.0,1329436800000.0,1329782400000.0,1329868800000.0,1329955200000.0,1330041600000.0,1330300800000.0,1330387200000.0,1330473600000.0,1330560000000.0,1330646400000.0,1330905600000.0,1330992000000.0,1331078400000.0,1331164800000.0,1331251200000.0,1331510400000.0,1331596800000.0,1331683200000.0,1331769600000.0,1331856000000.0,1332115200000.0,1332201600000.0,1332288000000.0,1332374400000.0,1332460800000.0,1332720000000.0,1332806400000.0,1332892800000.0,1332979200000.0,1333065600000.0,1333324800000.0,1333411200000.0,1333497600000.0,1333584000000.0,1333929600000.0,1334016000000.0,1334102400000.0,1334188800000.0,1334275200000.0,1334534400000.0,1334620800000.0,1334707200000.0,1334793600000.0,1334880000000.0,1335139200000.0,1335225600000.0,1335312000000.0,1335398400000.0,1335484800000.0,1335744000000.0,1335830400000.0,1335916800000.0,1336003200000.0,1336089600000.0,1336348800000.0,1336435200000.0,1336521600000.0,1336608000000.0,1336694400000.0,1336953600000.0,1337040000000.0,1337126400000.0,1337212800000.0,1337299200000.0,1337558400000.0,1337644800000.0,1337731200000.0,1337817600000.0,1337904000000.0,1338249600000.0,1338336000000.0,1338422400000.0,1338508800000.0,1338768000000.0,1338854400000.0,1338940800000.0,1339027200000.0,1339113600000.0,1339372800000.0,1339459200000.0,1339545600000.0,1339632000000.0,1339718400000.0,1339977600000.0,1340064000000.0,1340150400000.0,1340236800000.0,1340323200000.0,1340582400000.0,1340668800000.0,1340755200000.0,1340841600000.0,1340928000000.0,1341187200000.0,1341273600000.0,1341446400000.0,1341532800000.0,1341792000000.0,1341878400000.0,1341964800000.0,1342051200000.0,1342137600000.0,1342396800000.0,1342483200000.0,1342569600000.0,1342656000000.0,1342742400000.0,1343001600000.0,1343088000000.0,1343174400000.0,1343260800000.0,1343347200000.0,1343606400000.0,1343692800000.0,1343779200000.0,1343865600000.0,1343952000000.0,1344211200000.0,1344297600000.0,1344384000000.0,1344470400000.0,1344556800000.0,1344816000000.0,1344902400000.0,1344988800000.0,1345075200000.0,1345161600000.0,1345420800000.0,1345507200000.0,1345593600000.0,1345680000000.0,1345766400000.0,1346025600000.0,1346112000000.0,1346198400000.0,1346284800000.0,1346371200000.0,1346716800000.0,1346803200000.0,1346889600000.0,1346976000000.0,1347235200000.0,1347321600000.0,1347408000000.0,1347494400000.0,1347580800000.0,1347840000000.0,1347926400000.0,1348012800000.0,1348099200000.0,1348185600000.0,1348444800000.0,1348531200000.0,1348617600000.0,1348704000000.0,1348790400000.0,1349049600000.0,1349136000000.0,1349222400000.0,1349308800000.0,1349395200000.0,1349654400000.0,1349740800000.0,1349827200000.0,1349913600000.0,1350000000000.0,1350259200000.0,1350345600000.0,1350432000000.0,1350518400000.0,1350604800000.0,1350864000000.0,1350950400000.0,1351036800000.0,1351123200000.0,1351209600000.0,1351641600000.0,1351728000000.0,1351814400000.0,1352073600000.0,1352160000000.0,1352246400000.0,1352332800000.0,1352419200000.0,1352678400000.0,1352764800000.0,1352851200000.0,1352937600000.0,1353024000000.0,1353283200000.0,1353369600000.0,1353456000000.0,1353628800000.0,1353888000000.0,1353974400000.0,1354060800000.0,1354147200000.0,1354233600000.0,1354492800000.0,1354579200000.0,1354665600000.0,1354752000000.0,1354838400000.0,1355097600000.0,1355184000000.0,1355270400000.0,1355356800000.0,1355443200000.0,1355702400000.0,1355788800000.0,1355875200000.0,1355961600000.0,1356048000000.0,1356307200000.0,1356480000000.0,1356566400000.0,1356652800000.0,1356912000000.0,1357084800000.0,1357171200000.0,1357257600000.0,1357516800000.0,1357603200000.0,1357689600000.0,1357776000000.0,1357862400000.0,1358121600000.0,1358208000000.0,1358294400000.0,1358380800000.0,1358467200000.0,1358812800000.0,1358899200000.0,1358985600000.0,1359072000000.0,1359331200000.0,1359417600000.0,1359504000000.0,1359590400000.0,1359676800000.0,1359936000000.0,1360022400000.0,1360108800000.0,1360195200000.0,1360281600000.0,1360540800000.0,1360627200000.0,1360713600000.0,1360800000000.0,1360886400000.0,1361232000000.0,1361318400000.0,1361404800000.0,1361491200000.0,1361750400000.0,1361836800000.0,1361923200000.0,1362009600000.0,1362096000000.0],\"y\":[31.68,29.66,31.12,30.56,29.87,29.66,29.72,30.57,29.5,27.78,28.26,29.56,30.39,29.91,32.81,35.06,34.36,33.72,33.93,33.83,33.05,30.57,33.02,32.41,30.95,31.7,30.44,32.03,30.39,29.04,26.56,27.67,27.2,30.12,30.85,29.45,28.9,29.3,31.2,29.5,30.82,30.16,30.22,28.66,27.98,26.91,27.5,26.77,25.64,24.15,25.0,26.17,24.56,25.7,24.65,24.5,22.85,21.87,20.86,21.32,21.22,21.0,21.29,20.42,21.67,22.5,22.2,22.58,23.48,23.05,23.28,22.17,22.98,21.99,22.46,22.17,23.49,24.62,27.05,26.14,25.14,26.32,25.16,26.47,24.92,25.47,25.92,25.11,25.19,26.47,27.78,27.69,28.63,27.47,28.05,28.35,27.84,25.62,26.81,26.04,23.68,24.34,24.34,25.29,23.49,24.71,23.98,22.98,23.34,23.04,23.31,22.73,23.1,23.13,23.19,22.88,22.7,23.58,25.01,24.31,24.56,25.14,26.41,27.28,27.63,28.23,28.78,28.93,29.63,30.85,30.36,28.42,30.15,28.63,28.42,28.08,28.2,27.65,26.86,29.5,29.15,29.69,27.57,25.38,26.02,25.01,23.8,26.02,12.52,11.79,10.85,11.49,10.73,10.79,10.58,10.15,9.54,9.73,10.73,10.45,9.78,9.78,9.21,9.48,9.91,9.18,9.0,9.0,9.03,9.39,9.51,9.97,10.85,10.82,10.43,10.36,9.75,9.82,9.27,9.42,9.85,9.66,9.24,9.0,9.21,9.15,9.0,9.39,9.09,8.77,8.54,8.02,8.3,8.12,8.27,6.96,6.96,7.32,7.39,7.48,7.29,7.02,6.84,6.93,6.81,6.99,6.84,7.29,7.14,7.2,7.2,7.24,7.24,7.96,8.3,7.96,8.05,8.36,8.05,8.75,8.36,8.33,8.17,9.09,9.48,9.36,9.97,9.97,9.7,9.51,10.55,10.58,10.51,10.27,10.03,9.82,10.27,10.09,10.09,9.3,9.57,9.3,9.48,9.75,9.24,8.9,9.18,9.15,9.15,9.48,9.42,8.87,9.12,9.36,9.91,10.45,10.33,10.12,9.85,9.05,9.51,9.94,9.57,9.54,10.0,9.57,9.78,10.51,11.18,10.59,11.12,10.78,10.96,10.73,10.5,9.84,9.48,10.15,10.01,9.99,10.72,10.6,10.9,10.43,9.92,11.08,12.51,12.18,11.79,11.69,12.02,12.01,12.74,12.4,12.61,12.93,12.14,12.52,12.14,11.95,11.66,11.18,11.11,11.33,11.27,11.72,11.45,11.44,11.46,11.43,11.3,11.28,11.07,10.44,9.62,9.7,10.16,10.05,10.18,10.08,10.53,10.37,9.74,9.88,9.95,9.67,9.94,9.89,9.82,10.54,10.94,10.82,11.67,11.55,11.35,11.45,11.31,11.62,11.59,11.28,10.71,11.04,10.28,10.96,11.85,12.08,11.65,12.21,10.11,9.71,9.72,9.5,9.28,8.98,9.04,9.22,9.21,9.14,9.27,9.64,9.48,9.3,9.36,9.19,9.26,9.25,9.28,9.11,8.97,9.07,8.79,8.81,8.71,8.86,8.66,9.03,9.2,8.95,8.67,8.67,9.02,8.87,9.02,8.62,8.4,8.45,8.26,7.92,8.28,7.62,7.65,8.0,7.56,7.37,7.54,7.54,7.56,7.32,7.28,7.72,7.85,7.88,7.78,8.18,8.63,8.76,8.75,8.76,8.26,8.75,8.9,9.25,8.82,9.21,9.33,9.08,8.57,8.56,8.54,9.04,9.03,9.27,9.52,9.53,9.1,9.1,9.12,9.42,9.54,9.46,9.22,9.73,9.5,9.57,9.65,10.39,10.21,9.98,9.93,10.36,10.24,10.89,11.55,11.08,10.96,10.96,10.59,10.45,10.21,9.92,10.03,10.22,10.51,10.05,10.21,10.39,10.45,10.73,10.91,10.65,11.33,11.47,11.52,11.14,10.99,10.53,10.32,10.24,10.28,10.55,10.1,10.93,10.78,10.61,11.19,11.29,11.31,11.32,11.22,11.71,12.02,11.87,12.33,12.38,12.0,11.82,11.69,12.15,12.02,12.16,11.96,11.62,11.0,11.25,10.45,11.06,11.58,11.51,10.68,10.55,11.4,11.81,11.44,11.7,11.86,11.99,12.19,12.02,11.91,11.88,12.13,12.03,12.08,12.12,11.8,11.71,11.35,11.41,11.41,11.51,11.89,11.7,11.55,12.11,12.03,11.94,11.72,11.99,12.09,12.19,12.16,12.52,12.7,12.36,12.15,11.93,11.79,11.56,11.73,11.19,11.65,11.8,11.66,11.52,11.43,11.01,10.93,11.85,11.76,11.34,11.64,12.45,12.29,12.26,12.16,12.03,11.41,11.83,12.24,11.74,11.66,11.66,11.77,11.33,11.14,11.08,11.05,10.78,10.41,10.45,9.95,9.77,9.5,9.77,9.99,9.8,8.33,8.32,8.19,8.4,8.33,8.05,8.3,8.62,8.3,8.24,8.53,9.11,8.76,8.52,8.42,8.9,8.51,8.86,8.68,7.6,7.29,7.27,7.26,7.04,7.39,6.98,6.97,7.3,7.5,7.42,7.2,7.03,6.8,7.17,7.31,7.44,7.29,7.29,7.09,7.38,7.59,7.69,7.77,7.74,7.84,7.77,7.65,7.55,7.22,7.15,7.15,7.17,6.83,7.04,6.9,6.99,6.99,6.97,6.95,6.88,6.89,7.05,7.2,7.3,7.09,7.23,7.22,7.12,7.26,7.15,7.16,7.05,7.06,6.89,6.95,6.82,6.7,6.65,6.61,6.86,7.06,7.18,7.37,7.08,6.86,6.97,7.08,7.15,7.24,7.14,7.5,7.59,7.51,7.77,7.81,7.96,8.21,8.22,8.37,7.78,7.7,7.37,7.61,7.58,7.93,7.76,7.61,7.43,7.55,7.95,7.79,7.77,7.49,7.64,7.54,7.38,7.37,7.28,7.11,7.27,7.17,7.43,7.53,7.39,7.19,7.22,7.33,7.09,6.91,6.88,7.05,6.98,7.0,6.84,6.84,6.97,7.2,7.25,7.25,7.22,7.08,7.14,7.16,7.11,7.1,7.02,7.11,6.86,6.82,6.75,6.89,6.71,6.87,7.09,7.26,6.96,6.98,7.13,7.1,7.03,7.02,6.88,6.98,6.98,7.0,7.07,7.13,7.43,7.22,7.18,7.29,7.17,7.3,7.05,7.23,7.3,7.12,7.08,7.11,7.08,7.07,6.99,6.92,6.91,7.16,7.19,7.3,7.29,7.27,7.25,7.29,6.99,7.08,7.01,7.05,7.09,6.88,6.89,7.1,7.03,7.01,7.05,7.03,6.9,6.99,6.42,6.6,6.51,6.44,6.38,6.39,6.57,6.6,6.54,6.49,6.74,6.84,6.91,6.98,7.03,7.82,8.51,8.58,8.75,8.9,9.03,9.08,9.02,9.11,9.14,8.8,8.65,8.68,8.87,8.91,9.18,8.89,8.8,8.73,8.49,8.42,8.56,8.58,8.34,8.16,8.35,8.49,8.64,8.47,8.88,8.85,9.3,9.31,9.34,9.27,9.13,9.28,9.38,9.11,9.27,9.28,9.37,9.3,9.66,9.92,9.67,9.52,9.65,9.68,9.54,9.66,10.16,10.14,10.02,10.11,10.11,9.97,10.47,10.21,10.08,9.86,10.25,10.08,10.31,9.91,9.55,9.69,9.55,9.56,9.58,9.81,9.71,9.58,9.89,9.88,10.22,10.54,10.15,10.14,10.24,10.45,10.79,10.99,11.11,11.16,11.1,10.94,11.06,10.88,10.79,10.97,11.23,10.8,10.87,10.76,11.13,10.98,10.74,10.91,10.37,9.93,10.06,10.36,10.08,10.11,10.0,10.55,10.84,11.29,11.21,11.4,11.52,11.84,11.94,12.07,11.31,11.06,11.29,11.27,11.07,11.18,10.99,10.99,11.53,11.52,11.23,11.13,11.26,11.14,11.2,11.24,10.94,10.65,10.47,10.86,10.9,10.44,10.28,9.92,9.93,9.91,9.86,10.28,10.06,10.08,10.17,10.56,10.47,10.23,10.28,10.14,10.24,9.94,9.91,10.31,10.16,9.81,9.78,9.67,9.74,9.58,9.65,9.63,9.92,10.1,10.28,10.35,10.39,10.35,10.78,10.74,10.98,11.36,11.18,11.54,11.73,11.77,11.11,11.05,11.05,10.99,10.79,10.97,11.19,11.22,10.95,11.03,10.97,10.85,10.82,10.6,10.9,11.04,11.02,11.17,11.57,11.54,11.18,11.26,11.31,10.93,10.89,10.79,10.87,11.09,11.2,11.63,11.68,11.58,11.63,12.23,13.0,12.64,13.18,13.46,13.2,13.4,12.86,12.56,12.74,12.48,12.58,12.58,12.3,12.4,13.07,13.15,13.57,13.58,13.15,13.18,13.37,13.77,13.53,13.28,13.39,13.64,13.1,12.95,14.25,14.19,13.79,13.48,13.48,13.51,13.47,13.19,13.1,12.86,13.02,12.54,12.68,12.71,12.96,12.93,12.97,12.78,13.2,13.28,13.22,13.16,12.95,13.16,12.87,12.99,13.18,13.29,13.82,13.86,13.7,13.64,13.64,14.06,13.81,14.0,14.5,14.76,14.69,14.95,14.65,14.92,15.92,15.95,16.0,15.72,16.05,16.39,16.13,16.39,15.8,15.8,15.82,15.71,15.11,15.05,14.78,14.66,14.6,14.17,14.21,14.38,16.01,15.66,15.55,15.66,15.38,15.41,14.93,15.2,15.77,15.69,15.87,15.73,15.36,15.22,15.46,15.26,14.48,14.73,15.33,15.08,14.77,15.0,14.97,15.01,15.43,14.93,14.98,15.11,15.54,16.07,16.85,16.7,16.59,16.77,17.44,17.34,17.13,17.39,17.68,17.36,17.44,17.31,17.26,17.12,17.68,18.06,18.34,18.48,17.95,18.12,18.13,18.25,18.5,18.81,18.84,18.8,18.86,19.14,19.76,19.27,18.99,18.77,18.62,19.33,21.87,22.13,23.22,23.06,23.08,23.31,23.05,23.12,23.33,24.46,25.38,25.48,25.51,26.02,26.9,26.48,26.61,26.44,26.28,26.62,26.89,26.99,26.86,26.72,26.7,26.93,26.83,29.83,29.79,31.15,31.39,33.28,32.6,32.96,31.71,30.48,31.99,30.58,30.77,31.12,31.68,31.56,31.75,31.73,32.39,31.6,30.5,30.97,31.0,31.13,30.71,31.21,31.34,31.51,31.32,30.78,31.09,31.36,31.39,33.67,33.53,31.39,31.83,33.94,34.14,34.36,33.98,34.26,34.28,34.41,35.04,35.13,35.32,35.97,37.39,37.7,38.72,37.84,38.34,38.39,39.34,38.29,38.1,39.49,41.15,42.99,43.83,42.7,42.21,41.47,42.9,43.24,43.27,43.63,43.28,42.91,40.64,41.63,41.58,39.42,38.27,38.74,39.16,39.21,39.84,40.05,41.09,41.78,42.5,41.65,41.38,41.33,41.36,40.6,41.63,40.53,39.77,39.96,40.74,41.17,42.36,42.54,40.77,41.49,39.91,36.24,34.38,34.64,36.07,34.54,36.16,34.53,35.97,35.2,34.96,34.56,35.07,35.43,35.22,36.13,35.67,36.22,35.96,35.42,34.63,33.19,33.82,34.57,34.39,34.86,36.52,36.52,38.67,38.61,38.69,39.62,39.45,38.67,39.19,38.94,37.19,36.88,35.54,35.91,36.62,34.83,34.91,35.01,36.11,36.94,37.26,36.58,36.82,37.49,37.82,36.72,36.08,36.29,35.37,35.8,35.5,36.94,36.36,36.6,37.2,37.05,37.19,37.3,39.63,40.41,40.35,42.0,42.43,42.1,42.79,42.61,42.43,42.78,42.6,41.48,41.58,42.0,42.03,41.54,41.81,41.48,42.62,42.19,42.79,44.83,46.37,44.98,45.86,45.03,44.57,44.61,44.48,44.51,44.8,44.48,44.58,45.29,45.6,44.99,44.95,47.46,47.34,48.41,49.9,49.99,49.43,48.25,48.5,49.8,51.2,51.73,50.68,50.48,51.74,52.36,51.97,49.68,50.9,52.14,52.95,52.27,51.33,50.28,49.89,48.99,50.17,47.9,52.27,52.52,51.97,50.78,53.43,54.6,54.13,55.23,54.56,55.46,53.89,52.97,56.01,55.92,58.3,60.15,59.47,58.58,58.26,58.46,59.5,59.85,59.76,60.57,63.17,62.75,62.79,63.18,64.69,65.27,67.44,67.75,66.23,65.96,69.63,70.64,69.85,72.02,71.92,72.05,72.29,72.85,72.92,70.03,70.2,69.16,69.42,70.13,71.48,71.99,71.34,72.19,71.55,69.49,69.92,72.7,72.91,72.34,74.21,73.96,78.64,81.6,81.98,83.24,82.38,80.23,76.87,74.0,75.54,73.95,72.16,70.34,70.05,72.94,73.44,73.35,70.12,69.88,65.45,65.74,66.92,63.17,65.46,62.93,65.78,67.32,68.63,68.36,67.18,69.36,69.78,69.5,69.04,66.61,67.2,67.7,65.86,63.68,64.49,63.86,62.18,61.46,63.88,65.47,64.41,62.54,62.89,62.23,60.11,59.98,58.51,58.31,57.88,57.1,60.62,61.03,61.0,60.93,59.49,65.37,69.28,67.87,66.79,66.12,64.88,64.65,63.03,64.4,63.85,65.77,65.2,63.95,64.35,66.28,67.46,68.46,67.69,69.65,69.19,69.18,69.92,69.92,69.08,68.66,66.28,65.84,65.93,63.2,63.47,61.45,62.74,61.64,61.42,61.6,62.56,61.81,59.54,58.13,60.46,59.97,58.35,58.08,56.95,59.09,57.61,55.44,56.73,56.03,57.75,55.98,55.63,55.89,56.27,57.94,57.22,57.37,55.85,54.48,57.35,55.7,56.36,55.44,54.24,53.88,53.49,54.12,51.51,50.82,49.28,50.93,51.45,52.62,58.84,59.05,59.73,60.23,62.12,61.66,63.79,66.09,65.34,66.29,67.68,66.43,65.37,63.0,61.84,62.31,61.9,62.19,64.63,66.11,65.73,66.05,64.73,65.76,65.46,65.95,66.86,65.14,64.66,65.12,65.99,66.5,69.52,68.11,70.8,70.53,70.51,70.64,72.16,72.13,72.07,71.86,71.75,73.19,72.6,71.0,73.67,75.48,74.31,74.9,74.87,72.81,72.05,73.31,72.78,72.18,72.58,71.78,71.22,73.19,72.96,73.33,72.25,72.48,76.82,77.76,79.22,78.83,79.44,79.93,78.2,78.21,78.85,76.99,76.81,76.14,77.52,78.3,80.19,81.05,80.84,82.03,82.67,81.74,83.26,83.49,84.1,86.17,87.83,89.12,87.08,89.29,89.28,89.14,88.81,88.62,88.76,87.36,84.65,85.84,86.31,83.78,86.61,86.12,85.31,83.12,83.94,82.43,80.62,79.94,79.27,79.28,78.65,82.51,81.5,83.31,82.72,83.12,90.03,94.34,93.17,92.02,94.43,92.34,86.63,86.07,84.41,83.35,84.32,83.88,83.04,83.58,83.2,83.38,82.41,82.42,81.64,81.84,83.79,83.81,80.98,82.55,82.38,82.96,82.87,82.5,83.54,86.75,87.05,86.63,86.08,81.63,82.29,84.67,83.07,83.95,85.77,85.31,85.58,85.56,87.4,85.97,87.53,87.11,87.13,88.63,88.97,91.29,91.38,90.95,93.22,92.84,90.68,91.18,90.36,91.08,91.91,91.68,92.08,91.08,91.66,90.05,89.66,87.76,88.92,87.87,87.92,87.79,88.47,90.94,90.68,92.73,96.13,97.18,97.06,96.74,97.63,97.64,98.04,101.07,102.18,103.95,104.39,105.76,106.36,104.57,104.39,106.44,107.0,108.91,110.42,109.79,107.65,110.5,111.21,115.51,117.86,115.15,118.0,119.3,120.25,120.66,121.07,116.89,117.08,114.27,115.49,117.19,121.66,120.27,118.21,120.5,119.62,118.98,116.37,118.54,117.25,118.69,117.93,123.68,129.11,128.67,126.75,128.72,128.76,130.39,133.95,134.31,135.1,134.33,136.16,139.8,139.76,131.19,133.49,141.99,139.9,137.55,128.14,131.29,132.74,128.23,131.54,131.32,130.33,122.92,121.57,124.28,120.63,116.61,113.84,118.71,118.87,124.07,128.87,127.47,131.59,128.62,123.34,130.4,132.51,134.68,140.2,133.01,131.3,128.15,132.96,131.77,133.09,133.43,135.0,134.61,137.05,136.91,136.46,140.19,144.21,148.98,148.58,150.26,149.26,152.05,154.1,153.59,151.95,157.02,163.3,163.25,162.21,157.78,162.66,162.4,164.93,168.01,168.74,165.74,169.57,181.05,180.83,177.76,179.63,180.01,181.87,184.74,182.3,182.71,181.07,186.53,181.19,170.65,160.83,149.54,165.3,161.55,159.79,161.82,159.45,164.22,163.84,166.83,167.8,170.01,175.27,179.23,177.22,173.95,174.87,180.41,184.74,188.97,188.88,183.37,185.62,186.56,185.16,179.34,177.96,178.09,182.07,188.59,193.34,193.49,193.12,194.35,192.64,189.49,189.58,175.11,172.76,166.55,174.48,173.13,167.95,173.87,164.4,155.26,156.47,156.93,151.37,135.25,131.88,126.44,126.44,127.93,128.55,131.64,130.08,128.04,125.81,118.65,117.91,122.04,125.9,121.43,125.85,123.96,121.21,118.83,120.42,118.2,116.18,116.45,115.88,119.59,126.34,121.59,118.39,121.2,121.07,117.61,118.89,116.4,123.85,122.57,124.43,123.13,123.25,129.17,126.11,129.61,135.7,137.11,141.08,136.4,139.08,139.56,145.43,143.44,147.45,148.88,151.61,148.64,147.28,150.31,143.1,143.72,144.31,149.48,150.25,156.62,163.54,155.8,158.42,164.3,165.07,167.51,170.25,169.18,175.06,175.97,179.66,181.54,177.58,179.98,178.41,183.0,184.75,181.15,184.52,182.47,178.56,180.8,173.3,172.19,176.2,181.31,181.88,181.57,183.57,180.99,180.28,180.11,184.23,180.54,176.63,180.54,175.85,168.5,167.64,171.99,176.45,173.84,175.93,170.46,168.41,168.49,172.52,163.64,165.42,162.84,169.89,163.56,165.45,170.35,174.62,169.47,171.78,167.84,169.11,164.98,168.07,167.09,160.62,161.73,157.57,161.7,154.67,157.67,150.16,152.77,155.49,154.59,152.36,149.02,156.23,159.68,159.08,164.9,168.8,171.88,174.38,174.4,170.92,170.58,168.77,171.01,169.51,171.94,167.81,168.87,169.88,168.97,164.88,161.63,162.38,156.79,155.78,153.59,147.52,147.45,148.46,144.85,136.51,136.04,124.32,130.41,137.04,127.45,123.36,125.18,128.31,124.72,102.37,110.54,106.12,97.35,94.41,95.45,86.71,87.33,86.3,94.14,107.23,101.22,95.26,99.09,94.73,95.74,88.98,94.21,95.53,93.73,89.56,97.17,101.68,107.99,104.64,104.02,107.94,100.46,96.38,95.54,93.25,92.17,87.65,93.79,87.76,85.72,87.44,83.92,78.28,80.31,90.4,88.31,92.39,90.13,86.49,89.93,93.27,88.9,91.42,96.98,97.31,95.51,92.39,95.57,92.15,92.81,86.71,86.98,87.53,83.39,84.01,82.71,83.45,84.23,83.92,83.01,88.26,91.98,90.47,88.51,90.16,88.09,86.23,85.3,82.99,81.09,80.07,76.05,80.56,85.93,85.93,87.18,88.24,91.61,90.45,87.66,89.0,90.43,90.98,93.81,96.98,99.7,95.14,94.16,96.55,96.44,91.94,91.78,88.15,88.7,84.56,87.77,88.66,86.74,86.86,85.53,85.94,88.67,86.4,82.96,80.83,86.2,90.14,93.71,93.3,92.8,96.92,98.73,98.83,98.8,104.71,103.58,103.57,106.85,103.92,101.62,102.23,105.71,109.62,112.81,115.2,111.84,113.13,116.29,116.92,115.06,114.41,118.12,120.03,117.19,118.42,118.17,121.96,120.5,121.31,120.5,121.71,122.38,123.75,128.45,129.07,128.86,125.52,125.64,126.01,121.01,116.21,119.58,119.06,123.17,123.95,122.42,120.77,119.14,127.19,129.4,131.36,132.08,135.53,135.66,137.08,139.79,140.7,139.9,138.8,136.4,136.11,133.21,132.35,132.61,131.86,132.15,135.65,133.6,130.33,132.48,136.02,138.53,138.07,138.52,138.91,136.18,134.81,131.68,133.45,132.62,134.72,138.43,138.37,142.85,143.47,147.58,148.71,147.35,152.44,153.49,155.6,155.71,155.61,155.64,158.32,158.91,161.86,161.01,160.58,159.41,160.97,160.2,158.36,160.77,163.8,162.2,155.21,159.5,160.08,161.76,164.58,164.42,164.75,162.82,164.8,165.38,163.59,160.76,160.65,161.98,165.64,168.18,166.44,167.82,167.43,168.95,170.35,176.88,179.48,179.94,178.97,179.42,180.41,178.77,177.36,181.04,180.29,180.26,175.9,179.83,180.91,184.79,185.03,184.08,185.24,185.57,184.8,186.04,185.33,182.89,184.65,193.3,199.3,199.57,198.34,196.92,191.95,187.12,190.96,183.33,184.11,183.57,185.57,188.7,189.01,195.93,197.41,197.67,196.45,198.84,200.96,201.32,200.31,195.01,194.43,200.23,198.83,198.59,195.08,194.42,191.56,190.84,191.09,188.01,183.76,184.66,192.37,191.04,189.33,191.57,188.84,189.68,186.59,190.07,192.79,194.86,196.55,203.3,205.8,203.36,205.83,204.95,208.14,208.5,205.18,204.8,206.16,204.34,202.02,204.87,203.68,200.28,209.14,205.92,202.36,192.32,197.5,200.29,202.17,193.82,186.79,189.39,190.48,193.76,186.78,190.1,188.79,190.81,189.76,193.22,194.88,197.82,196.99,197.36,196.13,194.92,191.65,195.15,196.46,199.0,203.25,203.12,203.58,204.93,212.94,213.07,216.9,218.67,219.31,220.38,217.7,218.29,217.97,218.48,216.15,218.58,222.09,223.07,220.43,224.56,226.01,229.38,228.55,229.49,231.94,232.97,234.0,233.36,235.15,235.64,235.78,238.95,242.09,240.61,240.29,237.88,252.11,259.16,263.4,262.1,254.85,254.42,261.27,253.92,259.04,251.58,248.96,239.49,229.39,247.02,249.48,254.9,251.27,246.85,247.24,245.43,241.52,231.23,235.67,239.99,238.49,237.41,246.4,249.83,253.67,256.71,255.9,248.93,244.05,242.49,236.52,243.63,246.55,247.3,252.56,259.91,264.41,266.55,262.75,266.33,263.53,261.62,259.38,260.94,249.14,244.63,241.66,240.16,241.81,251.57,251.01,252.49,250.23,244.89,245.79,244.55,243.04,238.84,244.98,247.26,251.91,252.81,252.16,256.83,253.8,251.03,250.19,254.66,254.74,255.76,254.52,252.95,254.57,252.29,243.32,244.88,242.26,240.84,245.05,246.12,243.02,242.79,239.05,233.34,236.22,233.69,234.99,235.84,236.43,243.46,245.25,251.67,250.73,255.7,255.85,256.18,259.71,260.7,262.8,268.98,267.81,275.46,275.98,279.85,280.99,284.3,283.17,278.99,279.48,275.96,274.77,270.99,281.01,281.25,281.28,286.0,287.25,290.35,291.9,294.01,306.1,309.27,301.0,302.01,301.02,299.03,300.36,299.59,299.38,296.86,292.72,295.83,300.87,304.21,309.53,308.43,309.87,307.4,309.3,307.96,299.58,298.61,293.31,292.25,299.96,298.31,304.76,300.26,306.16,306.35,308.17,302.61,307.72,309.42,308.73,311.36,309.48,312.2,310.98,311.76,312.84,311.5,311.57,312.43,311.81,313.37,315.3,316.24,314.72,315.77,316.54,316.36,314.78,313.71,320.52,322.2,324.83,324.57,326.89,333.05,332.26,334.97,336.19,338.92,331.3,329.54,323.55,317.75,328.19,332.03,334.41,333.79,326.88,330.01,335.56,334.87,334.01,336.99,342.22,345.45,348.33,344.81,347.06,349.32,350.02,353.16,348.47,340.94,329.32,333.22,333.47,338.6,343.52,339.72,342.46,349.69,350.12,345.61,346.0,342.8,337.15,342.33,343.86,335.95,320.95,325.46,321.59,329.99,331.84,329.88,335.5,341.89,340.82,341.33,339.06,338.94,335.1,331.83,329.59,328.76,328.8,325.86,321.72,323.28,326.9,323.3,318.47,322.74,328.59,333.01,341.07,343.32,340.8,340.54,337.23,340.52,336.78,338.64,339.98,337.23,337.15,338.06,339.86,337.7,337.06,331.15,324.15,326.91,330.54,331.18,326.02,325.22,323.07,327.54,325.81,328.15,338.28,336.03,336.6,334.01,328.76,322.93,323.12,322.39,316.96,317.64,323.32,317.78,316.24,311.47,306.67,316.37,313.76,322.14,317.39,322.93,326.06,324.87,326.46,333.84,339.84,342.11,347.4,349.84,344.28,344.04,348.19,347.95,354.9,363.54,366.51,376.28,376.66,382.51,387.56,392.34,381.81,381.07,379.76,385.86,378.24,381.8,367.01,363.37,343.52,363.74,353.71,363.44,366.64,372.89,370.04,370.0,356.0,346.26,346.66,363.35,365.85,363.46,373.05,379.27,379.29,374.27,370.57,363.78,369.32,373.39,373.6,367.12,369.51,374.06,378.61,382.17,389.51,400.33,402.1,400.83,390.79,393.2,392.1,388.3,386.11,379.85,370.85,364.32,362.28,367.87,367.01,359.65,378.14,389.3,391.15,397.22,410.42,408.46,410.65,387.68,384.46,382.09,394.63,386.85,389.6,393.58,393.84,393.67,385.63,386.5,392.01,389.25,388.76,395.08,384.43,374.65,374.06,368.85,378.16,374.21,367.05,364.65,358.88,366.18,356.92,353.59,365.8,362.96,371.71,377.28,379.0,382.22,380.22,378.41,379.94,382.82,381.09,378.14,369.75,368.54,370.56,371.72,385.08,385.57,387.61,392.26,395.37,391.59,394.0,393.88,399.94,402.09,406.56,410.81,410.15,411.62,410.95,409.82,408.29,413.04,417.33,416.01,408.76,415.68,408.87,434.4,432.43,435.0,440.58,443.95,443.67,442.63,447.06,451.24,455.96,463.6,479.63,479.88,488.81,495.48,484.01,488.43,488.34,500.72,498.96,502.22,508.07,511.33,520.71,527.55,529.53,530.22,518.53,515.71,516.12,527.11,530.21,536.85,552.51,573.4,569.49,569.5,584.6,589.33,585.96,582.89,579.69,590.32,597.61,600.67,593.12,583.09,601.65,612.05,607.17,616.29,618.77,611.19,609.01,605.68,588.62,564.21,592.97,591.64,571.32,557.25,556.01,544.9,593.26,591.02,586.45,567.95,566.15,569.9,565.85,549.74,553.85,552.59,553.56,554.86,551.16,542.9,537.99,531.09,515.57,515.82,545.87,541.68,554.9,549.8,546.86,556.56,563.27,561.87,545.59,548.8,547.38,555.78,556.03,564.39,555.49,560.35,556.46,555.84,558.37,569.7,571.29,569.66,561.81,566.12,555.1,556.33,558.73,553.43,567.97,576.26,582.96,593.2,589.25,597.04,591.52,587.84,582.46,588.37,590.25,590.28,589.62,597.46,587.71,587.26,584.43,559.19,559.1,569.1,578.7,594.0,590.15,591.11,598.8,605.46,603.87,602.85,606.28,607.23,615.34,616.99,616.15,621.53,633.03,649.67,640.79,653.3,647.21,647.79,659.96,659.1,657.8,648.42,649.76,659.26,654.63,660.53,664.61,647.32,645.22,654.2,667.09,675.19,683.5,685.58,685.76,682.44,683.8,674.71,657.87,649.7,665.46,651.58,644.05,645.92,655.82,651.28,637.4,623.32,621.05,626.0,613.48,615.06,619.99,634.67,629.61,617.92,595.65,619.28,599.09,602.48,595.36,589.94,581.47,582.66,563.38,571.02,569.29,547.5,527.63,536.77,532.62,532.69,526.78,515.73,517.75,555.09,550.36,551.13,560.75,578.44,573.78,571.97,578.27,574.27,575.16,565.02,528.66,536.95,523.22,519.85,531.21,528.86,519.73,500.2,509.07,523.86,516.41,511.92,509.56,510.39,503.35,505.37,500.0,522.16,538.7,531.9,517.09,514.05,515.43,507.37,513.66,510.51,492.31,476.78,496.57,493.22,490.59,495.28,504.34,442.03,431.61,441.37,449.65,448.24,446.92,445.09,434.0,449.23,448.75,462.09,468.76,473.65,461.77,460.9,460.48,454.14,453.97,442.97,440.22,444.91,437.0,443.09,438.75,435.62,424.83]}},\"id\":\"4fccfbc8-0cb0-43ba-9f7c-e721443673e0\",\"type\":\"ColumnDataSource\"},{\"attributes\":{\"fill_alpha\":{\"value\":0.1},\"fill_color\":{\"value\":\"#1f77b4\"},\"line_alpha\":{\"value\":0.1},\"line_color\":{\"value\":\"#1f77b4\"},\"x\":{\"field\":\"x\"},\"y\":{\"field\":\"y\"}},\"id\":\"ce424fe4-cd12-4b95-9cf9-109cf29a45cb\",\"type\":\"Circle\"},{\"attributes\":{\"axis_label\":\"Date\",\"formatter\":{\"id\":\"fd6ba100-ebee-468c-8661-c0604df2bcd2\",\"type\":\"DatetimeTickFormatter\"},\"plot\":{\"id\":\"f0fa4658-1c2d-4fdb-8287-83477315c49c\",\"subtype\":\"Figure\",\"type\":\"Plot\"},\"ticker\":{\"id\":\"43e6b10d-1e85-47bd-9c40-dee3f8b98c8d\",\"type\":\"DatetimeTicker\"}},\"id\":\"ebf2b392-04eb-4670-9448-4a1e493d2ed9\",\"type\":\"DatetimeAxis\"},{\"attributes\":{\"max_interval\":500.0,\"num_minor_ticks\":0},\"id\":\"ba14f578-8110-4087-8f38-fd91c6859fa0\",\"type\":\"AdaptiveTicker\"},{\"attributes\":{\"base\":60,\"mantissas\":[1,2,5,10,15,20,30],\"max_interval\":1800000.0,\"min_interval\":1000.0,\"num_minor_ticks\":0},\"id\":\"273cf89d-2d3e-4f84-8d6c-2263a127258d\",\"type\":\"AdaptiveTicker\"},{\"attributes\":{\"line_alpha\":{\"value\":0.1},\"line_color\":{\"value\":\"#1f77b4\"},\"x\":{\"field\":\"x\"},\"y\":{\"field\":\"y\"}},\"id\":\"2eda2b4f-915b-4442-b90c-f7fd79004d41\",\"type\":\"Line\"},{\"attributes\":{\"plot\":{\"id\":\"f0fa4658-1c2d-4fdb-8287-83477315c49c\",\"subtype\":\"Figure\",\"type\":\"Plot\"}},\"id\":\"f3bb3d59-ab90-4706-bad9-38bb5530bbd8\",\"type\":\"ResetTool\"},{\"attributes\":{\"line_alpha\":{\"value\":0.1},\"line_color\":{\"value\":\"#1f77b4\"},\"x\":{\"field\":\"x\"},\"y\":{\"field\":\"y\"}},\"id\":\"682a15ff-2d3d-4aeb-a16a-bbd327bee02d\",\"type\":\"Line\"},{\"attributes\":{\"callback\":null},\"id\":\"f5714a04-dcc8-4f85-abde-32ee110a4f17\",\"type\":\"DataRange1d\"},{\"attributes\":{\"plot\":{\"id\":\"f0fa4658-1c2d-4fdb-8287-83477315c49c\",\"subtype\":\"Figure\",\"type\":\"Plot\"},\"ticker\":{\"id\":\"43e6b10d-1e85-47bd-9c40-dee3f8b98c8d\",\"type\":\"DatetimeTicker\"}},\"id\":\"11e58017-e5ff-49ba-ad27-f5049613e907\",\"type\":\"Grid\"},{\"attributes\":{\"fill_color\":{\"value\":\"white\"},\"line_color\":{\"value\":\"#1f77b4\"},\"x\":{\"field\":\"x\"},\"y\":{\"field\":\"y\"}},\"id\":\"0bedebf4-7260-4553-87e3-f81bccda670d\",\"type\":\"Circle\"},{\"attributes\":{\"callback\":null,\"column_names\":[\"x\",\"y\"],\"data\":{\"x\":[951868800000.0,951955200000.0,952041600000.0,952300800000.0,952387200000.0,952473600000.0,952560000000.0,952646400000.0,952905600000.0,952992000000.0,953078400000.0,953164800000.0,953251200000.0,953510400000.0,953596800000.0,953683200000.0,953769600000.0,953856000000.0,954115200000.0,954201600000.0,954288000000.0,954374400000.0,954460800000.0,954720000000.0,954806400000.0,954892800000.0,954979200000.0,955065600000.0,955324800000.0,955411200000.0,955497600000.0,955584000000.0,955670400000.0,955929600000.0,956016000000.0,956102400000.0,956188800000.0,956534400000.0,956620800000.0,956707200000.0,956793600000.0,956880000000.0,957139200000.0,957225600000.0,957312000000.0,957398400000.0,957484800000.0,957744000000.0,957830400000.0,957916800000.0,958003200000.0,958089600000.0,958348800000.0,958435200000.0,958521600000.0,958608000000.0,958694400000.0,958953600000.0,959040000000.0,959126400000.0,959212800000.0,959299200000.0,959644800000.0,959731200000.0,959817600000.0,959904000000.0,960163200000.0,960249600000.0,960336000000.0,960422400000.0,960508800000.0,960768000000.0,960854400000.0,960940800000.0,961027200000.0,961113600000.0,961372800000.0,961459200000.0,961545600000.0,961632000000.0,961718400000.0,961977600000.0,962064000000.0,962150400000.0,962236800000.0,962323200000.0,962582400000.0,962755200000.0,962841600000.0,962928000000.0,963187200000.0,963273600000.0,963360000000.0,963446400000.0,963532800000.0,963792000000.0,963878400000.0,963964800000.0,964051200000.0,964137600000.0,964396800000.0,964483200000.0,964569600000.0,964656000000.0,964742400000.0,965001600000.0,965088000000.0,965174400000.0,965260800000.0,965347200000.0,965606400000.0,965692800000.0,965779200000.0,965865600000.0,965952000000.0,966211200000.0,966297600000.0,966384000000.0,966470400000.0,966556800000.0,966816000000.0,966902400000.0,966988800000.0,967075200000.0,967161600000.0,967420800000.0,967507200000.0,967593600000.0,967680000000.0,967766400000.0,968112000000.0,968198400000.0,968284800000.0,968371200000.0,968630400000.0,968716800000.0,968803200000.0,968889600000.0,968976000000.0,969235200000.0,969321600000.0,969408000000.0,969494400000.0,969580800000.0,969840000000.0,969926400000.0,970012800000.0,970099200000.0,970185600000.0,970444800000.0,970531200000.0,970617600000.0,970704000000.0,970790400000.0,971049600000.0,971136000000.0,971222400000.0,971308800000.0,971395200000.0,971654400000.0,971740800000.0,971827200000.0,971913600000.0,972000000000.0,972259200000.0,972345600000.0,972432000000.0,972518400000.0,972604800000.0,972864000000.0,972950400000.0,973036800000.0,973123200000.0,973209600000.0,973468800000.0,973555200000.0,973641600000.0,973728000000.0,973814400000.0,974073600000.0,974160000000.0,974246400000.0,974332800000.0,974419200000.0,974678400000.0,974764800000.0,974851200000.0,975024000000.0,975283200000.0,975369600000.0,975456000000.0,975542400000.0,975628800000.0,975888000000.0,975974400000.0,976060800000.0,976147200000.0,976233600000.0,976492800000.0,976579200000.0,976665600000.0,976752000000.0,976838400000.0,977097600000.0,977184000000.0,977270400000.0,977356800000.0,977443200000.0,977788800000.0,977875200000.0,977961600000.0,978048000000.0,978393600000.0,978480000000.0,978566400000.0,978652800000.0,978912000000.0,978998400000.0,979084800000.0,979171200000.0,979257600000.0,979603200000.0,979689600000.0,979776000000.0,979862400000.0,980121600000.0,980208000000.0,980294400000.0,980380800000.0,980467200000.0,980726400000.0,980812800000.0,980899200000.0,980985600000.0,981072000000.0,981331200000.0,981417600000.0,981504000000.0,981590400000.0,981676800000.0,981936000000.0,982022400000.0,982108800000.0,982195200000.0,982281600000.0,982627200000.0,982713600000.0,982800000000.0,982886400000.0,983145600000.0,983232000000.0,983318400000.0,983404800000.0,983491200000.0,983750400000.0,983836800000.0,983923200000.0,984009600000.0,984096000000.0,984355200000.0,984441600000.0,984528000000.0,984614400000.0,984700800000.0,984960000000.0,985046400000.0,985132800000.0,985219200000.0,985305600000.0,985564800000.0,985651200000.0,985737600000.0,985824000000.0,985910400000.0,986169600000.0,986256000000.0,986342400000.0,986428800000.0,986515200000.0,986774400000.0,986860800000.0,986947200000.0,987033600000.0,987379200000.0,987465600000.0,987552000000.0,987638400000.0,987724800000.0,987984000000.0,988070400000.0,988156800000.0,988243200000.0,988329600000.0,988588800000.0,988675200000.0,988761600000.0,988848000000.0,988934400000.0,989193600000.0,989280000000.0,989366400000.0,989452800000.0,989539200000.0,989798400000.0,989884800000.0,989971200000.0,990057600000.0,990144000000.0,990403200000.0,990489600000.0,990576000000.0,990662400000.0,990748800000.0,991094400000.0,991180800000.0,991267200000.0,991353600000.0,991612800000.0,991699200000.0,991785600000.0,991872000000.0,991958400000.0,992217600000.0,992304000000.0,992390400000.0,992476800000.0,992563200000.0,992822400000.0,992908800000.0,992995200000.0,993081600000.0,993168000000.0,993427200000.0,993513600000.0,993600000000.0,993686400000.0,993772800000.0,994032000000.0,994118400000.0,994291200000.0,994377600000.0,994636800000.0,994723200000.0,994809600000.0,994896000000.0,994982400000.0,995241600000.0,995328000000.0,995414400000.0,995500800000.0,995587200000.0,995846400000.0,995932800000.0,996019200000.0,996105600000.0,996192000000.0,996451200000.0,996537600000.0,996624000000.0,996710400000.0,996796800000.0,997056000000.0,997142400000.0,997228800000.0,997315200000.0,997401600000.0,997660800000.0,997747200000.0,997833600000.0,997920000000.0,998006400000.0,998265600000.0,998352000000.0,998438400000.0,998524800000.0,998611200000.0,998870400000.0,998956800000.0,999043200000.0,999129600000.0,999216000000.0,999561600000.0,999648000000.0,999734400000.0,999820800000.0,1000080000000.0,1000684800000.0,1000771200000.0,1000857600000.0,1000944000000.0,1001030400000.0,1001289600000.0,1001376000000.0,1001462400000.0,1001548800000.0,1001635200000.0,1001894400000.0,1001980800000.0,1002067200000.0,1002153600000.0,1002240000000.0,1002499200000.0,1002585600000.0,1002672000000.0,1002758400000.0,1002844800000.0,1003104000000.0,1003190400000.0,1003276800000.0,1003363200000.0,1003449600000.0,1003708800000.0,1003795200000.0,1003881600000.0,1003968000000.0,1004054400000.0,1004313600000.0,1004400000000.0,1004486400000.0,1004572800000.0,1004659200000.0,1004918400000.0,1005004800000.0,1005091200000.0,1005177600000.0,1005264000000.0,1005523200000.0,1005609600000.0,1005696000000.0,1005782400000.0,1005868800000.0,1006128000000.0,1006214400000.0,1006300800000.0,1006473600000.0,1006732800000.0,1006819200000.0,1006905600000.0,1006992000000.0,1007078400000.0,1007337600000.0,1007424000000.0,1007510400000.0,1007596800000.0,1007683200000.0,1007942400000.0,1008028800000.0,1008115200000.0,1008201600000.0,1008288000000.0,1008547200000.0,1008633600000.0,1008720000000.0,1008806400000.0,1008892800000.0,1009152000000.0,1009324800000.0,1009411200000.0,1009497600000.0,1009756800000.0,1009929600000.0,1010016000000.0,1010102400000.0,1010361600000.0,1010448000000.0,1010534400000.0,1010620800000.0,1010707200000.0,1010966400000.0,1011052800000.0,1011139200000.0,1011225600000.0,1011312000000.0,1011657600000.0,1011744000000.0,1011830400000.0,1011916800000.0,1012176000000.0,1012262400000.0,1012348800000.0,1012435200000.0,1012521600000.0,1012780800000.0,1012867200000.0,1012953600000.0,1013040000000.0,1013126400000.0,1013385600000.0,1013472000000.0,1013558400000.0,1013644800000.0,1013731200000.0,1014076800000.0,1014163200000.0,1014249600000.0,1014336000000.0,1014595200000.0,1014681600000.0,1014768000000.0,1014854400000.0,1014940800000.0,1015200000000.0,1015286400000.0,1015372800000.0,1015459200000.0,1015545600000.0,1015804800000.0,1015891200000.0,1015977600000.0,1016064000000.0,1016150400000.0,1016409600000.0,1016496000000.0,1016582400000.0,1016668800000.0,1016755200000.0,1017014400000.0,1017100800000.0,1017187200000.0,1017273600000.0,1017619200000.0,1017705600000.0,1017792000000.0,1017878400000.0,1017964800000.0,1018224000000.0,1018310400000.0,1018396800000.0,1018483200000.0,1018569600000.0,1018828800000.0,1018915200000.0,1019001600000.0,1019088000000.0,1019174400000.0,1019433600000.0,1019520000000.0,1019606400000.0,1019692800000.0,1019779200000.0,1020038400000.0,1020124800000.0,1020211200000.0,1020297600000.0,1020384000000.0,1020643200000.0,1020729600000.0,1020816000000.0,1020902400000.0,1020988800000.0,1021248000000.0,1021334400000.0,1021420800000.0,1021507200000.0,1021593600000.0,1021852800000.0,1021939200000.0,1022025600000.0,1022112000000.0,1022198400000.0,1022544000000.0,1022630400000.0,1022716800000.0,1022803200000.0,1023062400000.0,1023148800000.0,1023235200000.0,1023321600000.0,1023408000000.0,1023667200000.0,1023753600000.0,1023840000000.0,1023926400000.0,1024012800000.0,1024272000000.0,1024358400000.0,1024444800000.0,1024531200000.0,1024617600000.0,1024876800000.0,1024963200000.0,1025049600000.0,1025136000000.0,1025222400000.0,1025481600000.0,1025568000000.0,1025654400000.0,1025827200000.0,1026086400000.0,1026172800000.0,1026259200000.0,1026345600000.0,1026432000000.0,1026691200000.0,1026777600000.0,1026864000000.0,1026950400000.0,1027036800000.0,1027296000000.0,1027382400000.0,1027468800000.0,1027555200000.0,1027641600000.0,1027900800000.0,1027987200000.0,1028073600000.0,1028160000000.0,1028246400000.0,1028505600000.0,1028592000000.0,1028678400000.0,1028764800000.0,1028851200000.0,1029110400000.0,1029196800000.0,1029283200000.0,1029369600000.0,1029456000000.0,1029715200000.0,1029801600000.0,1029888000000.0,1029974400000.0,1030060800000.0,1030320000000.0,1030406400000.0,1030492800000.0,1030579200000.0,1030665600000.0,1031011200000.0,1031097600000.0,1031184000000.0,1031270400000.0,1031529600000.0,1031616000000.0,1031702400000.0,1031788800000.0,1031875200000.0,1032134400000.0,1032220800000.0,1032307200000.0,1032393600000.0,1032480000000.0,1032739200000.0,1032825600000.0,1032912000000.0,1032998400000.0,1033084800000.0,1033344000000.0,1033430400000.0,1033516800000.0,1033603200000.0,1033689600000.0,1033948800000.0,1034035200000.0,1034121600000.0,1034208000000.0,1034294400000.0,1034553600000.0,1034640000000.0,1034726400000.0,1034812800000.0,1034899200000.0,1035158400000.0,1035244800000.0,1035331200000.0,1035417600000.0,1035504000000.0,1035763200000.0,1035849600000.0,1035936000000.0,1036022400000.0,1036108800000.0,1036368000000.0,1036454400000.0,1036540800000.0,1036627200000.0,1036713600000.0,1036972800000.0,1037059200000.0,1037145600000.0,1037232000000.0,1037318400000.0,1037577600000.0,1037664000000.0,1037750400000.0,1037836800000.0,1037923200000.0,1038182400000.0,1038268800000.0,1038355200000.0,1038528000000.0,1038787200000.0,1038873600000.0,1038960000000.0,1039046400000.0,1039132800000.0,1039392000000.0,1039478400000.0,1039564800000.0,1039651200000.0,1039737600000.0,1039996800000.0,1040083200000.0,1040169600000.0,1040256000000.0,1040342400000.0,1040601600000.0,1040688000000.0,1040860800000.0,1040947200000.0,1041206400000.0,1041292800000.0,1041465600000.0,1041552000000.0,1041811200000.0,1041897600000.0,1041984000000.0,1042070400000.0,1042156800000.0,1042416000000.0,1042502400000.0,1042588800000.0,1042675200000.0,1042761600000.0,1043107200000.0,1043193600000.0,1043280000000.0,1043366400000.0,1043625600000.0,1043712000000.0,1043798400000.0,1043884800000.0,1043971200000.0,1044230400000.0,1044316800000.0,1044403200000.0,1044489600000.0,1044576000000.0,1044835200000.0,1044921600000.0,1045008000000.0,1045094400000.0,1045180800000.0,1045526400000.0,1045612800000.0,1045699200000.0,1045785600000.0,1046044800000.0,1046131200000.0,1046217600000.0,1046304000000.0,1046390400000.0,1046649600000.0,1046736000000.0,1046822400000.0,1046908800000.0,1046995200000.0,1047254400000.0,1047340800000.0,1047427200000.0,1047513600000.0,1047600000000.0,1047859200000.0,1047945600000.0,1048032000000.0,1048118400000.0,1048204800000.0,1048464000000.0,1048550400000.0,1048636800000.0,1048723200000.0,1048809600000.0,1049068800000.0,1049155200000.0,1049241600000.0,1049328000000.0,1049414400000.0,1049673600000.0,1049760000000.0,1049846400000.0,1049932800000.0,1050019200000.0,1050278400000.0,1050364800000.0,1050451200000.0,1050537600000.0,1050883200000.0,1050969600000.0,1051056000000.0,1051142400000.0,1051228800000.0,1051488000000.0,1051574400000.0,1051660800000.0,1051747200000.0,1051833600000.0,1052092800000.0,1052179200000.0,1052265600000.0,1052352000000.0,1052438400000.0,1052697600000.0,1052784000000.0,1052870400000.0,1052956800000.0,1053043200000.0,1053302400000.0,1053388800000.0,1053475200000.0,1053561600000.0,1053648000000.0,1053993600000.0,1054080000000.0,1054166400000.0,1054252800000.0,1054512000000.0,1054598400000.0,1054684800000.0,1054771200000.0,1054857600000.0,1055116800000.0,1055203200000.0,1055289600000.0,1055376000000.0,1055462400000.0,1055721600000.0,1055808000000.0,1055894400000.0,1055980800000.0,1056067200000.0,1056326400000.0,1056412800000.0,1056499200000.0,1056585600000.0,1056672000000.0,1056931200000.0,1057017600000.0,1057104000000.0,1057190400000.0,1057536000000.0,1057622400000.0,1057708800000.0,1057795200000.0,1057881600000.0,1058140800000.0,1058227200000.0,1058313600000.0,1058400000000.0,1058486400000.0,1058745600000.0,1058832000000.0,1058918400000.0,1059004800000.0,1059091200000.0,1059350400000.0,1059436800000.0,1059523200000.0,1059609600000.0,1059696000000.0,1059955200000.0,1060041600000.0,1060128000000.0,1060214400000.0,1060300800000.0,1060560000000.0,1060646400000.0,1060732800000.0,1060819200000.0,1060905600000.0,1061164800000.0,1061251200000.0,1061337600000.0,1061424000000.0,1061510400000.0,1061769600000.0,1061856000000.0,1061942400000.0,1062028800000.0,1062115200000.0,1062460800000.0,1062547200000.0,1062633600000.0,1062720000000.0,1062979200000.0,1063065600000.0,1063152000000.0,1063238400000.0,1063324800000.0,1063584000000.0,1063670400000.0,1063756800000.0,1063843200000.0,1063929600000.0,1064188800000.0,1064275200000.0,1064361600000.0,1064448000000.0,1064534400000.0,1064793600000.0,1064880000000.0,1064966400000.0,1065052800000.0,1065139200000.0,1065398400000.0,1065484800000.0,1065571200000.0,1065657600000.0,1065744000000.0,1066003200000.0,1066089600000.0,1066176000000.0,1066262400000.0,1066348800000.0,1066608000000.0,1066694400000.0,1066780800000.0,1066867200000.0,1066953600000.0,1067212800000.0,1067299200000.0,1067385600000.0,1067472000000.0,1067558400000.0,1067817600000.0,1067904000000.0,1067990400000.0,1068076800000.0,1068163200000.0,1068422400000.0,1068508800000.0,1068595200000.0,1068681600000.0,1068768000000.0,1069027200000.0,1069113600000.0,1069200000000.0,1069286400000.0,1069372800000.0,1069632000000.0,1069718400000.0,1069804800000.0,1069977600000.0,1070236800000.0,1070323200000.0,1070409600000.0,1070496000000.0,1070582400000.0,1070841600000.0,1070928000000.0,1071014400000.0,1071100800000.0,1071187200000.0,1071446400000.0,1071532800000.0,1071619200000.0,1071705600000.0,1071792000000.0,1072051200000.0,1072137600000.0,1072224000000.0,1072396800000.0,1072656000000.0,1072742400000.0,1072828800000.0,1073001600000.0,1073260800000.0,1073347200000.0,1073433600000.0,1073520000000.0,1073606400000.0,1073865600000.0,1073952000000.0,1074038400000.0,1074124800000.0,1074211200000.0,1074556800000.0,1074643200000.0,1074729600000.0,1074816000000.0,1075075200000.0,1075161600000.0,1075248000000.0,1075334400000.0,1075420800000.0,1075680000000.0,1075766400000.0,1075852800000.0,1075939200000.0,1076025600000.0,1076284800000.0,1076371200000.0,1076457600000.0,1076544000000.0,1076630400000.0,1076976000000.0,1077062400000.0,1077148800000.0,1077235200000.0,1077494400000.0,1077580800000.0,1077667200000.0,1077753600000.0,1077840000000.0,1078099200000.0,1078185600000.0,1078272000000.0,1078358400000.0,1078444800000.0,1078704000000.0,1078790400000.0,1078876800000.0,1078963200000.0,1079049600000.0,1079308800000.0,1079395200000.0,1079481600000.0,1079568000000.0,1079654400000.0,1079913600000.0,1080000000000.0,1080086400000.0,1080172800000.0,1080259200000.0,1080518400000.0,1080604800000.0,1080691200000.0,1080777600000.0,1080864000000.0,1081123200000.0,1081209600000.0,1081296000000.0,1081382400000.0,1081728000000.0,1081814400000.0,1081900800000.0,1081987200000.0,1082073600000.0,1082332800000.0,1082419200000.0,1082505600000.0,1082592000000.0,1082678400000.0,1082937600000.0,1083024000000.0,1083110400000.0,1083196800000.0,1083283200000.0,1083542400000.0,1083628800000.0,1083715200000.0,1083801600000.0,1083888000000.0,1084147200000.0,1084233600000.0,1084320000000.0,1084406400000.0,1084492800000.0,1084752000000.0,1084838400000.0,1084924800000.0,1085011200000.0,1085097600000.0,1085356800000.0,1085443200000.0,1085529600000.0,1085616000000.0,1085702400000.0,1086048000000.0,1086134400000.0,1086220800000.0,1086307200000.0,1086566400000.0,1086652800000.0,1086739200000.0,1086825600000.0,1087171200000.0,1087257600000.0,1087344000000.0,1087430400000.0,1087516800000.0,1087776000000.0,1087862400000.0,1087948800000.0,1088035200000.0,1088121600000.0,1088380800000.0,1088467200000.0,1088553600000.0,1088640000000.0,1088726400000.0,1089072000000.0,1089158400000.0,1089244800000.0,1089331200000.0,1089590400000.0,1089676800000.0,1089763200000.0,1089849600000.0,1089936000000.0,1090195200000.0,1090281600000.0,1090368000000.0,1090454400000.0,1090540800000.0,1090800000000.0,1090886400000.0,1090972800000.0,1091059200000.0,1091145600000.0,1091404800000.0,1091491200000.0,1091577600000.0,1091664000000.0,1091750400000.0,1092009600000.0,1092096000000.0,1092182400000.0,1092268800000.0,1092355200000.0,1092614400000.0,1092700800000.0,1092787200000.0,1092873600000.0,1092960000000.0,1093219200000.0,1093305600000.0,1093392000000.0,1093478400000.0,1093564800000.0,1093824000000.0,1093910400000.0,1093996800000.0,1094083200000.0,1094169600000.0,1094515200000.0,1094601600000.0,1094688000000.0,1094774400000.0,1095033600000.0,1095120000000.0,1095206400000.0,1095292800000.0,1095379200000.0,1095638400000.0,1095724800000.0,1095811200000.0,1095897600000.0,1095984000000.0,1096243200000.0,1096329600000.0,1096416000000.0,1096502400000.0,1096588800000.0,1096848000000.0,1096934400000.0,1097020800000.0,1097107200000.0,1097193600000.0,1097452800000.0,1097539200000.0,1097625600000.0,1097712000000.0,1097798400000.0,1098057600000.0,1098144000000.0,1098230400000.0,1098316800000.0,1098403200000.0,1098662400000.0,1098748800000.0,1098835200000.0,1098921600000.0,1099008000000.0,1099267200000.0,1099353600000.0,1099440000000.0,1099526400000.0,1099612800000.0,1099872000000.0,1099958400000.0,1100044800000.0,1100131200000.0,1100217600000.0,1100476800000.0,1100563200000.0,1100649600000.0,1100736000000.0,1100822400000.0,1101081600000.0,1101168000000.0,1101254400000.0,1101427200000.0,1101686400000.0,1101772800000.0,1101859200000.0,1101945600000.0,1102032000000.0,1102291200000.0,1102377600000.0,1102464000000.0,1102550400000.0,1102636800000.0,1102896000000.0,1102982400000.0,1103068800000.0,1103155200000.0,1103241600000.0,1103500800000.0,1103587200000.0,1103673600000.0,1103760000000.0,1104105600000.0,1104192000000.0,1104278400000.0,1104364800000.0,1104451200000.0,1104710400000.0,1104796800000.0,1104883200000.0,1104969600000.0,1105056000000.0,1105315200000.0,1105401600000.0,1105488000000.0,1105574400000.0,1105660800000.0,1106006400000.0,1106092800000.0,1106179200000.0,1106265600000.0,1106524800000.0,1106611200000.0,1106697600000.0,1106784000000.0,1106870400000.0,1107129600000.0,1107216000000.0,1107302400000.0,1107388800000.0,1107475200000.0,1107734400000.0,1107820800000.0,1107907200000.0,1107993600000.0,1108080000000.0,1108339200000.0,1108425600000.0,1108512000000.0,1108598400000.0,1108684800000.0,1109030400000.0,1109116800000.0,1109203200000.0,1109289600000.0,1109548800000.0,1109635200000.0,1109721600000.0,1109808000000.0,1109894400000.0,1110153600000.0,1110240000000.0,1110326400000.0,1110412800000.0,1110499200000.0,1110758400000.0,1110844800000.0,1110931200000.0,1111017600000.0,1111104000000.0,1111363200000.0,1111449600000.0,1111536000000.0,1111622400000.0,1111968000000.0,1112054400000.0,1112140800000.0,1112227200000.0,1112313600000.0,1112572800000.0,1112659200000.0,1112745600000.0,1112832000000.0,1112918400000.0,1113177600000.0,1113264000000.0,1113350400000.0,1113436800000.0,1113523200000.0,1113782400000.0,1113868800000.0,1113955200000.0,1114041600000.0,1114128000000.0,1114387200000.0,1114473600000.0,1114560000000.0,1114646400000.0,1114732800000.0,1114992000000.0,1115078400000.0,1115164800000.0,1115251200000.0,1115337600000.0,1115596800000.0,1115683200000.0,1115769600000.0,1115856000000.0,1115942400000.0,1116201600000.0,1116288000000.0,1116374400000.0,1116460800000.0,1116547200000.0,1116806400000.0,1116892800000.0,1116979200000.0,1117065600000.0,1117152000000.0,1117497600000.0,1117584000000.0,1117670400000.0,1117756800000.0,1118016000000.0,1118102400000.0,1118188800000.0,1118275200000.0,1118361600000.0,1118620800000.0,1118707200000.0,1118793600000.0,1118880000000.0,1118966400000.0,1119225600000.0,1119312000000.0,1119398400000.0,1119484800000.0,1119571200000.0,1119830400000.0,1119916800000.0,1120003200000.0,1120089600000.0,1120176000000.0,1120521600000.0,1120608000000.0,1120694400000.0,1120780800000.0,1121040000000.0,1121126400000.0,1121212800000.0,1121299200000.0,1121385600000.0,1121644800000.0,1121731200000.0,1121817600000.0,1121904000000.0,1121990400000.0,1122249600000.0,1122336000000.0,1122422400000.0,1122508800000.0,1122595200000.0,1122854400000.0,1122940800000.0,1123027200000.0,1123113600000.0,1123200000000.0,1123459200000.0,1123545600000.0,1123632000000.0,1123718400000.0,1123804800000.0,1124064000000.0,1124150400000.0,1124236800000.0,1124323200000.0,1124409600000.0,1124668800000.0,1124755200000.0,1124841600000.0,1124928000000.0,1125014400000.0,1125273600000.0,1125360000000.0,1125446400000.0,1125532800000.0,1125619200000.0,1125964800000.0,1126051200000.0,1126137600000.0,1126224000000.0,1126483200000.0,1126569600000.0,1126656000000.0,1126742400000.0,1126828800000.0,1127088000000.0,1127174400000.0,1127260800000.0,1127347200000.0,1127433600000.0,1127692800000.0,1127779200000.0,1127865600000.0,1127952000000.0,1128038400000.0,1128297600000.0,1128384000000.0,1128470400000.0,1128556800000.0,1128643200000.0,1128902400000.0,1128988800000.0,1129075200000.0,1129161600000.0,1129248000000.0,1129507200000.0,1129593600000.0,1129680000000.0,1129766400000.0,1129852800000.0,1130112000000.0,1130198400000.0,1130284800000.0,1130371200000.0,1130457600000.0,1130716800000.0,1130803200000.0,1130889600000.0,1130976000000.0,1131062400000.0,1131321600000.0,1131408000000.0,1131494400000.0,1131580800000.0,1131667200000.0,1131926400000.0,1132012800000.0,1132099200000.0,1132185600000.0,1132272000000.0,1132531200000.0,1132617600000.0,1132704000000.0,1132876800000.0,1133136000000.0,1133222400000.0,1133308800000.0,1133395200000.0,1133481600000.0,1133740800000.0,1133827200000.0,1133913600000.0,1134000000000.0,1134086400000.0,1134345600000.0,1134432000000.0,1134518400000.0,1134604800000.0,1134691200000.0,1134950400000.0,1135036800000.0,1135123200000.0,1135209600000.0,1135296000000.0,1135641600000.0,1135728000000.0,1135814400000.0,1135900800000.0,1136246400000.0,1136332800000.0,1136419200000.0,1136505600000.0,1136764800000.0,1136851200000.0,1136937600000.0,1137024000000.0,1137110400000.0,1137456000000.0,1137542400000.0,1137628800000.0,1137715200000.0,1137974400000.0,1138060800000.0,1138147200000.0,1138233600000.0,1138320000000.0,1138579200000.0,1138665600000.0,1138752000000.0,1138838400000.0,1138924800000.0,1139184000000.0,1139270400000.0,1139356800000.0,1139443200000.0,1139529600000.0,1139788800000.0,1139875200000.0,1139961600000.0,1140048000000.0,1140134400000.0,1140480000000.0,1140566400000.0,1140652800000.0,1140739200000.0,1140998400000.0,1141084800000.0,1141171200000.0,1141257600000.0,1141344000000.0,1141603200000.0,1141689600000.0,1141776000000.0,1141862400000.0,1141948800000.0,1142208000000.0,1142294400000.0,1142380800000.0,1142467200000.0,1142553600000.0,1142812800000.0,1142899200000.0,1142985600000.0,1143072000000.0,1143158400000.0,1143417600000.0,1143504000000.0,1143590400000.0,1143676800000.0,1143763200000.0,1144022400000.0,1144108800000.0,1144195200000.0,1144281600000.0,1144368000000.0,1144627200000.0,1144713600000.0,1144800000000.0,1144886400000.0,1145232000000.0,1145318400000.0,1145404800000.0,1145491200000.0,1145577600000.0,1145836800000.0,1145923200000.0,1146009600000.0,1146096000000.0,1146182400000.0,1146441600000.0,1146528000000.0,1146614400000.0,1146700800000.0,1146787200000.0,1147046400000.0,1147132800000.0,1147219200000.0,1147305600000.0,1147392000000.0,1147651200000.0,1147737600000.0,1147824000000.0,1147910400000.0,1147996800000.0,1148256000000.0,1148342400000.0,1148428800000.0,1148515200000.0,1148601600000.0,1148947200000.0,1149033600000.0,1149120000000.0,1149206400000.0,1149465600000.0,1149552000000.0,1149638400000.0,1149724800000.0,1149811200000.0,1150070400000.0,1150156800000.0,1150243200000.0,1150329600000.0,1150416000000.0,1150675200000.0,1150761600000.0,1150848000000.0,1150934400000.0,1151020800000.0,1151280000000.0,1151366400000.0,1151452800000.0,1151539200000.0,1151625600000.0,1151884800000.0,1152057600000.0,1152144000000.0,1152230400000.0,1152489600000.0,1152576000000.0,1152662400000.0,1152748800000.0,1152835200000.0,1153094400000.0,1153180800000.0,1153267200000.0,1153353600000.0,1153440000000.0,1153699200000.0,1153785600000.0,1153872000000.0,1153958400000.0,1154044800000.0,1154304000000.0,1154390400000.0,1154476800000.0,1154563200000.0,1154649600000.0,1154908800000.0,1154995200000.0,1155081600000.0,1155168000000.0,1155254400000.0,1155513600000.0,1155600000000.0,1155686400000.0,1155772800000.0,1155859200000.0,1156118400000.0,1156204800000.0,1156291200000.0,1156377600000.0,1156464000000.0,1156723200000.0,1156809600000.0,1156896000000.0,1156982400000.0,1157068800000.0,1157414400000.0,1157500800000.0,1157587200000.0,1157673600000.0,1157932800000.0,1158019200000.0,1158105600000.0,1158192000000.0,1158278400000.0,1158537600000.0,1158624000000.0,1158710400000.0,1158796800000.0,1158883200000.0,1159142400000.0,1159228800000.0,1159315200000.0,1159401600000.0,1159488000000.0,1159747200000.0,1159833600000.0,1159920000000.0,1160006400000.0,1160092800000.0,1160352000000.0,1160438400000.0,1160524800000.0,1160611200000.0,1160697600000.0,1160956800000.0,1161043200000.0,1161129600000.0,1161216000000.0,1161302400000.0,1161561600000.0,1161648000000.0,1161734400000.0,1161820800000.0,1161907200000.0,1162166400000.0,1162252800000.0,1162339200000.0,1162425600000.0,1162512000000.0,1162771200000.0,1162857600000.0,1162944000000.0,1163030400000.0,1163116800000.0,1163376000000.0,1163462400000.0,1163548800000.0,1163635200000.0,1163721600000.0,1163980800000.0,1164067200000.0,1164153600000.0,1164326400000.0,1164585600000.0,1164672000000.0,1164758400000.0,1164844800000.0,1164931200000.0,1165190400000.0,1165276800000.0,1165363200000.0,1165449600000.0,1165536000000.0,1165795200000.0,1165881600000.0,1165968000000.0,1166054400000.0,1166140800000.0,1166400000000.0,1166486400000.0,1166572800000.0,1166659200000.0,1166745600000.0,1167091200000.0,1167177600000.0,1167264000000.0,1167350400000.0,1167782400000.0,1167868800000.0,1167955200000.0,1168214400000.0,1168300800000.0,1168387200000.0,1168473600000.0,1168560000000.0,1168905600000.0,1168992000000.0,1169078400000.0,1169164800000.0,1169424000000.0,1169510400000.0,1169596800000.0,1169683200000.0,1169769600000.0,1170028800000.0,1170115200000.0,1170201600000.0,1170288000000.0,1170374400000.0,1170633600000.0,1170720000000.0,1170806400000.0,1170892800000.0,1170979200000.0,1171238400000.0,1171324800000.0,1171411200000.0,1171497600000.0,1171584000000.0,1171929600000.0,1172016000000.0,1172102400000.0,1172188800000.0,1172448000000.0,1172534400000.0,1172620800000.0,1172707200000.0,1172793600000.0,1173052800000.0,1173139200000.0,1173225600000.0,1173312000000.0,1173398400000.0,1173657600000.0,1173744000000.0,1173830400000.0,1173916800000.0,1174003200000.0,1174262400000.0,1174348800000.0,1174435200000.0,1174521600000.0,1174608000000.0,1174867200000.0,1174953600000.0,1175040000000.0,1175126400000.0,1175212800000.0,1175472000000.0,1175558400000.0,1175644800000.0,1175731200000.0,1176076800000.0,1176163200000.0,1176249600000.0,1176336000000.0,1176422400000.0,1176681600000.0,1176768000000.0,1176854400000.0,1176940800000.0,1177027200000.0,1177286400000.0,1177372800000.0,1177459200000.0,1177545600000.0,1177632000000.0,1177891200000.0,1177977600000.0,1178064000000.0,1178150400000.0,1178236800000.0,1178496000000.0,1178582400000.0,1178668800000.0,1178755200000.0,1178841600000.0,1179100800000.0,1179187200000.0,1179273600000.0,1179360000000.0,1179446400000.0,1179705600000.0,1179792000000.0,1179878400000.0,1179964800000.0,1180051200000.0,1180396800000.0,1180483200000.0,1180569600000.0,1180656000000.0,1180915200000.0,1181001600000.0,1181088000000.0,1181174400000.0,1181260800000.0,1181520000000.0,1181606400000.0,1181692800000.0,1181779200000.0,1181865600000.0,1182124800000.0,1182211200000.0,1182297600000.0,1182384000000.0,1182470400000.0,1182729600000.0,1182816000000.0,1182902400000.0,1182988800000.0,1183075200000.0,1183334400000.0,1183420800000.0,1183593600000.0,1183680000000.0,1183939200000.0,1184025600000.0,1184112000000.0,1184198400000.0,1184284800000.0,1184544000000.0,1184630400000.0,1184716800000.0,1184803200000.0,1184889600000.0,1185148800000.0,1185235200000.0,1185321600000.0,1185408000000.0,1185494400000.0,1185753600000.0,1185840000000.0,1185926400000.0,1186012800000.0,1186099200000.0,1186358400000.0,1186444800000.0,1186531200000.0,1186617600000.0,1186704000000.0,1186963200000.0,1187049600000.0,1187136000000.0,1187222400000.0,1187308800000.0,1187568000000.0,1187654400000.0,1187740800000.0,1187827200000.0,1187913600000.0,1188172800000.0,1188259200000.0,1188345600000.0,1188432000000.0,1188518400000.0,1188864000000.0,1188950400000.0,1189036800000.0,1189123200000.0,1189382400000.0,1189468800000.0,1189555200000.0,1189641600000.0,1189728000000.0,1189987200000.0,1190073600000.0,1190160000000.0,1190246400000.0,1190332800000.0,1190592000000.0,1190678400000.0,1190764800000.0,1190851200000.0,1190937600000.0,1191196800000.0,1191283200000.0,1191369600000.0,1191456000000.0,1191542400000.0,1191801600000.0,1191888000000.0,1191974400000.0,1192060800000.0,1192147200000.0,1192406400000.0,1192492800000.0,1192579200000.0,1192665600000.0,1192752000000.0,1193011200000.0,1193097600000.0,1193184000000.0,1193270400000.0,1193356800000.0,1193616000000.0,1193702400000.0,1193788800000.0,1193875200000.0,1193961600000.0,1194220800000.0,1194307200000.0,1194393600000.0,1194480000000.0,1194566400000.0,1194825600000.0,1194912000000.0,1194998400000.0,1195084800000.0,1195171200000.0,1195430400000.0,1195516800000.0,1195603200000.0,1195776000000.0,1196035200000.0,1196121600000.0,1196208000000.0,1196294400000.0,1196380800000.0,1196640000000.0,1196726400000.0,1196812800000.0,1196899200000.0,1196985600000.0,1197244800000.0,1197331200000.0,1197417600000.0,1197504000000.0,1197590400000.0,1197849600000.0,1197936000000.0,1198022400000.0,1198108800000.0,1198195200000.0,1198454400000.0,1198627200000.0,1198713600000.0,1198800000000.0,1199059200000.0,1199232000000.0,1199318400000.0,1199404800000.0,1199664000000.0,1199750400000.0,1199836800000.0,1199923200000.0,1200009600000.0,1200268800000.0,1200355200000.0,1200441600000.0,1200528000000.0,1200614400000.0,1200960000000.0,1201046400000.0,1201132800000.0,1201219200000.0,1201478400000.0,1201564800000.0,1201651200000.0,1201737600000.0,1201824000000.0,1202083200000.0,1202169600000.0,1202256000000.0,1202342400000.0,1202428800000.0,1202688000000.0,1202774400000.0,1202860800000.0,1202947200000.0,1203033600000.0,1203379200000.0,1203465600000.0,1203552000000.0,1203638400000.0,1203897600000.0,1203984000000.0,1204070400000.0,1204156800000.0,1204243200000.0,1204502400000.0,1204588800000.0,1204675200000.0,1204761600000.0,1204848000000.0,1205107200000.0,1205193600000.0,1205280000000.0,1205366400000.0,1205452800000.0,1205712000000.0,1205798400000.0,1205884800000.0,1205971200000.0,1206316800000.0,1206403200000.0,1206489600000.0,1206576000000.0,1206662400000.0,1206921600000.0,1207008000000.0,1207094400000.0,1207180800000.0,1207267200000.0,1207526400000.0,1207612800000.0,1207699200000.0,1207785600000.0,1207872000000.0,1208131200000.0,1208217600000.0,1208304000000.0,1208390400000.0,1208476800000.0,1208736000000.0,1208822400000.0,1208908800000.0,1208995200000.0,1209081600000.0,1209340800000.0,1209427200000.0,1209513600000.0,1209600000000.0,1209686400000.0,1209945600000.0,1210032000000.0,1210118400000.0,1210204800000.0,1210291200000.0,1210550400000.0,1210636800000.0,1210723200000.0,1210809600000.0,1210896000000.0,1211155200000.0,1211241600000.0,1211328000000.0,1211414400000.0,1211500800000.0,1211846400000.0,1211932800000.0,1212019200000.0,1212105600000.0,1212364800000.0,1212451200000.0,1212537600000.0,1212624000000.0,1212710400000.0,1212969600000.0,1213056000000.0,1213142400000.0,1213228800000.0,1213315200000.0,1213574400000.0,1213660800000.0,1213747200000.0,1213833600000.0,1213920000000.0,1214179200000.0,1214265600000.0,1214352000000.0,1214438400000.0,1214524800000.0,1214784000000.0,1214870400000.0,1214956800000.0,1215043200000.0,1215388800000.0,1215475200000.0,1215561600000.0,1215648000000.0,1215734400000.0,1215993600000.0,1216080000000.0,1216166400000.0,1216252800000.0,1216339200000.0,1216598400000.0,1216684800000.0,1216771200000.0,1216857600000.0,1216944000000.0,1217203200000.0,1217289600000.0,1217376000000.0,1217462400000.0,1217548800000.0,1217808000000.0,1217894400000.0,1217980800000.0,1218067200000.0,1218153600000.0,1218412800000.0,1218499200000.0,1218585600000.0,1218672000000.0,1218758400000.0,1219017600000.0,1219104000000.0,1219190400000.0,1219276800000.0,1219363200000.0,1219622400000.0,1219708800000.0,1219795200000.0,1219881600000.0,1219968000000.0,1220313600000.0,1220400000000.0,1220486400000.0,1220572800000.0,1220832000000.0,1220918400000.0,1221004800000.0,1221091200000.0,1221177600000.0,1221436800000.0,1221523200000.0,1221609600000.0,1221696000000.0,1221782400000.0,1222041600000.0,1222128000000.0,1222214400000.0,1222300800000.0,1222387200000.0,1222646400000.0,1222732800000.0,1222819200000.0,1222905600000.0,1222992000000.0,1223251200000.0,1223337600000.0,1223424000000.0,1223510400000.0,1223596800000.0,1223856000000.0,1223942400000.0,1224028800000.0,1224115200000.0,1224201600000.0,1224460800000.0,1224547200000.0,1224633600000.0,1224720000000.0,1224806400000.0,1225065600000.0,1225152000000.0,1225238400000.0,1225324800000.0,1225411200000.0,1225670400000.0,1225756800000.0,1225843200000.0,1225929600000.0,1226016000000.0,1226275200000.0,1226361600000.0,1226448000000.0,1226534400000.0,1226620800000.0,1226880000000.0,1226966400000.0,1227052800000.0,1227139200000.0,1227225600000.0,1227484800000.0,1227571200000.0,1227657600000.0,1227830400000.0,1228089600000.0,1228176000000.0,1228262400000.0,1228348800000.0,1228435200000.0,1228694400000.0,1228780800000.0,1228867200000.0,1228953600000.0,1229040000000.0,1229299200000.0,1229385600000.0,1229472000000.0,1229558400000.0,1229644800000.0,1229904000000.0,1229990400000.0,1230076800000.0,1230249600000.0,1230508800000.0,1230595200000.0,1230681600000.0,1230854400000.0,1231113600000.0,1231200000000.0,1231286400000.0,1231372800000.0,1231459200000.0,1231718400000.0,1231804800000.0,1231891200000.0,1231977600000.0,1232064000000.0,1232409600000.0,1232496000000.0,1232582400000.0,1232668800000.0,1232928000000.0,1233014400000.0,1233100800000.0,1233187200000.0,1233273600000.0,1233532800000.0,1233619200000.0,1233705600000.0,1233792000000.0,1233878400000.0,1234137600000.0,1234224000000.0,1234310400000.0,1234396800000.0,1234483200000.0,1234828800000.0,1234915200000.0,1235001600000.0,1235088000000.0,1235347200000.0,1235433600000.0,1235520000000.0,1235606400000.0,1235692800000.0,1235952000000.0,1236038400000.0,1236124800000.0,1236211200000.0,1236297600000.0,1236556800000.0,1236643200000.0,1236729600000.0,1236816000000.0,1236902400000.0,1237161600000.0,1237248000000.0,1237334400000.0,1237420800000.0,1237507200000.0,1237766400000.0,1237852800000.0,1237939200000.0,1238025600000.0,1238112000000.0,1238371200000.0,1238457600000.0,1238544000000.0,1238630400000.0,1238716800000.0,1238976000000.0,1239062400000.0,1239148800000.0,1239235200000.0,1239580800000.0,1239667200000.0,1239753600000.0,1239840000000.0,1239926400000.0,1240185600000.0,1240272000000.0,1240358400000.0,1240444800000.0,1240531200000.0,1240790400000.0,1240876800000.0,1240963200000.0,1241049600000.0,1241136000000.0,1241395200000.0,1241481600000.0,1241568000000.0,1241654400000.0,1241740800000.0,1242000000000.0,1242086400000.0,1242172800000.0,1242259200000.0,1242345600000.0,1242604800000.0,1242691200000.0,1242777600000.0,1242864000000.0,1242950400000.0,1243296000000.0,1243382400000.0,1243468800000.0,1243555200000.0,1243814400000.0,1243900800000.0,1243987200000.0,1244073600000.0,1244160000000.0,1244419200000.0,1244505600000.0,1244592000000.0,1244678400000.0,1244764800000.0,1245024000000.0,1245110400000.0,1245196800000.0,1245283200000.0,1245369600000.0,1245628800000.0,1245715200000.0,1245801600000.0,1245888000000.0,1245974400000.0,1246233600000.0,1246320000000.0,1246406400000.0,1246492800000.0,1246838400000.0,1246924800000.0,1247011200000.0,1247097600000.0,1247184000000.0,1247443200000.0,1247529600000.0,1247616000000.0,1247702400000.0,1247788800000.0,1248048000000.0,1248134400000.0,1248220800000.0,1248307200000.0,1248393600000.0,1248652800000.0,1248739200000.0,1248825600000.0,1248912000000.0,1248998400000.0,1249257600000.0,1249344000000.0,1249430400000.0,1249516800000.0,1249603200000.0,1249862400000.0,1249948800000.0,1250035200000.0,1250121600000.0,1250208000000.0,1250467200000.0,1250553600000.0,1250640000000.0,1250726400000.0,1250812800000.0,1251072000000.0,1251158400000.0,1251244800000.0,1251331200000.0,1251417600000.0,1251676800000.0,1251763200000.0,1251849600000.0,1251936000000.0,1252022400000.0,1252368000000.0,1252454400000.0,1252540800000.0,1252627200000.0,1252886400000.0,1252972800000.0,1253059200000.0,1253145600000.0,1253232000000.0,1253491200000.0,1253577600000.0,1253664000000.0,1253750400000.0,1253836800000.0,1254096000000.0,1254182400000.0,1254268800000.0,1254355200000.0,1254441600000.0,1254700800000.0,1254787200000.0,1254873600000.0,1254960000000.0,1255046400000.0,1255305600000.0,1255392000000.0,1255478400000.0,1255564800000.0,1255651200000.0,1255910400000.0,1255996800000.0,1256083200000.0,1256169600000.0,1256256000000.0,1256515200000.0,1256601600000.0,1256688000000.0,1256774400000.0,1256860800000.0,1257120000000.0,1257206400000.0,1257292800000.0,1257379200000.0,1257465600000.0,1257724800000.0,1257811200000.0,1257897600000.0,1257984000000.0,1258070400000.0,1258329600000.0,1258416000000.0,1258502400000.0,1258588800000.0,1258675200000.0,1258934400000.0,1259020800000.0,1259107200000.0,1259280000000.0,1259539200000.0,1259625600000.0,1259712000000.0,1259798400000.0,1259884800000.0,1260144000000.0,1260230400000.0,1260316800000.0,1260403200000.0,1260489600000.0,1260748800000.0,1260835200000.0,1260921600000.0,1261008000000.0,1261094400000.0,1261353600000.0,1261440000000.0,1261526400000.0,1261612800000.0,1261958400000.0,1262044800000.0,1262131200000.0,1262217600000.0,1262563200000.0,1262649600000.0,1262736000000.0,1262822400000.0,1262908800000.0,1263168000000.0,1263254400000.0,1263340800000.0,1263427200000.0,1263513600000.0,1263859200000.0,1263945600000.0,1264032000000.0,1264118400000.0,1264377600000.0,1264464000000.0,1264550400000.0,1264636800000.0,1264723200000.0,1264982400000.0,1265068800000.0,1265155200000.0,1265241600000.0,1265328000000.0,1265587200000.0,1265673600000.0,1265760000000.0,1265846400000.0,1265932800000.0,1266278400000.0,1266364800000.0,1266451200000.0,1266537600000.0,1266796800000.0,1266883200000.0,1266969600000.0,1267056000000.0,1267142400000.0,1267401600000.0,1267488000000.0,1267574400000.0,1267660800000.0,1267747200000.0,1268006400000.0,1268092800000.0,1268179200000.0,1268265600000.0,1268352000000.0,1268611200000.0,1268697600000.0,1268784000000.0,1268870400000.0,1268956800000.0,1269216000000.0,1269302400000.0,1269388800000.0,1269475200000.0,1269561600000.0,1269820800000.0,1269907200000.0,1269993600000.0,1270080000000.0,1270425600000.0,1270512000000.0,1270598400000.0,1270684800000.0,1270771200000.0,1271030400000.0,1271116800000.0,1271203200000.0,1271289600000.0,1271376000000.0,1271635200000.0,1271721600000.0,1271808000000.0,1271894400000.0,1271980800000.0,1272240000000.0,1272326400000.0,1272412800000.0,1272499200000.0,1272585600000.0,1272844800000.0,1272931200000.0,1273017600000.0,1273104000000.0,1273190400000.0,1273449600000.0,1273536000000.0,1273622400000.0,1273708800000.0,1273795200000.0,1274054400000.0,1274140800000.0,1274227200000.0,1274313600000.0,1274400000000.0,1274659200000.0,1274745600000.0,1274832000000.0,1274918400000.0,1275004800000.0,1275350400000.0,1275436800000.0,1275523200000.0,1275609600000.0,1275868800000.0,1275955200000.0,1276041600000.0,1276128000000.0,1276214400000.0,1276473600000.0,1276560000000.0,1276646400000.0,1276732800000.0,1276819200000.0,1277078400000.0,1277164800000.0,1277251200000.0,1277337600000.0,1277424000000.0,1277683200000.0,1277769600000.0,1277856000000.0,1277942400000.0,1278028800000.0,1278374400000.0,1278460800000.0,1278547200000.0,1278633600000.0,1278892800000.0,1278979200000.0,1279065600000.0,1279152000000.0,1279238400000.0,1279497600000.0,1279584000000.0,1279670400000.0,1279756800000.0,1279843200000.0,1280102400000.0,1280188800000.0,1280275200000.0,1280361600000.0,1280448000000.0,1280707200000.0,1280793600000.0,1280880000000.0,1280966400000.0,1281052800000.0,1281312000000.0,1281398400000.0,1281484800000.0,1281571200000.0,1281657600000.0,1281916800000.0,1282003200000.0,1282089600000.0,1282176000000.0,1282262400000.0,1282521600000.0,1282608000000.0,1282694400000.0,1282780800000.0,1282867200000.0,1283126400000.0,1283212800000.0,1283299200000.0,1283385600000.0,1283472000000.0,1283817600000.0,1283904000000.0,1283990400000.0,1284076800000.0,1284336000000.0,1284422400000.0,1284508800000.0,1284595200000.0,1284681600000.0,1284940800000.0,1285027200000.0,1285113600000.0,1285200000000.0,1285286400000.0,1285545600000.0,1285632000000.0,1285718400000.0,1285804800000.0,1285891200000.0,1286150400000.0,1286236800000.0,1286323200000.0,1286409600000.0,1286496000000.0,1286755200000.0,1286841600000.0,1286928000000.0,1287014400000.0,1287100800000.0,1287360000000.0,1287446400000.0,1287532800000.0,1287619200000.0,1287705600000.0,1287964800000.0,1288051200000.0,1288137600000.0,1288224000000.0,1288310400000.0,1288569600000.0,1288656000000.0,1288742400000.0,1288828800000.0,1288915200000.0,1289174400000.0,1289260800000.0,1289347200000.0,1289433600000.0,1289520000000.0,1289779200000.0,1289865600000.0,1289952000000.0,1290038400000.0,1290124800000.0,1290384000000.0,1290470400000.0,1290556800000.0,1290729600000.0,1290988800000.0,1291075200000.0,1291161600000.0,1291248000000.0,1291334400000.0,1291593600000.0,1291680000000.0,1291766400000.0,1291852800000.0,1291939200000.0,1292198400000.0,1292284800000.0,1292371200000.0,1292457600000.0,1292544000000.0,1292803200000.0,1292889600000.0,1292976000000.0,1293062400000.0,1293408000000.0,1293494400000.0,1293580800000.0,1293667200000.0,1293753600000.0,1294012800000.0,1294099200000.0,1294185600000.0,1294272000000.0,1294358400000.0,1294617600000.0,1294704000000.0,1294790400000.0,1294876800000.0,1294963200000.0,1295308800000.0,1295395200000.0,1295481600000.0,1295568000000.0,1295827200000.0,1295913600000.0,1296000000000.0,1296086400000.0,1296172800000.0,1296432000000.0,1296518400000.0,1296604800000.0,1296691200000.0,1296777600000.0,1297036800000.0,1297123200000.0,1297209600000.0,1297296000000.0,1297382400000.0,1297641600000.0,1297728000000.0,1297814400000.0,1297900800000.0,1297987200000.0,1298332800000.0,1298419200000.0,1298505600000.0,1298592000000.0,1298851200000.0,1298937600000.0,1299024000000.0,1299110400000.0,1299196800000.0,1299456000000.0,1299542400000.0,1299628800000.0,1299715200000.0,1299801600000.0,1300060800000.0,1300147200000.0,1300233600000.0,1300320000000.0,1300406400000.0,1300665600000.0,1300752000000.0,1300838400000.0,1300924800000.0,1301011200000.0,1301270400000.0,1301356800000.0,1301443200000.0,1301529600000.0,1301616000000.0,1301875200000.0,1301961600000.0,1302048000000.0,1302134400000.0,1302220800000.0,1302480000000.0,1302566400000.0,1302652800000.0,1302739200000.0,1302825600000.0,1303084800000.0,1303171200000.0,1303257600000.0,1303344000000.0,1303689600000.0,1303776000000.0,1303862400000.0,1303948800000.0,1304035200000.0,1304294400000.0,1304380800000.0,1304467200000.0,1304553600000.0,1304640000000.0,1304899200000.0,1304985600000.0,1305072000000.0,1305158400000.0,1305244800000.0,1305504000000.0,1305590400000.0,1305676800000.0,1305763200000.0,1305849600000.0,1306108800000.0,1306195200000.0,1306281600000.0,1306368000000.0,1306454400000.0,1306800000000.0,1306886400000.0,1306972800000.0,1307059200000.0,1307318400000.0,1307404800000.0,1307491200000.0,1307577600000.0,1307664000000.0,1307923200000.0,1308009600000.0,1308096000000.0,1308182400000.0,1308268800000.0,1308528000000.0,1308614400000.0,1308700800000.0,1308787200000.0,1308873600000.0,1309132800000.0,1309219200000.0,1309305600000.0,1309392000000.0,1309478400000.0,1309824000000.0,1309910400000.0,1309996800000.0,1310083200000.0,1310342400000.0,1310428800000.0,1310515200000.0,1310601600000.0,1310688000000.0,1310947200000.0,1311033600000.0,1311120000000.0,1311206400000.0,1311292800000.0,1311552000000.0,1311638400000.0,1311724800000.0,1311811200000.0,1311897600000.0,1312156800000.0,1312243200000.0,1312329600000.0,1312416000000.0,1312502400000.0,1312761600000.0,1312848000000.0,1312934400000.0,1313020800000.0,1313107200000.0,1313366400000.0,1313452800000.0,1313539200000.0,1313625600000.0,1313712000000.0,1313971200000.0,1314057600000.0,1314144000000.0,1314230400000.0,1314316800000.0,1314576000000.0,1314662400000.0,1314748800000.0,1314835200000.0,1314921600000.0,1315267200000.0,1315353600000.0,1315440000000.0,1315526400000.0,1315785600000.0,1315872000000.0,1315958400000.0,1316044800000.0,1316131200000.0,1316390400000.0,1316476800000.0,1316563200000.0,1316649600000.0,1316736000000.0,1316995200000.0,1317081600000.0,1317168000000.0,1317254400000.0,1317340800000.0,1317600000000.0,1317686400000.0,1317772800000.0,1317859200000.0,1317945600000.0,1318204800000.0,1318291200000.0,1318377600000.0,1318464000000.0,1318550400000.0,1318809600000.0,1318896000000.0,1318982400000.0,1319068800000.0,1319155200000.0,1319414400000.0,1319500800000.0,1319587200000.0,1319673600000.0,1319760000000.0,1320019200000.0,1320105600000.0,1320192000000.0,1320278400000.0,1320364800000.0,1320624000000.0,1320710400000.0,1320796800000.0,1320883200000.0,1320969600000.0,1321228800000.0,1321315200000.0,1321401600000.0,1321488000000.0,1321574400000.0,1321833600000.0,1321920000000.0,1322006400000.0,1322179200000.0,1322438400000.0,1322524800000.0,1322611200000.0,1322697600000.0,1322784000000.0,1323043200000.0,1323129600000.0,1323216000000.0,1323302400000.0,1323388800000.0,1323648000000.0,1323734400000.0,1323820800000.0,1323907200000.0,1323993600000.0,1324252800000.0,1324339200000.0,1324425600000.0,1324512000000.0,1324598400000.0,1324944000000.0,1325030400000.0,1325116800000.0,1325203200000.0,1325548800000.0,1325635200000.0,1325721600000.0,1325808000000.0,1326067200000.0,1326153600000.0,1326240000000.0,1326326400000.0,1326412800000.0,1326758400000.0,1326844800000.0,1326931200000.0,1327017600000.0,1327276800000.0,1327363200000.0,1327449600000.0,1327536000000.0,1327622400000.0,1327881600000.0,1327968000000.0,1328054400000.0,1328140800000.0,1328227200000.0,1328486400000.0,1328572800000.0,1328659200000.0,1328745600000.0,1328832000000.0,1329091200000.0,1329177600000.0,1329264000000.0,1329350400000.0,1329436800000.0,1329782400000.0,1329868800000.0,1329955200000.0,1330041600000.0,1330300800000.0,1330387200000.0,1330473600000.0,1330560000000.0,1330646400000.0,1330905600000.0,1330992000000.0,1331078400000.0,1331164800000.0,1331251200000.0,1331510400000.0,1331596800000.0,1331683200000.0,1331769600000.0,1331856000000.0,1332115200000.0,1332201600000.0,1332288000000.0,1332374400000.0,1332460800000.0,1332720000000.0,1332806400000.0,1332892800000.0,1332979200000.0,1333065600000.0,1333324800000.0,1333411200000.0,1333497600000.0,1333584000000.0,1333929600000.0,1334016000000.0,1334102400000.0,1334188800000.0,1334275200000.0,1334534400000.0,1334620800000.0,1334707200000.0,1334793600000.0,1334880000000.0,1335139200000.0,1335225600000.0,1335312000000.0,1335398400000.0,1335484800000.0,1335744000000.0,1335830400000.0,1335916800000.0,1336003200000.0,1336089600000.0,1336348800000.0,1336435200000.0,1336521600000.0,1336608000000.0,1336694400000.0,1336953600000.0,1337040000000.0,1337126400000.0,1337212800000.0,1337299200000.0,1337558400000.0,1337644800000.0,1337731200000.0,1337817600000.0,1337904000000.0,1338249600000.0,1338336000000.0,1338422400000.0,1338508800000.0,1338768000000.0,1338854400000.0,1338940800000.0,1339027200000.0,1339113600000.0,1339372800000.0,1339459200000.0,1339545600000.0,1339632000000.0,1339718400000.0,1339977600000.0,1340064000000.0,1340150400000.0,1340236800000.0,1340323200000.0,1340582400000.0,1340668800000.0,1340755200000.0,1340841600000.0,1340928000000.0,1341187200000.0,1341273600000.0,1341446400000.0,1341532800000.0,1341792000000.0,1341878400000.0,1341964800000.0,1342051200000.0,1342137600000.0,1342396800000.0,1342483200000.0,1342569600000.0,1342656000000.0,1342742400000.0,1343001600000.0,1343088000000.0,1343174400000.0,1343260800000.0,1343347200000.0,1343606400000.0,1343692800000.0,1343779200000.0,1343865600000.0,1343952000000.0,1344211200000.0,1344297600000.0,1344384000000.0,1344470400000.0,1344556800000.0,1344816000000.0,1344902400000.0,1344988800000.0,1345075200000.0,1345161600000.0,1345420800000.0,1345507200000.0,1345593600000.0,1345680000000.0,1345766400000.0,1346025600000.0,1346112000000.0,1346198400000.0,1346284800000.0,1346371200000.0,1346716800000.0,1346803200000.0,1346889600000.0,1346976000000.0,1347235200000.0,1347321600000.0,1347408000000.0,1347494400000.0,1347580800000.0,1347840000000.0,1347926400000.0,1348012800000.0,1348099200000.0,1348185600000.0,1348444800000.0,1348531200000.0,1348617600000.0,1348704000000.0,1348790400000.0,1349049600000.0,1349136000000.0,1349222400000.0,1349308800000.0,1349395200000.0,1349654400000.0,1349740800000.0,1349827200000.0,1349913600000.0,1350000000000.0,1350259200000.0,1350345600000.0,1350432000000.0,1350518400000.0,1350604800000.0,1350864000000.0,1350950400000.0,1351036800000.0,1351123200000.0,1351209600000.0,1351641600000.0,1351728000000.0,1351814400000.0,1352073600000.0,1352160000000.0,1352246400000.0,1352332800000.0,1352419200000.0,1352678400000.0,1352764800000.0,1352851200000.0,1352937600000.0,1353024000000.0,1353283200000.0,1353369600000.0,1353456000000.0,1353628800000.0,1353888000000.0,1353974400000.0,1354060800000.0,1354147200000.0,1354233600000.0,1354492800000.0,1354579200000.0,1354665600000.0,1354752000000.0,1354838400000.0,1355097600000.0,1355184000000.0,1355270400000.0,1355356800000.0,1355443200000.0,1355702400000.0,1355788800000.0,1355875200000.0,1355961600000.0,1356048000000.0,1356307200000.0,1356480000000.0,1356566400000.0,1356652800000.0,1356912000000.0,1357084800000.0,1357171200000.0,1357257600000.0,1357516800000.0,1357603200000.0,1357689600000.0,1357776000000.0,1357862400000.0,1358121600000.0,1358208000000.0,1358294400000.0,1358380800000.0,1358467200000.0,1358812800000.0,1358899200000.0,1358985600000.0,1359072000000.0,1359331200000.0,1359417600000.0,1359504000000.0,1359590400000.0,1359676800000.0,1359936000000.0,1360022400000.0,1360108800000.0,1360195200000.0,1360281600000.0,1360540800000.0,1360627200000.0,1360713600000.0,1360800000000.0,1360886400000.0,1361232000000.0,1361318400000.0,1361404800000.0,1361491200000.0,1361750400000.0,1361836800000.0,1361923200000.0,1362009600000.0,1362096000000.0],\"y\":[31.68,29.66,31.12,30.56,29.87,29.66,29.72,30.57,29.5,27.78,28.26,29.56,30.39,29.91,32.81,35.06,34.36,33.72,33.93,33.83,33.05,30.57,33.02,32.41,30.95,31.7,30.44,32.03,30.39,29.04,26.56,27.67,27.2,30.12,30.85,29.45,28.9,29.3,31.2,29.5,30.82,30.16,30.22,28.66,27.98,26.91,27.5,26.77,25.64,24.15,25.0,26.17,24.56,25.7,24.65,24.5,22.85,21.87,20.86,21.32,21.22,21.0,21.29,20.42,21.67,22.5,22.2,22.58,23.48,23.05,23.28,22.17,22.98,21.99,22.46,22.17,23.49,24.62,27.05,26.14,25.14,26.32,25.16,26.47,24.92,25.47,25.92,25.11,25.19,26.47,27.78,27.69,28.63,27.47,28.05,28.35,27.84,25.62,26.81,26.04,23.68,24.34,24.34,25.29,23.49,24.71,23.98,22.98,23.34,23.04,23.31,22.73,23.1,23.13,23.19,22.88,22.7,23.58,25.01,24.31,24.56,25.14,26.41,27.28,27.63,28.23,28.78,28.93,29.63,30.85,30.36,28.42,30.15,28.63,28.42,28.08,28.2,27.65,26.86,29.5,29.15,29.69,27.57,25.38,26.02,25.01,23.8,26.02,12.52,11.79,10.85,11.49,10.73,10.79,10.58,10.15,9.54,9.73,10.73,10.45,9.78,9.78,9.21,9.48,9.91,9.18,9.0,9.0,9.03,9.39,9.51,9.97,10.85,10.82,10.43,10.36,9.75,9.82,9.27,9.42,9.85,9.66,9.24,9.0,9.21,9.15,9.0,9.39,9.09,8.77,8.54,8.02,8.3,8.12,8.27,6.96,6.96,7.32,7.39,7.48,7.29,7.02,6.84,6.93,6.81,6.99,6.84,7.29,7.14,7.2,7.2,7.24,7.24,7.96,8.3,7.96,8.05,8.36,8.05,8.75,8.36,8.33,8.17,9.09,9.48,9.36,9.97,9.97,9.7,9.51,10.55,10.58,10.51,10.27,10.03,9.82,10.27,10.09,10.09,9.3,9.57,9.3,9.48,9.75,9.24,8.9,9.18,9.15,9.15,9.48,9.42,8.87,9.12,9.36,9.91,10.45,10.33,10.12,9.85,9.05,9.51,9.94,9.57,9.54,10.0,9.57,9.78,10.51,11.18,10.59,11.12,10.78,10.96,10.73,10.5,9.84,9.48,10.15,10.01,9.99,10.72,10.6,10.9,10.43,9.92,11.08,12.51,12.18,11.79,11.69,12.02,12.01,12.74,12.4,12.61,12.93,12.14,12.52,12.14,11.95,11.66,11.18,11.11,11.33,11.27,11.72,11.45,11.44,11.46,11.43,11.3,11.28,11.07,10.44,9.62,9.7,10.16,10.05,10.18,10.08,10.53,10.37,9.74,9.88,9.95,9.67,9.94,9.89,9.82,10.54,10.94,10.82,11.67,11.55,11.35,11.45,11.31,11.62,11.59,11.28,10.71,11.04,10.28,10.96,11.85,12.08,11.65,12.21,10.11,9.71,9.72,9.5,9.28,8.98,9.04,9.22,9.21,9.14,9.27,9.64,9.48,9.3,9.36,9.19,9.26,9.25,9.28,9.11,8.97,9.07,8.79,8.81,8.71,8.86,8.66,9.03,9.2,8.95,8.67,8.67,9.02,8.87,9.02,8.62,8.4,8.45,8.26,7.92,8.28,7.62,7.65,8.0,7.56,7.37,7.54,7.54,7.56,7.32,7.28,7.72,7.85,7.88,7.78,8.18,8.63,8.76,8.75,8.76,8.26,8.75,8.9,9.25,8.82,9.21,9.33,9.08,8.57,8.56,8.54,9.04,9.03,9.27,9.52,9.53,9.1,9.1,9.12,9.42,9.54,9.46,9.22,9.73,9.5,9.57,9.65,10.39,10.21,9.98,9.93,10.36,10.24,10.89,11.55,11.08,10.96,10.96,10.59,10.45,10.21,9.92,10.03,10.22,10.51,10.05,10.21,10.39,10.45,10.73,10.91,10.65,11.33,11.47,11.52,11.14,10.99,10.53,10.32,10.24,10.28,10.55,10.1,10.93,10.78,10.61,11.19,11.29,11.31,11.32,11.22,11.71,12.02,11.87,12.33,12.38,12.0,11.82,11.69,12.15,12.02,12.16,11.96,11.62,11.0,11.25,10.45,11.06,11.58,11.51,10.68,10.55,11.4,11.81,11.44,11.7,11.86,11.99,12.19,12.02,11.91,11.88,12.13,12.03,12.08,12.12,11.8,11.71,11.35,11.41,11.41,11.51,11.89,11.7,11.55,12.11,12.03,11.94,11.72,11.99,12.09,12.19,12.16,12.52,12.7,12.36,12.15,11.93,11.79,11.56,11.73,11.19,11.65,11.8,11.66,11.52,11.43,11.01,10.93,11.85,11.76,11.34,11.64,12.45,12.29,12.26,12.16,12.03,11.41,11.83,12.24,11.74,11.66,11.66,11.77,11.33,11.14,11.08,11.05,10.78,10.41,10.45,9.95,9.77,9.5,9.77,9.99,9.8,8.33,8.32,8.19,8.4,8.33,8.05,8.3,8.62,8.3,8.24,8.53,9.11,8.76,8.52,8.42,8.9,8.51,8.86,8.68,7.6,7.29,7.27,7.26,7.04,7.39,6.98,6.97,7.3,7.5,7.42,7.2,7.03,6.8,7.17,7.31,7.44,7.29,7.29,7.09,7.38,7.59,7.69,7.77,7.74,7.84,7.77,7.65,7.55,7.22,7.15,7.15,7.17,6.83,7.04,6.9,6.99,6.99,6.97,6.95,6.88,6.89,7.05,7.2,7.3,7.09,7.23,7.22,7.12,7.26,7.15,7.16,7.05,7.06,6.89,6.95,6.82,6.7,6.65,6.61,6.86,7.06,7.18,7.37,7.08,6.86,6.97,7.08,7.15,7.24,7.14,7.5,7.59,7.51,7.77,7.81,7.96,8.21,8.22,8.37,7.78,7.7,7.37,7.61,7.58,7.93,7.76,7.61,7.43,7.55,7.95,7.79,7.77,7.49,7.64,7.54,7.38,7.37,7.28,7.11,7.27,7.17,7.43,7.53,7.39,7.19,7.22,7.33,7.09,6.91,6.88,7.05,6.98,7.0,6.84,6.84,6.97,7.2,7.25,7.25,7.22,7.08,7.14,7.16,7.11,7.1,7.02,7.11,6.86,6.82,6.75,6.89,6.71,6.87,7.09,7.26,6.96,6.98,7.13,7.1,7.03,7.02,6.88,6.98,6.98,7.0,7.07,7.13,7.43,7.22,7.18,7.29,7.17,7.3,7.05,7.23,7.3,7.12,7.08,7.11,7.08,7.07,6.99,6.92,6.91,7.16,7.19,7.3,7.29,7.27,7.25,7.29,6.99,7.08,7.01,7.05,7.09,6.88,6.89,7.1,7.03,7.01,7.05,7.03,6.9,6.99,6.42,6.6,6.51,6.44,6.38,6.39,6.57,6.6,6.54,6.49,6.74,6.84,6.91,6.98,7.03,7.82,8.51,8.58,8.75,8.9,9.03,9.08,9.02,9.11,9.14,8.8,8.65,8.68,8.87,8.91,9.18,8.89,8.8,8.73,8.49,8.42,8.56,8.58,8.34,8.16,8.35,8.49,8.64,8.47,8.88,8.85,9.3,9.31,9.34,9.27,9.13,9.28,9.38,9.11,9.27,9.28,9.37,9.3,9.66,9.92,9.67,9.52,9.65,9.68,9.54,9.66,10.16,10.14,10.02,10.11,10.11,9.97,10.47,10.21,10.08,9.86,10.25,10.08,10.31,9.91,9.55,9.69,9.55,9.56,9.58,9.81,9.71,9.58,9.89,9.88,10.22,10.54,10.15,10.14,10.24,10.45,10.79,10.99,11.11,11.16,11.1,10.94,11.06,10.88,10.79,10.97,11.23,10.8,10.87,10.76,11.13,10.98,10.74,10.91,10.37,9.93,10.06,10.36,10.08,10.11,10.0,10.55,10.84,11.29,11.21,11.4,11.52,11.84,11.94,12.07,11.31,11.06,11.29,11.27,11.07,11.18,10.99,10.99,11.53,11.52,11.23,11.13,11.26,11.14,11.2,11.24,10.94,10.65,10.47,10.86,10.9,10.44,10.28,9.92,9.93,9.91,9.86,10.28,10.06,10.08,10.17,10.56,10.47,10.23,10.28,10.14,10.24,9.94,9.91,10.31,10.16,9.81,9.78,9.67,9.74,9.58,9.65,9.63,9.92,10.1,10.28,10.35,10.39,10.35,10.78,10.74,10.98,11.36,11.18,11.54,11.73,11.77,11.11,11.05,11.05,10.99,10.79,10.97,11.19,11.22,10.95,11.03,10.97,10.85,10.82,10.6,10.9,11.04,11.02,11.17,11.57,11.54,11.18,11.26,11.31,10.93,10.89,10.79,10.87,11.09,11.2,11.63,11.68,11.58,11.63,12.23,13.0,12.64,13.18,13.46,13.2,13.4,12.86,12.56,12.74,12.48,12.58,12.58,12.3,12.4,13.07,13.15,13.57,13.58,13.15,13.18,13.37,13.77,13.53,13.28,13.39,13.64,13.1,12.95,14.25,14.19,13.79,13.48,13.48,13.51,13.47,13.19,13.1,12.86,13.02,12.54,12.68,12.71,12.96,12.93,12.97,12.78,13.2,13.28,13.22,13.16,12.95,13.16,12.87,12.99,13.18,13.29,13.82,13.86,13.7,13.64,13.64,14.06,13.81,14.0,14.5,14.76,14.69,14.95,14.65,14.92,15.92,15.95,16.0,15.72,16.05,16.39,16.13,16.39,15.8,15.8,15.82,15.71,15.11,15.05,14.78,14.66,14.6,14.17,14.21,14.38,16.01,15.66,15.55,15.66,15.38,15.41,14.93,15.2,15.77,15.69,15.87,15.73,15.36,15.22,15.46,15.26,14.48,14.73,15.33,15.08,14.77,15.0,14.97,15.01,15.43,14.93,14.98,15.11,15.54,16.07,16.85,16.7,16.59,16.77,17.44,17.34,17.13,17.39,17.68,17.36,17.44,17.31,17.26,17.12,17.68,18.06,18.34,18.48,17.95,18.12,18.13,18.25,18.5,18.81,18.84,18.8,18.86,19.14,19.76,19.27,18.99,18.77,18.62,19.33,21.87,22.13,23.22,23.06,23.08,23.31,23.05,23.12,23.33,24.46,25.38,25.48,25.51,26.02,26.9,26.48,26.61,26.44,26.28,26.62,26.89,26.99,26.86,26.72,26.7,26.93,26.83,29.83,29.79,31.15,31.39,33.28,32.6,32.96,31.71,30.48,31.99,30.58,30.77,31.12,31.68,31.56,31.75,31.73,32.39,31.6,30.5,30.97,31.0,31.13,30.71,31.21,31.34,31.51,31.32,30.78,31.09,31.36,31.39,33.67,33.53,31.39,31.83,33.94,34.14,34.36,33.98,34.26,34.28,34.41,35.04,35.13,35.32,35.97,37.39,37.7,38.72,37.84,38.34,38.39,39.34,38.29,38.1,39.49,41.15,42.99,43.83,42.7,42.21,41.47,42.9,43.24,43.27,43.63,43.28,42.91,40.64,41.63,41.58,39.42,38.27,38.74,39.16,39.21,39.84,40.05,41.09,41.78,42.5,41.65,41.38,41.33,41.36,40.6,41.63,40.53,39.77,39.96,40.74,41.17,42.36,42.54,40.77,41.49,39.91,36.24,34.38,34.64,36.07,34.54,36.16,34.53,35.97,35.2,34.96,34.56,35.07,35.43,35.22,36.13,35.67,36.22,35.96,35.42,34.63,33.19,33.82,34.57,34.39,34.86,36.52,36.52,38.67,38.61,38.69,39.62,39.45,38.67,39.19,38.94,37.19,36.88,35.54,35.91,36.62,34.83,34.91,35.01,36.11,36.94,37.26,36.58,36.82,37.49,37.82,36.72,36.08,36.29,35.37,35.8,35.5,36.94,36.36,36.6,37.2,37.05,37.19,37.3,39.63,40.41,40.35,42.0,42.43,42.1,42.79,42.61,42.43,42.78,42.6,41.48,41.58,42.0,42.03,41.54,41.81,41.48,42.62,42.19,42.79,44.83,46.37,44.98,45.86,45.03,44.57,44.61,44.48,44.51,44.8,44.48,44.58,45.29,45.6,44.99,44.95,47.46,47.34,48.41,49.9,49.99,49.43,48.25,48.5,49.8,51.2,51.73,50.68,50.48,51.74,52.36,51.97,49.68,50.9,52.14,52.95,52.27,51.33,50.28,49.89,48.99,50.17,47.9,52.27,52.52,51.97,50.78,53.43,54.6,54.13,55.23,54.56,55.46,53.89,52.97,56.01,55.92,58.3,60.15,59.47,58.58,58.26,58.46,59.5,59.85,59.76,60.57,63.17,62.75,62.79,63.18,64.69,65.27,67.44,67.75,66.23,65.96,69.63,70.64,69.85,72.02,71.92,72.05,72.29,72.85,72.92,70.03,70.2,69.16,69.42,70.13,71.48,71.99,71.34,72.19,71.55,69.49,69.92,72.7,72.91,72.34,74.21,73.96,78.64,81.6,81.98,83.24,82.38,80.23,76.87,74.0,75.54,73.95,72.16,70.34,70.05,72.94,73.44,73.35,70.12,69.88,65.45,65.74,66.92,63.17,65.46,62.93,65.78,67.32,68.63,68.36,67.18,69.36,69.78,69.5,69.04,66.61,67.2,67.7,65.86,63.68,64.49,63.86,62.18,61.46,63.88,65.47,64.41,62.54,62.89,62.23,60.11,59.98,58.51,58.31,57.88,57.1,60.62,61.03,61.0,60.93,59.49,65.37,69.28,67.87,66.79,66.12,64.88,64.65,63.03,64.4,63.85,65.77,65.2,63.95,64.35,66.28,67.46,68.46,67.69,69.65,69.19,69.18,69.92,69.92,69.08,68.66,66.28,65.84,65.93,63.2,63.47,61.45,62.74,61.64,61.42,61.6,62.56,61.81,59.54,58.13,60.46,59.97,58.35,58.08,56.95,59.09,57.61,55.44,56.73,56.03,57.75,55.98,55.63,55.89,56.27,57.94,57.22,57.37,55.85,54.48,57.35,55.7,56.36,55.44,54.24,53.88,53.49,54.12,51.51,50.82,49.28,50.93,51.45,52.62,58.84,59.05,59.73,60.23,62.12,61.66,63.79,66.09,65.34,66.29,67.68,66.43,65.37,63.0,61.84,62.31,61.9,62.19,64.63,66.11,65.73,66.05,64.73,65.76,65.46,65.95,66.86,65.14,64.66,65.12,65.99,66.5,69.52,68.11,70.8,70.53,70.51,70.64,72.16,72.13,72.07,71.86,71.75,73.19,72.6,71.0,73.67,75.48,74.31,74.9,74.87,72.81,72.05,73.31,72.78,72.18,72.58,71.78,71.22,73.19,72.96,73.33,72.25,72.48,76.82,77.76,79.22,78.83,79.44,79.93,78.2,78.21,78.85,76.99,76.81,76.14,77.52,78.3,80.19,81.05,80.84,82.03,82.67,81.74,83.26,83.49,84.1,86.17,87.83,89.12,87.08,89.29,89.28,89.14,88.81,88.62,88.76,87.36,84.65,85.84,86.31,83.78,86.61,86.12,85.31,83.12,83.94,82.43,80.62,79.94,79.27,79.28,78.65,82.51,81.5,83.31,82.72,83.12,90.03,94.34,93.17,92.02,94.43,92.34,86.63,86.07,84.41,83.35,84.32,83.88,83.04,83.58,83.2,83.38,82.41,82.42,81.64,81.84,83.79,83.81,80.98,82.55,82.38,82.96,82.87,82.5,83.54,86.75,87.05,86.63,86.08,81.63,82.29,84.67,83.07,83.95,85.77,85.31,85.58,85.56,87.4,85.97,87.53,87.11,87.13,88.63,88.97,91.29,91.38,90.95,93.22,92.84,90.68,91.18,90.36,91.08,91.91,91.68,92.08,91.08,91.66,90.05,89.66,87.76,88.92,87.87,87.92,87.79,88.47,90.94,90.68,92.73,96.13,97.18,97.06,96.74,97.63,97.64,98.04,101.07,102.18,103.95,104.39,105.76,106.36,104.57,104.39,106.44,107.0,108.91,110.42,109.79,107.65,110.5,111.21,115.51,117.86,115.15,118.0,119.3,120.25,120.66,121.07,116.89,117.08,114.27,115.49,117.19,121.66,120.27,118.21,120.5,119.62,118.98,116.37,118.54,117.25,118.69,117.93,123.68,129.11,128.67,126.75,128.72,128.76,130.39,133.95,134.31,135.1,134.33,136.16,139.8,139.76,131.19,133.49,141.99,139.9,137.55,128.14,131.29,132.74,128.23,131.54,131.32,130.33,122.92,121.57,124.28,120.63,116.61,113.84,118.71,118.87,124.07,128.87,127.47,131.59,128.62,123.34,130.4,132.51,134.68,140.2,133.01,131.3,128.15,132.96,131.77,133.09,133.43,135.0,134.61,137.05,136.91,136.46,140.19,144.21,148.98,148.58,150.26,149.26,152.05,154.1,153.59,151.95,157.02,163.3,163.25,162.21,157.78,162.66,162.4,164.93,168.01,168.74,165.74,169.57,181.05,180.83,177.76,179.63,180.01,181.87,184.74,182.3,182.71,181.07,186.53,181.19,170.65,160.83,149.54,165.3,161.55,159.79,161.82,159.45,164.22,163.84,166.83,167.8,170.01,175.27,179.23,177.22,173.95,174.87,180.41,184.74,188.97,188.88,183.37,185.62,186.56,185.16,179.34,177.96,178.09,182.07,188.59,193.34,193.49,193.12,194.35,192.64,189.49,189.58,175.11,172.76,166.55,174.48,173.13,167.95,173.87,164.4,155.26,156.47,156.93,151.37,135.25,131.88,126.44,126.44,127.93,128.55,131.64,130.08,128.04,125.81,118.65,117.91,122.04,125.9,121.43,125.85,123.96,121.21,118.83,120.42,118.2,116.18,116.45,115.88,119.59,126.34,121.59,118.39,121.2,121.07,117.61,118.89,116.4,123.85,122.57,124.43,123.13,123.25,129.17,126.11,129.61,135.7,137.11,141.08,136.4,139.08,139.56,145.43,143.44,147.45,148.88,151.61,148.64,147.28,150.31,143.1,143.72,144.31,149.48,150.25,156.62,163.54,155.8,158.42,164.3,165.07,167.51,170.25,169.18,175.06,175.97,179.66,181.54,177.58,179.98,178.41,183.0,184.75,181.15,184.52,182.47,178.56,180.8,173.3,172.19,176.2,181.31,181.88,181.57,183.57,180.99,180.28,180.11,184.23,180.54,176.63,180.54,175.85,168.5,167.64,171.99,176.45,173.84,175.93,170.46,168.41,168.49,172.52,163.64,165.42,162.84,169.89,163.56,165.45,170.35,174.62,169.47,171.78,167.84,169.11,164.98,168.07,167.09,160.62,161.73,157.57,161.7,154.67,157.67,150.16,152.77,155.49,154.59,152.36,149.02,156.23,159.68,159.08,164.9,168.8,171.88,174.38,174.4,170.92,170.58,168.77,171.01,169.51,171.94,167.81,168.87,169.88,168.97,164.88,161.63,162.38,156.79,155.78,153.59,147.52,147.45,148.46,144.85,136.51,136.04,124.32,130.41,137.04,127.45,123.36,125.18,128.31,124.72,102.37,110.54,106.12,97.35,94.41,95.45,86.71,87.33,86.3,94.14,107.23,101.22,95.26,99.09,94.73,95.74,88.98,94.21,95.53,93.73,89.56,97.17,101.68,107.99,104.64,104.02,107.94,100.46,96.38,95.54,93.25,92.17,87.65,93.79,87.76,85.72,87.44,83.92,78.28,80.31,90.4,88.31,92.39,90.13,86.49,89.93,93.27,88.9,91.42,96.98,97.31,95.51,92.39,95.57,92.15,92.81,86.71,86.98,87.53,83.39,84.01,82.71,83.45,84.23,83.92,83.01,88.26,91.98,90.47,88.51,90.16,88.09,86.23,85.3,82.99,81.09,80.07,76.05,80.56,85.93,85.93,87.18,88.24,91.61,90.45,87.66,89.0,90.43,90.98,93.81,96.98,99.7,95.14,94.16,96.55,96.44,91.94,91.78,88.15,88.7,84.56,87.77,88.66,86.74,86.86,85.53,85.94,88.67,86.4,82.96,80.83,86.2,90.14,93.71,93.3,92.8,96.92,98.73,98.83,98.8,104.71,103.58,103.57,106.85,103.92,101.62,102.23,105.71,109.62,112.81,115.2,111.84,113.13,116.29,116.92,115.06,114.41,118.12,120.03,117.19,118.42,118.17,121.96,120.5,121.31,120.5,121.71,122.38,123.75,128.45,129.07,128.86,125.52,125.64,126.01,121.01,116.21,119.58,119.06,123.17,123.95,122.42,120.77,119.14,127.19,129.4,131.36,132.08,135.53,135.66,137.08,139.79,140.7,139.9,138.8,136.4,136.11,133.21,132.35,132.61,131.86,132.15,135.65,133.6,130.33,132.48,136.02,138.53,138.07,138.52,138.91,136.18,134.81,131.68,133.45,132.62,134.72,138.43,138.37,142.85,143.47,147.58,148.71,147.35,152.44,153.49,155.6,155.71,155.61,155.64,158.32,158.91,161.86,161.01,160.58,159.41,160.97,160.2,158.36,160.77,163.8,162.2,155.21,159.5,160.08,161.76,164.58,164.42,164.75,162.82,164.8,165.38,163.59,160.76,160.65,161.98,165.64,168.18,166.44,167.82,167.43,168.95,170.35,176.88,179.48,179.94,178.97,179.42,180.41,178.77,177.36,181.04,180.29,180.26,175.9,179.83,180.91,184.79,185.03,184.08,185.24,185.57,184.8,186.04,185.33,182.89,184.65,193.3,199.3,199.57,198.34,196.92,191.95,187.12,190.96,183.33,184.11,183.57,185.57,188.7,189.01,195.93,197.41,197.67,196.45,198.84,200.96,201.32,200.31,195.01,194.43,200.23,198.83,198.59,195.08,194.42,191.56,190.84,191.09,188.01,183.76,184.66,192.37,191.04,189.33,191.57,188.84,189.68,186.59,190.07,192.79,194.86,196.55,203.3,205.8,203.36,205.83,204.95,208.14,208.5,205.18,204.8,206.16,204.34,202.02,204.87,203.68,200.28,209.14,205.92,202.36,192.32,197.5,200.29,202.17,193.82,186.79,189.39,190.48,193.76,186.78,190.1,188.79,190.81,189.76,193.22,194.88,197.82,196.99,197.36,196.13,194.92,191.65,195.15,196.46,199.0,203.25,203.12,203.58,204.93,212.94,213.07,216.9,218.67,219.31,220.38,217.7,218.29,217.97,218.48,216.15,218.58,222.09,223.07,220.43,224.56,226.01,229.38,228.55,229.49,231.94,232.97,234.0,233.36,235.15,235.64,235.78,238.95,242.09,240.61,240.29,237.88,252.11,259.16,263.4,262.1,254.85,254.42,261.27,253.92,259.04,251.58,248.96,239.49,229.39,247.02,249.48,254.9,251.27,246.85,247.24,245.43,241.52,231.23,235.67,239.99,238.49,237.41,246.4,249.83,253.67,256.71,255.9,248.93,244.05,242.49,236.52,243.63,246.55,247.3,252.56,259.91,264.41,266.55,262.75,266.33,263.53,261.62,259.38,260.94,249.14,244.63,241.66,240.16,241.81,251.57,251.01,252.49,250.23,244.89,245.79,244.55,243.04,238.84,244.98,247.26,251.91,252.81,252.16,256.83,253.8,251.03,250.19,254.66,254.74,255.76,254.52,252.95,254.57,252.29,243.32,244.88,242.26,240.84,245.05,246.12,243.02,242.79,239.05,233.34,236.22,233.69,234.99,235.84,236.43,243.46,245.25,251.67,250.73,255.7,255.85,256.18,259.71,260.7,262.8,268.98,267.81,275.46,275.98,279.85,280.99,284.3,283.17,278.99,279.48,275.96,274.77,270.99,281.01,281.25,281.28,286.0,287.25,290.35,291.9,294.01,306.1,309.27,301.0,302.01,301.02,299.03,300.36,299.59,299.38,296.86,292.72,295.83,300.87,304.21,309.53,308.43,309.87,307.4,309.3,307.96,299.58,298.61,293.31,292.25,299.96,298.31,304.76,300.26,306.16,306.35,308.17,302.61,307.72,309.42,308.73,311.36,309.48,312.2,310.98,311.76,312.84,311.5,311.57,312.43,311.81,313.37,315.3,316.24,314.72,315.77,316.54,316.36,314.78,313.71,320.52,322.2,324.83,324.57,326.89,333.05,332.26,334.97,336.19,338.92,331.3,329.54,323.55,317.75,328.19,332.03,334.41,333.79,326.88,330.01,335.56,334.87,334.01,336.99,342.22,345.45,348.33,344.81,347.06,349.32,350.02,353.16,348.47,340.94,329.32,333.22,333.47,338.6,343.52,339.72,342.46,349.69,350.12,345.61,346.0,342.8,337.15,342.33,343.86,335.95,320.95,325.46,321.59,329.99,331.84,329.88,335.5,341.89,340.82,341.33,339.06,338.94,335.1,331.83,329.59,328.76,328.8,325.86,321.72,323.28,326.9,323.3,318.47,322.74,328.59,333.01,341.07,343.32,340.8,340.54,337.23,340.52,336.78,338.64,339.98,337.23,337.15,338.06,339.86,337.7,337.06,331.15,324.15,326.91,330.54,331.18,326.02,325.22,323.07,327.54,325.81,328.15,338.28,336.03,336.6,334.01,328.76,322.93,323.12,322.39,316.96,317.64,323.32,317.78,316.24,311.47,306.67,316.37,313.76,322.14,317.39,322.93,326.06,324.87,326.46,333.84,339.84,342.11,347.4,349.84,344.28,344.04,348.19,347.95,354.9,363.54,366.51,376.28,376.66,382.51,387.56,392.34,381.81,381.07,379.76,385.86,378.24,381.8,367.01,363.37,343.52,363.74,353.71,363.44,366.64,372.89,370.04,370.0,356.0,346.26,346.66,363.35,365.85,363.46,373.05,379.27,379.29,374.27,370.57,363.78,369.32,373.39,373.6,367.12,369.51,374.06,378.61,382.17,389.51,400.33,402.1,400.83,390.79,393.2,392.1,388.3,386.11,379.85,370.85,364.32,362.28,367.87,367.01,359.65,378.14,389.3,391.15,397.22,410.42,408.46,410.65,387.68,384.46,382.09,394.63,386.85,389.6,393.58,393.84,393.67,385.63,386.5,392.01,389.25,388.76,395.08,384.43,374.65,374.06,368.85,378.16,374.21,367.05,364.65,358.88,366.18,356.92,353.59,365.8,362.96,371.71,377.28,379.0,382.22,380.22,378.41,379.94,382.82,381.09,378.14,369.75,368.54,370.56,371.72,385.08,385.57,387.61,392.26,395.37,391.59,394.0,393.88,399.94,402.09,406.56,410.81,410.15,411.62,410.95,409.82,408.29,413.04,417.33,416.01,408.76,415.68,408.87,434.4,432.43,435.0,440.58,443.95,443.67,442.63,447.06,451.24,455.96,463.6,479.63,479.88,488.81,495.48,484.01,488.43,488.34,500.72,498.96,502.22,508.07,511.33,520.71,527.55,529.53,530.22,518.53,515.71,516.12,527.11,530.21,536.85,552.51,573.4,569.49,569.5,584.6,589.33,585.96,582.89,579.69,590.32,597.61,600.67,593.12,583.09,601.65,612.05,607.17,616.29,618.77,611.19,609.01,605.68,588.62,564.21,592.97,591.64,571.32,557.25,556.01,544.9,593.26,591.02,586.45,567.95,566.15,569.9,565.85,549.74,553.85,552.59,553.56,554.86,551.16,542.9,537.99,531.09,515.57,515.82,545.87,541.68,554.9,549.8,546.86,556.56,563.27,561.87,545.59,548.8,547.38,555.78,556.03,564.39,555.49,560.35,556.46,555.84,558.37,569.7,571.29,569.66,561.81,566.12,555.1,556.33,558.73,553.43,567.97,576.26,582.96,593.2,589.25,597.04,591.52,587.84,582.46,588.37,590.25,590.28,589.62,597.46,587.71,587.26,584.43,559.19,559.1,569.1,578.7,594.0,590.15,591.11,598.8,605.46,603.87,602.85,606.28,607.23,615.34,616.99,616.15,621.53,633.03,649.67,640.79,653.3,647.21,647.79,659.96,659.1,657.8,648.42,649.76,659.26,654.63,660.53,664.61,647.32,645.22,654.2,667.09,675.19,683.5,685.58,685.76,682.44,683.8,674.71,657.87,649.7,665.46,651.58,644.05,645.92,655.82,651.28,637.4,623.32,621.05,626.0,613.48,615.06,619.99,634.67,629.61,617.92,595.65,619.28,599.09,602.48,595.36,589.94,581.47,582.66,563.38,571.02,569.29,547.5,527.63,536.77,532.62,532.69,526.78,515.73,517.75,555.09,550.36,551.13,560.75,578.44,573.78,571.97,578.27,574.27,575.16,565.02,528.66,536.95,523.22,519.85,531.21,528.86,519.73,500.2,509.07,523.86,516.41,511.92,509.56,510.39,503.35,505.37,500.0,522.16,538.7,531.9,517.09,514.05,515.43,507.37,513.66,510.51,492.31,476.78,496.57,493.22,490.59,495.28,504.34,442.03,431.61,441.37,449.65,448.24,446.92,445.09,434.0,449.23,448.75,462.09,468.76,473.65,461.77,460.9,460.48,454.14,453.97,442.97,440.22,444.91,437.0,443.09,438.75,435.62,424.83]}},\"id\":\"2b064a65-e4d1-439d-b6d6-7471c245a61e\",\"type\":\"ColumnDataSource\"},{\"attributes\":{\"plot\":{\"id\":\"f0fa4658-1c2d-4fdb-8287-83477315c49c\",\"subtype\":\"Figure\",\"type\":\"Plot\"}},\"id\":\"1f97c5a5-598f-4e1c-937c-348fcdb86f09\",\"type\":\"SaveTool\"},{\"attributes\":{},\"id\":\"98e43394-7010-4bc7-bed6-6ccf0fd8cec6\",\"type\":\"BasicTickFormatter\"},{\"attributes\":{\"days\":[1,4,7,10,13,16,19,22,25,28]},\"id\":\"4d22ab9a-03d3-4a59-8578-b27117c9a209\",\"type\":\"DaysTicker\"},{\"attributes\":{\"days\":[1,2,3,4,5,6,7,8,9,10,11,12,13,14,15,16,17,18,19,20,21,22,23,24,25,26,27,28,29,30,31]},\"id\":\"9dac3ee2-ee19-4693-94a1-d60abb322032\",\"type\":\"DaysTicker\"},{\"attributes\":{\"callback\":null,\"column_names\":[\"x\",\"y\"],\"data\":{\"x\":[951868800000.0,951955200000.0,952041600000.0,952300800000.0,952387200000.0,952473600000.0,952560000000.0,952646400000.0,952905600000.0,952992000000.0,953078400000.0,953164800000.0,953251200000.0,953510400000.0,953596800000.0,953683200000.0,953769600000.0,953856000000.0,954115200000.0,954201600000.0,954288000000.0,954374400000.0,954460800000.0,954720000000.0,954806400000.0,954892800000.0,954979200000.0,955065600000.0,955324800000.0,955411200000.0,955497600000.0,955584000000.0,955670400000.0,955929600000.0,956016000000.0,956102400000.0,956188800000.0,956534400000.0,956620800000.0,956707200000.0,956793600000.0,956880000000.0,957139200000.0,957225600000.0,957312000000.0,957398400000.0,957484800000.0,957744000000.0,957830400000.0,957916800000.0,958003200000.0,958089600000.0,958348800000.0,958435200000.0,958521600000.0,958608000000.0,958694400000.0,958953600000.0,959040000000.0,959126400000.0,959212800000.0,959299200000.0,959644800000.0,959731200000.0,959817600000.0,959904000000.0,960163200000.0,960249600000.0,960336000000.0,960422400000.0,960508800000.0,960768000000.0,960854400000.0,960940800000.0,961027200000.0,961113600000.0,961372800000.0,961459200000.0,961545600000.0,961632000000.0,961718400000.0,961977600000.0,962064000000.0,962150400000.0,962236800000.0,962323200000.0,962582400000.0,962755200000.0,962841600000.0,962928000000.0,963187200000.0,963273600000.0,963360000000.0,963446400000.0,963532800000.0,963792000000.0,963878400000.0,963964800000.0,964051200000.0,964137600000.0,964396800000.0,964483200000.0,964569600000.0,964656000000.0,964742400000.0,965001600000.0,965088000000.0,965174400000.0,965260800000.0,965347200000.0,965606400000.0,965692800000.0,965779200000.0,965865600000.0,965952000000.0,966211200000.0,966297600000.0,966384000000.0,966470400000.0,966556800000.0,966816000000.0,966902400000.0,966988800000.0,967075200000.0,967161600000.0,967420800000.0,967507200000.0,967593600000.0,967680000000.0,967766400000.0,968112000000.0,968198400000.0,968284800000.0,968371200000.0,968630400000.0,968716800000.0,968803200000.0,968889600000.0,968976000000.0,969235200000.0,969321600000.0,969408000000.0,969494400000.0,969580800000.0,969840000000.0,969926400000.0,970012800000.0,970099200000.0,970185600000.0,970444800000.0,970531200000.0,970617600000.0,970704000000.0,970790400000.0,971049600000.0,971136000000.0,971222400000.0,971308800000.0,971395200000.0,971654400000.0,971740800000.0,971827200000.0,971913600000.0,972000000000.0,972259200000.0,972345600000.0,972432000000.0,972518400000.0,972604800000.0,972864000000.0,972950400000.0,973036800000.0,973123200000.0,973209600000.0,973468800000.0,973555200000.0,973641600000.0,973728000000.0,973814400000.0,974073600000.0,974160000000.0,974246400000.0,974332800000.0,974419200000.0,974678400000.0,974764800000.0,974851200000.0,975024000000.0,975283200000.0,975369600000.0,975456000000.0,975542400000.0,975628800000.0,975888000000.0,975974400000.0,976060800000.0,976147200000.0,976233600000.0,976492800000.0,976579200000.0,976665600000.0,976752000000.0,976838400000.0,977097600000.0,977184000000.0,977270400000.0,977356800000.0,977443200000.0,977788800000.0,977875200000.0,977961600000.0,978048000000.0,978393600000.0,978480000000.0,978566400000.0,978652800000.0,978912000000.0,978998400000.0,979084800000.0,979171200000.0,979257600000.0,979603200000.0,979689600000.0,979776000000.0,979862400000.0,980121600000.0,980208000000.0,980294400000.0,980380800000.0,980467200000.0,980726400000.0,980812800000.0,980899200000.0,980985600000.0,981072000000.0,981331200000.0,981417600000.0,981504000000.0,981590400000.0,981676800000.0,981936000000.0,982022400000.0,982108800000.0,982195200000.0,982281600000.0,982627200000.0,982713600000.0,982800000000.0,982886400000.0,983145600000.0,983232000000.0,983318400000.0,983404800000.0,983491200000.0,983750400000.0,983836800000.0,983923200000.0,984009600000.0,984096000000.0,984355200000.0,984441600000.0,984528000000.0,984614400000.0,984700800000.0,984960000000.0,985046400000.0,985132800000.0,985219200000.0,985305600000.0,985564800000.0,985651200000.0,985737600000.0,985824000000.0,985910400000.0,986169600000.0,986256000000.0,986342400000.0,986428800000.0,986515200000.0,986774400000.0,986860800000.0,986947200000.0,987033600000.0,987379200000.0,987465600000.0,987552000000.0,987638400000.0,987724800000.0,987984000000.0,988070400000.0,988156800000.0,988243200000.0,988329600000.0,988588800000.0,988675200000.0,988761600000.0,988848000000.0,988934400000.0,989193600000.0,989280000000.0,989366400000.0,989452800000.0,989539200000.0,989798400000.0,989884800000.0,989971200000.0,990057600000.0,990144000000.0,990403200000.0,990489600000.0,990576000000.0,990662400000.0,990748800000.0,991094400000.0,991180800000.0,991267200000.0,991353600000.0,991612800000.0,991699200000.0,991785600000.0,991872000000.0,991958400000.0,992217600000.0,992304000000.0,992390400000.0,992476800000.0,992563200000.0,992822400000.0,992908800000.0,992995200000.0,993081600000.0,993168000000.0,993427200000.0,993513600000.0,993600000000.0,993686400000.0,993772800000.0,994032000000.0,994118400000.0,994291200000.0,994377600000.0,994636800000.0,994723200000.0,994809600000.0,994896000000.0,994982400000.0,995241600000.0,995328000000.0,995414400000.0,995500800000.0,995587200000.0,995846400000.0,995932800000.0,996019200000.0,996105600000.0,996192000000.0,996451200000.0,996537600000.0,996624000000.0,996710400000.0,996796800000.0,997056000000.0,997142400000.0,997228800000.0,997315200000.0,997401600000.0,997660800000.0,997747200000.0,997833600000.0,997920000000.0,998006400000.0,998265600000.0,998352000000.0,998438400000.0,998524800000.0,998611200000.0,998870400000.0,998956800000.0,999043200000.0,999129600000.0,999216000000.0,999561600000.0,999648000000.0,999734400000.0,999820800000.0,1000080000000.0,1000684800000.0,1000771200000.0,1000857600000.0,1000944000000.0,1001030400000.0,1001289600000.0,1001376000000.0,1001462400000.0,1001548800000.0,1001635200000.0,1001894400000.0,1001980800000.0,1002067200000.0,1002153600000.0,1002240000000.0,1002499200000.0,1002585600000.0,1002672000000.0,1002758400000.0,1002844800000.0,1003104000000.0,1003190400000.0,1003276800000.0,1003363200000.0,1003449600000.0,1003708800000.0,1003795200000.0,1003881600000.0,1003968000000.0,1004054400000.0,1004313600000.0,1004400000000.0,1004486400000.0,1004572800000.0,1004659200000.0,1004918400000.0,1005004800000.0,1005091200000.0,1005177600000.0,1005264000000.0,1005523200000.0,1005609600000.0,1005696000000.0,1005782400000.0,1005868800000.0,1006128000000.0,1006214400000.0,1006300800000.0,1006473600000.0,1006732800000.0,1006819200000.0,1006905600000.0,1006992000000.0,1007078400000.0,1007337600000.0,1007424000000.0,1007510400000.0,1007596800000.0,1007683200000.0,1007942400000.0,1008028800000.0,1008115200000.0,1008201600000.0,1008288000000.0,1008547200000.0,1008633600000.0,1008720000000.0,1008806400000.0,1008892800000.0,1009152000000.0,1009324800000.0,1009411200000.0,1009497600000.0,1009756800000.0,1009929600000.0,1010016000000.0,1010102400000.0,1010361600000.0,1010448000000.0,1010534400000.0,1010620800000.0,1010707200000.0,1010966400000.0,1011052800000.0,1011139200000.0,1011225600000.0,1011312000000.0,1011657600000.0,1011744000000.0,1011830400000.0,1011916800000.0,1012176000000.0,1012262400000.0,1012348800000.0,1012435200000.0,1012521600000.0,1012780800000.0,1012867200000.0,1012953600000.0,1013040000000.0,1013126400000.0,1013385600000.0,1013472000000.0,1013558400000.0,1013644800000.0,1013731200000.0,1014076800000.0,1014163200000.0,1014249600000.0,1014336000000.0,1014595200000.0,1014681600000.0,1014768000000.0,1014854400000.0,1014940800000.0,1015200000000.0,1015286400000.0,1015372800000.0,1015459200000.0,1015545600000.0,1015804800000.0,1015891200000.0,1015977600000.0,1016064000000.0,1016150400000.0,1016409600000.0,1016496000000.0,1016582400000.0,1016668800000.0,1016755200000.0,1017014400000.0,1017100800000.0,1017187200000.0,1017273600000.0,1017619200000.0,1017705600000.0,1017792000000.0,1017878400000.0,1017964800000.0,1018224000000.0,1018310400000.0,1018396800000.0,1018483200000.0,1018569600000.0,1018828800000.0,1018915200000.0,1019001600000.0,1019088000000.0,1019174400000.0,1019433600000.0,1019520000000.0,1019606400000.0,1019692800000.0,1019779200000.0,1020038400000.0,1020124800000.0,1020211200000.0,1020297600000.0,1020384000000.0,1020643200000.0,1020729600000.0,1020816000000.0,1020902400000.0,1020988800000.0,1021248000000.0,1021334400000.0,1021420800000.0,1021507200000.0,1021593600000.0,1021852800000.0,1021939200000.0,1022025600000.0,1022112000000.0,1022198400000.0,1022544000000.0,1022630400000.0,1022716800000.0,1022803200000.0,1023062400000.0,1023148800000.0,1023235200000.0,1023321600000.0,1023408000000.0,1023667200000.0,1023753600000.0,1023840000000.0,1023926400000.0,1024012800000.0,1024272000000.0,1024358400000.0,1024444800000.0,1024531200000.0,1024617600000.0,1024876800000.0,1024963200000.0,1025049600000.0,1025136000000.0,1025222400000.0,1025481600000.0,1025568000000.0,1025654400000.0,1025827200000.0,1026086400000.0,1026172800000.0,1026259200000.0,1026345600000.0,1026432000000.0,1026691200000.0,1026777600000.0,1026864000000.0,1026950400000.0,1027036800000.0,1027296000000.0,1027382400000.0,1027468800000.0,1027555200000.0,1027641600000.0,1027900800000.0,1027987200000.0,1028073600000.0,1028160000000.0,1028246400000.0,1028505600000.0,1028592000000.0,1028678400000.0,1028764800000.0,1028851200000.0,1029110400000.0,1029196800000.0,1029283200000.0,1029369600000.0,1029456000000.0,1029715200000.0,1029801600000.0,1029888000000.0,1029974400000.0,1030060800000.0,1030320000000.0,1030406400000.0,1030492800000.0,1030579200000.0,1030665600000.0,1031011200000.0,1031097600000.0,1031184000000.0,1031270400000.0,1031529600000.0,1031616000000.0,1031702400000.0,1031788800000.0,1031875200000.0,1032134400000.0,1032220800000.0,1032307200000.0,1032393600000.0,1032480000000.0,1032739200000.0,1032825600000.0,1032912000000.0,1032998400000.0,1033084800000.0,1033344000000.0,1033430400000.0,1033516800000.0,1033603200000.0,1033689600000.0,1033948800000.0,1034035200000.0,1034121600000.0,1034208000000.0,1034294400000.0,1034553600000.0,1034640000000.0,1034726400000.0,1034812800000.0,1034899200000.0,1035158400000.0,1035244800000.0,1035331200000.0,1035417600000.0,1035504000000.0,1035763200000.0,1035849600000.0,1035936000000.0,1036022400000.0,1036108800000.0,1036368000000.0,1036454400000.0,1036540800000.0,1036627200000.0,1036713600000.0,1036972800000.0,1037059200000.0,1037145600000.0,1037232000000.0,1037318400000.0,1037577600000.0,1037664000000.0,1037750400000.0,1037836800000.0,1037923200000.0,1038182400000.0,1038268800000.0,1038355200000.0,1038528000000.0,1038787200000.0,1038873600000.0,1038960000000.0,1039046400000.0,1039132800000.0,1039392000000.0,1039478400000.0,1039564800000.0,1039651200000.0,1039737600000.0,1039996800000.0,1040083200000.0,1040169600000.0,1040256000000.0,1040342400000.0,1040601600000.0,1040688000000.0,1040860800000.0,1040947200000.0,1041206400000.0,1041292800000.0,1041465600000.0,1041552000000.0,1041811200000.0,1041897600000.0,1041984000000.0,1042070400000.0,1042156800000.0,1042416000000.0,1042502400000.0,1042588800000.0,1042675200000.0,1042761600000.0,1043107200000.0,1043193600000.0,1043280000000.0,1043366400000.0,1043625600000.0,1043712000000.0,1043798400000.0,1043884800000.0,1043971200000.0,1044230400000.0,1044316800000.0,1044403200000.0,1044489600000.0,1044576000000.0,1044835200000.0,1044921600000.0,1045008000000.0,1045094400000.0,1045180800000.0,1045526400000.0,1045612800000.0,1045699200000.0,1045785600000.0,1046044800000.0,1046131200000.0,1046217600000.0,1046304000000.0,1046390400000.0,1046649600000.0,1046736000000.0,1046822400000.0,1046908800000.0,1046995200000.0,1047254400000.0,1047340800000.0,1047427200000.0,1047513600000.0,1047600000000.0,1047859200000.0,1047945600000.0,1048032000000.0,1048118400000.0,1048204800000.0,1048464000000.0,1048550400000.0,1048636800000.0,1048723200000.0,1048809600000.0,1049068800000.0,1049155200000.0,1049241600000.0,1049328000000.0,1049414400000.0,1049673600000.0,1049760000000.0,1049846400000.0,1049932800000.0,1050019200000.0,1050278400000.0,1050364800000.0,1050451200000.0,1050537600000.0,1050883200000.0,1050969600000.0,1051056000000.0,1051142400000.0,1051228800000.0,1051488000000.0,1051574400000.0,1051660800000.0,1051747200000.0,1051833600000.0,1052092800000.0,1052179200000.0,1052265600000.0,1052352000000.0,1052438400000.0,1052697600000.0,1052784000000.0,1052870400000.0,1052956800000.0,1053043200000.0,1053302400000.0,1053388800000.0,1053475200000.0,1053561600000.0,1053648000000.0,1053993600000.0,1054080000000.0,1054166400000.0,1054252800000.0,1054512000000.0,1054598400000.0,1054684800000.0,1054771200000.0,1054857600000.0,1055116800000.0,1055203200000.0,1055289600000.0,1055376000000.0,1055462400000.0,1055721600000.0,1055808000000.0,1055894400000.0,1055980800000.0,1056067200000.0,1056326400000.0,1056412800000.0,1056499200000.0,1056585600000.0,1056672000000.0,1056931200000.0,1057017600000.0,1057104000000.0,1057190400000.0,1057536000000.0,1057622400000.0,1057708800000.0,1057795200000.0,1057881600000.0,1058140800000.0,1058227200000.0,1058313600000.0,1058400000000.0,1058486400000.0,1058745600000.0,1058832000000.0,1058918400000.0,1059004800000.0,1059091200000.0,1059350400000.0,1059436800000.0,1059523200000.0,1059609600000.0,1059696000000.0,1059955200000.0,1060041600000.0,1060128000000.0,1060214400000.0,1060300800000.0,1060560000000.0,1060646400000.0,1060732800000.0,1060819200000.0,1060905600000.0,1061164800000.0,1061251200000.0,1061337600000.0,1061424000000.0,1061510400000.0,1061769600000.0,1061856000000.0,1061942400000.0,1062028800000.0,1062115200000.0,1062460800000.0,1062547200000.0,1062633600000.0,1062720000000.0,1062979200000.0,1063065600000.0,1063152000000.0,1063238400000.0,1063324800000.0,1063584000000.0,1063670400000.0,1063756800000.0,1063843200000.0,1063929600000.0,1064188800000.0,1064275200000.0,1064361600000.0,1064448000000.0,1064534400000.0,1064793600000.0,1064880000000.0,1064966400000.0,1065052800000.0,1065139200000.0,1065398400000.0,1065484800000.0,1065571200000.0,1065657600000.0,1065744000000.0,1066003200000.0,1066089600000.0,1066176000000.0,1066262400000.0,1066348800000.0,1066608000000.0,1066694400000.0,1066780800000.0,1066867200000.0,1066953600000.0,1067212800000.0,1067299200000.0,1067385600000.0,1067472000000.0,1067558400000.0,1067817600000.0,1067904000000.0,1067990400000.0,1068076800000.0,1068163200000.0,1068422400000.0,1068508800000.0,1068595200000.0,1068681600000.0,1068768000000.0,1069027200000.0,1069113600000.0,1069200000000.0,1069286400000.0,1069372800000.0,1069632000000.0,1069718400000.0,1069804800000.0,1069977600000.0,1070236800000.0,1070323200000.0,1070409600000.0,1070496000000.0,1070582400000.0,1070841600000.0,1070928000000.0,1071014400000.0,1071100800000.0,1071187200000.0,1071446400000.0,1071532800000.0,1071619200000.0,1071705600000.0,1071792000000.0,1072051200000.0,1072137600000.0,1072224000000.0,1072396800000.0,1072656000000.0,1072742400000.0,1072828800000.0,1073001600000.0,1073260800000.0,1073347200000.0,1073433600000.0,1073520000000.0,1073606400000.0,1073865600000.0,1073952000000.0,1074038400000.0,1074124800000.0,1074211200000.0,1074556800000.0,1074643200000.0,1074729600000.0,1074816000000.0,1075075200000.0,1075161600000.0,1075248000000.0,1075334400000.0,1075420800000.0,1075680000000.0,1075766400000.0,1075852800000.0,1075939200000.0,1076025600000.0,1076284800000.0,1076371200000.0,1076457600000.0,1076544000000.0,1076630400000.0,1076976000000.0,1077062400000.0,1077148800000.0,1077235200000.0,1077494400000.0,1077580800000.0,1077667200000.0,1077753600000.0,1077840000000.0,1078099200000.0,1078185600000.0,1078272000000.0,1078358400000.0,1078444800000.0,1078704000000.0,1078790400000.0,1078876800000.0,1078963200000.0,1079049600000.0,1079308800000.0,1079395200000.0,1079481600000.0,1079568000000.0,1079654400000.0,1079913600000.0,1080000000000.0,1080086400000.0,1080172800000.0,1080259200000.0,1080518400000.0,1080604800000.0,1080691200000.0,1080777600000.0,1080864000000.0,1081123200000.0,1081209600000.0,1081296000000.0,1081382400000.0,1081728000000.0,1081814400000.0,1081900800000.0,1081987200000.0,1082073600000.0,1082332800000.0,1082419200000.0,1082505600000.0,1082592000000.0,1082678400000.0,1082937600000.0,1083024000000.0,1083110400000.0,1083196800000.0,1083283200000.0,1083542400000.0,1083628800000.0,1083715200000.0,1083801600000.0,1083888000000.0,1084147200000.0,1084233600000.0,1084320000000.0,1084406400000.0,1084492800000.0,1084752000000.0,1084838400000.0,1084924800000.0,1085011200000.0,1085097600000.0,1085356800000.0,1085443200000.0,1085529600000.0,1085616000000.0,1085702400000.0,1086048000000.0,1086134400000.0,1086220800000.0,1086307200000.0,1086566400000.0,1086652800000.0,1086739200000.0,1086825600000.0,1087171200000.0,1087257600000.0,1087344000000.0,1087430400000.0,1087516800000.0,1087776000000.0,1087862400000.0,1087948800000.0,1088035200000.0,1088121600000.0,1088380800000.0,1088467200000.0,1088553600000.0,1088640000000.0,1088726400000.0,1089072000000.0,1089158400000.0,1089244800000.0,1089331200000.0,1089590400000.0,1089676800000.0,1089763200000.0,1089849600000.0,1089936000000.0,1090195200000.0,1090281600000.0,1090368000000.0,1090454400000.0,1090540800000.0,1090800000000.0,1090886400000.0,1090972800000.0,1091059200000.0,1091145600000.0,1091404800000.0,1091491200000.0,1091577600000.0,1091664000000.0,1091750400000.0,1092009600000.0,1092096000000.0,1092182400000.0,1092268800000.0,1092355200000.0,1092614400000.0,1092700800000.0,1092787200000.0,1092873600000.0,1092960000000.0,1093219200000.0,1093305600000.0,1093392000000.0,1093478400000.0,1093564800000.0,1093824000000.0,1093910400000.0,1093996800000.0,1094083200000.0,1094169600000.0,1094515200000.0,1094601600000.0,1094688000000.0,1094774400000.0,1095033600000.0,1095120000000.0,1095206400000.0,1095292800000.0,1095379200000.0,1095638400000.0,1095724800000.0,1095811200000.0,1095897600000.0,1095984000000.0,1096243200000.0,1096329600000.0,1096416000000.0,1096502400000.0,1096588800000.0,1096848000000.0,1096934400000.0,1097020800000.0,1097107200000.0,1097193600000.0,1097452800000.0,1097539200000.0,1097625600000.0,1097712000000.0,1097798400000.0,1098057600000.0,1098144000000.0,1098230400000.0,1098316800000.0,1098403200000.0,1098662400000.0,1098748800000.0,1098835200000.0,1098921600000.0,1099008000000.0,1099267200000.0,1099353600000.0,1099440000000.0,1099526400000.0,1099612800000.0,1099872000000.0,1099958400000.0,1100044800000.0,1100131200000.0,1100217600000.0,1100476800000.0,1100563200000.0,1100649600000.0,1100736000000.0,1100822400000.0,1101081600000.0,1101168000000.0,1101254400000.0,1101427200000.0,1101686400000.0,1101772800000.0,1101859200000.0,1101945600000.0,1102032000000.0,1102291200000.0,1102377600000.0,1102464000000.0,1102550400000.0,1102636800000.0,1102896000000.0,1102982400000.0,1103068800000.0,1103155200000.0,1103241600000.0,1103500800000.0,1103587200000.0,1103673600000.0,1103760000000.0,1104105600000.0,1104192000000.0,1104278400000.0,1104364800000.0,1104451200000.0,1104710400000.0,1104796800000.0,1104883200000.0,1104969600000.0,1105056000000.0,1105315200000.0,1105401600000.0,1105488000000.0,1105574400000.0,1105660800000.0,1106006400000.0,1106092800000.0,1106179200000.0,1106265600000.0,1106524800000.0,1106611200000.0,1106697600000.0,1106784000000.0,1106870400000.0,1107129600000.0,1107216000000.0,1107302400000.0,1107388800000.0,1107475200000.0,1107734400000.0,1107820800000.0,1107907200000.0,1107993600000.0,1108080000000.0,1108339200000.0,1108425600000.0,1108512000000.0,1108598400000.0,1108684800000.0,1109030400000.0,1109116800000.0,1109203200000.0,1109289600000.0,1109548800000.0,1109635200000.0,1109721600000.0,1109808000000.0,1109894400000.0,1110153600000.0,1110240000000.0,1110326400000.0,1110412800000.0,1110499200000.0,1110758400000.0,1110844800000.0,1110931200000.0,1111017600000.0,1111104000000.0,1111363200000.0,1111449600000.0,1111536000000.0,1111622400000.0,1111968000000.0,1112054400000.0,1112140800000.0,1112227200000.0,1112313600000.0,1112572800000.0,1112659200000.0,1112745600000.0,1112832000000.0,1112918400000.0,1113177600000.0,1113264000000.0,1113350400000.0,1113436800000.0,1113523200000.0,1113782400000.0,1113868800000.0,1113955200000.0,1114041600000.0,1114128000000.0,1114387200000.0,1114473600000.0,1114560000000.0,1114646400000.0,1114732800000.0,1114992000000.0,1115078400000.0,1115164800000.0,1115251200000.0,1115337600000.0,1115596800000.0,1115683200000.0,1115769600000.0,1115856000000.0,1115942400000.0,1116201600000.0,1116288000000.0,1116374400000.0,1116460800000.0,1116547200000.0,1116806400000.0,1116892800000.0,1116979200000.0,1117065600000.0,1117152000000.0,1117497600000.0,1117584000000.0,1117670400000.0,1117756800000.0,1118016000000.0,1118102400000.0,1118188800000.0,1118275200000.0,1118361600000.0,1118620800000.0,1118707200000.0,1118793600000.0,1118880000000.0,1118966400000.0,1119225600000.0,1119312000000.0,1119398400000.0,1119484800000.0,1119571200000.0,1119830400000.0,1119916800000.0,1120003200000.0,1120089600000.0,1120176000000.0,1120521600000.0,1120608000000.0,1120694400000.0,1120780800000.0,1121040000000.0,1121126400000.0,1121212800000.0,1121299200000.0,1121385600000.0,1121644800000.0,1121731200000.0,1121817600000.0,1121904000000.0,1121990400000.0,1122249600000.0,1122336000000.0,1122422400000.0,1122508800000.0,1122595200000.0,1122854400000.0,1122940800000.0,1123027200000.0,1123113600000.0,1123200000000.0,1123459200000.0,1123545600000.0,1123632000000.0,1123718400000.0,1123804800000.0,1124064000000.0,1124150400000.0,1124236800000.0,1124323200000.0,1124409600000.0,1124668800000.0,1124755200000.0,1124841600000.0,1124928000000.0,1125014400000.0,1125273600000.0,1125360000000.0,1125446400000.0,1125532800000.0,1125619200000.0,1125964800000.0,1126051200000.0,1126137600000.0,1126224000000.0,1126483200000.0,1126569600000.0,1126656000000.0,1126742400000.0,1126828800000.0,1127088000000.0,1127174400000.0,1127260800000.0,1127347200000.0,1127433600000.0,1127692800000.0,1127779200000.0,1127865600000.0,1127952000000.0,1128038400000.0,1128297600000.0,1128384000000.0,1128470400000.0,1128556800000.0,1128643200000.0,1128902400000.0,1128988800000.0,1129075200000.0,1129161600000.0,1129248000000.0,1129507200000.0,1129593600000.0,1129680000000.0,1129766400000.0,1129852800000.0,1130112000000.0,1130198400000.0,1130284800000.0,1130371200000.0,1130457600000.0,1130716800000.0,1130803200000.0,1130889600000.0,1130976000000.0,1131062400000.0,1131321600000.0,1131408000000.0,1131494400000.0,1131580800000.0,1131667200000.0,1131926400000.0,1132012800000.0,1132099200000.0,1132185600000.0,1132272000000.0,1132531200000.0,1132617600000.0,1132704000000.0,1132876800000.0,1133136000000.0,1133222400000.0,1133308800000.0,1133395200000.0,1133481600000.0,1133740800000.0,1133827200000.0,1133913600000.0,1134000000000.0,1134086400000.0,1134345600000.0,1134432000000.0,1134518400000.0,1134604800000.0,1134691200000.0,1134950400000.0,1135036800000.0,1135123200000.0,1135209600000.0,1135296000000.0,1135641600000.0,1135728000000.0,1135814400000.0,1135900800000.0,1136246400000.0,1136332800000.0,1136419200000.0,1136505600000.0,1136764800000.0,1136851200000.0,1136937600000.0,1137024000000.0,1137110400000.0,1137456000000.0,1137542400000.0,1137628800000.0,1137715200000.0,1137974400000.0,1138060800000.0,1138147200000.0,1138233600000.0,1138320000000.0,1138579200000.0,1138665600000.0,1138752000000.0,1138838400000.0,1138924800000.0,1139184000000.0,1139270400000.0,1139356800000.0,1139443200000.0,1139529600000.0,1139788800000.0,1139875200000.0,1139961600000.0,1140048000000.0,1140134400000.0,1140480000000.0,1140566400000.0,1140652800000.0,1140739200000.0,1140998400000.0,1141084800000.0,1141171200000.0,1141257600000.0,1141344000000.0,1141603200000.0,1141689600000.0,1141776000000.0,1141862400000.0,1141948800000.0,1142208000000.0,1142294400000.0,1142380800000.0,1142467200000.0,1142553600000.0,1142812800000.0,1142899200000.0,1142985600000.0,1143072000000.0,1143158400000.0,1143417600000.0,1143504000000.0,1143590400000.0,1143676800000.0,1143763200000.0,1144022400000.0,1144108800000.0,1144195200000.0,1144281600000.0,1144368000000.0,1144627200000.0,1144713600000.0,1144800000000.0,1144886400000.0,1145232000000.0,1145318400000.0,1145404800000.0,1145491200000.0,1145577600000.0,1145836800000.0,1145923200000.0,1146009600000.0,1146096000000.0,1146182400000.0,1146441600000.0,1146528000000.0,1146614400000.0,1146700800000.0,1146787200000.0,1147046400000.0,1147132800000.0,1147219200000.0,1147305600000.0,1147392000000.0,1147651200000.0,1147737600000.0,1147824000000.0,1147910400000.0,1147996800000.0,1148256000000.0,1148342400000.0,1148428800000.0,1148515200000.0,1148601600000.0,1148947200000.0,1149033600000.0,1149120000000.0,1149206400000.0,1149465600000.0,1149552000000.0,1149638400000.0,1149724800000.0,1149811200000.0,1150070400000.0,1150156800000.0,1150243200000.0,1150329600000.0,1150416000000.0,1150675200000.0,1150761600000.0,1150848000000.0,1150934400000.0,1151020800000.0,1151280000000.0,1151366400000.0,1151452800000.0,1151539200000.0,1151625600000.0,1151884800000.0,1152057600000.0,1152144000000.0,1152230400000.0,1152489600000.0,1152576000000.0,1152662400000.0,1152748800000.0,1152835200000.0,1153094400000.0,1153180800000.0,1153267200000.0,1153353600000.0,1153440000000.0,1153699200000.0,1153785600000.0,1153872000000.0,1153958400000.0,1154044800000.0,1154304000000.0,1154390400000.0,1154476800000.0,1154563200000.0,1154649600000.0,1154908800000.0,1154995200000.0,1155081600000.0,1155168000000.0,1155254400000.0,1155513600000.0,1155600000000.0,1155686400000.0,1155772800000.0,1155859200000.0,1156118400000.0,1156204800000.0,1156291200000.0,1156377600000.0,1156464000000.0,1156723200000.0,1156809600000.0,1156896000000.0,1156982400000.0,1157068800000.0,1157414400000.0,1157500800000.0,1157587200000.0,1157673600000.0,1157932800000.0,1158019200000.0,1158105600000.0,1158192000000.0,1158278400000.0,1158537600000.0,1158624000000.0,1158710400000.0,1158796800000.0,1158883200000.0,1159142400000.0,1159228800000.0,1159315200000.0,1159401600000.0,1159488000000.0,1159747200000.0,1159833600000.0,1159920000000.0,1160006400000.0,1160092800000.0,1160352000000.0,1160438400000.0,1160524800000.0,1160611200000.0,1160697600000.0,1160956800000.0,1161043200000.0,1161129600000.0,1161216000000.0,1161302400000.0,1161561600000.0,1161648000000.0,1161734400000.0,1161820800000.0,1161907200000.0,1162166400000.0,1162252800000.0,1162339200000.0,1162425600000.0,1162512000000.0,1162771200000.0,1162857600000.0,1162944000000.0,1163030400000.0,1163116800000.0,1163376000000.0,1163462400000.0,1163548800000.0,1163635200000.0,1163721600000.0,1163980800000.0,1164067200000.0,1164153600000.0,1164326400000.0,1164585600000.0,1164672000000.0,1164758400000.0,1164844800000.0,1164931200000.0,1165190400000.0,1165276800000.0,1165363200000.0,1165449600000.0,1165536000000.0,1165795200000.0,1165881600000.0,1165968000000.0,1166054400000.0,1166140800000.0,1166400000000.0,1166486400000.0,1166572800000.0,1166659200000.0,1166745600000.0,1167091200000.0,1167177600000.0,1167264000000.0,1167350400000.0,1167782400000.0,1167868800000.0,1167955200000.0,1168214400000.0,1168300800000.0,1168387200000.0,1168473600000.0,1168560000000.0,1168905600000.0,1168992000000.0,1169078400000.0,1169164800000.0,1169424000000.0,1169510400000.0,1169596800000.0,1169683200000.0,1169769600000.0,1170028800000.0,1170115200000.0,1170201600000.0,1170288000000.0,1170374400000.0,1170633600000.0,1170720000000.0,1170806400000.0,1170892800000.0,1170979200000.0,1171238400000.0,1171324800000.0,1171411200000.0,1171497600000.0,1171584000000.0,1171929600000.0,1172016000000.0,1172102400000.0,1172188800000.0,1172448000000.0,1172534400000.0,1172620800000.0,1172707200000.0,1172793600000.0,1173052800000.0,1173139200000.0,1173225600000.0,1173312000000.0,1173398400000.0,1173657600000.0,1173744000000.0,1173830400000.0,1173916800000.0,1174003200000.0,1174262400000.0,1174348800000.0,1174435200000.0,1174521600000.0,1174608000000.0,1174867200000.0,1174953600000.0,1175040000000.0,1175126400000.0,1175212800000.0,1175472000000.0,1175558400000.0,1175644800000.0,1175731200000.0,1176076800000.0,1176163200000.0,1176249600000.0,1176336000000.0,1176422400000.0,1176681600000.0,1176768000000.0,1176854400000.0,1176940800000.0,1177027200000.0,1177286400000.0,1177372800000.0,1177459200000.0,1177545600000.0,1177632000000.0,1177891200000.0,1177977600000.0,1178064000000.0,1178150400000.0,1178236800000.0,1178496000000.0,1178582400000.0,1178668800000.0,1178755200000.0,1178841600000.0,1179100800000.0,1179187200000.0,1179273600000.0,1179360000000.0,1179446400000.0,1179705600000.0,1179792000000.0,1179878400000.0,1179964800000.0,1180051200000.0,1180396800000.0,1180483200000.0,1180569600000.0,1180656000000.0,1180915200000.0,1181001600000.0,1181088000000.0,1181174400000.0,1181260800000.0,1181520000000.0,1181606400000.0,1181692800000.0,1181779200000.0,1181865600000.0,1182124800000.0,1182211200000.0,1182297600000.0,1182384000000.0,1182470400000.0,1182729600000.0,1182816000000.0,1182902400000.0,1182988800000.0,1183075200000.0,1183334400000.0,1183420800000.0,1183593600000.0,1183680000000.0,1183939200000.0,1184025600000.0,1184112000000.0,1184198400000.0,1184284800000.0,1184544000000.0,1184630400000.0,1184716800000.0,1184803200000.0,1184889600000.0,1185148800000.0,1185235200000.0,1185321600000.0,1185408000000.0,1185494400000.0,1185753600000.0,1185840000000.0,1185926400000.0,1186012800000.0,1186099200000.0,1186358400000.0,1186444800000.0,1186531200000.0,1186617600000.0,1186704000000.0,1186963200000.0,1187049600000.0,1187136000000.0,1187222400000.0,1187308800000.0,1187568000000.0,1187654400000.0,1187740800000.0,1187827200000.0,1187913600000.0,1188172800000.0,1188259200000.0,1188345600000.0,1188432000000.0,1188518400000.0,1188864000000.0,1188950400000.0,1189036800000.0,1189123200000.0,1189382400000.0,1189468800000.0,1189555200000.0,1189641600000.0,1189728000000.0,1189987200000.0,1190073600000.0,1190160000000.0,1190246400000.0,1190332800000.0,1190592000000.0,1190678400000.0,1190764800000.0,1190851200000.0,1190937600000.0,1191196800000.0,1191283200000.0,1191369600000.0,1191456000000.0,1191542400000.0,1191801600000.0,1191888000000.0,1191974400000.0,1192060800000.0,1192147200000.0,1192406400000.0,1192492800000.0,1192579200000.0,1192665600000.0,1192752000000.0,1193011200000.0,1193097600000.0,1193184000000.0,1193270400000.0,1193356800000.0,1193616000000.0,1193702400000.0,1193788800000.0,1193875200000.0,1193961600000.0,1194220800000.0,1194307200000.0,1194393600000.0,1194480000000.0,1194566400000.0,1194825600000.0,1194912000000.0,1194998400000.0,1195084800000.0,1195171200000.0,1195430400000.0,1195516800000.0,1195603200000.0,1195776000000.0,1196035200000.0,1196121600000.0,1196208000000.0,1196294400000.0,1196380800000.0,1196640000000.0,1196726400000.0,1196812800000.0,1196899200000.0,1196985600000.0,1197244800000.0,1197331200000.0,1197417600000.0,1197504000000.0,1197590400000.0,1197849600000.0,1197936000000.0,1198022400000.0,1198108800000.0,1198195200000.0,1198454400000.0,1198627200000.0,1198713600000.0,1198800000000.0,1199059200000.0,1199232000000.0,1199318400000.0,1199404800000.0,1199664000000.0,1199750400000.0,1199836800000.0,1199923200000.0,1200009600000.0,1200268800000.0,1200355200000.0,1200441600000.0,1200528000000.0,1200614400000.0,1200960000000.0,1201046400000.0,1201132800000.0,1201219200000.0,1201478400000.0,1201564800000.0,1201651200000.0,1201737600000.0,1201824000000.0,1202083200000.0,1202169600000.0,1202256000000.0,1202342400000.0,1202428800000.0,1202688000000.0,1202774400000.0,1202860800000.0,1202947200000.0,1203033600000.0,1203379200000.0,1203465600000.0,1203552000000.0,1203638400000.0,1203897600000.0,1203984000000.0,1204070400000.0,1204156800000.0,1204243200000.0,1204502400000.0,1204588800000.0,1204675200000.0,1204761600000.0,1204848000000.0,1205107200000.0,1205193600000.0,1205280000000.0,1205366400000.0,1205452800000.0,1205712000000.0,1205798400000.0,1205884800000.0,1205971200000.0,1206316800000.0,1206403200000.0,1206489600000.0,1206576000000.0,1206662400000.0,1206921600000.0,1207008000000.0,1207094400000.0,1207180800000.0,1207267200000.0,1207526400000.0,1207612800000.0,1207699200000.0,1207785600000.0,1207872000000.0,1208131200000.0,1208217600000.0,1208304000000.0,1208390400000.0,1208476800000.0,1208736000000.0,1208822400000.0,1208908800000.0,1208995200000.0,1209081600000.0,1209340800000.0,1209427200000.0,1209513600000.0,1209600000000.0,1209686400000.0,1209945600000.0,1210032000000.0,1210118400000.0,1210204800000.0,1210291200000.0,1210550400000.0,1210636800000.0,1210723200000.0,1210809600000.0,1210896000000.0,1211155200000.0,1211241600000.0,1211328000000.0,1211414400000.0,1211500800000.0,1211846400000.0,1211932800000.0,1212019200000.0,1212105600000.0,1212364800000.0,1212451200000.0,1212537600000.0,1212624000000.0,1212710400000.0,1212969600000.0,1213056000000.0,1213142400000.0,1213228800000.0,1213315200000.0,1213574400000.0,1213660800000.0,1213747200000.0,1213833600000.0,1213920000000.0,1214179200000.0,1214265600000.0,1214352000000.0,1214438400000.0,1214524800000.0,1214784000000.0,1214870400000.0,1214956800000.0,1215043200000.0,1215388800000.0,1215475200000.0,1215561600000.0,1215648000000.0,1215734400000.0,1215993600000.0,1216080000000.0,1216166400000.0,1216252800000.0,1216339200000.0,1216598400000.0,1216684800000.0,1216771200000.0,1216857600000.0,1216944000000.0,1217203200000.0,1217289600000.0,1217376000000.0,1217462400000.0,1217548800000.0,1217808000000.0,1217894400000.0,1217980800000.0,1218067200000.0,1218153600000.0,1218412800000.0,1218499200000.0,1218585600000.0,1218672000000.0,1218758400000.0,1219017600000.0,1219104000000.0,1219190400000.0,1219276800000.0,1219363200000.0,1219622400000.0,1219708800000.0,1219795200000.0,1219881600000.0,1219968000000.0,1220313600000.0,1220400000000.0,1220486400000.0,1220572800000.0,1220832000000.0,1220918400000.0,1221004800000.0,1221091200000.0,1221177600000.0,1221436800000.0,1221523200000.0,1221609600000.0,1221696000000.0,1221782400000.0,1222041600000.0,1222128000000.0,1222214400000.0,1222300800000.0,1222387200000.0,1222646400000.0,1222732800000.0,1222819200000.0,1222905600000.0,1222992000000.0,1223251200000.0,1223337600000.0,1223424000000.0,1223510400000.0,1223596800000.0,1223856000000.0,1223942400000.0,1224028800000.0,1224115200000.0,1224201600000.0,1224460800000.0,1224547200000.0,1224633600000.0,1224720000000.0,1224806400000.0,1225065600000.0,1225152000000.0,1225238400000.0,1225324800000.0,1225411200000.0,1225670400000.0,1225756800000.0,1225843200000.0,1225929600000.0,1226016000000.0,1226275200000.0,1226361600000.0,1226448000000.0,1226534400000.0,1226620800000.0,1226880000000.0,1226966400000.0,1227052800000.0,1227139200000.0,1227225600000.0,1227484800000.0,1227571200000.0,1227657600000.0,1227830400000.0,1228089600000.0,1228176000000.0,1228262400000.0,1228348800000.0,1228435200000.0,1228694400000.0,1228780800000.0,1228867200000.0,1228953600000.0,1229040000000.0,1229299200000.0,1229385600000.0,1229472000000.0,1229558400000.0,1229644800000.0,1229904000000.0,1229990400000.0,1230076800000.0,1230249600000.0,1230508800000.0,1230595200000.0,1230681600000.0,1230854400000.0,1231113600000.0,1231200000000.0,1231286400000.0,1231372800000.0,1231459200000.0,1231718400000.0,1231804800000.0,1231891200000.0,1231977600000.0,1232064000000.0,1232409600000.0,1232496000000.0,1232582400000.0,1232668800000.0,1232928000000.0,1233014400000.0,1233100800000.0,1233187200000.0,1233273600000.0,1233532800000.0,1233619200000.0,1233705600000.0,1233792000000.0,1233878400000.0,1234137600000.0,1234224000000.0,1234310400000.0,1234396800000.0,1234483200000.0,1234828800000.0,1234915200000.0,1235001600000.0,1235088000000.0,1235347200000.0,1235433600000.0,1235520000000.0,1235606400000.0,1235692800000.0,1235952000000.0,1236038400000.0,1236124800000.0,1236211200000.0,1236297600000.0,1236556800000.0,1236643200000.0,1236729600000.0,1236816000000.0,1236902400000.0,1237161600000.0,1237248000000.0,1237334400000.0,1237420800000.0,1237507200000.0,1237766400000.0,1237852800000.0,1237939200000.0,1238025600000.0,1238112000000.0,1238371200000.0,1238457600000.0,1238544000000.0,1238630400000.0,1238716800000.0,1238976000000.0,1239062400000.0,1239148800000.0,1239235200000.0,1239580800000.0,1239667200000.0,1239753600000.0,1239840000000.0,1239926400000.0,1240185600000.0,1240272000000.0,1240358400000.0,1240444800000.0,1240531200000.0,1240790400000.0,1240876800000.0,1240963200000.0,1241049600000.0,1241136000000.0,1241395200000.0,1241481600000.0,1241568000000.0,1241654400000.0,1241740800000.0,1242000000000.0,1242086400000.0,1242172800000.0,1242259200000.0,1242345600000.0,1242604800000.0,1242691200000.0,1242777600000.0,1242864000000.0,1242950400000.0,1243296000000.0,1243382400000.0,1243468800000.0,1243555200000.0,1243814400000.0,1243900800000.0,1243987200000.0,1244073600000.0,1244160000000.0,1244419200000.0,1244505600000.0,1244592000000.0,1244678400000.0,1244764800000.0,1245024000000.0,1245110400000.0,1245196800000.0,1245283200000.0,1245369600000.0,1245628800000.0,1245715200000.0,1245801600000.0,1245888000000.0,1245974400000.0,1246233600000.0,1246320000000.0,1246406400000.0,1246492800000.0,1246838400000.0,1246924800000.0,1247011200000.0,1247097600000.0,1247184000000.0,1247443200000.0,1247529600000.0,1247616000000.0,1247702400000.0,1247788800000.0,1248048000000.0,1248134400000.0,1248220800000.0,1248307200000.0,1248393600000.0,1248652800000.0,1248739200000.0,1248825600000.0,1248912000000.0,1248998400000.0,1249257600000.0,1249344000000.0,1249430400000.0,1249516800000.0,1249603200000.0,1249862400000.0,1249948800000.0,1250035200000.0,1250121600000.0,1250208000000.0,1250467200000.0,1250553600000.0,1250640000000.0,1250726400000.0,1250812800000.0,1251072000000.0,1251158400000.0,1251244800000.0,1251331200000.0,1251417600000.0,1251676800000.0,1251763200000.0,1251849600000.0,1251936000000.0,1252022400000.0,1252368000000.0,1252454400000.0,1252540800000.0,1252627200000.0,1252886400000.0,1252972800000.0,1253059200000.0,1253145600000.0,1253232000000.0,1253491200000.0,1253577600000.0,1253664000000.0,1253750400000.0,1253836800000.0,1254096000000.0,1254182400000.0,1254268800000.0,1254355200000.0,1254441600000.0,1254700800000.0,1254787200000.0,1254873600000.0,1254960000000.0,1255046400000.0,1255305600000.0,1255392000000.0,1255478400000.0,1255564800000.0,1255651200000.0,1255910400000.0,1255996800000.0,1256083200000.0,1256169600000.0,1256256000000.0,1256515200000.0,1256601600000.0,1256688000000.0,1256774400000.0,1256860800000.0,1257120000000.0,1257206400000.0,1257292800000.0,1257379200000.0,1257465600000.0,1257724800000.0,1257811200000.0,1257897600000.0,1257984000000.0,1258070400000.0,1258329600000.0,1258416000000.0,1258502400000.0,1258588800000.0,1258675200000.0,1258934400000.0,1259020800000.0,1259107200000.0,1259280000000.0,1259539200000.0,1259625600000.0,1259712000000.0,1259798400000.0,1259884800000.0,1260144000000.0,1260230400000.0,1260316800000.0,1260403200000.0,1260489600000.0,1260748800000.0,1260835200000.0,1260921600000.0,1261008000000.0,1261094400000.0,1261353600000.0,1261440000000.0,1261526400000.0,1261612800000.0,1261958400000.0,1262044800000.0,1262131200000.0,1262217600000.0,1262563200000.0,1262649600000.0,1262736000000.0,1262822400000.0,1262908800000.0,1263168000000.0,1263254400000.0,1263340800000.0,1263427200000.0,1263513600000.0,1263859200000.0,1263945600000.0,1264032000000.0,1264118400000.0,1264377600000.0,1264464000000.0,1264550400000.0,1264636800000.0,1264723200000.0,1264982400000.0,1265068800000.0,1265155200000.0,1265241600000.0,1265328000000.0,1265587200000.0,1265673600000.0,1265760000000.0,1265846400000.0,1265932800000.0,1266278400000.0,1266364800000.0,1266451200000.0,1266537600000.0,1266796800000.0,1266883200000.0,1266969600000.0,1267056000000.0,1267142400000.0,1267401600000.0,1267488000000.0,1267574400000.0,1267660800000.0,1267747200000.0,1268006400000.0,1268092800000.0,1268179200000.0,1268265600000.0,1268352000000.0,1268611200000.0,1268697600000.0,1268784000000.0,1268870400000.0,1268956800000.0,1269216000000.0,1269302400000.0,1269388800000.0,1269475200000.0,1269561600000.0,1269820800000.0,1269907200000.0,1269993600000.0,1270080000000.0,1270425600000.0,1270512000000.0,1270598400000.0,1270684800000.0,1270771200000.0,1271030400000.0,1271116800000.0,1271203200000.0,1271289600000.0,1271376000000.0,1271635200000.0,1271721600000.0,1271808000000.0,1271894400000.0,1271980800000.0,1272240000000.0,1272326400000.0,1272412800000.0,1272499200000.0,1272585600000.0,1272844800000.0,1272931200000.0,1273017600000.0,1273104000000.0,1273190400000.0,1273449600000.0,1273536000000.0,1273622400000.0,1273708800000.0,1273795200000.0,1274054400000.0,1274140800000.0,1274227200000.0,1274313600000.0,1274400000000.0,1274659200000.0,1274745600000.0,1274832000000.0,1274918400000.0,1275004800000.0,1275350400000.0,1275436800000.0,1275523200000.0,1275609600000.0,1275868800000.0,1275955200000.0,1276041600000.0,1276128000000.0,1276214400000.0,1276473600000.0,1276560000000.0,1276646400000.0,1276732800000.0,1276819200000.0,1277078400000.0,1277164800000.0,1277251200000.0,1277337600000.0,1277424000000.0,1277683200000.0,1277769600000.0,1277856000000.0,1277942400000.0,1278028800000.0,1278374400000.0,1278460800000.0,1278547200000.0,1278633600000.0,1278892800000.0,1278979200000.0,1279065600000.0,1279152000000.0,1279238400000.0,1279497600000.0,1279584000000.0,1279670400000.0,1279756800000.0,1279843200000.0,1280102400000.0,1280188800000.0,1280275200000.0,1280361600000.0,1280448000000.0,1280707200000.0,1280793600000.0,1280880000000.0,1280966400000.0,1281052800000.0,1281312000000.0,1281398400000.0,1281484800000.0,1281571200000.0,1281657600000.0,1281916800000.0,1282003200000.0,1282089600000.0,1282176000000.0,1282262400000.0,1282521600000.0,1282608000000.0,1282694400000.0,1282780800000.0,1282867200000.0,1283126400000.0,1283212800000.0,1283299200000.0,1283385600000.0,1283472000000.0,1283817600000.0,1283904000000.0,1283990400000.0,1284076800000.0,1284336000000.0,1284422400000.0,1284508800000.0,1284595200000.0,1284681600000.0,1284940800000.0,1285027200000.0,1285113600000.0,1285200000000.0,1285286400000.0,1285545600000.0,1285632000000.0,1285718400000.0,1285804800000.0,1285891200000.0,1286150400000.0,1286236800000.0,1286323200000.0,1286409600000.0,1286496000000.0,1286755200000.0,1286841600000.0,1286928000000.0,1287014400000.0,1287100800000.0,1287360000000.0,1287446400000.0,1287532800000.0,1287619200000.0,1287705600000.0,1287964800000.0,1288051200000.0,1288137600000.0,1288224000000.0,1288310400000.0,1288569600000.0,1288656000000.0,1288742400000.0,1288828800000.0,1288915200000.0,1289174400000.0,1289260800000.0,1289347200000.0,1289433600000.0,1289520000000.0,1289779200000.0,1289865600000.0,1289952000000.0,1290038400000.0,1290124800000.0,1290384000000.0,1290470400000.0,1290556800000.0,1290729600000.0,1290988800000.0,1291075200000.0,1291161600000.0,1291248000000.0,1291334400000.0,1291593600000.0,1291680000000.0,1291766400000.0,1291852800000.0,1291939200000.0,1292198400000.0,1292284800000.0,1292371200000.0,1292457600000.0,1292544000000.0,1292803200000.0,1292889600000.0,1292976000000.0,1293062400000.0,1293408000000.0,1293494400000.0,1293580800000.0,1293667200000.0,1293753600000.0,1294012800000.0,1294099200000.0,1294185600000.0,1294272000000.0,1294358400000.0,1294617600000.0,1294704000000.0,1294790400000.0,1294876800000.0,1294963200000.0,1295308800000.0,1295395200000.0,1295481600000.0,1295568000000.0,1295827200000.0,1295913600000.0,1296000000000.0,1296086400000.0,1296172800000.0,1296432000000.0,1296518400000.0,1296604800000.0,1296691200000.0,1296777600000.0,1297036800000.0,1297123200000.0,1297209600000.0,1297296000000.0,1297382400000.0,1297641600000.0,1297728000000.0,1297814400000.0,1297900800000.0,1297987200000.0,1298332800000.0,1298419200000.0,1298505600000.0,1298592000000.0,1298851200000.0,1298937600000.0,1299024000000.0,1299110400000.0,1299196800000.0,1299456000000.0,1299542400000.0,1299628800000.0,1299715200000.0,1299801600000.0,1300060800000.0,1300147200000.0,1300233600000.0,1300320000000.0,1300406400000.0,1300665600000.0,1300752000000.0,1300838400000.0,1300924800000.0,1301011200000.0,1301270400000.0,1301356800000.0,1301443200000.0,1301529600000.0,1301616000000.0,1301875200000.0,1301961600000.0,1302048000000.0,1302134400000.0,1302220800000.0,1302480000000.0,1302566400000.0,1302652800000.0,1302739200000.0,1302825600000.0,1303084800000.0,1303171200000.0,1303257600000.0,1303344000000.0,1303689600000.0,1303776000000.0,1303862400000.0,1303948800000.0,1304035200000.0,1304294400000.0,1304380800000.0,1304467200000.0,1304553600000.0,1304640000000.0,1304899200000.0,1304985600000.0,1305072000000.0,1305158400000.0,1305244800000.0,1305504000000.0,1305590400000.0,1305676800000.0,1305763200000.0,1305849600000.0,1306108800000.0,1306195200000.0,1306281600000.0,1306368000000.0,1306454400000.0,1306800000000.0,1306886400000.0,1306972800000.0,1307059200000.0,1307318400000.0,1307404800000.0,1307491200000.0,1307577600000.0,1307664000000.0,1307923200000.0,1308009600000.0,1308096000000.0,1308182400000.0,1308268800000.0,1308528000000.0,1308614400000.0,1308700800000.0,1308787200000.0,1308873600000.0,1309132800000.0,1309219200000.0,1309305600000.0,1309392000000.0,1309478400000.0,1309824000000.0,1309910400000.0,1309996800000.0,1310083200000.0,1310342400000.0,1310428800000.0,1310515200000.0,1310601600000.0,1310688000000.0,1310947200000.0,1311033600000.0,1311120000000.0,1311206400000.0,1311292800000.0,1311552000000.0,1311638400000.0,1311724800000.0,1311811200000.0,1311897600000.0,1312156800000.0,1312243200000.0,1312329600000.0,1312416000000.0,1312502400000.0,1312761600000.0,1312848000000.0,1312934400000.0,1313020800000.0,1313107200000.0,1313366400000.0,1313452800000.0,1313539200000.0,1313625600000.0,1313712000000.0,1313971200000.0,1314057600000.0,1314144000000.0,1314230400000.0,1314316800000.0,1314576000000.0,1314662400000.0,1314748800000.0,1314835200000.0,1314921600000.0,1315267200000.0,1315353600000.0,1315440000000.0,1315526400000.0,1315785600000.0,1315872000000.0,1315958400000.0,1316044800000.0,1316131200000.0,1316390400000.0,1316476800000.0,1316563200000.0,1316649600000.0,1316736000000.0,1316995200000.0,1317081600000.0,1317168000000.0,1317254400000.0,1317340800000.0,1317600000000.0,1317686400000.0,1317772800000.0,1317859200000.0,1317945600000.0,1318204800000.0,1318291200000.0,1318377600000.0,1318464000000.0,1318550400000.0,1318809600000.0,1318896000000.0,1318982400000.0,1319068800000.0,1319155200000.0,1319414400000.0,1319500800000.0,1319587200000.0,1319673600000.0,1319760000000.0,1320019200000.0,1320105600000.0,1320192000000.0,1320278400000.0,1320364800000.0,1320624000000.0,1320710400000.0,1320796800000.0,1320883200000.0,1320969600000.0,1321228800000.0,1321315200000.0,1321401600000.0,1321488000000.0,1321574400000.0,1321833600000.0,1321920000000.0,1322006400000.0,1322179200000.0,1322438400000.0,1322524800000.0,1322611200000.0,1322697600000.0,1322784000000.0,1323043200000.0,1323129600000.0,1323216000000.0,1323302400000.0,1323388800000.0,1323648000000.0,1323734400000.0,1323820800000.0,1323907200000.0,1323993600000.0,1324252800000.0,1324339200000.0,1324425600000.0,1324512000000.0,1324598400000.0,1324944000000.0,1325030400000.0,1325116800000.0,1325203200000.0,1325548800000.0,1325635200000.0,1325721600000.0,1325808000000.0,1326067200000.0,1326153600000.0,1326240000000.0,1326326400000.0,1326412800000.0,1326758400000.0,1326844800000.0,1326931200000.0,1327017600000.0,1327276800000.0,1327363200000.0,1327449600000.0,1327536000000.0,1327622400000.0,1327881600000.0,1327968000000.0,1328054400000.0,1328140800000.0,1328227200000.0,1328486400000.0,1328572800000.0,1328659200000.0,1328745600000.0,1328832000000.0,1329091200000.0,1329177600000.0,1329264000000.0,1329350400000.0,1329436800000.0,1329782400000.0,1329868800000.0,1329955200000.0,1330041600000.0,1330300800000.0,1330387200000.0,1330473600000.0,1330560000000.0,1330646400000.0,1330905600000.0,1330992000000.0,1331078400000.0,1331164800000.0,1331251200000.0,1331510400000.0,1331596800000.0,1331683200000.0,1331769600000.0,1331856000000.0,1332115200000.0,1332201600000.0,1332288000000.0,1332374400000.0,1332460800000.0,1332720000000.0,1332806400000.0,1332892800000.0,1332979200000.0,1333065600000.0,1333324800000.0,1333411200000.0,1333497600000.0,1333584000000.0,1333929600000.0,1334016000000.0,1334102400000.0,1334188800000.0,1334275200000.0,1334534400000.0,1334620800000.0,1334707200000.0,1334793600000.0,1334880000000.0,1335139200000.0,1335225600000.0,1335312000000.0,1335398400000.0,1335484800000.0,1335744000000.0,1335830400000.0,1335916800000.0,1336003200000.0,1336089600000.0,1336348800000.0,1336435200000.0,1336521600000.0,1336608000000.0,1336694400000.0,1336953600000.0,1337040000000.0,1337126400000.0,1337212800000.0,1337299200000.0,1337558400000.0,1337644800000.0,1337731200000.0,1337817600000.0,1337904000000.0,1338249600000.0,1338336000000.0,1338422400000.0,1338508800000.0,1338768000000.0,1338854400000.0,1338940800000.0,1339027200000.0,1339113600000.0,1339372800000.0,1339459200000.0,1339545600000.0,1339632000000.0,1339718400000.0,1339977600000.0,1340064000000.0,1340150400000.0,1340236800000.0,1340323200000.0,1340582400000.0,1340668800000.0,1340755200000.0,1340841600000.0,1340928000000.0,1341187200000.0,1341273600000.0,1341446400000.0,1341532800000.0,1341792000000.0,1341878400000.0,1341964800000.0,1342051200000.0,1342137600000.0,1342396800000.0,1342483200000.0,1342569600000.0,1342656000000.0,1342742400000.0,1343001600000.0,1343088000000.0,1343174400000.0,1343260800000.0,1343347200000.0,1343606400000.0,1343692800000.0,1343779200000.0,1343865600000.0,1343952000000.0,1344211200000.0,1344297600000.0,1344384000000.0,1344470400000.0,1344556800000.0,1344816000000.0,1344902400000.0,1344988800000.0,1345075200000.0,1345161600000.0,1345420800000.0,1345507200000.0,1345593600000.0,1345680000000.0,1345766400000.0,1346025600000.0,1346112000000.0,1346198400000.0,1346284800000.0,1346371200000.0,1346716800000.0,1346803200000.0,1346889600000.0,1346976000000.0,1347235200000.0,1347321600000.0,1347408000000.0,1347494400000.0,1347580800000.0,1347840000000.0,1347926400000.0,1348012800000.0,1348099200000.0,1348185600000.0,1348444800000.0,1348531200000.0,1348617600000.0,1348704000000.0,1348790400000.0,1349049600000.0,1349136000000.0,1349222400000.0,1349308800000.0,1349395200000.0,1349654400000.0,1349740800000.0,1349827200000.0,1349913600000.0,1350000000000.0,1350259200000.0,1350345600000.0,1350432000000.0,1350518400000.0,1350604800000.0,1350864000000.0,1350950400000.0,1351036800000.0,1351123200000.0,1351209600000.0,1351641600000.0,1351728000000.0,1351814400000.0,1352073600000.0,1352160000000.0,1352246400000.0,1352332800000.0,1352419200000.0,1352678400000.0,1352764800000.0,1352851200000.0,1352937600000.0,1353024000000.0,1353283200000.0,1353369600000.0,1353456000000.0,1353628800000.0,1353888000000.0,1353974400000.0,1354060800000.0,1354147200000.0,1354233600000.0,1354492800000.0,1354579200000.0,1354665600000.0,1354752000000.0,1354838400000.0,1355097600000.0,1355184000000.0,1355270400000.0,1355356800000.0,1355443200000.0,1355702400000.0,1355788800000.0,1355875200000.0,1355961600000.0,1356048000000.0,1356307200000.0,1356480000000.0,1356566400000.0,1356652800000.0,1356912000000.0,1357084800000.0,1357171200000.0,1357257600000.0,1357516800000.0,1357603200000.0,1357689600000.0,1357776000000.0,1357862400000.0,1358121600000.0,1358208000000.0,1358294400000.0,1358380800000.0,1358467200000.0,1358812800000.0,1358899200000.0,1358985600000.0,1359072000000.0,1359331200000.0,1359417600000.0,1359504000000.0,1359590400000.0,1359676800000.0,1359936000000.0,1360022400000.0,1360108800000.0,1360195200000.0,1360281600000.0,1360540800000.0,1360627200000.0,1360713600000.0,1360800000000.0,1360886400000.0,1361232000000.0,1361318400000.0,1361404800000.0,1361491200000.0,1361750400000.0,1361836800000.0,1361923200000.0,1362009600000.0,1362096000000.0],\"y\":[31.68,29.66,31.12,30.56,29.87,29.66,29.72,30.57,29.5,27.78,28.26,29.56,30.39,29.91,32.81,35.06,34.36,33.72,33.93,33.83,33.05,30.57,33.02,32.41,30.95,31.7,30.44,32.03,30.39,29.04,26.56,27.67,27.2,30.12,30.85,29.45,28.9,29.3,31.2,29.5,30.82,30.16,30.22,28.66,27.98,26.91,27.5,26.77,25.64,24.15,25.0,26.17,24.56,25.7,24.65,24.5,22.85,21.87,20.86,21.32,21.22,21.0,21.29,20.42,21.67,22.5,22.2,22.58,23.48,23.05,23.28,22.17,22.98,21.99,22.46,22.17,23.49,24.62,27.05,26.14,25.14,26.32,25.16,26.47,24.92,25.47,25.92,25.11,25.19,26.47,27.78,27.69,28.63,27.47,28.05,28.35,27.84,25.62,26.81,26.04,23.68,24.34,24.34,25.29,23.49,24.71,23.98,22.98,23.34,23.04,23.31,22.73,23.1,23.13,23.19,22.88,22.7,23.58,25.01,24.31,24.56,25.14,26.41,27.28,27.63,28.23,28.78,28.93,29.63,30.85,30.36,28.42,30.15,28.63,28.42,28.08,28.2,27.65,26.86,29.5,29.15,29.69,27.57,25.38,26.02,25.01,23.8,26.02,12.52,11.79,10.85,11.49,10.73,10.79,10.58,10.15,9.54,9.73,10.73,10.45,9.78,9.78,9.21,9.48,9.91,9.18,9.0,9.0,9.03,9.39,9.51,9.97,10.85,10.82,10.43,10.36,9.75,9.82,9.27,9.42,9.85,9.66,9.24,9.0,9.21,9.15,9.0,9.39,9.09,8.77,8.54,8.02,8.3,8.12,8.27,6.96,6.96,7.32,7.39,7.48,7.29,7.02,6.84,6.93,6.81,6.99,6.84,7.29,7.14,7.2,7.2,7.24,7.24,7.96,8.3,7.96,8.05,8.36,8.05,8.75,8.36,8.33,8.17,9.09,9.48,9.36,9.97,9.97,9.7,9.51,10.55,10.58,10.51,10.27,10.03,9.82,10.27,10.09,10.09,9.3,9.57,9.3,9.48,9.75,9.24,8.9,9.18,9.15,9.15,9.48,9.42,8.87,9.12,9.36,9.91,10.45,10.33,10.12,9.85,9.05,9.51,9.94,9.57,9.54,10.0,9.57,9.78,10.51,11.18,10.59,11.12,10.78,10.96,10.73,10.5,9.84,9.48,10.15,10.01,9.99,10.72,10.6,10.9,10.43,9.92,11.08,12.51,12.18,11.79,11.69,12.02,12.01,12.74,12.4,12.61,12.93,12.14,12.52,12.14,11.95,11.66,11.18,11.11,11.33,11.27,11.72,11.45,11.44,11.46,11.43,11.3,11.28,11.07,10.44,9.62,9.7,10.16,10.05,10.18,10.08,10.53,10.37,9.74,9.88,9.95,9.67,9.94,9.89,9.82,10.54,10.94,10.82,11.67,11.55,11.35,11.45,11.31,11.62,11.59,11.28,10.71,11.04,10.28,10.96,11.85,12.08,11.65,12.21,10.11,9.71,9.72,9.5,9.28,8.98,9.04,9.22,9.21,9.14,9.27,9.64,9.48,9.3,9.36,9.19,9.26,9.25,9.28,9.11,8.97,9.07,8.79,8.81,8.71,8.86,8.66,9.03,9.2,8.95,8.67,8.67,9.02,8.87,9.02,8.62,8.4,8.45,8.26,7.92,8.28,7.62,7.65,8.0,7.56,7.37,7.54,7.54,7.56,7.32,7.28,7.72,7.85,7.88,7.78,8.18,8.63,8.76,8.75,8.76,8.26,8.75,8.9,9.25,8.82,9.21,9.33,9.08,8.57,8.56,8.54,9.04,9.03,9.27,9.52,9.53,9.1,9.1,9.12,9.42,9.54,9.46,9.22,9.73,9.5,9.57,9.65,10.39,10.21,9.98,9.93,10.36,10.24,10.89,11.55,11.08,10.96,10.96,10.59,10.45,10.21,9.92,10.03,10.22,10.51,10.05,10.21,10.39,10.45,10.73,10.91,10.65,11.33,11.47,11.52,11.14,10.99,10.53,10.32,10.24,10.28,10.55,10.1,10.93,10.78,10.61,11.19,11.29,11.31,11.32,11.22,11.71,12.02,11.87,12.33,12.38,12.0,11.82,11.69,12.15,12.02,12.16,11.96,11.62,11.0,11.25,10.45,11.06,11.58,11.51,10.68,10.55,11.4,11.81,11.44,11.7,11.86,11.99,12.19,12.02,11.91,11.88,12.13,12.03,12.08,12.12,11.8,11.71,11.35,11.41,11.41,11.51,11.89,11.7,11.55,12.11,12.03,11.94,11.72,11.99,12.09,12.19,12.16,12.52,12.7,12.36,12.15,11.93,11.79,11.56,11.73,11.19,11.65,11.8,11.66,11.52,11.43,11.01,10.93,11.85,11.76,11.34,11.64,12.45,12.29,12.26,12.16,12.03,11.41,11.83,12.24,11.74,11.66,11.66,11.77,11.33,11.14,11.08,11.05,10.78,10.41,10.45,9.95,9.77,9.5,9.77,9.99,9.8,8.33,8.32,8.19,8.4,8.33,8.05,8.3,8.62,8.3,8.24,8.53,9.11,8.76,8.52,8.42,8.9,8.51,8.86,8.68,7.6,7.29,7.27,7.26,7.04,7.39,6.98,6.97,7.3,7.5,7.42,7.2,7.03,6.8,7.17,7.31,7.44,7.29,7.29,7.09,7.38,7.59,7.69,7.77,7.74,7.84,7.77,7.65,7.55,7.22,7.15,7.15,7.17,6.83,7.04,6.9,6.99,6.99,6.97,6.95,6.88,6.89,7.05,7.2,7.3,7.09,7.23,7.22,7.12,7.26,7.15,7.16,7.05,7.06,6.89,6.95,6.82,6.7,6.65,6.61,6.86,7.06,7.18,7.37,7.08,6.86,6.97,7.08,7.15,7.24,7.14,7.5,7.59,7.51,7.77,7.81,7.96,8.21,8.22,8.37,7.78,7.7,7.37,7.61,7.58,7.93,7.76,7.61,7.43,7.55,7.95,7.79,7.77,7.49,7.64,7.54,7.38,7.37,7.28,7.11,7.27,7.17,7.43,7.53,7.39,7.19,7.22,7.33,7.09,6.91,6.88,7.05,6.98,7.0,6.84,6.84,6.97,7.2,7.25,7.25,7.22,7.08,7.14,7.16,7.11,7.1,7.02,7.11,6.86,6.82,6.75,6.89,6.71,6.87,7.09,7.26,6.96,6.98,7.13,7.1,7.03,7.02,6.88,6.98,6.98,7.0,7.07,7.13,7.43,7.22,7.18,7.29,7.17,7.3,7.05,7.23,7.3,7.12,7.08,7.11,7.08,7.07,6.99,6.92,6.91,7.16,7.19,7.3,7.29,7.27,7.25,7.29,6.99,7.08,7.01,7.05,7.09,6.88,6.89,7.1,7.03,7.01,7.05,7.03,6.9,6.99,6.42,6.6,6.51,6.44,6.38,6.39,6.57,6.6,6.54,6.49,6.74,6.84,6.91,6.98,7.03,7.82,8.51,8.58,8.75,8.9,9.03,9.08,9.02,9.11,9.14,8.8,8.65,8.68,8.87,8.91,9.18,8.89,8.8,8.73,8.49,8.42,8.56,8.58,8.34,8.16,8.35,8.49,8.64,8.47,8.88,8.85,9.3,9.31,9.34,9.27,9.13,9.28,9.38,9.11,9.27,9.28,9.37,9.3,9.66,9.92,9.67,9.52,9.65,9.68,9.54,9.66,10.16,10.14,10.02,10.11,10.11,9.97,10.47,10.21,10.08,9.86,10.25,10.08,10.31,9.91,9.55,9.69,9.55,9.56,9.58,9.81,9.71,9.58,9.89,9.88,10.22,10.54,10.15,10.14,10.24,10.45,10.79,10.99,11.11,11.16,11.1,10.94,11.06,10.88,10.79,10.97,11.23,10.8,10.87,10.76,11.13,10.98,10.74,10.91,10.37,9.93,10.06,10.36,10.08,10.11,10.0,10.55,10.84,11.29,11.21,11.4,11.52,11.84,11.94,12.07,11.31,11.06,11.29,11.27,11.07,11.18,10.99,10.99,11.53,11.52,11.23,11.13,11.26,11.14,11.2,11.24,10.94,10.65,10.47,10.86,10.9,10.44,10.28,9.92,9.93,9.91,9.86,10.28,10.06,10.08,10.17,10.56,10.47,10.23,10.28,10.14,10.24,9.94,9.91,10.31,10.16,9.81,9.78,9.67,9.74,9.58,9.65,9.63,9.92,10.1,10.28,10.35,10.39,10.35,10.78,10.74,10.98,11.36,11.18,11.54,11.73,11.77,11.11,11.05,11.05,10.99,10.79,10.97,11.19,11.22,10.95,11.03,10.97,10.85,10.82,10.6,10.9,11.04,11.02,11.17,11.57,11.54,11.18,11.26,11.31,10.93,10.89,10.79,10.87,11.09,11.2,11.63,11.68,11.58,11.63,12.23,13.0,12.64,13.18,13.46,13.2,13.4,12.86,12.56,12.74,12.48,12.58,12.58,12.3,12.4,13.07,13.15,13.57,13.58,13.15,13.18,13.37,13.77,13.53,13.28,13.39,13.64,13.1,12.95,14.25,14.19,13.79,13.48,13.48,13.51,13.47,13.19,13.1,12.86,13.02,12.54,12.68,12.71,12.96,12.93,12.97,12.78,13.2,13.28,13.22,13.16,12.95,13.16,12.87,12.99,13.18,13.29,13.82,13.86,13.7,13.64,13.64,14.06,13.81,14.0,14.5,14.76,14.69,14.95,14.65,14.92,15.92,15.95,16.0,15.72,16.05,16.39,16.13,16.39,15.8,15.8,15.82,15.71,15.11,15.05,14.78,14.66,14.6,14.17,14.21,14.38,16.01,15.66,15.55,15.66,15.38,15.41,14.93,15.2,15.77,15.69,15.87,15.73,15.36,15.22,15.46,15.26,14.48,14.73,15.33,15.08,14.77,15.0,14.97,15.01,15.43,14.93,14.98,15.11,15.54,16.07,16.85,16.7,16.59,16.77,17.44,17.34,17.13,17.39,17.68,17.36,17.44,17.31,17.26,17.12,17.68,18.06,18.34,18.48,17.95,18.12,18.13,18.25,18.5,18.81,18.84,18.8,18.86,19.14,19.76,19.27,18.99,18.77,18.62,19.33,21.87,22.13,23.22,23.06,23.08,23.31,23.05,23.12,23.33,24.46,25.38,25.48,25.51,26.02,26.9,26.48,26.61,26.44,26.28,26.62,26.89,26.99,26.86,26.72,26.7,26.93,26.83,29.83,29.79,31.15,31.39,33.28,32.6,32.96,31.71,30.48,31.99,30.58,30.77,31.12,31.68,31.56,31.75,31.73,32.39,31.6,30.5,30.97,31.0,31.13,30.71,31.21,31.34,31.51,31.32,30.78,31.09,31.36,31.39,33.67,33.53,31.39,31.83,33.94,34.14,34.36,33.98,34.26,34.28,34.41,35.04,35.13,35.32,35.97,37.39,37.7,38.72,37.84,38.34,38.39,39.34,38.29,38.1,39.49,41.15,42.99,43.83,42.7,42.21,41.47,42.9,43.24,43.27,43.63,43.28,42.91,40.64,41.63,41.58,39.42,38.27,38.74,39.16,39.21,39.84,40.05,41.09,41.78,42.5,41.65,41.38,41.33,41.36,40.6,41.63,40.53,39.77,39.96,40.74,41.17,42.36,42.54,40.77,41.49,39.91,36.24,34.38,34.64,36.07,34.54,36.16,34.53,35.97,35.2,34.96,34.56,35.07,35.43,35.22,36.13,35.67,36.22,35.96,35.42,34.63,33.19,33.82,34.57,34.39,34.86,36.52,36.52,38.67,38.61,38.69,39.62,39.45,38.67,39.19,38.94,37.19,36.88,35.54,35.91,36.62,34.83,34.91,35.01,36.11,36.94,37.26,36.58,36.82,37.49,37.82,36.72,36.08,36.29,35.37,35.8,35.5,36.94,36.36,36.6,37.2,37.05,37.19,37.3,39.63,40.41,40.35,42.0,42.43,42.1,42.79,42.61,42.43,42.78,42.6,41.48,41.58,42.0,42.03,41.54,41.81,41.48,42.62,42.19,42.79,44.83,46.37,44.98,45.86,45.03,44.57,44.61,44.48,44.51,44.8,44.48,44.58,45.29,45.6,44.99,44.95,47.46,47.34,48.41,49.9,49.99,49.43,48.25,48.5,49.8,51.2,51.73,50.68,50.48,51.74,52.36,51.97,49.68,50.9,52.14,52.95,52.27,51.33,50.28,49.89,48.99,50.17,47.9,52.27,52.52,51.97,50.78,53.43,54.6,54.13,55.23,54.56,55.46,53.89,52.97,56.01,55.92,58.3,60.15,59.47,58.58,58.26,58.46,59.5,59.85,59.76,60.57,63.17,62.75,62.79,63.18,64.69,65.27,67.44,67.75,66.23,65.96,69.63,70.64,69.85,72.02,71.92,72.05,72.29,72.85,72.92,70.03,70.2,69.16,69.42,70.13,71.48,71.99,71.34,72.19,71.55,69.49,69.92,72.7,72.91,72.34,74.21,73.96,78.64,81.6,81.98,83.24,82.38,80.23,76.87,74.0,75.54,73.95,72.16,70.34,70.05,72.94,73.44,73.35,70.12,69.88,65.45,65.74,66.92,63.17,65.46,62.93,65.78,67.32,68.63,68.36,67.18,69.36,69.78,69.5,69.04,66.61,67.2,67.7,65.86,63.68,64.49,63.86,62.18,61.46,63.88,65.47,64.41,62.54,62.89,62.23,60.11,59.98,58.51,58.31,57.88,57.1,60.62,61.03,61.0,60.93,59.49,65.37,69.28,67.87,66.79,66.12,64.88,64.65,63.03,64.4,63.85,65.77,65.2,63.95,64.35,66.28,67.46,68.46,67.69,69.65,69.19,69.18,69.92,69.92,69.08,68.66,66.28,65.84,65.93,63.2,63.47,61.45,62.74,61.64,61.42,61.6,62.56,61.81,59.54,58.13,60.46,59.97,58.35,58.08,56.95,59.09,57.61,55.44,56.73,56.03,57.75,55.98,55.63,55.89,56.27,57.94,57.22,57.37,55.85,54.48,57.35,55.7,56.36,55.44,54.24,53.88,53.49,54.12,51.51,50.82,49.28,50.93,51.45,52.62,58.84,59.05,59.73,60.23,62.12,61.66,63.79,66.09,65.34,66.29,67.68,66.43,65.37,63.0,61.84,62.31,61.9,62.19,64.63,66.11,65.73,66.05,64.73,65.76,65.46,65.95,66.86,65.14,64.66,65.12,65.99,66.5,69.52,68.11,70.8,70.53,70.51,70.64,72.16,72.13,72.07,71.86,71.75,73.19,72.6,71.0,73.67,75.48,74.31,74.9,74.87,72.81,72.05,73.31,72.78,72.18,72.58,71.78,71.22,73.19,72.96,73.33,72.25,72.48,76.82,77.76,79.22,78.83,79.44,79.93,78.2,78.21,78.85,76.99,76.81,76.14,77.52,78.3,80.19,81.05,80.84,82.03,82.67,81.74,83.26,83.49,84.1,86.17,87.83,89.12,87.08,89.29,89.28,89.14,88.81,88.62,88.76,87.36,84.65,85.84,86.31,83.78,86.61,86.12,85.31,83.12,83.94,82.43,80.62,79.94,79.27,79.28,78.65,82.51,81.5,83.31,82.72,83.12,90.03,94.34,93.17,92.02,94.43,92.34,86.63,86.07,84.41,83.35,84.32,83.88,83.04,83.58,83.2,83.38,82.41,82.42,81.64,81.84,83.79,83.81,80.98,82.55,82.38,82.96,82.87,82.5,83.54,86.75,87.05,86.63,86.08,81.63,82.29,84.67,83.07,83.95,85.77,85.31,85.58,85.56,87.4,85.97,87.53,87.11,87.13,88.63,88.97,91.29,91.38,90.95,93.22,92.84,90.68,91.18,90.36,91.08,91.91,91.68,92.08,91.08,91.66,90.05,89.66,87.76,88.92,87.87,87.92,87.79,88.47,90.94,90.68,92.73,96.13,97.18,97.06,96.74,97.63,97.64,98.04,101.07,102.18,103.95,104.39,105.76,106.36,104.57,104.39,106.44,107.0,108.91,110.42,109.79,107.65,110.5,111.21,115.51,117.86,115.15,118.0,119.3,120.25,120.66,121.07,116.89,117.08,114.27,115.49,117.19,121.66,120.27,118.21,120.5,119.62,118.98,116.37,118.54,117.25,118.69,117.93,123.68,129.11,128.67,126.75,128.72,128.76,130.39,133.95,134.31,135.1,134.33,136.16,139.8,139.76,131.19,133.49,141.99,139.9,137.55,128.14,131.29,132.74,128.23,131.54,131.32,130.33,122.92,121.57,124.28,120.63,116.61,113.84,118.71,118.87,124.07,128.87,127.47,131.59,128.62,123.34,130.4,132.51,134.68,140.2,133.01,131.3,128.15,132.96,131.77,133.09,133.43,135.0,134.61,137.05,136.91,136.46,140.19,144.21,148.98,148.58,150.26,149.26,152.05,154.1,153.59,151.95,157.02,163.3,163.25,162.21,157.78,162.66,162.4,164.93,168.01,168.74,165.74,169.57,181.05,180.83,177.76,179.63,180.01,181.87,184.74,182.3,182.71,181.07,186.53,181.19,170.65,160.83,149.54,165.3,161.55,159.79,161.82,159.45,164.22,163.84,166.83,167.8,170.01,175.27,179.23,177.22,173.95,174.87,180.41,184.74,188.97,188.88,183.37,185.62,186.56,185.16,179.34,177.96,178.09,182.07,188.59,193.34,193.49,193.12,194.35,192.64,189.49,189.58,175.11,172.76,166.55,174.48,173.13,167.95,173.87,164.4,155.26,156.47,156.93,151.37,135.25,131.88,126.44,126.44,127.93,128.55,131.64,130.08,128.04,125.81,118.65,117.91,122.04,125.9,121.43,125.85,123.96,121.21,118.83,120.42,118.2,116.18,116.45,115.88,119.59,126.34,121.59,118.39,121.2,121.07,117.61,118.89,116.4,123.85,122.57,124.43,123.13,123.25,129.17,126.11,129.61,135.7,137.11,141.08,136.4,139.08,139.56,145.43,143.44,147.45,148.88,151.61,148.64,147.28,150.31,143.1,143.72,144.31,149.48,150.25,156.62,163.54,155.8,158.42,164.3,165.07,167.51,170.25,169.18,175.06,175.97,179.66,181.54,177.58,179.98,178.41,183.0,184.75,181.15,184.52,182.47,178.56,180.8,173.3,172.19,176.2,181.31,181.88,181.57,183.57,180.99,180.28,180.11,184.23,180.54,176.63,180.54,175.85,168.5,167.64,171.99,176.45,173.84,175.93,170.46,168.41,168.49,172.52,163.64,165.42,162.84,169.89,163.56,165.45,170.35,174.62,169.47,171.78,167.84,169.11,164.98,168.07,167.09,160.62,161.73,157.57,161.7,154.67,157.67,150.16,152.77,155.49,154.59,152.36,149.02,156.23,159.68,159.08,164.9,168.8,171.88,174.38,174.4,170.92,170.58,168.77,171.01,169.51,171.94,167.81,168.87,169.88,168.97,164.88,161.63,162.38,156.79,155.78,153.59,147.52,147.45,148.46,144.85,136.51,136.04,124.32,130.41,137.04,127.45,123.36,125.18,128.31,124.72,102.37,110.54,106.12,97.35,94.41,95.45,86.71,87.33,86.3,94.14,107.23,101.22,95.26,99.09,94.73,95.74,88.98,94.21,95.53,93.73,89.56,97.17,101.68,107.99,104.64,104.02,107.94,100.46,96.38,95.54,93.25,92.17,87.65,93.79,87.76,85.72,87.44,83.92,78.28,80.31,90.4,88.31,92.39,90.13,86.49,89.93,93.27,88.9,91.42,96.98,97.31,95.51,92.39,95.57,92.15,92.81,86.71,86.98,87.53,83.39,84.01,82.71,83.45,84.23,83.92,83.01,88.26,91.98,90.47,88.51,90.16,88.09,86.23,85.3,82.99,81.09,80.07,76.05,80.56,85.93,85.93,87.18,88.24,91.61,90.45,87.66,89.0,90.43,90.98,93.81,96.98,99.7,95.14,94.16,96.55,96.44,91.94,91.78,88.15,88.7,84.56,87.77,88.66,86.74,86.86,85.53,85.94,88.67,86.4,82.96,80.83,86.2,90.14,93.71,93.3,92.8,96.92,98.73,98.83,98.8,104.71,103.58,103.57,106.85,103.92,101.62,102.23,105.71,109.62,112.81,115.2,111.84,113.13,116.29,116.92,115.06,114.41,118.12,120.03,117.19,118.42,118.17,121.96,120.5,121.31,120.5,121.71,122.38,123.75,128.45,129.07,128.86,125.52,125.64,126.01,121.01,116.21,119.58,119.06,123.17,123.95,122.42,120.77,119.14,127.19,129.4,131.36,132.08,135.53,135.66,137.08,139.79,140.7,139.9,138.8,136.4,136.11,133.21,132.35,132.61,131.86,132.15,135.65,133.6,130.33,132.48,136.02,138.53,138.07,138.52,138.91,136.18,134.81,131.68,133.45,132.62,134.72,138.43,138.37,142.85,143.47,147.58,148.71,147.35,152.44,153.49,155.6,155.71,155.61,155.64,158.32,158.91,161.86,161.01,160.58,159.41,160.97,160.2,158.36,160.77,163.8,162.2,155.21,159.5,160.08,161.76,164.58,164.42,164.75,162.82,164.8,165.38,163.59,160.76,160.65,161.98,165.64,168.18,166.44,167.82,167.43,168.95,170.35,176.88,179.48,179.94,178.97,179.42,180.41,178.77,177.36,181.04,180.29,180.26,175.9,179.83,180.91,184.79,185.03,184.08,185.24,185.57,184.8,186.04,185.33,182.89,184.65,193.3,199.3,199.57,198.34,196.92,191.95,187.12,190.96,183.33,184.11,183.57,185.57,188.7,189.01,195.93,197.41,197.67,196.45,198.84,200.96,201.32,200.31,195.01,194.43,200.23,198.83,198.59,195.08,194.42,191.56,190.84,191.09,188.01,183.76,184.66,192.37,191.04,189.33,191.57,188.84,189.68,186.59,190.07,192.79,194.86,196.55,203.3,205.8,203.36,205.83,204.95,208.14,208.5,205.18,204.8,206.16,204.34,202.02,204.87,203.68,200.28,209.14,205.92,202.36,192.32,197.5,200.29,202.17,193.82,186.79,189.39,190.48,193.76,186.78,190.1,188.79,190.81,189.76,193.22,194.88,197.82,196.99,197.36,196.13,194.92,191.65,195.15,196.46,199.0,203.25,203.12,203.58,204.93,212.94,213.07,216.9,218.67,219.31,220.38,217.7,218.29,217.97,218.48,216.15,218.58,222.09,223.07,220.43,224.56,226.01,229.38,228.55,229.49,231.94,232.97,234.0,233.36,235.15,235.64,235.78,238.95,242.09,240.61,240.29,237.88,252.11,259.16,263.4,262.1,254.85,254.42,261.27,253.92,259.04,251.58,248.96,239.49,229.39,247.02,249.48,254.9,251.27,246.85,247.24,245.43,241.52,231.23,235.67,239.99,238.49,237.41,246.4,249.83,253.67,256.71,255.9,248.93,244.05,242.49,236.52,243.63,246.55,247.3,252.56,259.91,264.41,266.55,262.75,266.33,263.53,261.62,259.38,260.94,249.14,244.63,241.66,240.16,241.81,251.57,251.01,252.49,250.23,244.89,245.79,244.55,243.04,238.84,244.98,247.26,251.91,252.81,252.16,256.83,253.8,251.03,250.19,254.66,254.74,255.76,254.52,252.95,254.57,252.29,243.32,244.88,242.26,240.84,245.05,246.12,243.02,242.79,239.05,233.34,236.22,233.69,234.99,235.84,236.43,243.46,245.25,251.67,250.73,255.7,255.85,256.18,259.71,260.7,262.8,268.98,267.81,275.46,275.98,279.85,280.99,284.3,283.17,278.99,279.48,275.96,274.77,270.99,281.01,281.25,281.28,286.0,287.25,290.35,291.9,294.01,306.1,309.27,301.0,302.01,301.02,299.03,300.36,299.59,299.38,296.86,292.72,295.83,300.87,304.21,309.53,308.43,309.87,307.4,309.3,307.96,299.58,298.61,293.31,292.25,299.96,298.31,304.76,300.26,306.16,306.35,308.17,302.61,307.72,309.42,308.73,311.36,309.48,312.2,310.98,311.76,312.84,311.5,311.57,312.43,311.81,313.37,315.3,316.24,314.72,315.77,316.54,316.36,314.78,313.71,320.52,322.2,324.83,324.57,326.89,333.05,332.26,334.97,336.19,338.92,331.3,329.54,323.55,317.75,328.19,332.03,334.41,333.79,326.88,330.01,335.56,334.87,334.01,336.99,342.22,345.45,348.33,344.81,347.06,349.32,350.02,353.16,348.47,340.94,329.32,333.22,333.47,338.6,343.52,339.72,342.46,349.69,350.12,345.61,346.0,342.8,337.15,342.33,343.86,335.95,320.95,325.46,321.59,329.99,331.84,329.88,335.5,341.89,340.82,341.33,339.06,338.94,335.1,331.83,329.59,328.76,328.8,325.86,321.72,323.28,326.9,323.3,318.47,322.74,328.59,333.01,341.07,343.32,340.8,340.54,337.23,340.52,336.78,338.64,339.98,337.23,337.15,338.06,339.86,337.7,337.06,331.15,324.15,326.91,330.54,331.18,326.02,325.22,323.07,327.54,325.81,328.15,338.28,336.03,336.6,334.01,328.76,322.93,323.12,322.39,316.96,317.64,323.32,317.78,316.24,311.47,306.67,316.37,313.76,322.14,317.39,322.93,326.06,324.87,326.46,333.84,339.84,342.11,347.4,349.84,344.28,344.04,348.19,347.95,354.9,363.54,366.51,376.28,376.66,382.51,387.56,392.34,381.81,381.07,379.76,385.86,378.24,381.8,367.01,363.37,343.52,363.74,353.71,363.44,366.64,372.89,370.04,370.0,356.0,346.26,346.66,363.35,365.85,363.46,373.05,379.27,379.29,374.27,370.57,363.78,369.32,373.39,373.6,367.12,369.51,374.06,378.61,382.17,389.51,400.33,402.1,400.83,390.79,393.2,392.1,388.3,386.11,379.85,370.85,364.32,362.28,367.87,367.01,359.65,378.14,389.3,391.15,397.22,410.42,408.46,410.65,387.68,384.46,382.09,394.63,386.85,389.6,393.58,393.84,393.67,385.63,386.5,392.01,389.25,388.76,395.08,384.43,374.65,374.06,368.85,378.16,374.21,367.05,364.65,358.88,366.18,356.92,353.59,365.8,362.96,371.71,377.28,379.0,382.22,380.22,378.41,379.94,382.82,381.09,378.14,369.75,368.54,370.56,371.72,385.08,385.57,387.61,392.26,395.37,391.59,394.0,393.88,399.94,402.09,406.56,410.81,410.15,411.62,410.95,409.82,408.29,413.04,417.33,416.01,408.76,415.68,408.87,434.4,432.43,435.0,440.58,443.95,443.67,442.63,447.06,451.24,455.96,463.6,479.63,479.88,488.81,495.48,484.01,488.43,488.34,500.72,498.96,502.22,508.07,511.33,520.71,527.55,529.53,530.22,518.53,515.71,516.12,527.11,530.21,536.85,552.51,573.4,569.49,569.5,584.6,589.33,585.96,582.89,579.69,590.32,597.61,600.67,593.12,583.09,601.65,612.05,607.17,616.29,618.77,611.19,609.01,605.68,588.62,564.21,592.97,591.64,571.32,557.25,556.01,544.9,593.26,591.02,586.45,567.95,566.15,569.9,565.85,549.74,553.85,552.59,553.56,554.86,551.16,542.9,537.99,531.09,515.57,515.82,545.87,541.68,554.9,549.8,546.86,556.56,563.27,561.87,545.59,548.8,547.38,555.78,556.03,564.39,555.49,560.35,556.46,555.84,558.37,569.7,571.29,569.66,561.81,566.12,555.1,556.33,558.73,553.43,567.97,576.26,582.96,593.2,589.25,597.04,591.52,587.84,582.46,588.37,590.25,590.28,589.62,597.46,587.71,587.26,584.43,559.19,559.1,569.1,578.7,594.0,590.15,591.11,598.8,605.46,603.87,602.85,606.28,607.23,615.34,616.99,616.15,621.53,633.03,649.67,640.79,653.3,647.21,647.79,659.96,659.1,657.8,648.42,649.76,659.26,654.63,660.53,664.61,647.32,645.22,654.2,667.09,675.19,683.5,685.58,685.76,682.44,683.8,674.71,657.87,649.7,665.46,651.58,644.05,645.92,655.82,651.28,637.4,623.32,621.05,626.0,613.48,615.06,619.99,634.67,629.61,617.92,595.65,619.28,599.09,602.48,595.36,589.94,581.47,582.66,563.38,571.02,569.29,547.5,527.63,536.77,532.62,532.69,526.78,515.73,517.75,555.09,550.36,551.13,560.75,578.44,573.78,571.97,578.27,574.27,575.16,565.02,528.66,536.95,523.22,519.85,531.21,528.86,519.73,500.2,509.07,523.86,516.41,511.92,509.56,510.39,503.35,505.37,500.0,522.16,538.7,531.9,517.09,514.05,515.43,507.37,513.66,510.51,492.31,476.78,496.57,493.22,490.59,495.28,504.34,442.03,431.61,441.37,449.65,448.24,446.92,445.09,434.0,449.23,448.75,462.09,468.76,473.65,461.77,460.9,460.48,454.14,453.97,442.97,440.22,444.91,437.0,443.09,438.75,435.62,424.83]}},\"id\":\"5acb7866-c4e6-4799-b17b-cdf53e9f06cc\",\"type\":\"ColumnDataSource\"},{\"attributes\":{\"data_source\":{\"id\":\"2b064a65-e4d1-439d-b6d6-7471c245a61e\",\"type\":\"ColumnDataSource\"},\"glyph\":{\"id\":\"0704753b-08ed-46a1-9fe3-016de1e01998\",\"type\":\"Circle\"},\"hover_glyph\":null,\"nonselection_glyph\":{\"id\":\"ce424fe4-cd12-4b95-9cf9-109cf29a45cb\",\"type\":\"Circle\"},\"selection_glyph\":null},\"id\":\"7f0c6f8c-ba63-47e6-9686-30ef2348d434\",\"type\":\"GlyphRenderer\"},{\"attributes\":{\"dimension\":1,\"plot\":{\"id\":\"f0fa4658-1c2d-4fdb-8287-83477315c49c\",\"subtype\":\"Figure\",\"type\":\"Plot\"},\"ticker\":{\"id\":\"f7569fe1-0071-467c-ab99-4dc027bd4a4f\",\"type\":\"BasicTicker\"}},\"id\":\"4ca36c24-d1e1-4de8-a702-185276ee7dc5\",\"type\":\"Grid\"},{\"attributes\":{\"months\":[0,6]},\"id\":\"314ade61-10d8-4de9-a11b-10562fc6afd7\",\"type\":\"MonthsTicker\"},{\"attributes\":{\"days\":[1,8,15,22]},\"id\":\"e960d06f-b277-4318-b69a-8263fb0b1dfa\",\"type\":\"DaysTicker\"},{\"attributes\":{\"months\":[0,2,4,6,8,10]},\"id\":\"199629c8-5146-4a71-9497-27b6c661d141\",\"type\":\"MonthsTicker\"},{\"attributes\":{\"callback\":null,\"column_names\":[\"x\",\"y\"],\"data\":{\"x\":[951868800000.0,951955200000.0,952041600000.0,952300800000.0,952387200000.0,952473600000.0,952560000000.0,952646400000.0,952905600000.0,952992000000.0,953078400000.0,953164800000.0,953251200000.0,953510400000.0,953596800000.0,953683200000.0,953769600000.0,953856000000.0,954115200000.0,954201600000.0,954288000000.0,954374400000.0,954460800000.0,954720000000.0,954806400000.0,954892800000.0,954979200000.0,955065600000.0,955324800000.0,955411200000.0,955497600000.0,955584000000.0,955670400000.0,955929600000.0,956016000000.0,956102400000.0,956188800000.0,956534400000.0,956620800000.0,956707200000.0,956793600000.0,956880000000.0,957139200000.0,957225600000.0,957312000000.0,957398400000.0,957484800000.0,957744000000.0,957830400000.0,957916800000.0,958003200000.0,958089600000.0,958348800000.0,958435200000.0,958521600000.0,958608000000.0,958694400000.0,958953600000.0,959040000000.0,959126400000.0,959212800000.0,959299200000.0,959644800000.0,959731200000.0,959817600000.0,959904000000.0,960163200000.0,960249600000.0,960336000000.0,960422400000.0,960508800000.0,960768000000.0,960854400000.0,960940800000.0,961027200000.0,961113600000.0,961372800000.0,961459200000.0,961545600000.0,961632000000.0,961718400000.0,961977600000.0,962064000000.0,962150400000.0,962236800000.0,962323200000.0,962582400000.0,962755200000.0,962841600000.0,962928000000.0,963187200000.0,963273600000.0,963360000000.0,963446400000.0,963532800000.0,963792000000.0,963878400000.0,963964800000.0,964051200000.0,964137600000.0,964396800000.0,964483200000.0,964569600000.0,964656000000.0,964742400000.0,965001600000.0,965088000000.0,965174400000.0,965260800000.0,965347200000.0,965606400000.0,965692800000.0,965779200000.0,965865600000.0,965952000000.0,966211200000.0,966297600000.0,966384000000.0,966470400000.0,966556800000.0,966816000000.0,966902400000.0,966988800000.0,967075200000.0,967161600000.0,967420800000.0,967507200000.0,967593600000.0,967680000000.0,967766400000.0,968112000000.0,968198400000.0,968284800000.0,968371200000.0,968630400000.0,968716800000.0,968803200000.0,968889600000.0,968976000000.0,969235200000.0,969321600000.0,969408000000.0,969494400000.0,969580800000.0,969840000000.0,969926400000.0,970012800000.0,970099200000.0,970185600000.0,970444800000.0,970531200000.0,970617600000.0,970704000000.0,970790400000.0,971049600000.0,971136000000.0,971222400000.0,971308800000.0,971395200000.0,971654400000.0,971740800000.0,971827200000.0,971913600000.0,972000000000.0,972259200000.0,972345600000.0,972432000000.0,972518400000.0,972604800000.0,972864000000.0,972950400000.0,973036800000.0,973123200000.0,973209600000.0,973468800000.0,973555200000.0,973641600000.0,973728000000.0,973814400000.0,974073600000.0,974160000000.0,974246400000.0,974332800000.0,974419200000.0,974678400000.0,974764800000.0,974851200000.0,975024000000.0,975283200000.0,975369600000.0,975456000000.0,975542400000.0,975628800000.0,975888000000.0,975974400000.0,976060800000.0,976147200000.0,976233600000.0,976492800000.0,976579200000.0,976665600000.0,976752000000.0,976838400000.0,977097600000.0,977184000000.0,977270400000.0,977356800000.0,977443200000.0,977788800000.0,977875200000.0,977961600000.0,978048000000.0,978393600000.0,978480000000.0,978566400000.0,978652800000.0,978912000000.0,978998400000.0,979084800000.0,979171200000.0,979257600000.0,979603200000.0,979689600000.0,979776000000.0,979862400000.0,980121600000.0,980208000000.0,980294400000.0,980380800000.0,980467200000.0,980726400000.0,980812800000.0,980899200000.0,980985600000.0,981072000000.0,981331200000.0,981417600000.0,981504000000.0,981590400000.0,981676800000.0,981936000000.0,982022400000.0,982108800000.0,982195200000.0,982281600000.0,982627200000.0,982713600000.0,982800000000.0,982886400000.0,983145600000.0,983232000000.0,983318400000.0,983404800000.0,983491200000.0,983750400000.0,983836800000.0,983923200000.0,984009600000.0,984096000000.0,984355200000.0,984441600000.0,984528000000.0,984614400000.0,984700800000.0,984960000000.0,985046400000.0,985132800000.0,985219200000.0,985305600000.0,985564800000.0,985651200000.0,985737600000.0,985824000000.0,985910400000.0,986169600000.0,986256000000.0,986342400000.0,986428800000.0,986515200000.0,986774400000.0,986860800000.0,986947200000.0,987033600000.0,987379200000.0,987465600000.0,987552000000.0,987638400000.0,987724800000.0,987984000000.0,988070400000.0,988156800000.0,988243200000.0,988329600000.0,988588800000.0,988675200000.0,988761600000.0,988848000000.0,988934400000.0,989193600000.0,989280000000.0,989366400000.0,989452800000.0,989539200000.0,989798400000.0,989884800000.0,989971200000.0,990057600000.0,990144000000.0,990403200000.0,990489600000.0,990576000000.0,990662400000.0,990748800000.0,991094400000.0,991180800000.0,991267200000.0,991353600000.0,991612800000.0,991699200000.0,991785600000.0,991872000000.0,991958400000.0,992217600000.0,992304000000.0,992390400000.0,992476800000.0,992563200000.0,992822400000.0,992908800000.0,992995200000.0,993081600000.0,993168000000.0,993427200000.0,993513600000.0,993600000000.0,993686400000.0,993772800000.0,994032000000.0,994118400000.0,994291200000.0,994377600000.0,994636800000.0,994723200000.0,994809600000.0,994896000000.0,994982400000.0,995241600000.0,995328000000.0,995414400000.0,995500800000.0,995587200000.0,995846400000.0,995932800000.0,996019200000.0,996105600000.0,996192000000.0,996451200000.0,996537600000.0,996624000000.0,996710400000.0,996796800000.0,997056000000.0,997142400000.0,997228800000.0,997315200000.0,997401600000.0,997660800000.0,997747200000.0,997833600000.0,997920000000.0,998006400000.0,998265600000.0,998352000000.0,998438400000.0,998524800000.0,998611200000.0,998870400000.0,998956800000.0,999043200000.0,999129600000.0,999216000000.0,999561600000.0,999648000000.0,999734400000.0,999820800000.0,1000080000000.0,1000684800000.0,1000771200000.0,1000857600000.0,1000944000000.0,1001030400000.0,1001289600000.0,1001376000000.0,1001462400000.0,1001548800000.0,1001635200000.0,1001894400000.0,1001980800000.0,1002067200000.0,1002153600000.0,1002240000000.0,1002499200000.0,1002585600000.0,1002672000000.0,1002758400000.0,1002844800000.0,1003104000000.0,1003190400000.0,1003276800000.0,1003363200000.0,1003449600000.0,1003708800000.0,1003795200000.0,1003881600000.0,1003968000000.0,1004054400000.0,1004313600000.0,1004400000000.0,1004486400000.0,1004572800000.0,1004659200000.0,1004918400000.0,1005004800000.0,1005091200000.0,1005177600000.0,1005264000000.0,1005523200000.0,1005609600000.0,1005696000000.0,1005782400000.0,1005868800000.0,1006128000000.0,1006214400000.0,1006300800000.0,1006473600000.0,1006732800000.0,1006819200000.0,1006905600000.0,1006992000000.0,1007078400000.0,1007337600000.0,1007424000000.0,1007510400000.0,1007596800000.0,1007683200000.0,1007942400000.0,1008028800000.0,1008115200000.0,1008201600000.0,1008288000000.0,1008547200000.0,1008633600000.0,1008720000000.0,1008806400000.0,1008892800000.0,1009152000000.0,1009324800000.0,1009411200000.0,1009497600000.0,1009756800000.0,1009929600000.0,1010016000000.0,1010102400000.0,1010361600000.0,1010448000000.0,1010534400000.0,1010620800000.0,1010707200000.0,1010966400000.0,1011052800000.0,1011139200000.0,1011225600000.0,1011312000000.0,1011657600000.0,1011744000000.0,1011830400000.0,1011916800000.0,1012176000000.0,1012262400000.0,1012348800000.0,1012435200000.0,1012521600000.0,1012780800000.0,1012867200000.0,1012953600000.0,1013040000000.0,1013126400000.0,1013385600000.0,1013472000000.0,1013558400000.0,1013644800000.0,1013731200000.0,1014076800000.0,1014163200000.0,1014249600000.0,1014336000000.0,1014595200000.0,1014681600000.0,1014768000000.0,1014854400000.0,1014940800000.0,1015200000000.0,1015286400000.0,1015372800000.0,1015459200000.0,1015545600000.0,1015804800000.0,1015891200000.0,1015977600000.0,1016064000000.0,1016150400000.0,1016409600000.0,1016496000000.0,1016582400000.0,1016668800000.0,1016755200000.0,1017014400000.0,1017100800000.0,1017187200000.0,1017273600000.0,1017619200000.0,1017705600000.0,1017792000000.0,1017878400000.0,1017964800000.0,1018224000000.0,1018310400000.0,1018396800000.0,1018483200000.0,1018569600000.0,1018828800000.0,1018915200000.0,1019001600000.0,1019088000000.0,1019174400000.0,1019433600000.0,1019520000000.0,1019606400000.0,1019692800000.0,1019779200000.0,1020038400000.0,1020124800000.0,1020211200000.0,1020297600000.0,1020384000000.0,1020643200000.0,1020729600000.0,1020816000000.0,1020902400000.0,1020988800000.0,1021248000000.0,1021334400000.0,1021420800000.0,1021507200000.0,1021593600000.0,1021852800000.0,1021939200000.0,1022025600000.0,1022112000000.0,1022198400000.0,1022544000000.0,1022630400000.0,1022716800000.0,1022803200000.0,1023062400000.0,1023148800000.0,1023235200000.0,1023321600000.0,1023408000000.0,1023667200000.0,1023753600000.0,1023840000000.0,1023926400000.0,1024012800000.0,1024272000000.0,1024358400000.0,1024444800000.0,1024531200000.0,1024617600000.0,1024876800000.0,1024963200000.0,1025049600000.0,1025136000000.0,1025222400000.0,1025481600000.0,1025568000000.0,1025654400000.0,1025827200000.0,1026086400000.0,1026172800000.0,1026259200000.0,1026345600000.0,1026432000000.0,1026691200000.0,1026777600000.0,1026864000000.0,1026950400000.0,1027036800000.0,1027296000000.0,1027382400000.0,1027468800000.0,1027555200000.0,1027641600000.0,1027900800000.0,1027987200000.0,1028073600000.0,1028160000000.0,1028246400000.0,1028505600000.0,1028592000000.0,1028678400000.0,1028764800000.0,1028851200000.0,1029110400000.0,1029196800000.0,1029283200000.0,1029369600000.0,1029456000000.0,1029715200000.0,1029801600000.0,1029888000000.0,1029974400000.0,1030060800000.0,1030320000000.0,1030406400000.0,1030492800000.0,1030579200000.0,1030665600000.0,1031011200000.0,1031097600000.0,1031184000000.0,1031270400000.0,1031529600000.0,1031616000000.0,1031702400000.0,1031788800000.0,1031875200000.0,1032134400000.0,1032220800000.0,1032307200000.0,1032393600000.0,1032480000000.0,1032739200000.0,1032825600000.0,1032912000000.0,1032998400000.0,1033084800000.0,1033344000000.0,1033430400000.0,1033516800000.0,1033603200000.0,1033689600000.0,1033948800000.0,1034035200000.0,1034121600000.0,1034208000000.0,1034294400000.0,1034553600000.0,1034640000000.0,1034726400000.0,1034812800000.0,1034899200000.0,1035158400000.0,1035244800000.0,1035331200000.0,1035417600000.0,1035504000000.0,1035763200000.0,1035849600000.0,1035936000000.0,1036022400000.0,1036108800000.0,1036368000000.0,1036454400000.0,1036540800000.0,1036627200000.0,1036713600000.0,1036972800000.0,1037059200000.0,1037145600000.0,1037232000000.0,1037318400000.0,1037577600000.0,1037664000000.0,1037750400000.0,1037836800000.0,1037923200000.0,1038182400000.0,1038268800000.0,1038355200000.0,1038528000000.0,1038787200000.0,1038873600000.0,1038960000000.0,1039046400000.0,1039132800000.0,1039392000000.0,1039478400000.0,1039564800000.0,1039651200000.0,1039737600000.0,1039996800000.0,1040083200000.0,1040169600000.0,1040256000000.0,1040342400000.0,1040601600000.0,1040688000000.0,1040860800000.0,1040947200000.0,1041206400000.0,1041292800000.0,1041465600000.0,1041552000000.0,1041811200000.0,1041897600000.0,1041984000000.0,1042070400000.0,1042156800000.0,1042416000000.0,1042502400000.0,1042588800000.0,1042675200000.0,1042761600000.0,1043107200000.0,1043193600000.0,1043280000000.0,1043366400000.0,1043625600000.0,1043712000000.0,1043798400000.0,1043884800000.0,1043971200000.0,1044230400000.0,1044316800000.0,1044403200000.0,1044489600000.0,1044576000000.0,1044835200000.0,1044921600000.0,1045008000000.0,1045094400000.0,1045180800000.0,1045526400000.0,1045612800000.0,1045699200000.0,1045785600000.0,1046044800000.0,1046131200000.0,1046217600000.0,1046304000000.0,1046390400000.0,1046649600000.0,1046736000000.0,1046822400000.0,1046908800000.0,1046995200000.0,1047254400000.0,1047340800000.0,1047427200000.0,1047513600000.0,1047600000000.0,1047859200000.0,1047945600000.0,1048032000000.0,1048118400000.0,1048204800000.0,1048464000000.0,1048550400000.0,1048636800000.0,1048723200000.0,1048809600000.0,1049068800000.0,1049155200000.0,1049241600000.0,1049328000000.0,1049414400000.0,1049673600000.0,1049760000000.0,1049846400000.0,1049932800000.0,1050019200000.0,1050278400000.0,1050364800000.0,1050451200000.0,1050537600000.0,1050883200000.0,1050969600000.0,1051056000000.0,1051142400000.0,1051228800000.0,1051488000000.0,1051574400000.0,1051660800000.0,1051747200000.0,1051833600000.0,1052092800000.0,1052179200000.0,1052265600000.0,1052352000000.0,1052438400000.0,1052697600000.0,1052784000000.0,1052870400000.0,1052956800000.0,1053043200000.0,1053302400000.0,1053388800000.0,1053475200000.0,1053561600000.0,1053648000000.0,1053993600000.0,1054080000000.0,1054166400000.0,1054252800000.0,1054512000000.0,1054598400000.0,1054684800000.0,1054771200000.0,1054857600000.0,1055116800000.0,1055203200000.0,1055289600000.0,1055376000000.0,1055462400000.0,1055721600000.0,1055808000000.0,1055894400000.0,1055980800000.0,1056067200000.0,1056326400000.0,1056412800000.0,1056499200000.0,1056585600000.0,1056672000000.0,1056931200000.0,1057017600000.0,1057104000000.0,1057190400000.0,1057536000000.0,1057622400000.0,1057708800000.0,1057795200000.0,1057881600000.0,1058140800000.0,1058227200000.0,1058313600000.0,1058400000000.0,1058486400000.0,1058745600000.0,1058832000000.0,1058918400000.0,1059004800000.0,1059091200000.0,1059350400000.0,1059436800000.0,1059523200000.0,1059609600000.0,1059696000000.0,1059955200000.0,1060041600000.0,1060128000000.0,1060214400000.0,1060300800000.0,1060560000000.0,1060646400000.0,1060732800000.0,1060819200000.0,1060905600000.0,1061164800000.0,1061251200000.0,1061337600000.0,1061424000000.0,1061510400000.0,1061769600000.0,1061856000000.0,1061942400000.0,1062028800000.0,1062115200000.0,1062460800000.0,1062547200000.0,1062633600000.0,1062720000000.0,1062979200000.0,1063065600000.0,1063152000000.0,1063238400000.0,1063324800000.0,1063584000000.0,1063670400000.0,1063756800000.0,1063843200000.0,1063929600000.0,1064188800000.0,1064275200000.0,1064361600000.0,1064448000000.0,1064534400000.0,1064793600000.0,1064880000000.0,1064966400000.0,1065052800000.0,1065139200000.0,1065398400000.0,1065484800000.0,1065571200000.0,1065657600000.0,1065744000000.0,1066003200000.0,1066089600000.0,1066176000000.0,1066262400000.0,1066348800000.0,1066608000000.0,1066694400000.0,1066780800000.0,1066867200000.0,1066953600000.0,1067212800000.0,1067299200000.0,1067385600000.0,1067472000000.0,1067558400000.0,1067817600000.0,1067904000000.0,1067990400000.0,1068076800000.0,1068163200000.0,1068422400000.0,1068508800000.0,1068595200000.0,1068681600000.0,1068768000000.0,1069027200000.0,1069113600000.0,1069200000000.0,1069286400000.0,1069372800000.0,1069632000000.0,1069718400000.0,1069804800000.0,1069977600000.0,1070236800000.0,1070323200000.0,1070409600000.0,1070496000000.0,1070582400000.0,1070841600000.0,1070928000000.0,1071014400000.0,1071100800000.0,1071187200000.0,1071446400000.0,1071532800000.0,1071619200000.0,1071705600000.0,1071792000000.0,1072051200000.0,1072137600000.0,1072224000000.0,1072396800000.0,1072656000000.0,1072742400000.0,1072828800000.0,1073001600000.0,1073260800000.0,1073347200000.0,1073433600000.0,1073520000000.0,1073606400000.0,1073865600000.0,1073952000000.0,1074038400000.0,1074124800000.0,1074211200000.0,1074556800000.0,1074643200000.0,1074729600000.0,1074816000000.0,1075075200000.0,1075161600000.0,1075248000000.0,1075334400000.0,1075420800000.0,1075680000000.0,1075766400000.0,1075852800000.0,1075939200000.0,1076025600000.0,1076284800000.0,1076371200000.0,1076457600000.0,1076544000000.0,1076630400000.0,1076976000000.0,1077062400000.0,1077148800000.0,1077235200000.0,1077494400000.0,1077580800000.0,1077667200000.0,1077753600000.0,1077840000000.0,1078099200000.0,1078185600000.0,1078272000000.0,1078358400000.0,1078444800000.0,1078704000000.0,1078790400000.0,1078876800000.0,1078963200000.0,1079049600000.0,1079308800000.0,1079395200000.0,1079481600000.0,1079568000000.0,1079654400000.0,1079913600000.0,1080000000000.0,1080086400000.0,1080172800000.0,1080259200000.0,1080518400000.0,1080604800000.0,1080691200000.0,1080777600000.0,1080864000000.0,1081123200000.0,1081209600000.0,1081296000000.0,1081382400000.0,1081728000000.0,1081814400000.0,1081900800000.0,1081987200000.0,1082073600000.0,1082332800000.0,1082419200000.0,1082505600000.0,1082592000000.0,1082678400000.0,1082937600000.0,1083024000000.0,1083110400000.0,1083196800000.0,1083283200000.0,1083542400000.0,1083628800000.0,1083715200000.0,1083801600000.0,1083888000000.0,1084147200000.0,1084233600000.0,1084320000000.0,1084406400000.0,1084492800000.0,1084752000000.0,1084838400000.0,1084924800000.0,1085011200000.0,1085097600000.0,1085356800000.0,1085443200000.0,1085529600000.0,1085616000000.0,1085702400000.0,1086048000000.0,1086134400000.0,1086220800000.0,1086307200000.0,1086566400000.0,1086652800000.0,1086739200000.0,1086825600000.0,1087171200000.0,1087257600000.0,1087344000000.0,1087430400000.0,1087516800000.0,1087776000000.0,1087862400000.0,1087948800000.0,1088035200000.0,1088121600000.0,1088380800000.0,1088467200000.0,1088553600000.0,1088640000000.0,1088726400000.0,1089072000000.0,1089158400000.0,1089244800000.0,1089331200000.0,1089590400000.0,1089676800000.0,1089763200000.0,1089849600000.0,1089936000000.0,1090195200000.0,1090281600000.0,1090368000000.0,1090454400000.0,1090540800000.0,1090800000000.0,1090886400000.0,1090972800000.0,1091059200000.0,1091145600000.0,1091404800000.0,1091491200000.0,1091577600000.0,1091664000000.0,1091750400000.0,1092009600000.0,1092096000000.0,1092182400000.0,1092268800000.0,1092355200000.0,1092614400000.0,1092700800000.0,1092787200000.0,1092873600000.0,1092960000000.0,1093219200000.0,1093305600000.0,1093392000000.0,1093478400000.0,1093564800000.0,1093824000000.0,1093910400000.0,1093996800000.0,1094083200000.0,1094169600000.0,1094515200000.0,1094601600000.0,1094688000000.0,1094774400000.0,1095033600000.0,1095120000000.0,1095206400000.0,1095292800000.0,1095379200000.0,1095638400000.0,1095724800000.0,1095811200000.0,1095897600000.0,1095984000000.0,1096243200000.0,1096329600000.0,1096416000000.0,1096502400000.0,1096588800000.0,1096848000000.0,1096934400000.0,1097020800000.0,1097107200000.0,1097193600000.0,1097452800000.0,1097539200000.0,1097625600000.0,1097712000000.0,1097798400000.0,1098057600000.0,1098144000000.0,1098230400000.0,1098316800000.0,1098403200000.0,1098662400000.0,1098748800000.0,1098835200000.0,1098921600000.0,1099008000000.0,1099267200000.0,1099353600000.0,1099440000000.0,1099526400000.0,1099612800000.0,1099872000000.0,1099958400000.0,1100044800000.0,1100131200000.0,1100217600000.0,1100476800000.0,1100563200000.0,1100649600000.0,1100736000000.0,1100822400000.0,1101081600000.0,1101168000000.0,1101254400000.0,1101427200000.0,1101686400000.0,1101772800000.0,1101859200000.0,1101945600000.0,1102032000000.0,1102291200000.0,1102377600000.0,1102464000000.0,1102550400000.0,1102636800000.0,1102896000000.0,1102982400000.0,1103068800000.0,1103155200000.0,1103241600000.0,1103500800000.0,1103587200000.0,1103673600000.0,1103760000000.0,1104105600000.0,1104192000000.0,1104278400000.0,1104364800000.0,1104451200000.0,1104710400000.0,1104796800000.0,1104883200000.0,1104969600000.0,1105056000000.0,1105315200000.0,1105401600000.0,1105488000000.0,1105574400000.0,1105660800000.0,1106006400000.0,1106092800000.0,1106179200000.0,1106265600000.0,1106524800000.0,1106611200000.0,1106697600000.0,1106784000000.0,1106870400000.0,1107129600000.0,1107216000000.0,1107302400000.0,1107388800000.0,1107475200000.0,1107734400000.0,1107820800000.0,1107907200000.0,1107993600000.0,1108080000000.0,1108339200000.0,1108425600000.0,1108512000000.0,1108598400000.0,1108684800000.0,1109030400000.0,1109116800000.0,1109203200000.0,1109289600000.0,1109548800000.0,1109635200000.0,1109721600000.0,1109808000000.0,1109894400000.0,1110153600000.0,1110240000000.0,1110326400000.0,1110412800000.0,1110499200000.0,1110758400000.0,1110844800000.0,1110931200000.0,1111017600000.0,1111104000000.0,1111363200000.0,1111449600000.0,1111536000000.0,1111622400000.0,1111968000000.0,1112054400000.0,1112140800000.0,1112227200000.0,1112313600000.0,1112572800000.0,1112659200000.0,1112745600000.0,1112832000000.0,1112918400000.0,1113177600000.0,1113264000000.0,1113350400000.0,1113436800000.0,1113523200000.0,1113782400000.0,1113868800000.0,1113955200000.0,1114041600000.0,1114128000000.0,1114387200000.0,1114473600000.0,1114560000000.0,1114646400000.0,1114732800000.0,1114992000000.0,1115078400000.0,1115164800000.0,1115251200000.0,1115337600000.0,1115596800000.0,1115683200000.0,1115769600000.0,1115856000000.0,1115942400000.0,1116201600000.0,1116288000000.0,1116374400000.0,1116460800000.0,1116547200000.0,1116806400000.0,1116892800000.0,1116979200000.0,1117065600000.0,1117152000000.0,1117497600000.0,1117584000000.0,1117670400000.0,1117756800000.0,1118016000000.0,1118102400000.0,1118188800000.0,1118275200000.0,1118361600000.0,1118620800000.0,1118707200000.0,1118793600000.0,1118880000000.0,1118966400000.0,1119225600000.0,1119312000000.0,1119398400000.0,1119484800000.0,1119571200000.0,1119830400000.0,1119916800000.0,1120003200000.0,1120089600000.0,1120176000000.0,1120521600000.0,1120608000000.0,1120694400000.0,1120780800000.0,1121040000000.0,1121126400000.0,1121212800000.0,1121299200000.0,1121385600000.0,1121644800000.0,1121731200000.0,1121817600000.0,1121904000000.0,1121990400000.0,1122249600000.0,1122336000000.0,1122422400000.0,1122508800000.0,1122595200000.0,1122854400000.0,1122940800000.0,1123027200000.0,1123113600000.0,1123200000000.0,1123459200000.0,1123545600000.0,1123632000000.0,1123718400000.0,1123804800000.0,1124064000000.0,1124150400000.0,1124236800000.0,1124323200000.0,1124409600000.0,1124668800000.0,1124755200000.0,1124841600000.0,1124928000000.0,1125014400000.0,1125273600000.0,1125360000000.0,1125446400000.0,1125532800000.0,1125619200000.0,1125964800000.0,1126051200000.0,1126137600000.0,1126224000000.0,1126483200000.0,1126569600000.0,1126656000000.0,1126742400000.0,1126828800000.0,1127088000000.0,1127174400000.0,1127260800000.0,1127347200000.0,1127433600000.0,1127692800000.0,1127779200000.0,1127865600000.0,1127952000000.0,1128038400000.0,1128297600000.0,1128384000000.0,1128470400000.0,1128556800000.0,1128643200000.0,1128902400000.0,1128988800000.0,1129075200000.0,1129161600000.0,1129248000000.0,1129507200000.0,1129593600000.0,1129680000000.0,1129766400000.0,1129852800000.0,1130112000000.0,1130198400000.0,1130284800000.0,1130371200000.0,1130457600000.0,1130716800000.0,1130803200000.0,1130889600000.0,1130976000000.0,1131062400000.0,1131321600000.0,1131408000000.0,1131494400000.0,1131580800000.0,1131667200000.0,1131926400000.0,1132012800000.0,1132099200000.0,1132185600000.0,1132272000000.0,1132531200000.0,1132617600000.0,1132704000000.0,1132876800000.0,1133136000000.0,1133222400000.0,1133308800000.0,1133395200000.0,1133481600000.0,1133740800000.0,1133827200000.0,1133913600000.0,1134000000000.0,1134086400000.0,1134345600000.0,1134432000000.0,1134518400000.0,1134604800000.0,1134691200000.0,1134950400000.0,1135036800000.0,1135123200000.0,1135209600000.0,1135296000000.0,1135641600000.0,1135728000000.0,1135814400000.0,1135900800000.0,1136246400000.0,1136332800000.0,1136419200000.0,1136505600000.0,1136764800000.0,1136851200000.0,1136937600000.0,1137024000000.0,1137110400000.0,1137456000000.0,1137542400000.0,1137628800000.0,1137715200000.0,1137974400000.0,1138060800000.0,1138147200000.0,1138233600000.0,1138320000000.0,1138579200000.0,1138665600000.0,1138752000000.0,1138838400000.0,1138924800000.0,1139184000000.0,1139270400000.0,1139356800000.0,1139443200000.0,1139529600000.0,1139788800000.0,1139875200000.0,1139961600000.0,1140048000000.0,1140134400000.0,1140480000000.0,1140566400000.0,1140652800000.0,1140739200000.0,1140998400000.0,1141084800000.0,1141171200000.0,1141257600000.0,1141344000000.0,1141603200000.0,1141689600000.0,1141776000000.0,1141862400000.0,1141948800000.0,1142208000000.0,1142294400000.0,1142380800000.0,1142467200000.0,1142553600000.0,1142812800000.0,1142899200000.0,1142985600000.0,1143072000000.0,1143158400000.0,1143417600000.0,1143504000000.0,1143590400000.0,1143676800000.0,1143763200000.0,1144022400000.0,1144108800000.0,1144195200000.0,1144281600000.0,1144368000000.0,1144627200000.0,1144713600000.0,1144800000000.0,1144886400000.0,1145232000000.0,1145318400000.0,1145404800000.0,1145491200000.0,1145577600000.0,1145836800000.0,1145923200000.0,1146009600000.0,1146096000000.0,1146182400000.0,1146441600000.0,1146528000000.0,1146614400000.0,1146700800000.0,1146787200000.0,1147046400000.0,1147132800000.0,1147219200000.0,1147305600000.0,1147392000000.0,1147651200000.0,1147737600000.0,1147824000000.0,1147910400000.0,1147996800000.0,1148256000000.0,1148342400000.0,1148428800000.0,1148515200000.0,1148601600000.0,1148947200000.0,1149033600000.0,1149120000000.0,1149206400000.0,1149465600000.0,1149552000000.0,1149638400000.0,1149724800000.0,1149811200000.0,1150070400000.0,1150156800000.0,1150243200000.0,1150329600000.0,1150416000000.0,1150675200000.0,1150761600000.0,1150848000000.0,1150934400000.0,1151020800000.0,1151280000000.0,1151366400000.0,1151452800000.0,1151539200000.0,1151625600000.0,1151884800000.0,1152057600000.0,1152144000000.0,1152230400000.0,1152489600000.0,1152576000000.0,1152662400000.0,1152748800000.0,1152835200000.0,1153094400000.0,1153180800000.0,1153267200000.0,1153353600000.0,1153440000000.0,1153699200000.0,1153785600000.0,1153872000000.0,1153958400000.0,1154044800000.0,1154304000000.0,1154390400000.0,1154476800000.0,1154563200000.0,1154649600000.0,1154908800000.0,1154995200000.0,1155081600000.0,1155168000000.0,1155254400000.0,1155513600000.0,1155600000000.0,1155686400000.0,1155772800000.0,1155859200000.0,1156118400000.0,1156204800000.0,1156291200000.0,1156377600000.0,1156464000000.0,1156723200000.0,1156809600000.0,1156896000000.0,1156982400000.0,1157068800000.0,1157414400000.0,1157500800000.0,1157587200000.0,1157673600000.0,1157932800000.0,1158019200000.0,1158105600000.0,1158192000000.0,1158278400000.0,1158537600000.0,1158624000000.0,1158710400000.0,1158796800000.0,1158883200000.0,1159142400000.0,1159228800000.0,1159315200000.0,1159401600000.0,1159488000000.0,1159747200000.0,1159833600000.0,1159920000000.0,1160006400000.0,1160092800000.0,1160352000000.0,1160438400000.0,1160524800000.0,1160611200000.0,1160697600000.0,1160956800000.0,1161043200000.0,1161129600000.0,1161216000000.0,1161302400000.0,1161561600000.0,1161648000000.0,1161734400000.0,1161820800000.0,1161907200000.0,1162166400000.0,1162252800000.0,1162339200000.0,1162425600000.0,1162512000000.0,1162771200000.0,1162857600000.0,1162944000000.0,1163030400000.0,1163116800000.0,1163376000000.0,1163462400000.0,1163548800000.0,1163635200000.0,1163721600000.0,1163980800000.0,1164067200000.0,1164153600000.0,1164326400000.0,1164585600000.0,1164672000000.0,1164758400000.0,1164844800000.0,1164931200000.0,1165190400000.0,1165276800000.0,1165363200000.0,1165449600000.0,1165536000000.0,1165795200000.0,1165881600000.0,1165968000000.0,1166054400000.0,1166140800000.0,1166400000000.0,1166486400000.0,1166572800000.0,1166659200000.0,1166745600000.0,1167091200000.0,1167177600000.0,1167264000000.0,1167350400000.0,1167782400000.0,1167868800000.0,1167955200000.0,1168214400000.0,1168300800000.0,1168387200000.0,1168473600000.0,1168560000000.0,1168905600000.0,1168992000000.0,1169078400000.0,1169164800000.0,1169424000000.0,1169510400000.0,1169596800000.0,1169683200000.0,1169769600000.0,1170028800000.0,1170115200000.0,1170201600000.0,1170288000000.0,1170374400000.0,1170633600000.0,1170720000000.0,1170806400000.0,1170892800000.0,1170979200000.0,1171238400000.0,1171324800000.0,1171411200000.0,1171497600000.0,1171584000000.0,1171929600000.0,1172016000000.0,1172102400000.0,1172188800000.0,1172448000000.0,1172534400000.0,1172620800000.0,1172707200000.0,1172793600000.0,1173052800000.0,1173139200000.0,1173225600000.0,1173312000000.0,1173398400000.0,1173657600000.0,1173744000000.0,1173830400000.0,1173916800000.0,1174003200000.0,1174262400000.0,1174348800000.0,1174435200000.0,1174521600000.0,1174608000000.0,1174867200000.0,1174953600000.0,1175040000000.0,1175126400000.0,1175212800000.0,1175472000000.0,1175558400000.0,1175644800000.0,1175731200000.0,1176076800000.0,1176163200000.0,1176249600000.0,1176336000000.0,1176422400000.0,1176681600000.0,1176768000000.0,1176854400000.0,1176940800000.0,1177027200000.0,1177286400000.0,1177372800000.0,1177459200000.0,1177545600000.0,1177632000000.0,1177891200000.0,1177977600000.0,1178064000000.0,1178150400000.0,1178236800000.0,1178496000000.0,1178582400000.0,1178668800000.0,1178755200000.0,1178841600000.0,1179100800000.0,1179187200000.0,1179273600000.0,1179360000000.0,1179446400000.0,1179705600000.0,1179792000000.0,1179878400000.0,1179964800000.0,1180051200000.0,1180396800000.0,1180483200000.0,1180569600000.0,1180656000000.0,1180915200000.0,1181001600000.0,1181088000000.0,1181174400000.0,1181260800000.0,1181520000000.0,1181606400000.0,1181692800000.0,1181779200000.0,1181865600000.0,1182124800000.0,1182211200000.0,1182297600000.0,1182384000000.0,1182470400000.0,1182729600000.0,1182816000000.0,1182902400000.0,1182988800000.0,1183075200000.0,1183334400000.0,1183420800000.0,1183593600000.0,1183680000000.0,1183939200000.0,1184025600000.0,1184112000000.0,1184198400000.0,1184284800000.0,1184544000000.0,1184630400000.0,1184716800000.0,1184803200000.0,1184889600000.0,1185148800000.0,1185235200000.0,1185321600000.0,1185408000000.0,1185494400000.0,1185753600000.0,1185840000000.0,1185926400000.0,1186012800000.0,1186099200000.0,1186358400000.0,1186444800000.0,1186531200000.0,1186617600000.0,1186704000000.0,1186963200000.0,1187049600000.0,1187136000000.0,1187222400000.0,1187308800000.0,1187568000000.0,1187654400000.0,1187740800000.0,1187827200000.0,1187913600000.0,1188172800000.0,1188259200000.0,1188345600000.0,1188432000000.0,1188518400000.0,1188864000000.0,1188950400000.0,1189036800000.0,1189123200000.0,1189382400000.0,1189468800000.0,1189555200000.0,1189641600000.0,1189728000000.0,1189987200000.0,1190073600000.0,1190160000000.0,1190246400000.0,1190332800000.0,1190592000000.0,1190678400000.0,1190764800000.0,1190851200000.0,1190937600000.0,1191196800000.0,1191283200000.0,1191369600000.0,1191456000000.0,1191542400000.0,1191801600000.0,1191888000000.0,1191974400000.0,1192060800000.0,1192147200000.0,1192406400000.0,1192492800000.0,1192579200000.0,1192665600000.0,1192752000000.0,1193011200000.0,1193097600000.0,1193184000000.0,1193270400000.0,1193356800000.0,1193616000000.0,1193702400000.0,1193788800000.0,1193875200000.0,1193961600000.0,1194220800000.0,1194307200000.0,1194393600000.0,1194480000000.0,1194566400000.0,1194825600000.0,1194912000000.0,1194998400000.0,1195084800000.0,1195171200000.0,1195430400000.0,1195516800000.0,1195603200000.0,1195776000000.0,1196035200000.0,1196121600000.0,1196208000000.0,1196294400000.0,1196380800000.0,1196640000000.0,1196726400000.0,1196812800000.0,1196899200000.0,1196985600000.0,1197244800000.0,1197331200000.0,1197417600000.0,1197504000000.0,1197590400000.0,1197849600000.0,1197936000000.0,1198022400000.0,1198108800000.0,1198195200000.0,1198454400000.0,1198627200000.0,1198713600000.0,1198800000000.0,1199059200000.0,1199232000000.0,1199318400000.0,1199404800000.0,1199664000000.0,1199750400000.0,1199836800000.0,1199923200000.0,1200009600000.0,1200268800000.0,1200355200000.0,1200441600000.0,1200528000000.0,1200614400000.0,1200960000000.0,1201046400000.0,1201132800000.0,1201219200000.0,1201478400000.0,1201564800000.0,1201651200000.0,1201737600000.0,1201824000000.0,1202083200000.0,1202169600000.0,1202256000000.0,1202342400000.0,1202428800000.0,1202688000000.0,1202774400000.0,1202860800000.0,1202947200000.0,1203033600000.0,1203379200000.0,1203465600000.0,1203552000000.0,1203638400000.0,1203897600000.0,1203984000000.0,1204070400000.0,1204156800000.0,1204243200000.0,1204502400000.0,1204588800000.0,1204675200000.0,1204761600000.0,1204848000000.0,1205107200000.0,1205193600000.0,1205280000000.0,1205366400000.0,1205452800000.0,1205712000000.0,1205798400000.0,1205884800000.0,1205971200000.0,1206316800000.0,1206403200000.0,1206489600000.0,1206576000000.0,1206662400000.0,1206921600000.0,1207008000000.0,1207094400000.0,1207180800000.0,1207267200000.0,1207526400000.0,1207612800000.0,1207699200000.0,1207785600000.0,1207872000000.0,1208131200000.0,1208217600000.0,1208304000000.0,1208390400000.0,1208476800000.0,1208736000000.0,1208822400000.0,1208908800000.0,1208995200000.0,1209081600000.0,1209340800000.0,1209427200000.0,1209513600000.0,1209600000000.0,1209686400000.0,1209945600000.0,1210032000000.0,1210118400000.0,1210204800000.0,1210291200000.0,1210550400000.0,1210636800000.0,1210723200000.0,1210809600000.0,1210896000000.0,1211155200000.0,1211241600000.0,1211328000000.0,1211414400000.0,1211500800000.0,1211846400000.0,1211932800000.0,1212019200000.0,1212105600000.0,1212364800000.0,1212451200000.0,1212537600000.0,1212624000000.0,1212710400000.0,1212969600000.0,1213056000000.0,1213142400000.0,1213228800000.0,1213315200000.0,1213574400000.0,1213660800000.0,1213747200000.0,1213833600000.0,1213920000000.0,1214179200000.0,1214265600000.0,1214352000000.0,1214438400000.0,1214524800000.0,1214784000000.0,1214870400000.0,1214956800000.0,1215043200000.0,1215388800000.0,1215475200000.0,1215561600000.0,1215648000000.0,1215734400000.0,1215993600000.0,1216080000000.0,1216166400000.0,1216252800000.0,1216339200000.0,1216598400000.0,1216684800000.0,1216771200000.0,1216857600000.0,1216944000000.0,1217203200000.0,1217289600000.0,1217376000000.0,1217462400000.0,1217548800000.0,1217808000000.0,1217894400000.0,1217980800000.0,1218067200000.0,1218153600000.0,1218412800000.0,1218499200000.0,1218585600000.0,1218672000000.0,1218758400000.0,1219017600000.0,1219104000000.0,1219190400000.0,1219276800000.0,1219363200000.0,1219622400000.0,1219708800000.0,1219795200000.0,1219881600000.0,1219968000000.0,1220313600000.0,1220400000000.0,1220486400000.0,1220572800000.0,1220832000000.0,1220918400000.0,1221004800000.0,1221091200000.0,1221177600000.0,1221436800000.0,1221523200000.0,1221609600000.0,1221696000000.0,1221782400000.0,1222041600000.0,1222128000000.0,1222214400000.0,1222300800000.0,1222387200000.0,1222646400000.0,1222732800000.0,1222819200000.0,1222905600000.0,1222992000000.0,1223251200000.0,1223337600000.0,1223424000000.0,1223510400000.0,1223596800000.0,1223856000000.0,1223942400000.0,1224028800000.0,1224115200000.0,1224201600000.0,1224460800000.0,1224547200000.0,1224633600000.0,1224720000000.0,1224806400000.0,1225065600000.0,1225152000000.0,1225238400000.0,1225324800000.0,1225411200000.0,1225670400000.0,1225756800000.0,1225843200000.0,1225929600000.0,1226016000000.0,1226275200000.0,1226361600000.0,1226448000000.0,1226534400000.0,1226620800000.0,1226880000000.0,1226966400000.0,1227052800000.0,1227139200000.0,1227225600000.0,1227484800000.0,1227571200000.0,1227657600000.0,1227830400000.0,1228089600000.0,1228176000000.0,1228262400000.0,1228348800000.0,1228435200000.0,1228694400000.0,1228780800000.0,1228867200000.0,1228953600000.0,1229040000000.0,1229299200000.0,1229385600000.0,1229472000000.0,1229558400000.0,1229644800000.0,1229904000000.0,1229990400000.0,1230076800000.0,1230249600000.0,1230508800000.0,1230595200000.0,1230681600000.0,1230854400000.0,1231113600000.0,1231200000000.0,1231286400000.0,1231372800000.0,1231459200000.0,1231718400000.0,1231804800000.0,1231891200000.0,1231977600000.0,1232064000000.0,1232409600000.0,1232496000000.0,1232582400000.0,1232668800000.0,1232928000000.0,1233014400000.0,1233100800000.0,1233187200000.0,1233273600000.0,1233532800000.0,1233619200000.0,1233705600000.0,1233792000000.0,1233878400000.0,1234137600000.0,1234224000000.0,1234310400000.0,1234396800000.0,1234483200000.0,1234828800000.0,1234915200000.0,1235001600000.0,1235088000000.0,1235347200000.0,1235433600000.0,1235520000000.0,1235606400000.0,1235692800000.0,1235952000000.0,1236038400000.0,1236124800000.0,1236211200000.0,1236297600000.0,1236556800000.0,1236643200000.0,1236729600000.0,1236816000000.0,1236902400000.0,1237161600000.0,1237248000000.0,1237334400000.0,1237420800000.0,1237507200000.0,1237766400000.0,1237852800000.0,1237939200000.0,1238025600000.0,1238112000000.0,1238371200000.0,1238457600000.0,1238544000000.0,1238630400000.0,1238716800000.0,1238976000000.0,1239062400000.0,1239148800000.0,1239235200000.0,1239580800000.0,1239667200000.0,1239753600000.0,1239840000000.0,1239926400000.0,1240185600000.0,1240272000000.0,1240358400000.0,1240444800000.0,1240531200000.0,1240790400000.0,1240876800000.0,1240963200000.0,1241049600000.0,1241136000000.0,1241395200000.0,1241481600000.0,1241568000000.0,1241654400000.0,1241740800000.0,1242000000000.0,1242086400000.0,1242172800000.0,1242259200000.0,1242345600000.0,1242604800000.0,1242691200000.0,1242777600000.0,1242864000000.0,1242950400000.0,1243296000000.0,1243382400000.0,1243468800000.0,1243555200000.0,1243814400000.0,1243900800000.0,1243987200000.0,1244073600000.0,1244160000000.0,1244419200000.0,1244505600000.0,1244592000000.0,1244678400000.0,1244764800000.0,1245024000000.0,1245110400000.0,1245196800000.0,1245283200000.0,1245369600000.0,1245628800000.0,1245715200000.0,1245801600000.0,1245888000000.0,1245974400000.0,1246233600000.0,1246320000000.0,1246406400000.0,1246492800000.0,1246838400000.0,1246924800000.0,1247011200000.0,1247097600000.0,1247184000000.0,1247443200000.0,1247529600000.0,1247616000000.0,1247702400000.0,1247788800000.0,1248048000000.0,1248134400000.0,1248220800000.0,1248307200000.0,1248393600000.0,1248652800000.0,1248739200000.0,1248825600000.0,1248912000000.0,1248998400000.0,1249257600000.0,1249344000000.0,1249430400000.0,1249516800000.0,1249603200000.0,1249862400000.0,1249948800000.0,1250035200000.0,1250121600000.0,1250208000000.0,1250467200000.0,1250553600000.0,1250640000000.0,1250726400000.0,1250812800000.0,1251072000000.0,1251158400000.0,1251244800000.0,1251331200000.0,1251417600000.0,1251676800000.0,1251763200000.0,1251849600000.0,1251936000000.0,1252022400000.0,1252368000000.0,1252454400000.0,1252540800000.0,1252627200000.0,1252886400000.0,1252972800000.0,1253059200000.0,1253145600000.0,1253232000000.0,1253491200000.0,1253577600000.0,1253664000000.0,1253750400000.0,1253836800000.0,1254096000000.0,1254182400000.0,1254268800000.0,1254355200000.0,1254441600000.0,1254700800000.0,1254787200000.0,1254873600000.0,1254960000000.0,1255046400000.0,1255305600000.0,1255392000000.0,1255478400000.0,1255564800000.0,1255651200000.0,1255910400000.0,1255996800000.0,1256083200000.0,1256169600000.0,1256256000000.0,1256515200000.0,1256601600000.0,1256688000000.0,1256774400000.0,1256860800000.0,1257120000000.0,1257206400000.0,1257292800000.0,1257379200000.0,1257465600000.0,1257724800000.0,1257811200000.0,1257897600000.0,1257984000000.0,1258070400000.0,1258329600000.0,1258416000000.0,1258502400000.0,1258588800000.0,1258675200000.0,1258934400000.0,1259020800000.0,1259107200000.0,1259280000000.0,1259539200000.0,1259625600000.0,1259712000000.0,1259798400000.0,1259884800000.0,1260144000000.0,1260230400000.0,1260316800000.0,1260403200000.0,1260489600000.0,1260748800000.0,1260835200000.0,1260921600000.0,1261008000000.0,1261094400000.0,1261353600000.0,1261440000000.0,1261526400000.0,1261612800000.0,1261958400000.0,1262044800000.0,1262131200000.0,1262217600000.0,1262563200000.0,1262649600000.0,1262736000000.0,1262822400000.0,1262908800000.0,1263168000000.0,1263254400000.0,1263340800000.0,1263427200000.0,1263513600000.0,1263859200000.0,1263945600000.0,1264032000000.0,1264118400000.0,1264377600000.0,1264464000000.0,1264550400000.0,1264636800000.0,1264723200000.0,1264982400000.0,1265068800000.0,1265155200000.0,1265241600000.0,1265328000000.0,1265587200000.0,1265673600000.0,1265760000000.0,1265846400000.0,1265932800000.0,1266278400000.0,1266364800000.0,1266451200000.0,1266537600000.0,1266796800000.0,1266883200000.0,1266969600000.0,1267056000000.0,1267142400000.0,1267401600000.0,1267488000000.0,1267574400000.0,1267660800000.0,1267747200000.0,1268006400000.0,1268092800000.0,1268179200000.0,1268265600000.0,1268352000000.0,1268611200000.0,1268697600000.0,1268784000000.0,1268870400000.0,1268956800000.0,1269216000000.0,1269302400000.0,1269388800000.0,1269475200000.0,1269561600000.0,1269820800000.0,1269907200000.0,1269993600000.0,1270080000000.0,1270425600000.0,1270512000000.0,1270598400000.0,1270684800000.0,1270771200000.0,1271030400000.0,1271116800000.0,1271203200000.0,1271289600000.0,1271376000000.0,1271635200000.0,1271721600000.0,1271808000000.0,1271894400000.0,1271980800000.0,1272240000000.0,1272326400000.0,1272412800000.0,1272499200000.0,1272585600000.0,1272844800000.0,1272931200000.0,1273017600000.0,1273104000000.0,1273190400000.0,1273449600000.0,1273536000000.0,1273622400000.0,1273708800000.0,1273795200000.0,1274054400000.0,1274140800000.0,1274227200000.0,1274313600000.0,1274400000000.0,1274659200000.0,1274745600000.0,1274832000000.0,1274918400000.0,1275004800000.0,1275350400000.0,1275436800000.0,1275523200000.0,1275609600000.0,1275868800000.0,1275955200000.0,1276041600000.0,1276128000000.0,1276214400000.0,1276473600000.0,1276560000000.0,1276646400000.0,1276732800000.0,1276819200000.0,1277078400000.0,1277164800000.0,1277251200000.0,1277337600000.0,1277424000000.0,1277683200000.0,1277769600000.0,1277856000000.0,1277942400000.0,1278028800000.0,1278374400000.0,1278460800000.0,1278547200000.0,1278633600000.0,1278892800000.0,1278979200000.0,1279065600000.0,1279152000000.0,1279238400000.0,1279497600000.0,1279584000000.0,1279670400000.0,1279756800000.0,1279843200000.0,1280102400000.0,1280188800000.0,1280275200000.0,1280361600000.0,1280448000000.0,1280707200000.0,1280793600000.0,1280880000000.0,1280966400000.0,1281052800000.0,1281312000000.0,1281398400000.0,1281484800000.0,1281571200000.0,1281657600000.0,1281916800000.0,1282003200000.0,1282089600000.0,1282176000000.0,1282262400000.0,1282521600000.0,1282608000000.0,1282694400000.0,1282780800000.0,1282867200000.0,1283126400000.0,1283212800000.0,1283299200000.0,1283385600000.0,1283472000000.0,1283817600000.0,1283904000000.0,1283990400000.0,1284076800000.0,1284336000000.0,1284422400000.0,1284508800000.0,1284595200000.0,1284681600000.0,1284940800000.0,1285027200000.0,1285113600000.0,1285200000000.0,1285286400000.0,1285545600000.0,1285632000000.0,1285718400000.0,1285804800000.0,1285891200000.0,1286150400000.0,1286236800000.0,1286323200000.0,1286409600000.0,1286496000000.0,1286755200000.0,1286841600000.0,1286928000000.0,1287014400000.0,1287100800000.0,1287360000000.0,1287446400000.0,1287532800000.0,1287619200000.0,1287705600000.0,1287964800000.0,1288051200000.0,1288137600000.0,1288224000000.0,1288310400000.0,1288569600000.0,1288656000000.0,1288742400000.0,1288828800000.0,1288915200000.0,1289174400000.0,1289260800000.0,1289347200000.0,1289433600000.0,1289520000000.0,1289779200000.0,1289865600000.0,1289952000000.0,1290038400000.0,1290124800000.0,1290384000000.0,1290470400000.0,1290556800000.0,1290729600000.0,1290988800000.0,1291075200000.0,1291161600000.0,1291248000000.0,1291334400000.0,1291593600000.0,1291680000000.0,1291766400000.0,1291852800000.0,1291939200000.0,1292198400000.0,1292284800000.0,1292371200000.0,1292457600000.0,1292544000000.0,1292803200000.0,1292889600000.0,1292976000000.0,1293062400000.0,1293408000000.0,1293494400000.0,1293580800000.0,1293667200000.0,1293753600000.0,1294012800000.0,1294099200000.0,1294185600000.0,1294272000000.0,1294358400000.0,1294617600000.0,1294704000000.0,1294790400000.0,1294876800000.0,1294963200000.0,1295308800000.0,1295395200000.0,1295481600000.0,1295568000000.0,1295827200000.0,1295913600000.0,1296000000000.0,1296086400000.0,1296172800000.0,1296432000000.0,1296518400000.0,1296604800000.0,1296691200000.0,1296777600000.0,1297036800000.0,1297123200000.0,1297209600000.0,1297296000000.0,1297382400000.0,1297641600000.0,1297728000000.0,1297814400000.0,1297900800000.0,1297987200000.0,1298332800000.0,1298419200000.0,1298505600000.0,1298592000000.0,1298851200000.0,1298937600000.0,1299024000000.0,1299110400000.0,1299196800000.0,1299456000000.0,1299542400000.0,1299628800000.0,1299715200000.0,1299801600000.0,1300060800000.0,1300147200000.0,1300233600000.0,1300320000000.0,1300406400000.0,1300665600000.0,1300752000000.0,1300838400000.0,1300924800000.0,1301011200000.0,1301270400000.0,1301356800000.0,1301443200000.0,1301529600000.0,1301616000000.0,1301875200000.0,1301961600000.0,1302048000000.0,1302134400000.0,1302220800000.0,1302480000000.0,1302566400000.0,1302652800000.0,1302739200000.0,1302825600000.0,1303084800000.0,1303171200000.0,1303257600000.0,1303344000000.0,1303689600000.0,1303776000000.0,1303862400000.0,1303948800000.0,1304035200000.0,1304294400000.0,1304380800000.0,1304467200000.0,1304553600000.0,1304640000000.0,1304899200000.0,1304985600000.0,1305072000000.0,1305158400000.0,1305244800000.0,1305504000000.0,1305590400000.0,1305676800000.0,1305763200000.0,1305849600000.0,1306108800000.0,1306195200000.0,1306281600000.0,1306368000000.0,1306454400000.0,1306800000000.0,1306886400000.0,1306972800000.0,1307059200000.0,1307318400000.0,1307404800000.0,1307491200000.0,1307577600000.0,1307664000000.0,1307923200000.0,1308009600000.0,1308096000000.0,1308182400000.0,1308268800000.0,1308528000000.0,1308614400000.0,1308700800000.0,1308787200000.0,1308873600000.0,1309132800000.0,1309219200000.0,1309305600000.0,1309392000000.0,1309478400000.0,1309824000000.0,1309910400000.0,1309996800000.0,1310083200000.0,1310342400000.0,1310428800000.0,1310515200000.0,1310601600000.0,1310688000000.0,1310947200000.0,1311033600000.0,1311120000000.0,1311206400000.0,1311292800000.0,1311552000000.0,1311638400000.0,1311724800000.0,1311811200000.0,1311897600000.0,1312156800000.0,1312243200000.0,1312329600000.0,1312416000000.0,1312502400000.0,1312761600000.0,1312848000000.0,1312934400000.0,1313020800000.0,1313107200000.0,1313366400000.0,1313452800000.0,1313539200000.0,1313625600000.0,1313712000000.0,1313971200000.0,1314057600000.0,1314144000000.0,1314230400000.0,1314316800000.0,1314576000000.0,1314662400000.0,1314748800000.0,1314835200000.0,1314921600000.0,1315267200000.0,1315353600000.0,1315440000000.0,1315526400000.0,1315785600000.0,1315872000000.0,1315958400000.0,1316044800000.0,1316131200000.0,1316390400000.0,1316476800000.0,1316563200000.0,1316649600000.0,1316736000000.0,1316995200000.0,1317081600000.0,1317168000000.0,1317254400000.0,1317340800000.0,1317600000000.0,1317686400000.0,1317772800000.0,1317859200000.0,1317945600000.0,1318204800000.0,1318291200000.0,1318377600000.0,1318464000000.0,1318550400000.0,1318809600000.0,1318896000000.0,1318982400000.0,1319068800000.0,1319155200000.0,1319414400000.0,1319500800000.0,1319587200000.0,1319673600000.0,1319760000000.0,1320019200000.0,1320105600000.0,1320192000000.0,1320278400000.0,1320364800000.0,1320624000000.0,1320710400000.0,1320796800000.0,1320883200000.0,1320969600000.0,1321228800000.0,1321315200000.0,1321401600000.0,1321488000000.0,1321574400000.0,1321833600000.0,1321920000000.0,1322006400000.0,1322179200000.0,1322438400000.0,1322524800000.0,1322611200000.0,1322697600000.0,1322784000000.0,1323043200000.0,1323129600000.0,1323216000000.0,1323302400000.0,1323388800000.0,1323648000000.0,1323734400000.0,1323820800000.0,1323907200000.0,1323993600000.0,1324252800000.0,1324339200000.0,1324425600000.0,1324512000000.0,1324598400000.0,1324944000000.0,1325030400000.0,1325116800000.0,1325203200000.0,1325548800000.0,1325635200000.0,1325721600000.0,1325808000000.0,1326067200000.0,1326153600000.0,1326240000000.0,1326326400000.0,1326412800000.0,1326758400000.0,1326844800000.0,1326931200000.0,1327017600000.0,1327276800000.0,1327363200000.0,1327449600000.0,1327536000000.0,1327622400000.0,1327881600000.0,1327968000000.0,1328054400000.0,1328140800000.0,1328227200000.0,1328486400000.0,1328572800000.0,1328659200000.0,1328745600000.0,1328832000000.0,1329091200000.0,1329177600000.0,1329264000000.0,1329350400000.0,1329436800000.0,1329782400000.0,1329868800000.0,1329955200000.0,1330041600000.0,1330300800000.0,1330387200000.0,1330473600000.0,1330560000000.0,1330646400000.0,1330905600000.0,1330992000000.0,1331078400000.0,1331164800000.0,1331251200000.0,1331510400000.0,1331596800000.0,1331683200000.0,1331769600000.0,1331856000000.0,1332115200000.0,1332201600000.0,1332288000000.0,1332374400000.0,1332460800000.0,1332720000000.0,1332806400000.0,1332892800000.0,1332979200000.0,1333065600000.0,1333324800000.0,1333411200000.0,1333497600000.0,1333584000000.0,1333929600000.0,1334016000000.0,1334102400000.0,1334188800000.0,1334275200000.0,1334534400000.0,1334620800000.0,1334707200000.0,1334793600000.0,1334880000000.0,1335139200000.0,1335225600000.0,1335312000000.0,1335398400000.0,1335484800000.0,1335744000000.0,1335830400000.0,1335916800000.0,1336003200000.0,1336089600000.0,1336348800000.0,1336435200000.0,1336521600000.0,1336608000000.0,1336694400000.0,1336953600000.0,1337040000000.0,1337126400000.0,1337212800000.0,1337299200000.0,1337558400000.0,1337644800000.0,1337731200000.0,1337817600000.0,1337904000000.0,1338249600000.0,1338336000000.0,1338422400000.0,1338508800000.0,1338768000000.0,1338854400000.0,1338940800000.0,1339027200000.0,1339113600000.0,1339372800000.0,1339459200000.0,1339545600000.0,1339632000000.0,1339718400000.0,1339977600000.0,1340064000000.0,1340150400000.0,1340236800000.0,1340323200000.0,1340582400000.0,1340668800000.0,1340755200000.0,1340841600000.0,1340928000000.0,1341187200000.0,1341273600000.0,1341446400000.0,1341532800000.0,1341792000000.0,1341878400000.0,1341964800000.0,1342051200000.0,1342137600000.0,1342396800000.0,1342483200000.0,1342569600000.0,1342656000000.0,1342742400000.0,1343001600000.0,1343088000000.0,1343174400000.0,1343260800000.0,1343347200000.0,1343606400000.0,1343692800000.0,1343779200000.0,1343865600000.0,1343952000000.0,1344211200000.0,1344297600000.0,1344384000000.0,1344470400000.0,1344556800000.0,1344816000000.0,1344902400000.0,1344988800000.0,1345075200000.0,1345161600000.0,1345420800000.0,1345507200000.0,1345593600000.0,1345680000000.0,1345766400000.0,1346025600000.0,1346112000000.0,1346198400000.0,1346284800000.0,1346371200000.0,1346716800000.0,1346803200000.0,1346889600000.0,1346976000000.0,1347235200000.0,1347321600000.0,1347408000000.0,1347494400000.0,1347580800000.0,1347840000000.0,1347926400000.0,1348012800000.0,1348099200000.0,1348185600000.0,1348444800000.0,1348531200000.0,1348617600000.0,1348704000000.0,1348790400000.0,1349049600000.0,1349136000000.0,1349222400000.0,1349308800000.0,1349395200000.0,1349654400000.0,1349740800000.0,1349827200000.0,1349913600000.0,1350000000000.0,1350259200000.0,1350345600000.0,1350432000000.0,1350518400000.0,1350604800000.0,1350864000000.0,1350950400000.0,1351036800000.0,1351123200000.0,1351209600000.0,1351641600000.0,1351728000000.0,1351814400000.0,1352073600000.0,1352160000000.0,1352246400000.0,1352332800000.0,1352419200000.0,1352678400000.0,1352764800000.0,1352851200000.0,1352937600000.0,1353024000000.0,1353283200000.0,1353369600000.0,1353456000000.0,1353628800000.0,1353888000000.0,1353974400000.0,1354060800000.0,1354147200000.0,1354233600000.0,1354492800000.0,1354579200000.0,1354665600000.0,1354752000000.0,1354838400000.0,1355097600000.0,1355184000000.0,1355270400000.0,1355356800000.0,1355443200000.0,1355702400000.0,1355788800000.0,1355875200000.0,1355961600000.0,1356048000000.0,1356307200000.0,1356480000000.0,1356566400000.0,1356652800000.0,1356912000000.0,1357084800000.0,1357171200000.0,1357257600000.0,1357516800000.0,1357603200000.0,1357689600000.0,1357776000000.0,1357862400000.0,1358121600000.0,1358208000000.0,1358294400000.0,1358380800000.0,1358467200000.0,1358812800000.0,1358899200000.0,1358985600000.0,1359072000000.0,1359331200000.0,1359417600000.0,1359504000000.0,1359590400000.0,1359676800000.0,1359936000000.0,1360022400000.0,1360108800000.0,1360195200000.0,1360281600000.0,1360540800000.0,1360627200000.0,1360713600000.0,1360800000000.0,1360886400000.0,1361232000000.0,1361318400000.0,1361404800000.0,1361491200000.0,1361750400000.0,1361836800000.0,1361923200000.0,1362009600000.0,1362096000000.0],\"y\":[31.68,29.66,31.12,30.56,29.87,29.66,29.72,30.57,29.5,27.78,28.26,29.56,30.39,29.91,32.81,35.06,34.36,33.72,33.93,33.83,33.05,30.57,33.02,32.41,30.95,31.7,30.44,32.03,30.39,29.04,26.56,27.67,27.2,30.12,30.85,29.45,28.9,29.3,31.2,29.5,30.82,30.16,30.22,28.66,27.98,26.91,27.5,26.77,25.64,24.15,25.0,26.17,24.56,25.7,24.65,24.5,22.85,21.87,20.86,21.32,21.22,21.0,21.29,20.42,21.67,22.5,22.2,22.58,23.48,23.05,23.28,22.17,22.98,21.99,22.46,22.17,23.49,24.62,27.05,26.14,25.14,26.32,25.16,26.47,24.92,25.47,25.92,25.11,25.19,26.47,27.78,27.69,28.63,27.47,28.05,28.35,27.84,25.62,26.81,26.04,23.68,24.34,24.34,25.29,23.49,24.71,23.98,22.98,23.34,23.04,23.31,22.73,23.1,23.13,23.19,22.88,22.7,23.58,25.01,24.31,24.56,25.14,26.41,27.28,27.63,28.23,28.78,28.93,29.63,30.85,30.36,28.42,30.15,28.63,28.42,28.08,28.2,27.65,26.86,29.5,29.15,29.69,27.57,25.38,26.02,25.01,23.8,26.02,12.52,11.79,10.85,11.49,10.73,10.79,10.58,10.15,9.54,9.73,10.73,10.45,9.78,9.78,9.21,9.48,9.91,9.18,9.0,9.0,9.03,9.39,9.51,9.97,10.85,10.82,10.43,10.36,9.75,9.82,9.27,9.42,9.85,9.66,9.24,9.0,9.21,9.15,9.0,9.39,9.09,8.77,8.54,8.02,8.3,8.12,8.27,6.96,6.96,7.32,7.39,7.48,7.29,7.02,6.84,6.93,6.81,6.99,6.84,7.29,7.14,7.2,7.2,7.24,7.24,7.96,8.3,7.96,8.05,8.36,8.05,8.75,8.36,8.33,8.17,9.09,9.48,9.36,9.97,9.97,9.7,9.51,10.55,10.58,10.51,10.27,10.03,9.82,10.27,10.09,10.09,9.3,9.57,9.3,9.48,9.75,9.24,8.9,9.18,9.15,9.15,9.48,9.42,8.87,9.12,9.36,9.91,10.45,10.33,10.12,9.85,9.05,9.51,9.94,9.57,9.54,10.0,9.57,9.78,10.51,11.18,10.59,11.12,10.78,10.96,10.73,10.5,9.84,9.48,10.15,10.01,9.99,10.72,10.6,10.9,10.43,9.92,11.08,12.51,12.18,11.79,11.69,12.02,12.01,12.74,12.4,12.61,12.93,12.14,12.52,12.14,11.95,11.66,11.18,11.11,11.33,11.27,11.72,11.45,11.44,11.46,11.43,11.3,11.28,11.07,10.44,9.62,9.7,10.16,10.05,10.18,10.08,10.53,10.37,9.74,9.88,9.95,9.67,9.94,9.89,9.82,10.54,10.94,10.82,11.67,11.55,11.35,11.45,11.31,11.62,11.59,11.28,10.71,11.04,10.28,10.96,11.85,12.08,11.65,12.21,10.11,9.71,9.72,9.5,9.28,8.98,9.04,9.22,9.21,9.14,9.27,9.64,9.48,9.3,9.36,9.19,9.26,9.25,9.28,9.11,8.97,9.07,8.79,8.81,8.71,8.86,8.66,9.03,9.2,8.95,8.67,8.67,9.02,8.87,9.02,8.62,8.4,8.45,8.26,7.92,8.28,7.62,7.65,8.0,7.56,7.37,7.54,7.54,7.56,7.32,7.28,7.72,7.85,7.88,7.78,8.18,8.63,8.76,8.75,8.76,8.26,8.75,8.9,9.25,8.82,9.21,9.33,9.08,8.57,8.56,8.54,9.04,9.03,9.27,9.52,9.53,9.1,9.1,9.12,9.42,9.54,9.46,9.22,9.73,9.5,9.57,9.65,10.39,10.21,9.98,9.93,10.36,10.24,10.89,11.55,11.08,10.96,10.96,10.59,10.45,10.21,9.92,10.03,10.22,10.51,10.05,10.21,10.39,10.45,10.73,10.91,10.65,11.33,11.47,11.52,11.14,10.99,10.53,10.32,10.24,10.28,10.55,10.1,10.93,10.78,10.61,11.19,11.29,11.31,11.32,11.22,11.71,12.02,11.87,12.33,12.38,12.0,11.82,11.69,12.15,12.02,12.16,11.96,11.62,11.0,11.25,10.45,11.06,11.58,11.51,10.68,10.55,11.4,11.81,11.44,11.7,11.86,11.99,12.19,12.02,11.91,11.88,12.13,12.03,12.08,12.12,11.8,11.71,11.35,11.41,11.41,11.51,11.89,11.7,11.55,12.11,12.03,11.94,11.72,11.99,12.09,12.19,12.16,12.52,12.7,12.36,12.15,11.93,11.79,11.56,11.73,11.19,11.65,11.8,11.66,11.52,11.43,11.01,10.93,11.85,11.76,11.34,11.64,12.45,12.29,12.26,12.16,12.03,11.41,11.83,12.24,11.74,11.66,11.66,11.77,11.33,11.14,11.08,11.05,10.78,10.41,10.45,9.95,9.77,9.5,9.77,9.99,9.8,8.33,8.32,8.19,8.4,8.33,8.05,8.3,8.62,8.3,8.24,8.53,9.11,8.76,8.52,8.42,8.9,8.51,8.86,8.68,7.6,7.29,7.27,7.26,7.04,7.39,6.98,6.97,7.3,7.5,7.42,7.2,7.03,6.8,7.17,7.31,7.44,7.29,7.29,7.09,7.38,7.59,7.69,7.77,7.74,7.84,7.77,7.65,7.55,7.22,7.15,7.15,7.17,6.83,7.04,6.9,6.99,6.99,6.97,6.95,6.88,6.89,7.05,7.2,7.3,7.09,7.23,7.22,7.12,7.26,7.15,7.16,7.05,7.06,6.89,6.95,6.82,6.7,6.65,6.61,6.86,7.06,7.18,7.37,7.08,6.86,6.97,7.08,7.15,7.24,7.14,7.5,7.59,7.51,7.77,7.81,7.96,8.21,8.22,8.37,7.78,7.7,7.37,7.61,7.58,7.93,7.76,7.61,7.43,7.55,7.95,7.79,7.77,7.49,7.64,7.54,7.38,7.37,7.28,7.11,7.27,7.17,7.43,7.53,7.39,7.19,7.22,7.33,7.09,6.91,6.88,7.05,6.98,7.0,6.84,6.84,6.97,7.2,7.25,7.25,7.22,7.08,7.14,7.16,7.11,7.1,7.02,7.11,6.86,6.82,6.75,6.89,6.71,6.87,7.09,7.26,6.96,6.98,7.13,7.1,7.03,7.02,6.88,6.98,6.98,7.0,7.07,7.13,7.43,7.22,7.18,7.29,7.17,7.3,7.05,7.23,7.3,7.12,7.08,7.11,7.08,7.07,6.99,6.92,6.91,7.16,7.19,7.3,7.29,7.27,7.25,7.29,6.99,7.08,7.01,7.05,7.09,6.88,6.89,7.1,7.03,7.01,7.05,7.03,6.9,6.99,6.42,6.6,6.51,6.44,6.38,6.39,6.57,6.6,6.54,6.49,6.74,6.84,6.91,6.98,7.03,7.82,8.51,8.58,8.75,8.9,9.03,9.08,9.02,9.11,9.14,8.8,8.65,8.68,8.87,8.91,9.18,8.89,8.8,8.73,8.49,8.42,8.56,8.58,8.34,8.16,8.35,8.49,8.64,8.47,8.88,8.85,9.3,9.31,9.34,9.27,9.13,9.28,9.38,9.11,9.27,9.28,9.37,9.3,9.66,9.92,9.67,9.52,9.65,9.68,9.54,9.66,10.16,10.14,10.02,10.11,10.11,9.97,10.47,10.21,10.08,9.86,10.25,10.08,10.31,9.91,9.55,9.69,9.55,9.56,9.58,9.81,9.71,9.58,9.89,9.88,10.22,10.54,10.15,10.14,10.24,10.45,10.79,10.99,11.11,11.16,11.1,10.94,11.06,10.88,10.79,10.97,11.23,10.8,10.87,10.76,11.13,10.98,10.74,10.91,10.37,9.93,10.06,10.36,10.08,10.11,10.0,10.55,10.84,11.29,11.21,11.4,11.52,11.84,11.94,12.07,11.31,11.06,11.29,11.27,11.07,11.18,10.99,10.99,11.53,11.52,11.23,11.13,11.26,11.14,11.2,11.24,10.94,10.65,10.47,10.86,10.9,10.44,10.28,9.92,9.93,9.91,9.86,10.28,10.06,10.08,10.17,10.56,10.47,10.23,10.28,10.14,10.24,9.94,9.91,10.31,10.16,9.81,9.78,9.67,9.74,9.58,9.65,9.63,9.92,10.1,10.28,10.35,10.39,10.35,10.78,10.74,10.98,11.36,11.18,11.54,11.73,11.77,11.11,11.05,11.05,10.99,10.79,10.97,11.19,11.22,10.95,11.03,10.97,10.85,10.82,10.6,10.9,11.04,11.02,11.17,11.57,11.54,11.18,11.26,11.31,10.93,10.89,10.79,10.87,11.09,11.2,11.63,11.68,11.58,11.63,12.23,13.0,12.64,13.18,13.46,13.2,13.4,12.86,12.56,12.74,12.48,12.58,12.58,12.3,12.4,13.07,13.15,13.57,13.58,13.15,13.18,13.37,13.77,13.53,13.28,13.39,13.64,13.1,12.95,14.25,14.19,13.79,13.48,13.48,13.51,13.47,13.19,13.1,12.86,13.02,12.54,12.68,12.71,12.96,12.93,12.97,12.78,13.2,13.28,13.22,13.16,12.95,13.16,12.87,12.99,13.18,13.29,13.82,13.86,13.7,13.64,13.64,14.06,13.81,14.0,14.5,14.76,14.69,14.95,14.65,14.92,15.92,15.95,16.0,15.72,16.05,16.39,16.13,16.39,15.8,15.8,15.82,15.71,15.11,15.05,14.78,14.66,14.6,14.17,14.21,14.38,16.01,15.66,15.55,15.66,15.38,15.41,14.93,15.2,15.77,15.69,15.87,15.73,15.36,15.22,15.46,15.26,14.48,14.73,15.33,15.08,14.77,15.0,14.97,15.01,15.43,14.93,14.98,15.11,15.54,16.07,16.85,16.7,16.59,16.77,17.44,17.34,17.13,17.39,17.68,17.36,17.44,17.31,17.26,17.12,17.68,18.06,18.34,18.48,17.95,18.12,18.13,18.25,18.5,18.81,18.84,18.8,18.86,19.14,19.76,19.27,18.99,18.77,18.62,19.33,21.87,22.13,23.22,23.06,23.08,23.31,23.05,23.12,23.33,24.46,25.38,25.48,25.51,26.02,26.9,26.48,26.61,26.44,26.28,26.62,26.89,26.99,26.86,26.72,26.7,26.93,26.83,29.83,29.79,31.15,31.39,33.28,32.6,32.96,31.71,30.48,31.99,30.58,30.77,31.12,31.68,31.56,31.75,31.73,32.39,31.6,30.5,30.97,31.0,31.13,30.71,31.21,31.34,31.51,31.32,30.78,31.09,31.36,31.39,33.67,33.53,31.39,31.83,33.94,34.14,34.36,33.98,34.26,34.28,34.41,35.04,35.13,35.32,35.97,37.39,37.7,38.72,37.84,38.34,38.39,39.34,38.29,38.1,39.49,41.15,42.99,43.83,42.7,42.21,41.47,42.9,43.24,43.27,43.63,43.28,42.91,40.64,41.63,41.58,39.42,38.27,38.74,39.16,39.21,39.84,40.05,41.09,41.78,42.5,41.65,41.38,41.33,41.36,40.6,41.63,40.53,39.77,39.96,40.74,41.17,42.36,42.54,40.77,41.49,39.91,36.24,34.38,34.64,36.07,34.54,36.16,34.53,35.97,35.2,34.96,34.56,35.07,35.43,35.22,36.13,35.67,36.22,35.96,35.42,34.63,33.19,33.82,34.57,34.39,34.86,36.52,36.52,38.67,38.61,38.69,39.62,39.45,38.67,39.19,38.94,37.19,36.88,35.54,35.91,36.62,34.83,34.91,35.01,36.11,36.94,37.26,36.58,36.82,37.49,37.82,36.72,36.08,36.29,35.37,35.8,35.5,36.94,36.36,36.6,37.2,37.05,37.19,37.3,39.63,40.41,40.35,42.0,42.43,42.1,42.79,42.61,42.43,42.78,42.6,41.48,41.58,42.0,42.03,41.54,41.81,41.48,42.62,42.19,42.79,44.83,46.37,44.98,45.86,45.03,44.57,44.61,44.48,44.51,44.8,44.48,44.58,45.29,45.6,44.99,44.95,47.46,47.34,48.41,49.9,49.99,49.43,48.25,48.5,49.8,51.2,51.73,50.68,50.48,51.74,52.36,51.97,49.68,50.9,52.14,52.95,52.27,51.33,50.28,49.89,48.99,50.17,47.9,52.27,52.52,51.97,50.78,53.43,54.6,54.13,55.23,54.56,55.46,53.89,52.97,56.01,55.92,58.3,60.15,59.47,58.58,58.26,58.46,59.5,59.85,59.76,60.57,63.17,62.75,62.79,63.18,64.69,65.27,67.44,67.75,66.23,65.96,69.63,70.64,69.85,72.02,71.92,72.05,72.29,72.85,72.92,70.03,70.2,69.16,69.42,70.13,71.48,71.99,71.34,72.19,71.55,69.49,69.92,72.7,72.91,72.34,74.21,73.96,78.64,81.6,81.98,83.24,82.38,80.23,76.87,74.0,75.54,73.95,72.16,70.34,70.05,72.94,73.44,73.35,70.12,69.88,65.45,65.74,66.92,63.17,65.46,62.93,65.78,67.32,68.63,68.36,67.18,69.36,69.78,69.5,69.04,66.61,67.2,67.7,65.86,63.68,64.49,63.86,62.18,61.46,63.88,65.47,64.41,62.54,62.89,62.23,60.11,59.98,58.51,58.31,57.88,57.1,60.62,61.03,61.0,60.93,59.49,65.37,69.28,67.87,66.79,66.12,64.88,64.65,63.03,64.4,63.85,65.77,65.2,63.95,64.35,66.28,67.46,68.46,67.69,69.65,69.19,69.18,69.92,69.92,69.08,68.66,66.28,65.84,65.93,63.2,63.47,61.45,62.74,61.64,61.42,61.6,62.56,61.81,59.54,58.13,60.46,59.97,58.35,58.08,56.95,59.09,57.61,55.44,56.73,56.03,57.75,55.98,55.63,55.89,56.27,57.94,57.22,57.37,55.85,54.48,57.35,55.7,56.36,55.44,54.24,53.88,53.49,54.12,51.51,50.82,49.28,50.93,51.45,52.62,58.84,59.05,59.73,60.23,62.12,61.66,63.79,66.09,65.34,66.29,67.68,66.43,65.37,63.0,61.84,62.31,61.9,62.19,64.63,66.11,65.73,66.05,64.73,65.76,65.46,65.95,66.86,65.14,64.66,65.12,65.99,66.5,69.52,68.11,70.8,70.53,70.51,70.64,72.16,72.13,72.07,71.86,71.75,73.19,72.6,71.0,73.67,75.48,74.31,74.9,74.87,72.81,72.05,73.31,72.78,72.18,72.58,71.78,71.22,73.19,72.96,73.33,72.25,72.48,76.82,77.76,79.22,78.83,79.44,79.93,78.2,78.21,78.85,76.99,76.81,76.14,77.52,78.3,80.19,81.05,80.84,82.03,82.67,81.74,83.26,83.49,84.1,86.17,87.83,89.12,87.08,89.29,89.28,89.14,88.81,88.62,88.76,87.36,84.65,85.84,86.31,83.78,86.61,86.12,85.31,83.12,83.94,82.43,80.62,79.94,79.27,79.28,78.65,82.51,81.5,83.31,82.72,83.12,90.03,94.34,93.17,92.02,94.43,92.34,86.63,86.07,84.41,83.35,84.32,83.88,83.04,83.58,83.2,83.38,82.41,82.42,81.64,81.84,83.79,83.81,80.98,82.55,82.38,82.96,82.87,82.5,83.54,86.75,87.05,86.63,86.08,81.63,82.29,84.67,83.07,83.95,85.77,85.31,85.58,85.56,87.4,85.97,87.53,87.11,87.13,88.63,88.97,91.29,91.38,90.95,93.22,92.84,90.68,91.18,90.36,91.08,91.91,91.68,92.08,91.08,91.66,90.05,89.66,87.76,88.92,87.87,87.92,87.79,88.47,90.94,90.68,92.73,96.13,97.18,97.06,96.74,97.63,97.64,98.04,101.07,102.18,103.95,104.39,105.76,106.36,104.57,104.39,106.44,107.0,108.91,110.42,109.79,107.65,110.5,111.21,115.51,117.86,115.15,118.0,119.3,120.25,120.66,121.07,116.89,117.08,114.27,115.49,117.19,121.66,120.27,118.21,120.5,119.62,118.98,116.37,118.54,117.25,118.69,117.93,123.68,129.11,128.67,126.75,128.72,128.76,130.39,133.95,134.31,135.1,134.33,136.16,139.8,139.76,131.19,133.49,141.99,139.9,137.55,128.14,131.29,132.74,128.23,131.54,131.32,130.33,122.92,121.57,124.28,120.63,116.61,113.84,118.71,118.87,124.07,128.87,127.47,131.59,128.62,123.34,130.4,132.51,134.68,140.2,133.01,131.3,128.15,132.96,131.77,133.09,133.43,135.0,134.61,137.05,136.91,136.46,140.19,144.21,148.98,148.58,150.26,149.26,152.05,154.1,153.59,151.95,157.02,163.3,163.25,162.21,157.78,162.66,162.4,164.93,168.01,168.74,165.74,169.57,181.05,180.83,177.76,179.63,180.01,181.87,184.74,182.3,182.71,181.07,186.53,181.19,170.65,160.83,149.54,165.3,161.55,159.79,161.82,159.45,164.22,163.84,166.83,167.8,170.01,175.27,179.23,177.22,173.95,174.87,180.41,184.74,188.97,188.88,183.37,185.62,186.56,185.16,179.34,177.96,178.09,182.07,188.59,193.34,193.49,193.12,194.35,192.64,189.49,189.58,175.11,172.76,166.55,174.48,173.13,167.95,173.87,164.4,155.26,156.47,156.93,151.37,135.25,131.88,126.44,126.44,127.93,128.55,131.64,130.08,128.04,125.81,118.65,117.91,122.04,125.9,121.43,125.85,123.96,121.21,118.83,120.42,118.2,116.18,116.45,115.88,119.59,126.34,121.59,118.39,121.2,121.07,117.61,118.89,116.4,123.85,122.57,124.43,123.13,123.25,129.17,126.11,129.61,135.7,137.11,141.08,136.4,139.08,139.56,145.43,143.44,147.45,148.88,151.61,148.64,147.28,150.31,143.1,143.72,144.31,149.48,150.25,156.62,163.54,155.8,158.42,164.3,165.07,167.51,170.25,169.18,175.06,175.97,179.66,181.54,177.58,179.98,178.41,183.0,184.75,181.15,184.52,182.47,178.56,180.8,173.3,172.19,176.2,181.31,181.88,181.57,183.57,180.99,180.28,180.11,184.23,180.54,176.63,180.54,175.85,168.5,167.64,171.99,176.45,173.84,175.93,170.46,168.41,168.49,172.52,163.64,165.42,162.84,169.89,163.56,165.45,170.35,174.62,169.47,171.78,167.84,169.11,164.98,168.07,167.09,160.62,161.73,157.57,161.7,154.67,157.67,150.16,152.77,155.49,154.59,152.36,149.02,156.23,159.68,159.08,164.9,168.8,171.88,174.38,174.4,170.92,170.58,168.77,171.01,169.51,171.94,167.81,168.87,169.88,168.97,164.88,161.63,162.38,156.79,155.78,153.59,147.52,147.45,148.46,144.85,136.51,136.04,124.32,130.41,137.04,127.45,123.36,125.18,128.31,124.72,102.37,110.54,106.12,97.35,94.41,95.45,86.71,87.33,86.3,94.14,107.23,101.22,95.26,99.09,94.73,95.74,88.98,94.21,95.53,93.73,89.56,97.17,101.68,107.99,104.64,104.02,107.94,100.46,96.38,95.54,93.25,92.17,87.65,93.79,87.76,85.72,87.44,83.92,78.28,80.31,90.4,88.31,92.39,90.13,86.49,89.93,93.27,88.9,91.42,96.98,97.31,95.51,92.39,95.57,92.15,92.81,86.71,86.98,87.53,83.39,84.01,82.71,83.45,84.23,83.92,83.01,88.26,91.98,90.47,88.51,90.16,88.09,86.23,85.3,82.99,81.09,80.07,76.05,80.56,85.93,85.93,87.18,88.24,91.61,90.45,87.66,89.0,90.43,90.98,93.81,96.98,99.7,95.14,94.16,96.55,96.44,91.94,91.78,88.15,88.7,84.56,87.77,88.66,86.74,86.86,85.53,85.94,88.67,86.4,82.96,80.83,86.2,90.14,93.71,93.3,92.8,96.92,98.73,98.83,98.8,104.71,103.58,103.57,106.85,103.92,101.62,102.23,105.71,109.62,112.81,115.2,111.84,113.13,116.29,116.92,115.06,114.41,118.12,120.03,117.19,118.42,118.17,121.96,120.5,121.31,120.5,121.71,122.38,123.75,128.45,129.07,128.86,125.52,125.64,126.01,121.01,116.21,119.58,119.06,123.17,123.95,122.42,120.77,119.14,127.19,129.4,131.36,132.08,135.53,135.66,137.08,139.79,140.7,139.9,138.8,136.4,136.11,133.21,132.35,132.61,131.86,132.15,135.65,133.6,130.33,132.48,136.02,138.53,138.07,138.52,138.91,136.18,134.81,131.68,133.45,132.62,134.72,138.43,138.37,142.85,143.47,147.58,148.71,147.35,152.44,153.49,155.6,155.71,155.61,155.64,158.32,158.91,161.86,161.01,160.58,159.41,160.97,160.2,158.36,160.77,163.8,162.2,155.21,159.5,160.08,161.76,164.58,164.42,164.75,162.82,164.8,165.38,163.59,160.76,160.65,161.98,165.64,168.18,166.44,167.82,167.43,168.95,170.35,176.88,179.48,179.94,178.97,179.42,180.41,178.77,177.36,181.04,180.29,180.26,175.9,179.83,180.91,184.79,185.03,184.08,185.24,185.57,184.8,186.04,185.33,182.89,184.65,193.3,199.3,199.57,198.34,196.92,191.95,187.12,190.96,183.33,184.11,183.57,185.57,188.7,189.01,195.93,197.41,197.67,196.45,198.84,200.96,201.32,200.31,195.01,194.43,200.23,198.83,198.59,195.08,194.42,191.56,190.84,191.09,188.01,183.76,184.66,192.37,191.04,189.33,191.57,188.84,189.68,186.59,190.07,192.79,194.86,196.55,203.3,205.8,203.36,205.83,204.95,208.14,208.5,205.18,204.8,206.16,204.34,202.02,204.87,203.68,200.28,209.14,205.92,202.36,192.32,197.5,200.29,202.17,193.82,186.79,189.39,190.48,193.76,186.78,190.1,188.79,190.81,189.76,193.22,194.88,197.82,196.99,197.36,196.13,194.92,191.65,195.15,196.46,199.0,203.25,203.12,203.58,204.93,212.94,213.07,216.9,218.67,219.31,220.38,217.7,218.29,217.97,218.48,216.15,218.58,222.09,223.07,220.43,224.56,226.01,229.38,228.55,229.49,231.94,232.97,234.0,233.36,235.15,235.64,235.78,238.95,242.09,240.61,240.29,237.88,252.11,259.16,263.4,262.1,254.85,254.42,261.27,253.92,259.04,251.58,248.96,239.49,229.39,247.02,249.48,254.9,251.27,246.85,247.24,245.43,241.52,231.23,235.67,239.99,238.49,237.41,246.4,249.83,253.67,256.71,255.9,248.93,244.05,242.49,236.52,243.63,246.55,247.3,252.56,259.91,264.41,266.55,262.75,266.33,263.53,261.62,259.38,260.94,249.14,244.63,241.66,240.16,241.81,251.57,251.01,252.49,250.23,244.89,245.79,244.55,243.04,238.84,244.98,247.26,251.91,252.81,252.16,256.83,253.8,251.03,250.19,254.66,254.74,255.76,254.52,252.95,254.57,252.29,243.32,244.88,242.26,240.84,245.05,246.12,243.02,242.79,239.05,233.34,236.22,233.69,234.99,235.84,236.43,243.46,245.25,251.67,250.73,255.7,255.85,256.18,259.71,260.7,262.8,268.98,267.81,275.46,275.98,279.85,280.99,284.3,283.17,278.99,279.48,275.96,274.77,270.99,281.01,281.25,281.28,286.0,287.25,290.35,291.9,294.01,306.1,309.27,301.0,302.01,301.02,299.03,300.36,299.59,299.38,296.86,292.72,295.83,300.87,304.21,309.53,308.43,309.87,307.4,309.3,307.96,299.58,298.61,293.31,292.25,299.96,298.31,304.76,300.26,306.16,306.35,308.17,302.61,307.72,309.42,308.73,311.36,309.48,312.2,310.98,311.76,312.84,311.5,311.57,312.43,311.81,313.37,315.3,316.24,314.72,315.77,316.54,316.36,314.78,313.71,320.52,322.2,324.83,324.57,326.89,333.05,332.26,334.97,336.19,338.92,331.3,329.54,323.55,317.75,328.19,332.03,334.41,333.79,326.88,330.01,335.56,334.87,334.01,336.99,342.22,345.45,348.33,344.81,347.06,349.32,350.02,353.16,348.47,340.94,329.32,333.22,333.47,338.6,343.52,339.72,342.46,349.69,350.12,345.61,346.0,342.8,337.15,342.33,343.86,335.95,320.95,325.46,321.59,329.99,331.84,329.88,335.5,341.89,340.82,341.33,339.06,338.94,335.1,331.83,329.59,328.76,328.8,325.86,321.72,323.28,326.9,323.3,318.47,322.74,328.59,333.01,341.07,343.32,340.8,340.54,337.23,340.52,336.78,338.64,339.98,337.23,337.15,338.06,339.86,337.7,337.06,331.15,324.15,326.91,330.54,331.18,326.02,325.22,323.07,327.54,325.81,328.15,338.28,336.03,336.6,334.01,328.76,322.93,323.12,322.39,316.96,317.64,323.32,317.78,316.24,311.47,306.67,316.37,313.76,322.14,317.39,322.93,326.06,324.87,326.46,333.84,339.84,342.11,347.4,349.84,344.28,344.04,348.19,347.95,354.9,363.54,366.51,376.28,376.66,382.51,387.56,392.34,381.81,381.07,379.76,385.86,378.24,381.8,367.01,363.37,343.52,363.74,353.71,363.44,366.64,372.89,370.04,370.0,356.0,346.26,346.66,363.35,365.85,363.46,373.05,379.27,379.29,374.27,370.57,363.78,369.32,373.39,373.6,367.12,369.51,374.06,378.61,382.17,389.51,400.33,402.1,400.83,390.79,393.2,392.1,388.3,386.11,379.85,370.85,364.32,362.28,367.87,367.01,359.65,378.14,389.3,391.15,397.22,410.42,408.46,410.65,387.68,384.46,382.09,394.63,386.85,389.6,393.58,393.84,393.67,385.63,386.5,392.01,389.25,388.76,395.08,384.43,374.65,374.06,368.85,378.16,374.21,367.05,364.65,358.88,366.18,356.92,353.59,365.8,362.96,371.71,377.28,379.0,382.22,380.22,378.41,379.94,382.82,381.09,378.14,369.75,368.54,370.56,371.72,385.08,385.57,387.61,392.26,395.37,391.59,394.0,393.88,399.94,402.09,406.56,410.81,410.15,411.62,410.95,409.82,408.29,413.04,417.33,416.01,408.76,415.68,408.87,434.4,432.43,435.0,440.58,443.95,443.67,442.63,447.06,451.24,455.96,463.6,479.63,479.88,488.81,495.48,484.01,488.43,488.34,500.72,498.96,502.22,508.07,511.33,520.71,527.55,529.53,530.22,518.53,515.71,516.12,527.11,530.21,536.85,552.51,573.4,569.49,569.5,584.6,589.33,585.96,582.89,579.69,590.32,597.61,600.67,593.12,583.09,601.65,612.05,607.17,616.29,618.77,611.19,609.01,605.68,588.62,564.21,592.97,591.64,571.32,557.25,556.01,544.9,593.26,591.02,586.45,567.95,566.15,569.9,565.85,549.74,553.85,552.59,553.56,554.86,551.16,542.9,537.99,531.09,515.57,515.82,545.87,541.68,554.9,549.8,546.86,556.56,563.27,561.87,545.59,548.8,547.38,555.78,556.03,564.39,555.49,560.35,556.46,555.84,558.37,569.7,571.29,569.66,561.81,566.12,555.1,556.33,558.73,553.43,567.97,576.26,582.96,593.2,589.25,597.04,591.52,587.84,582.46,588.37,590.25,590.28,589.62,597.46,587.71,587.26,584.43,559.19,559.1,569.1,578.7,594.0,590.15,591.11,598.8,605.46,603.87,602.85,606.28,607.23,615.34,616.99,616.15,621.53,633.03,649.67,640.79,653.3,647.21,647.79,659.96,659.1,657.8,648.42,649.76,659.26,654.63,660.53,664.61,647.32,645.22,654.2,667.09,675.19,683.5,685.58,685.76,682.44,683.8,674.71,657.87,649.7,665.46,651.58,644.05,645.92,655.82,651.28,637.4,623.32,621.05,626.0,613.48,615.06,619.99,634.67,629.61,617.92,595.65,619.28,599.09,602.48,595.36,589.94,581.47,582.66,563.38,571.02,569.29,547.5,527.63,536.77,532.62,532.69,526.78,515.73,517.75,555.09,550.36,551.13,560.75,578.44,573.78,571.97,578.27,574.27,575.16,565.02,528.66,536.95,523.22,519.85,531.21,528.86,519.73,500.2,509.07,523.86,516.41,511.92,509.56,510.39,503.35,505.37,500.0,522.16,538.7,531.9,517.09,514.05,515.43,507.37,513.66,510.51,492.31,476.78,496.57,493.22,490.59,495.28,504.34,442.03,431.61,441.37,449.65,448.24,446.92,445.09,434.0,449.23,448.75,462.09,468.76,473.65,461.77,460.9,460.48,454.14,453.97,442.97,440.22,444.91,437.0,443.09,438.75,435.62,424.83]}},\"id\":\"9a2136e7-c83c-4c66-9052-78839457cc0b\",\"type\":\"ColumnDataSource\"},{\"attributes\":{\"data_source\":{\"id\":\"9a2136e7-c83c-4c66-9052-78839457cc0b\",\"type\":\"ColumnDataSource\"},\"glyph\":{\"id\":\"0bedebf4-7260-4553-87e3-f81bccda670d\",\"type\":\"Circle\"},\"hover_glyph\":null,\"nonselection_glyph\":{\"id\":\"8bfc5d66-a3e9-4a22-b930-282231e8873a\",\"type\":\"Circle\"},\"selection_glyph\":null},\"id\":\"e352afdd-af1b-477e-8365-1555b412721c\",\"type\":\"GlyphRenderer\"},{\"attributes\":{\"below\":[{\"id\":\"ebf2b392-04eb-4670-9448-4a1e493d2ed9\",\"type\":\"DatetimeAxis\"}],\"left\":[{\"id\":\"db051805-f80f-4eed-a1ff-580537169bda\",\"type\":\"LinearAxis\"}],\"renderers\":[{\"id\":\"ebf2b392-04eb-4670-9448-4a1e493d2ed9\",\"type\":\"DatetimeAxis\"},{\"id\":\"11e58017-e5ff-49ba-ad27-f5049613e907\",\"type\":\"Grid\"},{\"id\":\"db051805-f80f-4eed-a1ff-580537169bda\",\"type\":\"LinearAxis\"},{\"id\":\"4ca36c24-d1e1-4de8-a702-185276ee7dc5\",\"type\":\"Grid\"},{\"id\":\"ec446ee3-df99-4326-ada7-8ce92354060e\",\"type\":\"BoxAnnotation\"},{\"id\":\"5473de5c-882e-403c-8df3-c67bef7665db\",\"type\":\"GlyphRenderer\"},{\"id\":\"7f0c6f8c-ba63-47e6-9686-30ef2348d434\",\"type\":\"GlyphRenderer\"},{\"id\":\"2703c66b-123e-4a48-8b17-cb7a2e2181ef\",\"type\":\"GlyphRenderer\"},{\"id\":\"e352afdd-af1b-477e-8365-1555b412721c\",\"type\":\"GlyphRenderer\"}],\"title\":{\"id\":\"1498054a-ecfe-4f47-9216-945909b11094\",\"type\":\"Title\"},\"tool_events\":{\"id\":\"1a1b4353-ee63-41c6-b353-87d0321bafcd\",\"type\":\"ToolEvents\"},\"toolbar\":{\"id\":\"024d36c9-8f46-4be7-afb8-be6a3f47eb27\",\"type\":\"Toolbar\"},\"x_range\":{\"id\":\"00d7de94-3017-4fd0-b73f-dbb02fbf928d\",\"type\":\"DataRange1d\"},\"y_range\":{\"id\":\"f5714a04-dcc8-4f85-abde-32ee110a4f17\",\"type\":\"DataRange1d\"}},\"id\":\"f0fa4658-1c2d-4fdb-8287-83477315c49c\",\"subtype\":\"Figure\",\"type\":\"Plot\"},{\"attributes\":{\"plot\":{\"id\":\"f0fa4658-1c2d-4fdb-8287-83477315c49c\",\"subtype\":\"Figure\",\"type\":\"Plot\"}},\"id\":\"67ab6175-a1a0-46c6-b7ae-b65075cb5d80\",\"type\":\"WheelZoomTool\"},{\"attributes\":{\"data_source\":{\"id\":\"5acb7866-c4e6-4799-b17b-cdf53e9f06cc\",\"type\":\"ColumnDataSource\"},\"glyph\":{\"id\":\"b837c37e-d75c-4b46-977d-74558733ca05\",\"type\":\"Line\"},\"hover_glyph\":null,\"nonselection_glyph\":{\"id\":\"682a15ff-2d3d-4aeb-a16a-bbd327bee02d\",\"type\":\"Line\"},\"selection_glyph\":null},\"id\":\"5473de5c-882e-403c-8df3-c67bef7665db\",\"type\":\"GlyphRenderer\"},{\"attributes\":{\"fill_color\":{\"value\":\"white\"},\"line_color\":{\"value\":\"#1f77b4\"},\"x\":{\"field\":\"x\"},\"y\":{\"field\":\"y\"}},\"id\":\"0704753b-08ed-46a1-9fe3-016de1e01998\",\"type\":\"Circle\"},{\"attributes\":{\"callback\":null},\"id\":\"00d7de94-3017-4fd0-b73f-dbb02fbf928d\",\"type\":\"DataRange1d\"},{\"attributes\":{\"plot\":null,\"text\":null},\"id\":\"1498054a-ecfe-4f47-9216-945909b11094\",\"type\":\"Title\"},{\"attributes\":{},\"id\":\"f7569fe1-0071-467c-ab99-4dc027bd4a4f\",\"type\":\"BasicTicker\"},{\"attributes\":{\"axis_label\":\"US Dollars\",\"formatter\":{\"id\":\"98e43394-7010-4bc7-bed6-6ccf0fd8cec6\",\"type\":\"BasicTickFormatter\"},\"plot\":{\"id\":\"f0fa4658-1c2d-4fdb-8287-83477315c49c\",\"subtype\":\"Figure\",\"type\":\"Plot\"},\"ticker\":{\"id\":\"f7569fe1-0071-467c-ab99-4dc027bd4a4f\",\"type\":\"BasicTicker\"}},\"id\":\"db051805-f80f-4eed-a1ff-580537169bda\",\"type\":\"LinearAxis\"},{\"attributes\":{\"plot\":{\"id\":\"f0fa4658-1c2d-4fdb-8287-83477315c49c\",\"subtype\":\"Figure\",\"type\":\"Plot\"}},\"id\":\"2c47a651-3f68-4734-b9ae-72d4a0069011\",\"type\":\"PanTool\"},{\"attributes\":{\"num_minor_ticks\":5},\"id\":\"43e6b10d-1e85-47bd-9c40-dee3f8b98c8d\",\"type\":\"DatetimeTicker\"},{\"attributes\":{\"line_color\":{\"value\":\"red\"},\"x\":{\"field\":\"x\"},\"y\":{\"field\":\"y\"}},\"id\":\"4f4064ef-ec29-4c22-b531-187ec3352068\",\"type\":\"Line\"},{\"attributes\":{\"days\":[1,15]},\"id\":\"968be08d-54a3-4903-b7e1-2bf4d89fb846\",\"type\":\"DaysTicker\"},{\"attributes\":{\"base\":24,\"mantissas\":[1,2,4,6,8,12],\"max_interval\":43200000.0,\"min_interval\":3600000.0,\"num_minor_ticks\":0},\"id\":\"31b9a7a4-712f-4018-b864-9396d53a2230\",\"type\":\"AdaptiveTicker\"}],\"root_ids\":[\"f0fa4658-1c2d-4fdb-8287-83477315c49c\"]},\"title\":\"Bokeh Application\",\"version\":\"0.12.2\"}};\n",
       "            var render_items = [{\"docid\":\"599bc2a6-849d-428d-b03c-535cd7530974\",\"elementid\":\"7ddba15a-3b1e-4f76-9868-4f80e6143ae2\",\"modelid\":\"f0fa4658-1c2d-4fdb-8287-83477315c49c\"}];\n",
       "            \n",
       "            Bokeh.embed.embed_items(docs_json, render_items);\n",
       "        });\n",
       "      },\n",
       "      function(Bokeh) {\n",
       "      }\n",
       "    ];\n",
       "  \n",
       "    function run_inline_js() {\n",
       "      \n",
       "      if ((window.Bokeh !== undefined) || (force === \"1\")) {\n",
       "        for (var i = 0; i < inline_js.length; i++) {\n",
       "          inline_js[i](window.Bokeh);\n",
       "        }if (force === \"1\") {\n",
       "          display_loaded();\n",
       "        }} else if (Date.now() < window._bokeh_timeout) {\n",
       "        setTimeout(run_inline_js, 100);\n",
       "      } else if (!window._bokeh_failed_load) {\n",
       "        console.log(\"Bokeh: BokehJS failed to load within specified timeout.\");\n",
       "        window._bokeh_failed_load = true;\n",
       "      } else if (!force) {\n",
       "        var cell = $(\"#7ddba15a-3b1e-4f76-9868-4f80e6143ae2\").parents('.cell').data().cell;\n",
       "        cell.output_area.append_execute_result(NB_LOAD_WARNING)\n",
       "      }\n",
       "  \n",
       "    }\n",
       "  \n",
       "    if (window._bokeh_is_loading === 0) {\n",
       "      console.log(\"Bokeh: BokehJS loaded, going straight to plotting\");\n",
       "      run_inline_js();\n",
       "    } else {\n",
       "      load_libs(js_urls, function() {\n",
       "        console.log(\"Bokeh: BokehJS plotting callback run at\", now());\n",
       "        run_inline_js();\n",
       "      });\n",
       "    }\n",
       "  }(this));\n",
       "</script>"
      ]
     },
     "metadata": {},
     "output_type": "display_data"
    }
   ],
   "source": [
    "show(p)"
   ]
  },
  {
   "cell_type": "markdown",
   "metadata": {},
   "source": [
    "***\n",
    "## Plotting data from NumPy arrays\n",
    "\n",
    "In the previous exercises, you made plots using data stored in lists. You learned that Bokeh can plot both numbers and datetime objects.\n",
    "\n",
    "In this exercise, you'll generate NumPy arrays using **np.linspace()** and **np.cos()** and plot them using the circle glyph.\n",
    "\n",
    "**np.linspace()** is a function that returns an array of evenly spaced numbers over a specified interval. For example, **np.linspace(0, 10, 5)** returns an array of 5 evenly spaced samples calculated over the interval **[0, 10]**. **np.cos(x)** calculates the element-wise cosine of some array **x**.\n",
    "\n",
    "The figure **p** has been provided for you."
   ]
  },
  {
   "cell_type": "markdown",
   "metadata": {},
   "source": [
    "#### Instructions\n",
    " - Import **numpy** as **np**.\n",
    " - Create an array **x** using **np.linspace()** with 0, 5, and 100 as inputs.\n",
    " - Create an array **y** using **np.cos()** with **x** as input.\n",
    " - Add circles at **x** and **y** using **p.circle()**."
   ]
  },
  {
   "cell_type": "markdown",
   "metadata": {},
   "source": [
    "    # Import numpy as np\n",
    "    import numpy as np\n",
    "\n",
    "    # Create array using np.linspace: x\n",
    "    x = ____\n",
    "\n",
    "    # Create array using np.cos: y\n",
    "    y = ____\n",
    "\n",
    "    # Add circles at x and y\n",
    "\n",
    "\n",
    "    # Specify the name of the output file and show the result\n",
    "    output_file('numpy.html')\n",
    "    show(p)"
   ]
  },
  {
   "cell_type": "code",
   "execution_count": 57,
   "metadata": {
    "collapsed": true
   },
   "outputs": [],
   "source": [
    "x = np.linspace(0, 5, 100)\n",
    "y = np.cos(x)\n"
   ]
  },
  {
   "cell_type": "code",
   "execution_count": 60,
   "metadata": {
    "collapsed": true
   },
   "outputs": [],
   "source": [
    "p = figure( x_axis_label='X', y_axis_label='Y')"
   ]
  },
  {
   "cell_type": "code",
   "execution_count": 61,
   "metadata": {
    "collapsed": false
   },
   "outputs": [
    {
     "data": {
      "text/plain": [
       "<bokeh.models.renderers.GlyphRenderer at 0x1fae5bda8d0>"
      ]
     },
     "execution_count": 61,
     "metadata": {},
     "output_type": "execute_result"
    }
   ],
   "source": [
    "p.circle(x,y)"
   ]
  },
  {
   "cell_type": "code",
   "execution_count": 62,
   "metadata": {
    "collapsed": false
   },
   "outputs": [
    {
     "data": {
      "text/html": [
       "\n",
       "\n",
       "    <div class=\"bk-root\">\n",
       "        <div class=\"plotdiv\" id=\"be7c6cb6-0cac-4771-8277-7c3abb3d0bf9\"></div>\n",
       "    </div>\n",
       "<script type=\"text/javascript\">\n",
       "  \n",
       "  (function(global) {\n",
       "    function now() {\n",
       "      return new Date();\n",
       "    }\n",
       "  \n",
       "    var force = \"\";\n",
       "  \n",
       "    if (typeof (window._bokeh_onload_callbacks) === \"undefined\" || force !== \"\") {\n",
       "      window._bokeh_onload_callbacks = [];\n",
       "      window._bokeh_is_loading = undefined;\n",
       "    }\n",
       "  \n",
       "  \n",
       "    \n",
       "    if (typeof (window._bokeh_timeout) === \"undefined\" || force !== \"\") {\n",
       "      window._bokeh_timeout = Date.now() + 0;\n",
       "      window._bokeh_failed_load = false;\n",
       "    }\n",
       "  \n",
       "    var NB_LOAD_WARNING = {'data': {'text/html':\n",
       "       \"<div style='background-color: #fdd'>\\n\"+\n",
       "       \"<p>\\n\"+\n",
       "       \"BokehJS does not appear to have successfully loaded. If loading BokehJS from CDN, this \\n\"+\n",
       "       \"may be due to a slow or bad network connection. Possible fixes:\\n\"+\n",
       "       \"</p>\\n\"+\n",
       "       \"<ul>\\n\"+\n",
       "       \"<li>re-rerun `output_notebook()` to attempt to load from CDN again, or</li>\\n\"+\n",
       "       \"<li>use INLINE resources instead, as so:</li>\\n\"+\n",
       "       \"</ul>\\n\"+\n",
       "       \"<code>\\n\"+\n",
       "       \"from bokeh.resources import INLINE\\n\"+\n",
       "       \"output_notebook(resources=INLINE)\\n\"+\n",
       "       \"</code>\\n\"+\n",
       "       \"</div>\"}};\n",
       "  \n",
       "    function display_loaded() {\n",
       "      if (window.Bokeh !== undefined) {\n",
       "        Bokeh.$(\"#be7c6cb6-0cac-4771-8277-7c3abb3d0bf9\").text(\"BokehJS successfully loaded.\");\n",
       "      } else if (Date.now() < window._bokeh_timeout) {\n",
       "        setTimeout(display_loaded, 100)\n",
       "      }\n",
       "    }\n",
       "  \n",
       "    function run_callbacks() {\n",
       "      window._bokeh_onload_callbacks.forEach(function(callback) { callback() });\n",
       "      delete window._bokeh_onload_callbacks\n",
       "      console.info(\"Bokeh: all callbacks have finished\");\n",
       "    }\n",
       "  \n",
       "    function load_libs(js_urls, callback) {\n",
       "      window._bokeh_onload_callbacks.push(callback);\n",
       "      if (window._bokeh_is_loading > 0) {\n",
       "        console.log(\"Bokeh: BokehJS is being loaded, scheduling callback at\", now());\n",
       "        return null;\n",
       "      }\n",
       "      if (js_urls == null || js_urls.length === 0) {\n",
       "        run_callbacks();\n",
       "        return null;\n",
       "      }\n",
       "      console.log(\"Bokeh: BokehJS not loaded, scheduling load and callback at\", now());\n",
       "      window._bokeh_is_loading = js_urls.length;\n",
       "      for (var i = 0; i < js_urls.length; i++) {\n",
       "        var url = js_urls[i];\n",
       "        var s = document.createElement('script');\n",
       "        s.src = url;\n",
       "        s.async = false;\n",
       "        s.onreadystatechange = s.onload = function() {\n",
       "          window._bokeh_is_loading--;\n",
       "          if (window._bokeh_is_loading === 0) {\n",
       "            console.log(\"Bokeh: all BokehJS libraries loaded\");\n",
       "            run_callbacks()\n",
       "          }\n",
       "        };\n",
       "        s.onerror = function() {\n",
       "          console.warn(\"failed to load library \" + url);\n",
       "        };\n",
       "        console.log(\"Bokeh: injecting script tag for BokehJS library: \", url);\n",
       "        document.getElementsByTagName(\"head\")[0].appendChild(s);\n",
       "      }\n",
       "    };var element = document.getElementById(\"be7c6cb6-0cac-4771-8277-7c3abb3d0bf9\");\n",
       "    if (element == null) {\n",
       "      console.log(\"Bokeh: ERROR: autoload.js configured with elementid 'be7c6cb6-0cac-4771-8277-7c3abb3d0bf9' but no matching script tag was found. \")\n",
       "      return false;\n",
       "    }\n",
       "  \n",
       "    var js_urls = [];\n",
       "  \n",
       "    var inline_js = [\n",
       "      function(Bokeh) {\n",
       "        Bokeh.$(function() {\n",
       "            var docs_json = {\"1428292d-c126-4abd-882d-ce7d1350c61b\":{\"roots\":{\"references\":[{\"attributes\":{\"callback\":null},\"id\":\"87db4614-4fae-4e71-963b-ac8c112b4ff7\",\"type\":\"DataRange1d\"},{\"attributes\":{},\"id\":\"e0f4ea48-8c4b-4fd6-9eea-c54fb5c71121\",\"type\":\"ToolEvents\"},{\"attributes\":{},\"id\":\"6d2095e3-7b2b-4d74-b58b-aecf2fb268f1\",\"type\":\"BasicTickFormatter\"},{\"attributes\":{\"callback\":null,\"column_names\":[\"x\",\"y\"],\"data\":{\"x\":[0.0,0.050505050505050504,0.10101010101010101,0.15151515151515152,0.20202020202020202,0.25252525252525254,0.30303030303030304,0.35353535353535354,0.40404040404040403,0.45454545454545453,0.5050505050505051,0.5555555555555556,0.6060606060606061,0.6565656565656566,0.7070707070707071,0.7575757575757576,0.8080808080808081,0.8585858585858586,0.9090909090909091,0.9595959595959596,1.0101010101010102,1.0606060606060606,1.1111111111111112,1.1616161616161615,1.2121212121212122,1.2626262626262625,1.3131313131313131,1.3636363636363635,1.4141414141414141,1.4646464646464645,1.5151515151515151,1.5656565656565655,1.6161616161616161,1.6666666666666667,1.7171717171717171,1.7676767676767677,1.8181818181818181,1.8686868686868687,1.9191919191919191,1.9696969696969697,2.0202020202020203,2.0707070707070705,2.121212121212121,2.1717171717171717,2.2222222222222223,2.2727272727272725,2.323232323232323,2.3737373737373737,2.4242424242424243,2.474747474747475,2.525252525252525,2.5757575757575757,2.6262626262626263,2.676767676767677,2.727272727272727,2.7777777777777777,2.8282828282828283,2.878787878787879,2.929292929292929,2.9797979797979797,3.0303030303030303,3.080808080808081,3.131313131313131,3.1818181818181817,3.2323232323232323,3.282828282828283,3.3333333333333335,3.3838383838383836,3.4343434343434343,3.484848484848485,3.5353535353535355,3.5858585858585856,3.6363636363636362,3.686868686868687,3.7373737373737375,3.7878787878787876,3.8383838383838382,3.888888888888889,3.9393939393939394,3.9898989898989896,4.040404040404041,4.090909090909091,4.141414141414141,4.191919191919192,4.242424242424242,4.292929292929293,4.343434343434343,4.393939393939394,4.444444444444445,4.494949494949495,4.545454545454545,4.595959595959596,4.646464646464646,4.696969696969697,4.747474747474747,4.797979797979798,4.848484848484849,4.898989898989899,4.94949494949495,5.0],\"y\":[1.0,0.9987248910127429,0.9949028158568303,0.9885435216570246,0.9796632259996998,0.9682845755744598,0.9544365884201449,0.9381545799225068,0.9194800727522776,0.8984606909733078,0.8751500385908233,0.8496075628495278,0.82189840263017,0.7920932223312003,0.7602680316591506,0.7265039917873152,0.6908872083770674,0.6535085119896544,0.6144632264484674,0.5738509257425134,0.5317751800910392,0.4883432918168964,0.4436660217022285,0.39785730652433454,0.3510339684920502,0.3033154173236526,0.25482334572604864,0.2056814190518485,0.15601495992575853,0.10595062864457298,0.05561610016580674,0.005139738508725487,-0.04534973060188524,-0.09572354801437566,-0.1458532495141353,-0.19561099343534294,-0.24486988668507892,-0.2935043083483736,-0.3413902300489206,-0.3884055322484736,-0.43443031567828566,-0.4793472071083807,-0.5230416586748752,-0.5654022400019971,-0.6063209223738354,-0.6456933542311115,-0.6834191272904034,-0.7194020326071524,-0.7535503059294446,-0.7857768617168548,-0.815999515227557,-0.8441411921073312,-0.8701301249459654,-0.893900036299796,-0.9153903077136357,-0.9345461343110483,-0.9513186645587279,-0.9656651248485589,-0.9775489285796396,-0.9869397694620894,-0.993813698804694,-0.9981531865892882,-0.9999471661761239,-0.9991910625262126,-0.9958868038686729,-0.9900428167833257,-0.981674004711079,-0.9708017099469048,-0.9574536592123347,-0.941663892946277,-0.9234726784944765,-0.9029264074190066,-0.8800774771896732,-0.8549841575590454,-0.8277104419618857,-0.7983258843179418,-0.7669054216542901,-0.7335291829995831,-0.6982822850375598,-0.6612546150409493,-0.6225406016393301,-0.582238974005546,-0.5404525100747903,-0.49728777443846983,-0.45285484658127084,-0.4072670401544736,-0.3606406140014481,-0.3130944756722562,-0.2647498781834829,-0.21573011079661653,-0.16616018460355267,-0.11616651372106333,-0.06587659290724678,-0.015418672422097516,0.03507856903860484,0.0854863525020247,0.13567612713271912,0.18551989806528635,0.23489055281917826,0.28366218546322625]}},\"id\":\"efa36054-4b43-4337-a6b6-70bfbeb08644\",\"type\":\"ColumnDataSource\"},{\"attributes\":{\"plot\":{\"id\":\"278a7969-1cf0-40e0-8e83-e9cf2a69b6b9\",\"subtype\":\"Figure\",\"type\":\"Plot\"},\"ticker\":{\"id\":\"2e3a727a-eb20-4c17-932b-f9cd18bc25ab\",\"type\":\"BasicTicker\"}},\"id\":\"bcb89dfa-5388-46ac-9fee-783388d54544\",\"type\":\"Grid\"},{\"attributes\":{\"plot\":{\"id\":\"278a7969-1cf0-40e0-8e83-e9cf2a69b6b9\",\"subtype\":\"Figure\",\"type\":\"Plot\"}},\"id\":\"37172e37-53a8-41c2-a9a6-9ca02709e7f6\",\"type\":\"PanTool\"},{\"attributes\":{\"plot\":{\"id\":\"278a7969-1cf0-40e0-8e83-e9cf2a69b6b9\",\"subtype\":\"Figure\",\"type\":\"Plot\"}},\"id\":\"5197af78-481d-4092-8ddf-920d26dc92e3\",\"type\":\"WheelZoomTool\"},{\"attributes\":{\"fill_alpha\":{\"value\":0.1},\"fill_color\":{\"value\":\"#1f77b4\"},\"line_alpha\":{\"value\":0.1},\"line_color\":{\"value\":\"#1f77b4\"},\"x\":{\"field\":\"x\"},\"y\":{\"field\":\"y\"}},\"id\":\"dc4e4081-c0f9-441c-ab0b-2a21c4156e76\",\"type\":\"Circle\"},{\"attributes\":{\"dimension\":1,\"plot\":{\"id\":\"278a7969-1cf0-40e0-8e83-e9cf2a69b6b9\",\"subtype\":\"Figure\",\"type\":\"Plot\"},\"ticker\":{\"id\":\"e6a04828-94e3-42fe-a123-26071d070051\",\"type\":\"BasicTicker\"}},\"id\":\"2da6626a-ab6c-4bbe-96ab-3da9e56d6c7b\",\"type\":\"Grid\"},{\"attributes\":{\"bottom_units\":\"screen\",\"fill_alpha\":{\"value\":0.5},\"fill_color\":{\"value\":\"lightgrey\"},\"left_units\":\"screen\",\"level\":\"overlay\",\"line_alpha\":{\"value\":1.0},\"line_color\":{\"value\":\"black\"},\"line_dash\":[4,4],\"line_width\":{\"value\":2},\"plot\":null,\"render_mode\":\"css\",\"right_units\":\"screen\",\"top_units\":\"screen\"},\"id\":\"8e7d8dc4-0e4c-4149-98eb-ad0384b72c7c\",\"type\":\"BoxAnnotation\"},{\"attributes\":{\"axis_label\":\"X\",\"formatter\":{\"id\":\"018036ed-d0a8-47b9-b08d-48089aee65af\",\"type\":\"BasicTickFormatter\"},\"plot\":{\"id\":\"278a7969-1cf0-40e0-8e83-e9cf2a69b6b9\",\"subtype\":\"Figure\",\"type\":\"Plot\"},\"ticker\":{\"id\":\"2e3a727a-eb20-4c17-932b-f9cd18bc25ab\",\"type\":\"BasicTicker\"}},\"id\":\"1e5ac05a-e54d-4d61-af08-e766ab03d5d6\",\"type\":\"LinearAxis\"},{\"attributes\":{\"plot\":null,\"text\":null},\"id\":\"375a2078-5d88-477d-aa3e-2d37e640b483\",\"type\":\"Title\"},{\"attributes\":{\"below\":[{\"id\":\"1e5ac05a-e54d-4d61-af08-e766ab03d5d6\",\"type\":\"LinearAxis\"}],\"left\":[{\"id\":\"8702b5d2-3fc1-4360-b283-c5eb5b78b7cb\",\"type\":\"LinearAxis\"}],\"renderers\":[{\"id\":\"1e5ac05a-e54d-4d61-af08-e766ab03d5d6\",\"type\":\"LinearAxis\"},{\"id\":\"bcb89dfa-5388-46ac-9fee-783388d54544\",\"type\":\"Grid\"},{\"id\":\"8702b5d2-3fc1-4360-b283-c5eb5b78b7cb\",\"type\":\"LinearAxis\"},{\"id\":\"2da6626a-ab6c-4bbe-96ab-3da9e56d6c7b\",\"type\":\"Grid\"},{\"id\":\"8e7d8dc4-0e4c-4149-98eb-ad0384b72c7c\",\"type\":\"BoxAnnotation\"},{\"id\":\"d2a57d59-ff04-43ca-bc90-668a39a222be\",\"type\":\"GlyphRenderer\"}],\"title\":{\"id\":\"375a2078-5d88-477d-aa3e-2d37e640b483\",\"type\":\"Title\"},\"tool_events\":{\"id\":\"e0f4ea48-8c4b-4fd6-9eea-c54fb5c71121\",\"type\":\"ToolEvents\"},\"toolbar\":{\"id\":\"88709772-eb35-41c2-ad4c-924535b4cc4b\",\"type\":\"Toolbar\"},\"x_range\":{\"id\":\"43c7d41b-1ad8-4e6a-8f3e-bd2802a60573\",\"type\":\"DataRange1d\"},\"y_range\":{\"id\":\"87db4614-4fae-4e71-963b-ac8c112b4ff7\",\"type\":\"DataRange1d\"}},\"id\":\"278a7969-1cf0-40e0-8e83-e9cf2a69b6b9\",\"subtype\":\"Figure\",\"type\":\"Plot\"},{\"attributes\":{},\"id\":\"e6a04828-94e3-42fe-a123-26071d070051\",\"type\":\"BasicTicker\"},{\"attributes\":{\"data_source\":{\"id\":\"efa36054-4b43-4337-a6b6-70bfbeb08644\",\"type\":\"ColumnDataSource\"},\"glyph\":{\"id\":\"a887aa98-cbb8-468c-872c-74ea6f117f22\",\"type\":\"Circle\"},\"hover_glyph\":null,\"nonselection_glyph\":{\"id\":\"dc4e4081-c0f9-441c-ab0b-2a21c4156e76\",\"type\":\"Circle\"},\"selection_glyph\":null},\"id\":\"d2a57d59-ff04-43ca-bc90-668a39a222be\",\"type\":\"GlyphRenderer\"},{\"attributes\":{},\"id\":\"2e3a727a-eb20-4c17-932b-f9cd18bc25ab\",\"type\":\"BasicTicker\"},{\"attributes\":{\"plot\":{\"id\":\"278a7969-1cf0-40e0-8e83-e9cf2a69b6b9\",\"subtype\":\"Figure\",\"type\":\"Plot\"}},\"id\":\"e5a51bba-81f8-47ad-81a2-ea19979b5987\",\"type\":\"HelpTool\"},{\"attributes\":{\"fill_color\":{\"value\":\"#1f77b4\"},\"line_color\":{\"value\":\"#1f77b4\"},\"x\":{\"field\":\"x\"},\"y\":{\"field\":\"y\"}},\"id\":\"a887aa98-cbb8-468c-872c-74ea6f117f22\",\"type\":\"Circle\"},{\"attributes\":{\"plot\":{\"id\":\"278a7969-1cf0-40e0-8e83-e9cf2a69b6b9\",\"subtype\":\"Figure\",\"type\":\"Plot\"}},\"id\":\"3185a642-5e0c-46b1-9619-184fca6e6d7a\",\"type\":\"ResetTool\"},{\"attributes\":{\"overlay\":{\"id\":\"8e7d8dc4-0e4c-4149-98eb-ad0384b72c7c\",\"type\":\"BoxAnnotation\"},\"plot\":{\"id\":\"278a7969-1cf0-40e0-8e83-e9cf2a69b6b9\",\"subtype\":\"Figure\",\"type\":\"Plot\"}},\"id\":\"2aeb9586-f350-4b80-97d8-9cee96fdc44f\",\"type\":\"BoxZoomTool\"},{\"attributes\":{},\"id\":\"018036ed-d0a8-47b9-b08d-48089aee65af\",\"type\":\"BasicTickFormatter\"},{\"attributes\":{\"callback\":null},\"id\":\"43c7d41b-1ad8-4e6a-8f3e-bd2802a60573\",\"type\":\"DataRange1d\"},{\"attributes\":{\"active_drag\":\"auto\",\"active_scroll\":\"auto\",\"active_tap\":\"auto\",\"tools\":[{\"id\":\"37172e37-53a8-41c2-a9a6-9ca02709e7f6\",\"type\":\"PanTool\"},{\"id\":\"5197af78-481d-4092-8ddf-920d26dc92e3\",\"type\":\"WheelZoomTool\"},{\"id\":\"2aeb9586-f350-4b80-97d8-9cee96fdc44f\",\"type\":\"BoxZoomTool\"},{\"id\":\"6f61bd5a-d65f-493a-bfb7-6d9d56d5da1c\",\"type\":\"SaveTool\"},{\"id\":\"3185a642-5e0c-46b1-9619-184fca6e6d7a\",\"type\":\"ResetTool\"},{\"id\":\"e5a51bba-81f8-47ad-81a2-ea19979b5987\",\"type\":\"HelpTool\"}]},\"id\":\"88709772-eb35-41c2-ad4c-924535b4cc4b\",\"type\":\"Toolbar\"},{\"attributes\":{\"plot\":{\"id\":\"278a7969-1cf0-40e0-8e83-e9cf2a69b6b9\",\"subtype\":\"Figure\",\"type\":\"Plot\"}},\"id\":\"6f61bd5a-d65f-493a-bfb7-6d9d56d5da1c\",\"type\":\"SaveTool\"},{\"attributes\":{\"axis_label\":\"Y\",\"formatter\":{\"id\":\"6d2095e3-7b2b-4d74-b58b-aecf2fb268f1\",\"type\":\"BasicTickFormatter\"},\"plot\":{\"id\":\"278a7969-1cf0-40e0-8e83-e9cf2a69b6b9\",\"subtype\":\"Figure\",\"type\":\"Plot\"},\"ticker\":{\"id\":\"e6a04828-94e3-42fe-a123-26071d070051\",\"type\":\"BasicTicker\"}},\"id\":\"8702b5d2-3fc1-4360-b283-c5eb5b78b7cb\",\"type\":\"LinearAxis\"}],\"root_ids\":[\"278a7969-1cf0-40e0-8e83-e9cf2a69b6b9\"]},\"title\":\"Bokeh Application\",\"version\":\"0.12.2\"}};\n",
       "            var render_items = [{\"docid\":\"1428292d-c126-4abd-882d-ce7d1350c61b\",\"elementid\":\"be7c6cb6-0cac-4771-8277-7c3abb3d0bf9\",\"modelid\":\"278a7969-1cf0-40e0-8e83-e9cf2a69b6b9\"}];\n",
       "            \n",
       "            Bokeh.embed.embed_items(docs_json, render_items);\n",
       "        });\n",
       "      },\n",
       "      function(Bokeh) {\n",
       "      }\n",
       "    ];\n",
       "  \n",
       "    function run_inline_js() {\n",
       "      \n",
       "      if ((window.Bokeh !== undefined) || (force === \"1\")) {\n",
       "        for (var i = 0; i < inline_js.length; i++) {\n",
       "          inline_js[i](window.Bokeh);\n",
       "        }if (force === \"1\") {\n",
       "          display_loaded();\n",
       "        }} else if (Date.now() < window._bokeh_timeout) {\n",
       "        setTimeout(run_inline_js, 100);\n",
       "      } else if (!window._bokeh_failed_load) {\n",
       "        console.log(\"Bokeh: BokehJS failed to load within specified timeout.\");\n",
       "        window._bokeh_failed_load = true;\n",
       "      } else if (!force) {\n",
       "        var cell = $(\"#be7c6cb6-0cac-4771-8277-7c3abb3d0bf9\").parents('.cell').data().cell;\n",
       "        cell.output_area.append_execute_result(NB_LOAD_WARNING)\n",
       "      }\n",
       "  \n",
       "    }\n",
       "  \n",
       "    if (window._bokeh_is_loading === 0) {\n",
       "      console.log(\"Bokeh: BokehJS loaded, going straight to plotting\");\n",
       "      run_inline_js();\n",
       "    } else {\n",
       "      load_libs(js_urls, function() {\n",
       "        console.log(\"Bokeh: BokehJS plotting callback run at\", now());\n",
       "        run_inline_js();\n",
       "      });\n",
       "    }\n",
       "  }(this));\n",
       "</script>"
      ]
     },
     "metadata": {},
     "output_type": "display_data"
    }
   ],
   "source": [
    "show(p)"
   ]
  },
  {
   "cell_type": "markdown",
   "metadata": {},
   "source": [
    "***\n",
    "## Plotting data from Pandas DataFrames\n",
    "\n",
    "You can create Bokeh plots from Pandas DataFrames by passing column selections to the glyph functions.\n",
    "\n",
    "Bokeh can plot floating point numbers, integers, and datetime data types. In this example, you will read a CSV file containing information on 392 automobiles manufactured in the US, Europe and Asia from 1970 to 1982.\n",
    "\n",
    "The CSV file is provided for you as **'auto.csv'**.\n",
    "\n",
    "Your job is to plot miles-per-gallon (**mpg**) vs horsepower (**hp**) by passing Pandas column selections into the **p.circle()** function. Additionally, each glyph will be colored according to values in the **color** column"
   ]
  },
  {
   "cell_type": "markdown",
   "metadata": {},
   "source": [
    "#### Instructions\n",
    " - Import **pandas** as **pd**.\n",
    " - Use the **read_csv()** function of pandas to read in **'auto.csv'** and store it in the DataFrame **df**.\n",
    " - Import **figure** from **bokeh.plotting**.\n",
    " - Use the **figure()** function to create a figure **p** with the x-axis labeled **'HP'** and the y-axis labeled **'MPG'**.\n",
    " - Plot **mpg** (on the y-axis) vs hp (on the x-axis) by **color** using **p.circle()**. Note that the x-axis should be specified before the y-axis inside **p.circle()**. You will need to use Pandas DataFrame indexing to pass in the columns. For example, to access the **color** column, you can use **df['color']**, and then pass it in as an argument to the **color** parameter of **p.circle()**. Also specify a **size** of **10**."
   ]
  },
  {
   "cell_type": "markdown",
   "metadata": {},
   "source": [
    "    # Import pandas as pd\n",
    "\n",
    "\n",
    "    # Read in the CSV file: df\n",
    "    df = ____\n",
    "\n",
    "    # Import figure from bokeh.plotting\n",
    "\n",
    "\n",
    "    # Create the figure: p\n",
    "    p = ____(____='HP', ____='MPG')\n",
    "\n",
    "    # Plot mpg vs hp by color\n"
   ]
  },
  {
   "cell_type": "code",
   "execution_count": 85,
   "metadata": {
    "collapsed": false
   },
   "outputs": [],
   "source": [
    "from bokeh.sampledata.autompg import autompg\n",
    "from bokeh.sampledata.autompg2 import autompg2"
   ]
  },
  {
   "cell_type": "code",
   "execution_count": 86,
   "metadata": {
    "collapsed": false
   },
   "outputs": [
    {
     "data": {
      "text/plain": [
       "Index(['Unnamed: 0', 'manufacturer', 'model', 'displ', 'year', 'cyl', 'trans',\n",
       "       'drv', 'cty', 'hwy', 'fl', 'class'],\n",
       "      dtype='object')"
      ]
     },
     "execution_count": 86,
     "metadata": {},
     "output_type": "execute_result"
    }
   ],
   "source": [
    "autompg2.columns"
   ]
  },
  {
   "cell_type": "code",
   "execution_count": 65,
   "metadata": {
    "collapsed": false
   },
   "outputs": [],
   "source": [
    "p = figure(x_axis_label='HP', y_axis_label='MPG')"
   ]
  },
  {
   "cell_type": "code",
   "execution_count": 87,
   "metadata": {
    "collapsed": false
   },
   "outputs": [
    {
     "data": {
      "text/plain": [
       "<bokeh.models.renderers.GlyphRenderer at 0x1fae5be4278>"
      ]
     },
     "execution_count": 87,
     "metadata": {},
     "output_type": "execute_result"
    }
   ],
   "source": [
    "p.circle(autompg['hp'], autompg['mpg'])"
   ]
  },
  {
   "cell_type": "code",
   "execution_count": 88,
   "metadata": {
    "collapsed": false
   },
   "outputs": [
    {
     "data": {
      "text/html": [
       "\n",
       "\n",
       "    <div class=\"bk-root\">\n",
       "        <div class=\"plotdiv\" id=\"49653fc5-d906-41a2-b159-63f3944d4b76\"></div>\n",
       "    </div>\n",
       "<script type=\"text/javascript\">\n",
       "  \n",
       "  (function(global) {\n",
       "    function now() {\n",
       "      return new Date();\n",
       "    }\n",
       "  \n",
       "    var force = \"\";\n",
       "  \n",
       "    if (typeof (window._bokeh_onload_callbacks) === \"undefined\" || force !== \"\") {\n",
       "      window._bokeh_onload_callbacks = [];\n",
       "      window._bokeh_is_loading = undefined;\n",
       "    }\n",
       "  \n",
       "  \n",
       "    \n",
       "    if (typeof (window._bokeh_timeout) === \"undefined\" || force !== \"\") {\n",
       "      window._bokeh_timeout = Date.now() + 0;\n",
       "      window._bokeh_failed_load = false;\n",
       "    }\n",
       "  \n",
       "    var NB_LOAD_WARNING = {'data': {'text/html':\n",
       "       \"<div style='background-color: #fdd'>\\n\"+\n",
       "       \"<p>\\n\"+\n",
       "       \"BokehJS does not appear to have successfully loaded. If loading BokehJS from CDN, this \\n\"+\n",
       "       \"may be due to a slow or bad network connection. Possible fixes:\\n\"+\n",
       "       \"</p>\\n\"+\n",
       "       \"<ul>\\n\"+\n",
       "       \"<li>re-rerun `output_notebook()` to attempt to load from CDN again, or</li>\\n\"+\n",
       "       \"<li>use INLINE resources instead, as so:</li>\\n\"+\n",
       "       \"</ul>\\n\"+\n",
       "       \"<code>\\n\"+\n",
       "       \"from bokeh.resources import INLINE\\n\"+\n",
       "       \"output_notebook(resources=INLINE)\\n\"+\n",
       "       \"</code>\\n\"+\n",
       "       \"</div>\"}};\n",
       "  \n",
       "    function display_loaded() {\n",
       "      if (window.Bokeh !== undefined) {\n",
       "        Bokeh.$(\"#49653fc5-d906-41a2-b159-63f3944d4b76\").text(\"BokehJS successfully loaded.\");\n",
       "      } else if (Date.now() < window._bokeh_timeout) {\n",
       "        setTimeout(display_loaded, 100)\n",
       "      }\n",
       "    }\n",
       "  \n",
       "    function run_callbacks() {\n",
       "      window._bokeh_onload_callbacks.forEach(function(callback) { callback() });\n",
       "      delete window._bokeh_onload_callbacks\n",
       "      console.info(\"Bokeh: all callbacks have finished\");\n",
       "    }\n",
       "  \n",
       "    function load_libs(js_urls, callback) {\n",
       "      window._bokeh_onload_callbacks.push(callback);\n",
       "      if (window._bokeh_is_loading > 0) {\n",
       "        console.log(\"Bokeh: BokehJS is being loaded, scheduling callback at\", now());\n",
       "        return null;\n",
       "      }\n",
       "      if (js_urls == null || js_urls.length === 0) {\n",
       "        run_callbacks();\n",
       "        return null;\n",
       "      }\n",
       "      console.log(\"Bokeh: BokehJS not loaded, scheduling load and callback at\", now());\n",
       "      window._bokeh_is_loading = js_urls.length;\n",
       "      for (var i = 0; i < js_urls.length; i++) {\n",
       "        var url = js_urls[i];\n",
       "        var s = document.createElement('script');\n",
       "        s.src = url;\n",
       "        s.async = false;\n",
       "        s.onreadystatechange = s.onload = function() {\n",
       "          window._bokeh_is_loading--;\n",
       "          if (window._bokeh_is_loading === 0) {\n",
       "            console.log(\"Bokeh: all BokehJS libraries loaded\");\n",
       "            run_callbacks()\n",
       "          }\n",
       "        };\n",
       "        s.onerror = function() {\n",
       "          console.warn(\"failed to load library \" + url);\n",
       "        };\n",
       "        console.log(\"Bokeh: injecting script tag for BokehJS library: \", url);\n",
       "        document.getElementsByTagName(\"head\")[0].appendChild(s);\n",
       "      }\n",
       "    };var element = document.getElementById(\"49653fc5-d906-41a2-b159-63f3944d4b76\");\n",
       "    if (element == null) {\n",
       "      console.log(\"Bokeh: ERROR: autoload.js configured with elementid '49653fc5-d906-41a2-b159-63f3944d4b76' but no matching script tag was found. \")\n",
       "      return false;\n",
       "    }\n",
       "  \n",
       "    var js_urls = [];\n",
       "  \n",
       "    var inline_js = [\n",
       "      function(Bokeh) {\n",
       "        Bokeh.$(function() {\n",
       "            var docs_json = {\"49e781b9-a1fd-44fa-af6a-6a724b02c473\":{\"roots\":{\"references\":[{\"attributes\":{\"plot\":{\"id\":\"a8c28a59-ca75-4131-98b7-37a6ad321f5c\",\"subtype\":\"Figure\",\"type\":\"Plot\"}},\"id\":\"bbef4534-8eda-47b2-a78b-31cf12b9add2\",\"type\":\"WheelZoomTool\"},{\"attributes\":{\"fill_alpha\":{\"value\":0.1},\"fill_color\":{\"value\":\"#1f77b4\"},\"line_alpha\":{\"value\":0.1},\"line_color\":{\"value\":\"#1f77b4\"},\"x\":{\"field\":\"x\"},\"y\":{\"field\":\"y\"}},\"id\":\"1c8aa315-2327-4ffe-86f6-995706d2f106\",\"type\":\"Circle\"},{\"attributes\":{},\"id\":\"fd65be64-d1e9-47d0-8613-a69dedd82e4d\",\"type\":\"BasicTicker\"},{\"attributes\":{\"below\":[{\"id\":\"7a196324-69e7-49b6-89e9-dbb21e1fe958\",\"type\":\"LinearAxis\"}],\"left\":[{\"id\":\"3ad6757c-3d9d-4418-a0a9-8aef0d486456\",\"type\":\"LinearAxis\"}],\"renderers\":[{\"id\":\"7a196324-69e7-49b6-89e9-dbb21e1fe958\",\"type\":\"LinearAxis\"},{\"id\":\"8120dbf3-a618-4b4f-9a92-115d31addcc0\",\"type\":\"Grid\"},{\"id\":\"3ad6757c-3d9d-4418-a0a9-8aef0d486456\",\"type\":\"LinearAxis\"},{\"id\":\"94606efd-705e-48ec-8499-f52646abc158\",\"type\":\"Grid\"},{\"id\":\"b8ff922c-f5c8-46a8-b552-2cb04a151f83\",\"type\":\"BoxAnnotation\"},{\"id\":\"5c8567fe-ba92-49e3-8568-ae129dddc308\",\"type\":\"GlyphRenderer\"},{\"id\":\"df4ce6c8-5e1e-42f5-b07d-ae52ef2d1739\",\"type\":\"GlyphRenderer\"}],\"title\":{\"id\":\"188cf78b-658f-481b-96e8-82bbe9907d1b\",\"type\":\"Title\"},\"tool_events\":{\"id\":\"db28f7d4-7c92-4048-a39a-b9a9390248a6\",\"type\":\"ToolEvents\"},\"toolbar\":{\"id\":\"fa7ea7b5-8083-4b6b-9420-23f636dbc927\",\"type\":\"Toolbar\"},\"x_range\":{\"id\":\"34c646eb-d1e9-4b51-8440-33bd1b5d5f5f\",\"type\":\"DataRange1d\"},\"y_range\":{\"id\":\"6f9e81bb-07b6-4230-a319-d11838c8f12c\",\"type\":\"DataRange1d\"}},\"id\":\"a8c28a59-ca75-4131-98b7-37a6ad321f5c\",\"subtype\":\"Figure\",\"type\":\"Plot\"},{\"attributes\":{},\"id\":\"a1d6c5ba-74b6-4766-b49e-794dd9b07707\",\"type\":\"BasicTicker\"},{\"attributes\":{\"overlay\":{\"id\":\"b8ff922c-f5c8-46a8-b552-2cb04a151f83\",\"type\":\"BoxAnnotation\"},\"plot\":{\"id\":\"a8c28a59-ca75-4131-98b7-37a6ad321f5c\",\"subtype\":\"Figure\",\"type\":\"Plot\"}},\"id\":\"feac0ab5-6d3b-4b7c-bcfa-8a0bd71b22c7\",\"type\":\"BoxZoomTool\"},{\"attributes\":{\"data_source\":{\"id\":\"72bc458b-b624-4779-82e6-8ee3ae6794bd\",\"type\":\"ColumnDataSource\"},\"glyph\":{\"id\":\"1a61a668-250f-44ae-b09c-c091d65ae4c4\",\"type\":\"Circle\"},\"hover_glyph\":null,\"nonselection_glyph\":{\"id\":\"1307ff4d-0c76-4cc0-b503-259834d8dc39\",\"type\":\"Circle\"},\"selection_glyph\":null},\"id\":\"df4ce6c8-5e1e-42f5-b07d-ae52ef2d1739\",\"type\":\"GlyphRenderer\"},{\"attributes\":{\"axis_label\":\"HP\",\"formatter\":{\"id\":\"7ceeaf95-3b72-4375-b7a1-72c3c1e552dd\",\"type\":\"BasicTickFormatter\"},\"plot\":{\"id\":\"a8c28a59-ca75-4131-98b7-37a6ad321f5c\",\"subtype\":\"Figure\",\"type\":\"Plot\"},\"ticker\":{\"id\":\"a1d6c5ba-74b6-4766-b49e-794dd9b07707\",\"type\":\"BasicTicker\"}},\"id\":\"7a196324-69e7-49b6-89e9-dbb21e1fe958\",\"type\":\"LinearAxis\"},{\"attributes\":{\"plot\":{\"id\":\"a8c28a59-ca75-4131-98b7-37a6ad321f5c\",\"subtype\":\"Figure\",\"type\":\"Plot\"},\"ticker\":{\"id\":\"a1d6c5ba-74b6-4766-b49e-794dd9b07707\",\"type\":\"BasicTicker\"}},\"id\":\"8120dbf3-a618-4b4f-9a92-115d31addcc0\",\"type\":\"Grid\"},{\"attributes\":{\"callback\":null,\"column_names\":[\"x\",\"y\"],\"data\":{\"x\":[130,165,150,150,140,198,220,215,225,190,170,160,150,225,95,95,97,85,88,46,87,90,95,113,90,215,200,210,193,88,90,95,100,105,100,88,100,165,175,153,150,180,170,175,110,72,100,88,86,90,70,76,65,69,60,70,95,80,54,90,86,165,175,150,153,150,208,155,160,190,97,150,130,140,150,112,76,87,69,86,92,97,80,88,175,150,145,137,150,198,150,158,150,215,225,175,105,100,100,88,95,46,150,167,170,180,100,88,72,94,90,85,107,90,145,230,49,75,91,112,150,110,122,180,95,100,100,67,80,65,75,100,110,105,140,150,150,140,150,83,67,78,52,61,75,75,75,97,93,67,95,105,72,72,170,145,150,148,110,105,110,95,110,110,129,75,83,100,78,96,71,97,97,70,90,95,88,98,115,53,86,81,92,79,83,140,150,120,152,100,105,81,90,52,60,70,53,100,78,110,95,71,70,75,72,102,150,88,108,120,180,145,130,150,68,80,58,96,70,145,110,145,130,110,105,100,98,180,170,190,149,78,88,75,89,63,83,67,78,97,110,110,48,66,52,70,60,110,140,139,105,95,85,88,100,90,105,85,110,120,145,165,139,140,68,95,97,75,95,105,85,97,103,125,115,133,71,68,115,85,88,90,110,130,129,138,135,155,142,125,150,71,65,80,80,77,125,71,90,70,70,65,69,90,115,115,90,76,60,70,65,90,88,90,90,78,90,75,92,75,65,105,65,48,48,67,67,67,67,62,132,100,88,72,84,84,92,110,84,58,64,60,67,65,62,68,63,65,65,74,75,75,100,74,80,76,116,120,110,105,88,85,88,88,88,85,84,90,92,74,68,68,63,70,88,75,70,67,67,67,110,85,92,112,96,84,90,86,52,84,79,82],\"y\":[18.0,15.0,18.0,16.0,17.0,15.0,14.0,14.0,14.0,15.0,15.0,14.0,15.0,14.0,24.0,22.0,18.0,21.0,27.0,26.0,25.0,24.0,25.0,26.0,21.0,10.0,10.0,11.0,9.0,27.0,28.0,25.0,19.0,16.0,17.0,19.0,18.0,14.0,14.0,14.0,14.0,12.0,13.0,13.0,18.0,22.0,19.0,18.0,23.0,28.0,30.0,30.0,31.0,35.0,27.0,26.0,24.0,25.0,23.0,20.0,21.0,13.0,14.0,15.0,14.0,17.0,11.0,13.0,12.0,13.0,19.0,15.0,13.0,13.0,14.0,18.0,22.0,21.0,26.0,22.0,28.0,23.0,28.0,27.0,13.0,14.0,13.0,14.0,15.0,12.0,13.0,13.0,14.0,13.0,12.0,13.0,18.0,16.0,18.0,18.0,23.0,26.0,11.0,12.0,13.0,12.0,18.0,20.0,21.0,22.0,18.0,19.0,21.0,26.0,15.0,16.0,29.0,24.0,20.0,19.0,15.0,24.0,20.0,11.0,20.0,19.0,15.0,31.0,26.0,32.0,25.0,16.0,16.0,18.0,16.0,13.0,14.0,14.0,14.0,29.0,26.0,26.0,31.0,32.0,28.0,24.0,26.0,24.0,26.0,31.0,19.0,18.0,15.0,15.0,16.0,15.0,16.0,14.0,17.0,16.0,15.0,18.0,21.0,20.0,13.0,29.0,23.0,20.0,23.0,24.0,25.0,24.0,18.0,29.0,19.0,23.0,23.0,22.0,25.0,33.0,28.0,25.0,25.0,26.0,27.0,17.5,16.0,15.5,14.5,22.0,22.0,24.0,22.5,29.0,24.5,29.0,33.0,20.0,18.0,18.5,17.5,29.5,32.0,28.0,26.5,20.0,13.0,19.0,19.0,16.5,16.5,13.0,13.0,13.0,31.5,30.0,36.0,25.5,33.5,17.5,17.0,15.5,15.0,17.5,20.5,19.0,18.5,16.0,15.5,15.5,16.0,29.0,24.5,26.0,25.5,30.5,33.5,30.0,30.5,22.0,21.5,21.5,43.1,36.1,32.8,39.4,36.1,19.9,19.4,20.2,19.2,20.5,20.2,25.1,20.5,19.4,20.6,20.8,18.6,18.1,19.2,17.7,18.1,17.5,30.0,27.5,27.2,30.9,21.1,23.2,23.8,23.9,20.3,17.0,21.6,16.2,31.5,29.5,21.5,19.8,22.3,20.2,20.6,17.0,17.6,16.5,18.2,16.9,15.5,19.2,18.5,31.9,34.1,35.7,27.4,25.4,23.0,27.2,23.9,34.2,34.5,31.8,37.3,28.4,28.8,26.8,33.5,41.5,38.1,32.1,37.2,28.0,26.4,24.3,19.1,34.3,29.8,31.3,37.0,32.2,46.6,27.9,40.8,44.3,43.4,36.4,30.0,44.6,33.8,29.8,32.7,23.7,35.0,32.4,27.2,26.6,25.8,23.5,30.0,39.1,39.0,35.1,32.3,37.0,37.7,34.1,34.7,34.4,29.9,33.0,33.7,32.4,32.9,31.6,28.1,30.7,25.4,24.2,22.4,26.6,20.2,17.6,28.0,27.0,34.0,31.0,29.0,27.0,24.0,36.0,37.0,31.0,38.0,36.0,36.0,36.0,34.0,38.0,32.0,38.0,25.0,38.0,26.0,22.0,32.0,36.0,27.0,27.0,44.0,32.0,28.0,31.0]}},\"id\":\"72bc458b-b624-4779-82e6-8ee3ae6794bd\",\"type\":\"ColumnDataSource\"},{\"attributes\":{\"plot\":{\"id\":\"a8c28a59-ca75-4131-98b7-37a6ad321f5c\",\"subtype\":\"Figure\",\"type\":\"Plot\"}},\"id\":\"e78ffc52-87c7-488e-8353-6a8eca09e8ad\",\"type\":\"SaveTool\"},{\"attributes\":{\"callback\":null},\"id\":\"34c646eb-d1e9-4b51-8440-33bd1b5d5f5f\",\"type\":\"DataRange1d\"},{\"attributes\":{\"data_source\":{\"id\":\"c960b60d-801c-4bfa-8661-145344e28a44\",\"type\":\"ColumnDataSource\"},\"glyph\":{\"id\":\"a969cd2d-a1fb-4271-b23c-5e449d4d651e\",\"type\":\"Circle\"},\"hover_glyph\":null,\"nonselection_glyph\":{\"id\":\"1c8aa315-2327-4ffe-86f6-995706d2f106\",\"type\":\"Circle\"},\"selection_glyph\":null},\"id\":\"5c8567fe-ba92-49e3-8568-ae129dddc308\",\"type\":\"GlyphRenderer\"},{\"attributes\":{\"dimension\":1,\"plot\":{\"id\":\"a8c28a59-ca75-4131-98b7-37a6ad321f5c\",\"subtype\":\"Figure\",\"type\":\"Plot\"},\"ticker\":{\"id\":\"fd65be64-d1e9-47d0-8613-a69dedd82e4d\",\"type\":\"BasicTicker\"}},\"id\":\"94606efd-705e-48ec-8499-f52646abc158\",\"type\":\"Grid\"},{\"attributes\":{\"callback\":null,\"column_names\":[\"x\",\"y\"],\"data\":{\"x\":[130,165,150,150,140,198,220,215,225,190,170,160,150,225,95,95,97,85,88,46,87,90,95,113,90,215,200,210,193,88,90,95,100,105,100,88,100,165,175,153,150,180,170,175,110,72,100,88,86,90,70,76,65,69,60,70,95,80,54,90,86,165,175,150,153,150,208,155,160,190,97,150,130,140,150,112,76,87,69,86,92,97,80,88,175,150,145,137,150,198,150,158,150,215,225,175,105,100,100,88,95,46,150,167,170,180,100,88,72,94,90,85,107,90,145,230,49,75,91,112,150,110,122,180,95,100,100,67,80,65,75,100,110,105,140,150,150,140,150,83,67,78,52,61,75,75,75,97,93,67,95,105,72,72,170,145,150,148,110,105,110,95,110,110,129,75,83,100,78,96,71,97,97,70,90,95,88,98,115,53,86,81,92,79,83,140,150,120,152,100,105,81,90,52,60,70,53,100,78,110,95,71,70,75,72,102,150,88,108,120,180,145,130,150,68,80,58,96,70,145,110,145,130,110,105,100,98,180,170,190,149,78,88,75,89,63,83,67,78,97,110,110,48,66,52,70,60,110,140,139,105,95,85,88,100,90,105,85,110,120,145,165,139,140,68,95,97,75,95,105,85,97,103,125,115,133,71,68,115,85,88,90,110,130,129,138,135,155,142,125,150,71,65,80,80,77,125,71,90,70,70,65,69,90,115,115,90,76,60,70,65,90,88,90,90,78,90,75,92,75,65,105,65,48,48,67,67,67,67,62,132,100,88,72,84,84,92,110,84,58,64,60,67,65,62,68,63,65,65,74,75,75,100,74,80,76,116,120,110,105,88,85,88,88,88,85,84,90,92,74,68,68,63,70,88,75,70,67,67,67,110,85,92,112,96,84,90,86,52,84,79,82],\"y\":[18.0,15.0,18.0,16.0,17.0,15.0,14.0,14.0,14.0,15.0,15.0,14.0,15.0,14.0,24.0,22.0,18.0,21.0,27.0,26.0,25.0,24.0,25.0,26.0,21.0,10.0,10.0,11.0,9.0,27.0,28.0,25.0,19.0,16.0,17.0,19.0,18.0,14.0,14.0,14.0,14.0,12.0,13.0,13.0,18.0,22.0,19.0,18.0,23.0,28.0,30.0,30.0,31.0,35.0,27.0,26.0,24.0,25.0,23.0,20.0,21.0,13.0,14.0,15.0,14.0,17.0,11.0,13.0,12.0,13.0,19.0,15.0,13.0,13.0,14.0,18.0,22.0,21.0,26.0,22.0,28.0,23.0,28.0,27.0,13.0,14.0,13.0,14.0,15.0,12.0,13.0,13.0,14.0,13.0,12.0,13.0,18.0,16.0,18.0,18.0,23.0,26.0,11.0,12.0,13.0,12.0,18.0,20.0,21.0,22.0,18.0,19.0,21.0,26.0,15.0,16.0,29.0,24.0,20.0,19.0,15.0,24.0,20.0,11.0,20.0,19.0,15.0,31.0,26.0,32.0,25.0,16.0,16.0,18.0,16.0,13.0,14.0,14.0,14.0,29.0,26.0,26.0,31.0,32.0,28.0,24.0,26.0,24.0,26.0,31.0,19.0,18.0,15.0,15.0,16.0,15.0,16.0,14.0,17.0,16.0,15.0,18.0,21.0,20.0,13.0,29.0,23.0,20.0,23.0,24.0,25.0,24.0,18.0,29.0,19.0,23.0,23.0,22.0,25.0,33.0,28.0,25.0,25.0,26.0,27.0,17.5,16.0,15.5,14.5,22.0,22.0,24.0,22.5,29.0,24.5,29.0,33.0,20.0,18.0,18.5,17.5,29.5,32.0,28.0,26.5,20.0,13.0,19.0,19.0,16.5,16.5,13.0,13.0,13.0,31.5,30.0,36.0,25.5,33.5,17.5,17.0,15.5,15.0,17.5,20.5,19.0,18.5,16.0,15.5,15.5,16.0,29.0,24.5,26.0,25.5,30.5,33.5,30.0,30.5,22.0,21.5,21.5,43.1,36.1,32.8,39.4,36.1,19.9,19.4,20.2,19.2,20.5,20.2,25.1,20.5,19.4,20.6,20.8,18.6,18.1,19.2,17.7,18.1,17.5,30.0,27.5,27.2,30.9,21.1,23.2,23.8,23.9,20.3,17.0,21.6,16.2,31.5,29.5,21.5,19.8,22.3,20.2,20.6,17.0,17.6,16.5,18.2,16.9,15.5,19.2,18.5,31.9,34.1,35.7,27.4,25.4,23.0,27.2,23.9,34.2,34.5,31.8,37.3,28.4,28.8,26.8,33.5,41.5,38.1,32.1,37.2,28.0,26.4,24.3,19.1,34.3,29.8,31.3,37.0,32.2,46.6,27.9,40.8,44.3,43.4,36.4,30.0,44.6,33.8,29.8,32.7,23.7,35.0,32.4,27.2,26.6,25.8,23.5,30.0,39.1,39.0,35.1,32.3,37.0,37.7,34.1,34.7,34.4,29.9,33.0,33.7,32.4,32.9,31.6,28.1,30.7,25.4,24.2,22.4,26.6,20.2,17.6,28.0,27.0,34.0,31.0,29.0,27.0,24.0,36.0,37.0,31.0,38.0,36.0,36.0,36.0,34.0,38.0,32.0,38.0,25.0,38.0,26.0,22.0,32.0,36.0,27.0,27.0,44.0,32.0,28.0,31.0]}},\"id\":\"c960b60d-801c-4bfa-8661-145344e28a44\",\"type\":\"ColumnDataSource\"},{\"attributes\":{\"plot\":{\"id\":\"a8c28a59-ca75-4131-98b7-37a6ad321f5c\",\"subtype\":\"Figure\",\"type\":\"Plot\"}},\"id\":\"bba74d7c-e3fc-4516-ae38-fdb41df43e34\",\"type\":\"HelpTool\"},{\"attributes\":{},\"id\":\"db28f7d4-7c92-4048-a39a-b9a9390248a6\",\"type\":\"ToolEvents\"},{\"attributes\":{},\"id\":\"85695f7d-c8f0-48f6-b324-e8e2509702c3\",\"type\":\"BasicTickFormatter\"},{\"attributes\":{\"active_drag\":\"auto\",\"active_scroll\":\"auto\",\"active_tap\":\"auto\",\"tools\":[{\"id\":\"e401b0f1-2e1e-4c72-b85e-c0ee72cce042\",\"type\":\"PanTool\"},{\"id\":\"bbef4534-8eda-47b2-a78b-31cf12b9add2\",\"type\":\"WheelZoomTool\"},{\"id\":\"feac0ab5-6d3b-4b7c-bcfa-8a0bd71b22c7\",\"type\":\"BoxZoomTool\"},{\"id\":\"e78ffc52-87c7-488e-8353-6a8eca09e8ad\",\"type\":\"SaveTool\"},{\"id\":\"09b375ec-8fc9-4cee-ad2c-af85589bf7f3\",\"type\":\"ResetTool\"},{\"id\":\"bba74d7c-e3fc-4516-ae38-fdb41df43e34\",\"type\":\"HelpTool\"}]},\"id\":\"fa7ea7b5-8083-4b6b-9420-23f636dbc927\",\"type\":\"Toolbar\"},{\"attributes\":{\"plot\":{\"id\":\"a8c28a59-ca75-4131-98b7-37a6ad321f5c\",\"subtype\":\"Figure\",\"type\":\"Plot\"}},\"id\":\"09b375ec-8fc9-4cee-ad2c-af85589bf7f3\",\"type\":\"ResetTool\"},{\"attributes\":{},\"id\":\"7ceeaf95-3b72-4375-b7a1-72c3c1e552dd\",\"type\":\"BasicTickFormatter\"},{\"attributes\":{\"bottom_units\":\"screen\",\"fill_alpha\":{\"value\":0.5},\"fill_color\":{\"value\":\"lightgrey\"},\"left_units\":\"screen\",\"level\":\"overlay\",\"line_alpha\":{\"value\":1.0},\"line_color\":{\"value\":\"black\"},\"line_dash\":[4,4],\"line_width\":{\"value\":2},\"plot\":null,\"render_mode\":\"css\",\"right_units\":\"screen\",\"top_units\":\"screen\"},\"id\":\"b8ff922c-f5c8-46a8-b552-2cb04a151f83\",\"type\":\"BoxAnnotation\"},{\"attributes\":{\"callback\":null},\"id\":\"6f9e81bb-07b6-4230-a319-d11838c8f12c\",\"type\":\"DataRange1d\"},{\"attributes\":{\"fill_alpha\":{\"value\":0.1},\"fill_color\":{\"value\":\"#1f77b4\"},\"line_alpha\":{\"value\":0.1},\"line_color\":{\"value\":\"#1f77b4\"},\"x\":{\"field\":\"x\"},\"y\":{\"field\":\"y\"}},\"id\":\"1307ff4d-0c76-4cc0-b503-259834d8dc39\",\"type\":\"Circle\"},{\"attributes\":{\"fill_color\":{\"value\":\"#1f77b4\"},\"line_color\":{\"value\":\"#1f77b4\"},\"x\":{\"field\":\"x\"},\"y\":{\"field\":\"y\"}},\"id\":\"1a61a668-250f-44ae-b09c-c091d65ae4c4\",\"type\":\"Circle\"},{\"attributes\":{\"plot\":null,\"text\":null},\"id\":\"188cf78b-658f-481b-96e8-82bbe9907d1b\",\"type\":\"Title\"},{\"attributes\":{\"axis_label\":\"MPG\",\"formatter\":{\"id\":\"85695f7d-c8f0-48f6-b324-e8e2509702c3\",\"type\":\"BasicTickFormatter\"},\"plot\":{\"id\":\"a8c28a59-ca75-4131-98b7-37a6ad321f5c\",\"subtype\":\"Figure\",\"type\":\"Plot\"},\"ticker\":{\"id\":\"fd65be64-d1e9-47d0-8613-a69dedd82e4d\",\"type\":\"BasicTicker\"}},\"id\":\"3ad6757c-3d9d-4418-a0a9-8aef0d486456\",\"type\":\"LinearAxis\"},{\"attributes\":{\"fill_color\":{\"value\":\"#1f77b4\"},\"line_color\":{\"value\":\"#1f77b4\"},\"x\":{\"field\":\"x\"},\"y\":{\"field\":\"y\"}},\"id\":\"a969cd2d-a1fb-4271-b23c-5e449d4d651e\",\"type\":\"Circle\"},{\"attributes\":{\"plot\":{\"id\":\"a8c28a59-ca75-4131-98b7-37a6ad321f5c\",\"subtype\":\"Figure\",\"type\":\"Plot\"}},\"id\":\"e401b0f1-2e1e-4c72-b85e-c0ee72cce042\",\"type\":\"PanTool\"}],\"root_ids\":[\"a8c28a59-ca75-4131-98b7-37a6ad321f5c\"]},\"title\":\"Bokeh Application\",\"version\":\"0.12.2\"}};\n",
       "            var render_items = [{\"docid\":\"49e781b9-a1fd-44fa-af6a-6a724b02c473\",\"elementid\":\"49653fc5-d906-41a2-b159-63f3944d4b76\",\"modelid\":\"a8c28a59-ca75-4131-98b7-37a6ad321f5c\"}];\n",
       "            \n",
       "            Bokeh.embed.embed_items(docs_json, render_items);\n",
       "        });\n",
       "      },\n",
       "      function(Bokeh) {\n",
       "      }\n",
       "    ];\n",
       "  \n",
       "    function run_inline_js() {\n",
       "      \n",
       "      if ((window.Bokeh !== undefined) || (force === \"1\")) {\n",
       "        for (var i = 0; i < inline_js.length; i++) {\n",
       "          inline_js[i](window.Bokeh);\n",
       "        }if (force === \"1\") {\n",
       "          display_loaded();\n",
       "        }} else if (Date.now() < window._bokeh_timeout) {\n",
       "        setTimeout(run_inline_js, 100);\n",
       "      } else if (!window._bokeh_failed_load) {\n",
       "        console.log(\"Bokeh: BokehJS failed to load within specified timeout.\");\n",
       "        window._bokeh_failed_load = true;\n",
       "      } else if (!force) {\n",
       "        var cell = $(\"#49653fc5-d906-41a2-b159-63f3944d4b76\").parents('.cell').data().cell;\n",
       "        cell.output_area.append_execute_result(NB_LOAD_WARNING)\n",
       "      }\n",
       "  \n",
       "    }\n",
       "  \n",
       "    if (window._bokeh_is_loading === 0) {\n",
       "      console.log(\"Bokeh: BokehJS loaded, going straight to plotting\");\n",
       "      run_inline_js();\n",
       "    } else {\n",
       "      load_libs(js_urls, function() {\n",
       "        console.log(\"Bokeh: BokehJS plotting callback run at\", now());\n",
       "        run_inline_js();\n",
       "      });\n",
       "    }\n",
       "  }(this));\n",
       "</script>"
      ]
     },
     "metadata": {},
     "output_type": "display_data"
    }
   ],
   "source": [
    "show(p)"
   ]
  },
  {
   "cell_type": "code",
   "execution_count": 75,
   "metadata": {
    "collapsed": false
   },
   "outputs": [
    {
     "data": {
      "text/plain": [
       "pandas.core.frame.DataFrame"
      ]
     },
     "execution_count": 75,
     "metadata": {},
     "output_type": "execute_result"
    }
   ],
   "source": [
    "type(autompg)"
   ]
  },
  {
   "cell_type": "code",
   "execution_count": 78,
   "metadata": {
    "collapsed": false
   },
   "outputs": [
    {
     "data": {
      "text/plain": [
       "Index(['mpg', 'cyl', 'displ', 'hp', 'weight', 'accel', 'yr', 'origin', 'name'], dtype='object')"
      ]
     },
     "execution_count": 78,
     "metadata": {},
     "output_type": "execute_result"
    }
   ],
   "source": [
    "autompg.columns"
   ]
  },
  {
   "cell_type": "markdown",
   "metadata": {},
   "source": [
    "***\n",
    "## The Bokeh ColumnDataSource \n",
    "You can create a **ColumnDataSource** object directly from a Pandas DataFrame by passing the DataFrame to the class initializer.\n",
    "\n",
    "In this exercise, we have imported pandas as **pd** and read in a data set containing all Olympic medals awarded in the 100 meter sprint from 1896 to 2012. A **color** column has been added indicating the CSS colorname we wish to use in the plot for every data point.\n",
    "\n",
    "Your job is to import the **ColumnDataSource** class, create a new **ColumnDataSource** object from the DataFrame **df**, and plot circle glyphs with **'Year'** on the x-axis and **'Time'** on the y-axis. Color each glyph by the **color** column.\n",
    "\n",
    "The figure object **p** has already been created for you.\n",
    "\n",
    "#### Instructions \n",
    " - Import the ColumnDataSource class from bokeh.plotting.\n",
    " - Use the ColumnDataSource() function to make a new ColumnDataSource object called source from the DataFrame df.\n",
    " - Use p.circle() to plot circle glyphs of size=8 on the figure p with 'Year' on the x-axis and 'Time' on the y-axis. Be sure to also specify source=source and color='color' so that the ColumnDataSource object is used and each glyph is colored by the color column."
   ]
  },
  {
   "cell_type": "code",
   "execution_count": 95,
   "metadata": {
    "collapsed": true
   },
   "outputs": [],
   "source": [
    "from bokeh.plotting import ColumnDataSource\n",
    "import bokeh.sampledata.olympics2014 "
   ]
  },
  {
   "cell_type": "code",
   "execution_count": 102,
   "metadata": {
    "collapsed": false
   },
   "outputs": [
    {
     "data": {
      "text/plain": [
       "dict"
      ]
     },
     "execution_count": 102,
     "metadata": {},
     "output_type": "execute_result"
    }
   ],
   "source": [
    "type(olympics2014.data)"
   ]
  },
  {
   "cell_type": "code",
   "execution_count": 104,
   "metadata": {
    "collapsed": false
   },
   "outputs": [
    {
     "data": {
      "text/plain": [
       "dict_keys(['data', 'object', 'count'])"
      ]
     },
     "execution_count": 104,
     "metadata": {},
     "output_type": "execute_result"
    }
   ],
   "source": [
    "olympics2014.data.keys()"
   ]
  },
  {
   "cell_type": "code",
   "execution_count": null,
   "metadata": {
    "collapsed": true
   },
   "outputs": [],
   "source": []
  }
 ],
 "metadata": {
  "anaconda-cloud": {},
  "kernelspec": {
   "display_name": "Python [conda root]",
   "language": "python",
   "name": "conda-root-py"
  },
  "language_info": {
   "codemirror_mode": {
    "name": "ipython",
    "version": 3
   },
   "file_extension": ".py",
   "mimetype": "text/x-python",
   "name": "python",
   "nbconvert_exporter": "python",
   "pygments_lexer": "ipython3",
   "version": "3.5.2"
  }
 },
 "nbformat": 4,
 "nbformat_minor": 1
}
