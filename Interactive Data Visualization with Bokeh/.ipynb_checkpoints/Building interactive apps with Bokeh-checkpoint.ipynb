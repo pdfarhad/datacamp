{
 "cells": [
  {
   "cell_type": "markdown",
   "metadata": {
    "collapsed": true
   },
   "source": [
    "## Let's get started with building an interactive Bokeh app. \n",
    "\n",
    "This typically begins with importing the curdoc, or \"current document\", function from bokeh.io. This current document will eventually hold all the plots, controls, and layouts that you create. Your job in this exercise is to use this function to add a single plot to your application.\n",
    "\n",
    "In the video, Bryan described the process for running a Bokeh app using the bokeh serve command line tool. In this chapter and the one that follows, the DataCamp environment does this for you behind the scenes. Notice that your code is part of a script.py file. When you hit 'Submit Answer', you'll see in the IPython Shell that we call bokeh serve script.py for you.\n",
    "\n",
    "Remember, as in the previous chapters, that there are different options available for you to interact with your plots, and as before, you may have to scroll down to view the lower portion of the plots.\n",
    "\n",
    "\n",
    "#### Instructions\n",
    " - Import curdoc from bokeh.io and figure from bokeh.plotting.\n",
    " - Create a new plot called plot using the figure() function.\n",
    " - Add a line to the plot using [1,2,3,4,5] as the x coordinates and [2,5,4,6,7] as the y coordinates.\n",
    " - Add the plot to the current document using curdoc().add_root(). It needs to be passed in as an argument to add_root()."
   ]
  },
  {
   "cell_type": "code",
   "execution_count": 3,
   "metadata": {
    "collapsed": false
   },
   "outputs": [],
   "source": [
    "# Perform necessary imports\n",
    "from bokeh.plotting import figure\n",
    "from bokeh.io import curdoc\n",
    "\n",
    "# Create a new plot: plot\n",
    "plot = figure()\n",
    "\n",
    "# Add a line to the plot\n",
    "plot.line([1,2,3,4,5], [2,5,4,6,7])\n",
    "\n",
    "# Add the plot to the current document\n",
    "curdoc().add_root(plot)\n"
   ]
  },
  {
   "cell_type": "markdown",
   "metadata": {},
   "source": [
    "## Add a single slider\n",
    "\n",
    "In the previous exercise, you added a single plot to the \"current document\" of your application. In this exercise, you'll practice adding a layout to your current document.\n",
    "\n",
    "Your job here is to create a single slider, use it to create a widgetbox layout, and then add this layout to the current document.\n",
    "\n",
    "The slider you create here cannot be used for much, but in the later exercises, you'll use it to update your plots!\n",
    "\n",
    "#### Instructions\n",
    " - Import curdoc from bokeh.io, widgetbox from bokeh.layouts, and Slider from bokeh.models.\n",
    " - Create a slider called slider by using the Slider() function and specifying the parameters title, start, end, step, and value.\n",
    " - Use the slider to create a widgetbox layout called layout.\n",
    " - Add the layout to the current document using curdoc().add_root(). It needs to be passed in as an argument to add_root().\n",
    " \n",
    "```\n",
    " # Perform the necessary imports\n",
    "from ____ import ____\n",
    "from ____ import ____\n",
    "from ____ import ____\n",
    "\n",
    "# Create a slider: slider\n",
    "slider = ____(____='my slider', ____=0, ____=10, ____=0.1, ____=2)\n",
    "\n",
    "# Create a widgetbox layout: layout\n",
    "layout = ____\n",
    "\n",
    "# Add the layout to the current document\n",
    "____\n",
    "\n",
    "```"
   ]
  },
  {
   "cell_type": "code",
   "execution_count": 4,
   "metadata": {
    "collapsed": true
   },
   "outputs": [],
   "source": [
    "# Perform the necessary imports\n",
    "from bokeh.io import curdoc\n",
    "from bokeh.layouts import widgetbox\n",
    "from bokeh.models import Slider\n",
    "\n",
    "# Create a slider: slider\n",
    "slider = Slider(title='my slider', start=0, end=10, step=0.1, value=2)\n",
    "\n",
    "# Create a widgetbox layout: layout\n",
    "layout = widgetbox(slider)\n",
    "\n",
    "# Add the layout to the current document\n",
    "curdoc().add_root(layout)"
   ]
  },
  {
   "cell_type": "markdown",
   "metadata": {},
   "source": [
    "## Multiple sliders in one document\n",
    "\n",
    "Having added a single slider in a widgetbox layout to your current document, you'll now add multiple sliders into the current document.\n",
    "\n",
    "Your job in this exercise is to create two sliders, add them to a widgetbox layout, and then add the layout into the current document.\n",
    "\n",
    "#### Instructions\n",
    "\n",
    "- Create the first slider, slider1, using the Slider() function. Give it a title of 'slider1'. Have it start at 0, end at 10, with a step of 0.1 and initial value of 2.\n",
    "- Create the second slider, slider2, using the Slider() function. Give it a title of 'slider2'. Have it start at 10, end at 100, with a step of 1 and initial value of 20.\n",
    "- Use slider1 and slider2 to create a widgetbox layout called layout.\n",
    "- Add the layout to the current document using curdoc().add_root(). This has already been done for you.\n",
    "\n",
    "```\n",
    "# Perform necessary imports\n",
    "from bokeh.io import curdoc\n",
    "from bokeh.layouts import widgetbox\n",
    "from bokeh.models import Slider\n",
    "\n",
    "# Create first slider: slider1\n",
    "slider1 = ____\n",
    "\n",
    "# Create second slider: slider2\n",
    "slider2 = ____\n",
    "\n",
    "# Add slider1 and slider2 to a widgetbox\n",
    "layout = ____\n",
    "\n",
    "# Add the layout to the current document\n",
    "```"
   ]
  },
  {
   "cell_type": "code",
   "execution_count": 5,
   "metadata": {
    "collapsed": true
   },
   "outputs": [],
   "source": [
    "# Create first slider: slider1\n",
    "slider1 = Slider(title='slider1', start=0, end=10, step=0.1, value=2)\n",
    "\n",
    "# Create second slider: slider2\n",
    "slider2 = Slider(title='slider2', start=10, end=100, step=1, value=20)\n",
    "\n",
    "# Add slider1 and slider2 to a widgetbox\n",
    "layout = widgetbox(slider1, slider2)"
   ]
  },
  {
   "cell_type": "markdown",
   "metadata": {},
   "source": [
    "## How to combine Bokeh models into layouts\n",
    "\n",
    "Let's begin making a Bokeh application that has a simple slider and plot, that also updates the plot based on the slider.\n",
    "\n",
    "In this exercise, your job is to first explicitly create a ColumnDataSource. You'll then combine a plot and a slider into a single column layout, and add it to the current document.\n",
    "\n",
    "After you are done, notice how in the figure you generate, the slider will not actually update the plot, because a widget callback has not been defined. You'll learn how to update the plot using widget callbacks in the next exercise.\n",
    "\n",
    "All the necessary modules have been imported for you. The plot is available in the workspace as plot, and the slider is available as slider.\n",
    "\n",
    "#### Instructions\n",
    "- Create a ColumnDataSource called source. Explicitly specify the data parameter of ColumnDataSource() with {'x': x, 'y': y}.\n",
    "- Add a line to the figure plot, with 'x' and 'y' from the ColumnDataSource.\n",
    "- Combine the slider and the plot into a column layout called layout. Be sure to first create a widgetbox layout using   widgetbox() with slider and pass that into the column() function along with plot.\n",
    "\n",
    "```\n",
    "# Create ColumnDataSource: source\n",
    "source = ____\n",
    "\n",
    "# Add a line to the plot\n",
    "plot.line(____, ____, source=____)\n",
    "\n",
    "# Create a column layout: layout\n",
    "layout = ____(____, ____)\n",
    "\n",
    "# Add the layout to the current document\n",
    "curdoc().add_root(layout)\n",
    "```"
   ]
  },
  {
   "cell_type": "code",
   "execution_count": 10,
   "metadata": {
    "collapsed": false
   },
   "outputs": [],
   "source": [
    "from bokeh.models import ColumnDataSource\n",
    "from bokeh.layouts import column\n",
    "# Create ColumnDataSource: source\n",
    "\n",
    "x = list(range(-20, 21))\n",
    "y = [abs(xx) for xx in x]\n",
    "source = ColumnDataSource(data={'x': x, 'y': y})\n",
    "\n",
    "# Add a line to the plot\n",
    "plot.line('x', 'y', source=source)\n",
    "\n",
    "# Create a column layout: layout\n",
    "layout = column(widgetbox(slider), plot)\n",
    "\n",
    "# Add the layout to the current document\n",
    "curdoc().add_root(layout)\n"
   ]
  },
  {
   "cell_type": "markdown",
   "metadata": {},
   "source": [
    "## Learn about widget callbacks\n",
    "\n",
    "You'll now learn how to use widget callbacks to update the state of a Bokeh application, and in turn, the data that is presented to the user.\n",
    "\n",
    "Your job in this exercise is to use the slider's on_change() function to update the plot's data from the previous example. NumPy's sin() function will be used to update the y-axis data of the plot.\n",
    "\n",
    "Now that you have added a widget callback, notice how as you move the slider of your app, the figure also updates!\n",
    "\n",
    "#### Instructions\n",
    " - Define a callback function callback with the parameters attr, old, new.\n",
    " - Read the current value of slider as a variable scale. You can do this using slider.value.\n",
    " - Compute values for the updated y using np.sin(scale/x).\n",
    " - Update source.data with the new data dictionary.\n",
    " - Attach the callback to the 'value' property of slider. This can be done using on_change() and passing in 'value' and callback.\n",
    " \n",
    "```\n",
    "# Define a callback function: callback\n",
    "____ ____(____, ____, ____):\n",
    "\n",
    "    # Read the current value of the slider: scale\n",
    "    scale = ____\n",
    "\n",
    "    # Compute the updated y using np.sin(scale/x): new_y\n",
    "    new_y = ____\n",
    "\n",
    "    # Update source with the new data values\n",
    "    source.data = {'x': ____, 'y': ____}\n",
    "\n",
    "# Attach the callback to the 'value' property of slider\n",
    "____\n",
    "\n",
    "# Create layout and add to current document\n",
    "layout = column(widgetbox(slider), plot)\n",
    "curdoc().add_root(layout)\n",
    "```"
   ]
  },
  {
   "cell_type": "code",
   "execution_count": 11,
   "metadata": {
    "collapsed": true
   },
   "outputs": [],
   "source": [
    "# Define a callback function: callback\n",
    "def callback(attr, old, new):\n",
    "\n",
    "    # Read the current value of the slider: scale\n",
    "    scale = slider.value\n",
    "\n",
    "    # Compute the updated y using np.sin(scale/x): new_y\n",
    "    new_y = np.sin(scale/x)\n",
    "\n",
    "    # Update source with the new data values\n",
    "    source.data = {'x': x, 'y':new_y}\n",
    "\n",
    "# Attach the callback to the 'value' property of slider\n",
    "slider.on_change('value', callback)\n",
    "\n",
    "# Create layout and add to current document\n",
    "layout = column(widgetbox(slider), plot)\n",
    "curdoc().add_root(layout)"
   ]
  },
  {
   "cell_type": "markdown",
   "metadata": {},
   "source": []
  }
 ],
 "metadata": {
  "anaconda-cloud": {},
  "kernelspec": {
   "display_name": "Python [conda root]",
   "language": "python",
   "name": "conda-root-py"
  },
  "language_info": {
   "codemirror_mode": {
    "name": "ipython",
    "version": 3
   },
   "file_extension": ".py",
   "mimetype": "text/x-python",
   "name": "python",
   "nbconvert_exporter": "python",
   "pygments_lexer": "ipython3",
   "version": "3.5.2"
  }
 },
 "nbformat": 4,
 "nbformat_minor": 1
}
