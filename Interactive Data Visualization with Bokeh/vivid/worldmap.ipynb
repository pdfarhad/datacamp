{
 "cells": [
  {
   "cell_type": "code",
   "execution_count": 1,
   "metadata": {
    "collapsed": false
   },
   "outputs": [],
   "source": [
    "from bokeh.plotting import figure, show, output_notebook\n",
    "from bokeh.models import HoverTool, ColumnDataSource\n",
    "import itertools\n",
    "import shapefile\n",
    "import pandas as pd\n",
    "import datetime\n",
    "import requests\n",
    "import zipfile\n",
    "try:\n",
    "    from StringIO import StringIO\n",
    "except ImportError:\n",
    "    from io import BytesIO as StringIO\n",
    "import os\n",
    "\n",
    "# Get World Country Map Data\n",
    "# http://www.naturalearthdata.com/features/\n",
    "shp = None\n",
    "dbf = None\n",
    "url = 'http://www.naturalearthdata.com/http//www.naturalearthdata.com/download/110m/cultural/ne_110m_admin_0_countries.zip'\n",
    "response = requests.get(url)\n",
    "with zipfile.ZipFile(StringIO(response.content)) as z:\n",
    "    for fname in z.namelist():\n",
    "        name, ext = os.path.splitext(fname)\n",
    "        if ext == '.shp':\n",
    "            shp = StringIO(z.read(fname)) \n",
    "            #shp = z.open(fname)\n",
    "        elif ext == '.dbf':\n",
    "            #dbf = z.open(fname)\n",
    "            dbf = StringIO(z.read(fname))             \n",
    "        else:\n",
    "            pass\n",
    "sf = shapefile.Reader(shp=shp, dbf=dbf)\n",
    "\n",
    "# Munge map data for bokeh \n",
    "lats = []\n",
    "lons = []\n",
    "country = []\n",
    "for shprec in sf.shapeRecords():\n",
    "    name_long = str(shprec.record[18])\n",
    "    country.append(name_long)\n",
    "    lat, lon = map(list, zip(*shprec.shape.points))\n",
    "    indices = shprec.shape.parts.tolist()\n",
    "    lat = [lat[i:j] + [float('NaN')] for i, j in zip(indices, indices[1:]+[None])]\n",
    "    lon = [lon[i:j] + [float('NaN')] for i, j in zip(indices, indices[1:]+[None])]\n",
    "    lat = list(itertools.chain.from_iterable(lat))\n",
    "    lon = list(itertools.chain.from_iterable(lon))\n",
    "    lats.append(lat)\n",
    "    lons.append(lon)\n"
   ]
  },
  {
   "cell_type": "code",
   "execution_count": 2,
   "metadata": {
    "collapsed": false
   },
   "outputs": [],
   "source": [
    "df = pd.DataFrame({'x': lats, 'y': lons, 'country': country})\n",
    "cds = ColumnDataSource(df)\n",
    "p = figure(width=800)\n",
    "country_patches = p.patches('x', 'y', source=cds, line_color='white')\n",
    "hover = HoverTool(renderers=[country_patches], tooltips=[('Country', '@country')])\n",
    "p.add_tools(hover)\n",
    "show(p)"
   ]
  },
  {
   "cell_type": "code",
   "execution_count": null,
   "metadata": {
    "collapsed": true
   },
   "outputs": [],
   "source": []
  }
 ],
 "metadata": {
  "anaconda-cloud": {},
  "kernelspec": {
   "display_name": "Python [conda root]",
   "language": "python",
   "name": "conda-root-py"
  },
  "language_info": {
   "codemirror_mode": {
    "name": "ipython",
    "version": 3
   },
   "file_extension": ".py",
   "mimetype": "text/x-python",
   "name": "python",
   "nbconvert_exporter": "python",
   "pygments_lexer": "ipython3",
   "version": "3.5.2"
  }
 },
 "nbformat": 4,
 "nbformat_minor": 1
}
