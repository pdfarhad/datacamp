{
 "cells": [
  {
   "cell_type": "markdown",
   "metadata": {},
   "source": [
    "## A simple scatter plot\n",
    "\n",
    "In this example, you're going to make a scatter plot of female literacy vs fertility using data from the European Environmental Agency(https://www.eea.europa.eu/data-and-maps/figures/correlation-between-fertility-and-female-education). This dataset highlights that countries with low female literacy have high birthrates. The x-axis data has been loaded for you as fertility and the y-axis data has been loaded as female_literacy.\n",
    "\n",
    "Your job is to create a figure, assign x-axis and y-axis labels, and plot female_literacy vs fertility using the circle glyph.\n",
    "\n",
    "After you have created the figure, in this exercise and the ones to follow, play around with it! Explore the different options available to you on the tab to the right, such as \"Pan\", \"Box Zoom\", and \"Wheel Zoom\". You can click on the question mark sign for more details on any of these tool"
   ]
  },
  {
   "cell_type": "markdown",
   "metadata": {},
   "source": [
    "    # Import figure from bokeh.plotting\n",
    "    from bokeh.plotting import ____\n",
    "\n",
    "    # Import output_file and show from bokeh.io\n",
    "    from bokeh.io import ____, ____\n",
    "\n",
    "    # Create the figure: p\n",
    "    p = ____(____='fertility (children per woman)', ____='female_literacy (% population)')\n",
    "\n",
    "    # Add a circle glyph to the figure p\n",
    "    p.circle(____, ____)\n",
    "\n",
    "    # Call the output_file() function and specify the name of the file\n",
    "\n",
    "\n",
    "    # Display the plot\n",
    "\n"
   ]
  },
  {
   "cell_type": "code",
   "execution_count": 1,
   "metadata": {
    "collapsed": true
   },
   "outputs": [],
   "source": [
    "import pandas as pd \n",
    "from bokeh.plotting import figure\n",
    "from bokeh.io import output_file, show\n",
    "import numpy as np\n",
    "from bokeh.charts.attributes import cat, color\n",
    "from bokeh.charts.operations import blend\n",
    "from bokeh.charts.utils import df_from_json"
   ]
  },
  {
   "cell_type": "code",
   "execution_count": 2,
   "metadata": {
    "collapsed": false
   },
   "outputs": [
    {
     "data": {
      "text/html": [
       "<div>\n",
       "<table border=\"1\" class=\"dataframe\">\n",
       "  <thead>\n",
       "    <tr style=\"text-align: right;\">\n",
       "      <th></th>\n",
       "      <th>Country</th>\n",
       "      <th>Continent</th>\n",
       "      <th>female literacy</th>\n",
       "      <th>fertility</th>\n",
       "      <th>population</th>\n",
       "    </tr>\n",
       "  </thead>\n",
       "  <tbody>\n",
       "    <tr>\n",
       "      <th>0</th>\n",
       "      <td>Chine</td>\n",
       "      <td>ASI</td>\n",
       "      <td>90.5</td>\n",
       "      <td>1.769</td>\n",
       "      <td>1.324655e+09</td>\n",
       "    </tr>\n",
       "    <tr>\n",
       "      <th>1</th>\n",
       "      <td>Inde</td>\n",
       "      <td>ASI</td>\n",
       "      <td>50.8</td>\n",
       "      <td>2.682</td>\n",
       "      <td>1.139965e+09</td>\n",
       "    </tr>\n",
       "    <tr>\n",
       "      <th>2</th>\n",
       "      <td>USA</td>\n",
       "      <td>NAM</td>\n",
       "      <td>99</td>\n",
       "      <td>2.077</td>\n",
       "      <td>3.040600e+08</td>\n",
       "    </tr>\n",
       "    <tr>\n",
       "      <th>3</th>\n",
       "      <td>Indonésie</td>\n",
       "      <td>ASI</td>\n",
       "      <td>88.8</td>\n",
       "      <td>2.132</td>\n",
       "      <td>2.273451e+08</td>\n",
       "    </tr>\n",
       "    <tr>\n",
       "      <th>4</th>\n",
       "      <td>Brésil</td>\n",
       "      <td>LAT</td>\n",
       "      <td>90.2</td>\n",
       "      <td>1.827</td>\n",
       "      <td>1.919715e+08</td>\n",
       "    </tr>\n",
       "  </tbody>\n",
       "</table>\n",
       "</div>"
      ],
      "text/plain": [
       "    Country  Continent female literacy fertility    population\n",
       "0      Chine       ASI            90.5     1.769  1.324655e+09\n",
       "1       Inde       ASI            50.8     2.682  1.139965e+09\n",
       "2        USA       NAM              99     2.077  3.040600e+08\n",
       "3  Indonésie       ASI            88.8     2.132  2.273451e+08\n",
       "4     Brésil       LAT            90.2     1.827  1.919715e+08"
      ]
     },
     "execution_count": 2,
     "metadata": {},
     "output_type": "execute_result"
    }
   ],
   "source": [
    "data = pd.read_excel(\"../data/TREND01-5G-educ-fertility-bubbles.xls\")\n",
    "data.head()"
   ]
  },
  {
   "cell_type": "code",
   "execution_count": 3,
   "metadata": {
    "collapsed": false
   },
   "outputs": [
    {
     "data": {
      "text/html": [
       "<div>\n",
       "<table border=\"1\" class=\"dataframe\">\n",
       "  <thead>\n",
       "    <tr style=\"text-align: right;\">\n",
       "      <th></th>\n",
       "      <th>Country</th>\n",
       "      <th>Continent</th>\n",
       "      <th>female literacy</th>\n",
       "      <th>fertility</th>\n",
       "      <th>population</th>\n",
       "    </tr>\n",
       "  </thead>\n",
       "  <tbody>\n",
       "    <tr>\n",
       "      <th>177</th>\n",
       "      <td>Antilles néerlandaises</td>\n",
       "      <td>NaN</td>\n",
       "      <td>96.3</td>\n",
       "      <td>NaN</td>\n",
       "      <td>NaN</td>\n",
       "    </tr>\n",
       "    <tr>\n",
       "      <th>178</th>\n",
       "      <td>Iles Caïmanes</td>\n",
       "      <td>NaN</td>\n",
       "      <td>99</td>\n",
       "      <td>NaN</td>\n",
       "      <td>NaN</td>\n",
       "    </tr>\n",
       "    <tr>\n",
       "      <th>179</th>\n",
       "      <td>Seychelles</td>\n",
       "      <td>NaN</td>\n",
       "      <td>92.3</td>\n",
       "      <td>NaN</td>\n",
       "      <td>NaN</td>\n",
       "    </tr>\n",
       "    <tr>\n",
       "      <th>180</th>\n",
       "      <td>Territoires autonomes palestiniens</td>\n",
       "      <td>NaN</td>\n",
       "      <td>90.9</td>\n",
       "      <td>NaN</td>\n",
       "      <td>NaN</td>\n",
       "    </tr>\n",
       "    <tr>\n",
       "      <th>181</th>\n",
       "      <td>WORLD</td>\n",
       "      <td>WORLD</td>\n",
       "      <td>77</td>\n",
       "      <td>NaN</td>\n",
       "      <td>NaN</td>\n",
       "    </tr>\n",
       "  </tbody>\n",
       "</table>\n",
       "</div>"
      ],
      "text/plain": [
       "                               Country  Continent female literacy fertility  \\\n",
       "177              Antilles néerlandaises       NaN            96.3       NaN   \n",
       "178                       Iles Caïmanes       NaN              99       NaN   \n",
       "179                          Seychelles       NaN            92.3       NaN   \n",
       "180  Territoires autonomes palestiniens       NaN            90.9       NaN   \n",
       "181                               WORLD     WORLD              77       NaN   \n",
       "\n",
       "     population  \n",
       "177         NaN  \n",
       "178         NaN  \n",
       "179         NaN  \n",
       "180         NaN  \n",
       "181         NaN  "
      ]
     },
     "execution_count": 3,
     "metadata": {},
     "output_type": "execute_result"
    }
   ],
   "source": [
    "data.tail()"
   ]
  },
  {
   "cell_type": "code",
   "execution_count": 4,
   "metadata": {
    "collapsed": true
   },
   "outputs": [],
   "source": [
    "p = figure(x_axis_label='fertility (children per woman)', y_axis_label='female_literacy (% population)')"
   ]
  },
  {
   "cell_type": "code",
   "execution_count": 5,
   "metadata": {
    "collapsed": false
   },
   "outputs": [
    {
     "data": {
      "text/plain": [
       "(182, 5)"
      ]
     },
     "execution_count": 5,
     "metadata": {},
     "output_type": "execute_result"
    }
   ],
   "source": [
    "data.shape"
   ]
  },
  {
   "cell_type": "code",
   "execution_count": 6,
   "metadata": {
    "collapsed": false
   },
   "outputs": [],
   "source": [
    "data.dropna(subset=['fertility', 'population','female literacy'], inplace=True)"
   ]
  },
  {
   "cell_type": "code",
   "execution_count": 7,
   "metadata": {
    "collapsed": false
   },
   "outputs": [
    {
     "data": {
      "text/plain": [
       "(162, 5)"
      ]
     },
     "execution_count": 7,
     "metadata": {},
     "output_type": "execute_result"
    }
   ],
   "source": [
    "data.shape"
   ]
  },
  {
   "cell_type": "code",
   "execution_count": 8,
   "metadata": {
    "collapsed": false
   },
   "outputs": [],
   "source": [
    "df = df_from_json(data)"
   ]
  },
  {
   "cell_type": "code",
   "execution_count": 9,
   "metadata": {
    "collapsed": false
   },
   "outputs": [
    {
     "name": "stdout",
     "output_type": "stream",
     "text": [
      "None\n"
     ]
    }
   ],
   "source": [
    "print(df)"
   ]
  },
  {
   "cell_type": "code",
   "execution_count": 10,
   "metadata": {
    "collapsed": true
   },
   "outputs": [],
   "source": [
    "data = data.fillna('')"
   ]
  },
  {
   "cell_type": "code",
   "execution_count": 11,
   "metadata": {
    "collapsed": true
   },
   "outputs": [],
   "source": [
    "fertility = [np.asarray(i) for i in data['fertility']]\n",
    "female_lit = [np.asarray(i) for i in data['female literacy']]"
   ]
  },
  {
   "cell_type": "code",
   "execution_count": 12,
   "metadata": {
    "collapsed": false
   },
   "outputs": [
    {
     "data": {
      "text/plain": [
       "<bokeh.models.renderers.GlyphRenderer at 0x16c2af9a0b8>"
      ]
     },
     "execution_count": 12,
     "metadata": {},
     "output_type": "execute_result"
    }
   ],
   "source": [
    "p.circle(fertility,female_lit)"
   ]
  },
  {
   "cell_type": "code",
   "execution_count": 13,
   "metadata": {
    "collapsed": false
   },
   "outputs": [],
   "source": [
    "output_file(\"fert_lit.html\")"
   ]
  },
  {
   "cell_type": "code",
   "execution_count": 14,
   "metadata": {
    "collapsed": false
   },
   "outputs": [],
   "source": [
    "show(p)"
   ]
  },
  {
   "cell_type": "markdown",
   "metadata": {
    "collapsed": true
   },
   "source": [
    "***\n",
    "\n",
    "## A scatter plot with different shapes\n",
    "\n",
    "By calling multiple glyph functions on the same figure object, we can overlay multiple data sets in the same figure.\n",
    "\n",
    "In this exercise, you will plot female literacy vs fertility for two different regions, Africa and Latin America. Each set of x and y data has been loaded separately for you as **`fertility_africa`**, **`female_literacy_africa`**, **`fertility_latinamerica`**, and **`female_literacy_latinamerica`**.\n",
    "\n",
    "Your job is to plot the Latin America data with the `circle()` glyph, and the Africa data with the `x()` glyph.\n",
    "\n",
    "`figure` has already been imported for you from `bokeh.plotting`.\n"
   ]
  },
  {
   "cell_type": "markdown",
   "metadata": {},
   "source": [
    "#### Instructions \n",
    "   - Create the figure p with the figure() function. It has two parameters: x_axis_label and y_axis_label.\n",
    "   - Add a circle glyph to the figure p using the function p.circle() where the inputs are the x and y data from Latin America: fertility_latinamerica and female_literacy_latinamerica.\n",
    "   - Add an x glyph to the figure p using the function p.x() where the inputs are the x and y data from Africa: fertility_africa and female_literacy_africa.\n",
    "   - The code to create, display, and specify the name of the output file has been written for you, so after adding the x glyph, hit 'Submit Answer' to view the figure.\n"
   ]
  },
  {
   "cell_type": "markdown",
   "metadata": {},
   "source": [
    "\n",
    "            # Create the figure: p\n",
    "            p = ____(____='fertility', ____='female_literacy (% population)')\n",
    "\n",
    "            # Add a circle glyph to the figure p\n",
    "\n",
    "\n",
    "            # Add an x glyph to the figure p\n",
    "\n",
    "\n",
    "            # Specify the name of the file\n",
    "            output_file('fert_lit_separate.html')\n",
    "\n",
    "            # Display the plot\n",
    "            show(p)\n"
   ]
  },
  {
   "cell_type": "code",
   "execution_count": 15,
   "metadata": {
    "collapsed": false
   },
   "outputs": [
    {
     "data": {
      "text/plain": [
       "array(['ASI', 'NAM', 'LAT', 'AF', 'EUR', 'OCE'], dtype=object)"
      ]
     },
     "execution_count": 15,
     "metadata": {},
     "output_type": "execute_result"
    }
   ],
   "source": [
    "data.Continent.unique()"
   ]
  },
  {
   "cell_type": "code",
   "execution_count": 30,
   "metadata": {
    "collapsed": true
   },
   "outputs": [],
   "source": [
    "p = figure(x_axis_label='fertility', y_axis_label='female_literacy (% population)')"
   ]
  },
  {
   "cell_type": "code",
   "execution_count": 31,
   "metadata": {
    "collapsed": false
   },
   "outputs": [
    {
     "data": {
      "text/plain": [
       "(24, 5)"
      ]
     },
     "execution_count": 31,
     "metadata": {},
     "output_type": "execute_result"
    }
   ],
   "source": [
    "latinamerica = data[data['Continent'] == 'LAT']\n",
    "latinamerica.shape"
   ]
  },
  {
   "cell_type": "code",
   "execution_count": 32,
   "metadata": {
    "collapsed": false
   },
   "outputs": [
    {
     "data": {
      "text/plain": [
       "(49, 5)"
      ]
     },
     "execution_count": 32,
     "metadata": {},
     "output_type": "execute_result"
    }
   ],
   "source": [
    "africa = data[data['Continent'] == 'AF']\n",
    "africa.shape"
   ]
  },
  {
   "cell_type": "code",
   "execution_count": 33,
   "metadata": {
    "collapsed": false
   },
   "outputs": [],
   "source": [
    "lat_fertility = [np.asarray(i) for i in latinamerica['fertility']]\n",
    "lat_female_lit = [np.asarray(i) for i in latinamerica['female literacy']]"
   ]
  },
  {
   "cell_type": "code",
   "execution_count": 34,
   "metadata": {
    "collapsed": true
   },
   "outputs": [],
   "source": [
    "af_fertility = [np.asarray(i) for i in africa['fertility']]\n",
    "af_female_lit = [np.asarray(i) for i in africa['female literacy']]"
   ]
  },
  {
   "cell_type": "code",
   "execution_count": 35,
   "metadata": {
    "collapsed": false
   },
   "outputs": [
    {
     "data": {
      "text/plain": [
       "<bokeh.models.renderers.GlyphRenderer at 0x16c31abcfd0>"
      ]
     },
     "execution_count": 35,
     "metadata": {},
     "output_type": "execute_result"
    }
   ],
   "source": [
    "p.circle(lat_fertility,lat_female_lit)"
   ]
  },
  {
   "cell_type": "code",
   "execution_count": 36,
   "metadata": {
    "collapsed": false
   },
   "outputs": [
    {
     "data": {
      "text/plain": [
       "<bokeh.models.renderers.GlyphRenderer at 0x16c31acd588>"
      ]
     },
     "execution_count": 36,
     "metadata": {},
     "output_type": "execute_result"
    }
   ],
   "source": [
    "p.x(af_fertility,af_female_lit)"
   ]
  },
  {
   "cell_type": "code",
   "execution_count": 37,
   "metadata": {
    "collapsed": false
   },
   "outputs": [
    {
     "name": "stderr",
     "output_type": "stream",
     "text": [
      "INFO:bokeh.core.state:Session output file 'fert_lit_separate.html' already exists, will be overwritten.\n"
     ]
    }
   ],
   "source": [
    "output_file('fert_lit_separate.html')\n",
    "\n",
    "show(p)"
   ]
  },
  {
   "cell_type": "markdown",
   "metadata": {},
   "source": [
    "***\n",
    "## Customizing your scatter plots"
   ]
  },
  {
   "cell_type": "markdown",
   "metadata": {},
   "source": [
    "The three most important arguments to customize scatter glyphs are **color**, **size**, and **alpha**. Bokeh accepts colors as hexadecimal strings, tuples of RGB values between 0 and 255, and any of the 147 CSS color names. Size values are supplied in screen space units with 100 meaning the size of the entire figure.\n",
    "\n",
    "The **alpha** parameter controls transparency. It takes in floating point numbers between 0.0, meaning completely transparent, and 1.0, meaning completely opaque.\n",
    "\n",
    "In this exercise, you'll plot female literacy vs fertility for Africa and Latin America as red and blue circle glyphs, respectively."
   ]
  },
  {
   "cell_type": "markdown",
   "metadata": {},
   "source": [
    "#### Instructions\n",
    "\n",
    " - Using the Latin America data (**fertility_latinamerica** and **female_literacy_latinamerica**), add a **blue** circle glyph of **size=10** and **alpha=0.8** to the figure **p**. To do this, you will need to specify the **color**, **size** and **alpha** keyword arguments inside **p.circle()**.\n",
    " - Using the Africa data (**fertility_africa** and **female_literacy_africa**), add a **red** circle glyph of **size=10** and **alpha=0.8** to the figure **p**.\n"
   ]
  },
  {
   "cell_type": "markdown",
   "metadata": {},
   "source": [
    "    # Create the figure: p\n",
    "    p = figure(x_axis_label='fertility (children per woman)', y_axis_label='female_literacy (% population)')\n",
    "\n",
    "    # Add a blue circle glyph to the figure p\n",
    "    p.circle(fertility_latinamerica, female_literacy_latinamerica, ____, ____, ____)\n",
    "\n",
    "    # Add a red circle glyph to the figure p\n",
    "\n",
    "\n",
    "    # Specify the name of the file\n",
    "    output_file('fert_lit_separate_colors.html')\n",
    "\n",
    "    # Display the plot\n",
    "    show(p)\n"
   ]
  },
  {
   "cell_type": "code",
   "execution_count": 38,
   "metadata": {
    "collapsed": true
   },
   "outputs": [],
   "source": [
    "\n",
    "p = figure(x_axis_label='fertility (children per woman)', y_axis_label='female_literacy (% population)')\n"
   ]
  },
  {
   "cell_type": "code",
   "execution_count": 39,
   "metadata": {
    "collapsed": false
   },
   "outputs": [
    {
     "data": {
      "text/plain": [
       "<bokeh.models.renderers.GlyphRenderer at 0x16c31ac10f0>"
      ]
     },
     "execution_count": 39,
     "metadata": {},
     "output_type": "execute_result"
    }
   ],
   "source": [
    "\n",
    "p.circle(lat_fertility, lat_female_lit, color='blue', size=10, alpha=0.8)\n",
    "p.circle(af_fertility , af_female_lit, color='red', size=10, alpha=0.8)\n"
   ]
  },
  {
   "cell_type": "code",
   "execution_count": 40,
   "metadata": {
    "collapsed": true
   },
   "outputs": [],
   "source": [
    "\n",
    "output_file('fert_lit_separate_colors.html')\n",
    "show(p)\n"
   ]
  },
  {
   "cell_type": "markdown",
   "metadata": {},
   "source": [
    "*** \n",
    "\n",
    "## Lines \n",
    "\n",
    "We can draw lines on Bokeh plots with the **line()** glyph function.\n",
    "\n",
    "In this exercise, you'll plot the daily adjusted closing price of Apple Inc.'s stock (AAPL) from 2000 to 2013.\n",
    "\n",
    "The data points are provided for you as lists. **date** is a list of **datetime objects** to plot on the x-axis and **price** is a list of prices to plot on the y-axis.\n",
    "\n",
    "Since we are plotting dates on the x-axis, you must add **x_axis_type='datetime'** when creating the figure object."
   ]
  },
  {
   "cell_type": "markdown",
   "metadata": {},
   "source": [
    "#### Instructions\n",
    "\n",
    "  - Import the **figure** function from **bokeh.plotting**\n",
    "  - Create a figure **p** using the **figure()** function with **x_axis_type** set to **'datetime'**. The other two parameters are **x_axis_label** and **y_axis_label**\n",
    "  - Plot **date** and **price** along the x- and y-axes using **p.line()**."
   ]
  },
  {
   "cell_type": "markdown",
   "metadata": {},
   "source": [
    "    # Import figure from bokeh.plotting\n",
    "    from ____ import ____\n",
    "\n",
    "    # Create a figure with x_axis_type=\"datetime\": p\n",
    "    p = ____(____, ____='Date', ____='US Dollars')\n",
    "\n",
    "    # Plot date along the x axis and price along the y axis\n",
    "\n",
    "\n",
    "    # Specify the name of the output file and show the result\n",
    "    output_file('line.html')\n",
    "    show(p)"
   ]
  },
  {
   "cell_type": "code",
   "execution_count": null,
   "metadata": {
    "collapsed": true
   },
   "outputs": [],
   "source": []
  }
 ],
 "metadata": {
  "anaconda-cloud": {},
  "kernelspec": {
   "display_name": "Python [conda root]",
   "language": "python",
   "name": "conda-root-py"
  },
  "language_info": {
   "codemirror_mode": {
    "name": "ipython",
    "version": 3
   },
   "file_extension": ".py",
   "mimetype": "text/x-python",
   "name": "python",
   "nbconvert_exporter": "python",
   "pygments_lexer": "ipython3",
   "version": "3.5.2"
  }
 },
 "nbformat": 4,
 "nbformat_minor": 1
}
