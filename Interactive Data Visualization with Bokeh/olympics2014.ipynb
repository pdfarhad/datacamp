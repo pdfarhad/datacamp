{
 "cells": [
  {
   "cell_type": "code",
   "execution_count": 1,
   "metadata": {
    "collapsed": false
   },
   "outputs": [
    {
     "name": "stderr",
     "output_type": "stream",
     "text": [
      "C:\\Program Files\\Anaconda3\\lib\\site-packages\\ipykernel\\__main__.py:15: SettingWithCopyWarning: \n",
      "A value is trying to be set on a copy of a slice from a DataFrame\n",
      "\n",
      "See the caveats in the documentation: http://pandas.pydata.org/pandas-docs/stable/indexing.html#indexing-view-versus-copy\n",
      "C:\\Program Files\\Anaconda3\\lib\\site-packages\\pandas\\core\\indexing.py:132: SettingWithCopyWarning: \n",
      "A value is trying to be set on a copy of a slice from a DataFrame\n",
      "\n",
      "See the caveats in the documentation: http://pandas.pydata.org/pandas-docs/stable/indexing.html#indexing-view-versus-copy\n",
      "  self._setitem_with_indexer(indexer, value)\n"
     ]
    }
   ],
   "source": [
    "from bokeh.charts import Bar, output_file, show\n",
    "from bokeh.charts.attributes import cat, color\n",
    "from bokeh.charts.operations import blend\n",
    "from bokeh.charts.utils import df_from_json\n",
    "from bokeh.sampledata.olympics2014 import data\n",
    "\n",
    "# utilize utility to make it easy to get json/dict data converted to a dataframe\n",
    "df = df_from_json(data)\n",
    "\n",
    "# filter by countries with at least one medal and sort by total medals\n",
    "df = df[df['total'] > 0]\n",
    "df = df.sort_values(by=\"total\", ascending=False)\n",
    "\n",
    "import numpy\n",
    "df['bronze'][65] = numpy.nan\n",
    "\n",
    "bar = Bar(df,\n",
    "          values=blend('bronze', 'silver', 'gold', name='medals', labels_name='medal'),\n",
    "          label=cat(columns='abbr', sort=False),\n",
    "          stack=cat(columns='medal', sort=False),\n",
    "          color=color(columns='medal', palette=['SaddleBrown', 'Silver', 'Goldenrod'],\n",
    "                      sort=False),\n",
    "          legend='top_right',\n",
    "          title=\"Medals per Country, Sorted by Total Medals\",\n",
    "          tooltips=[('medal', '@medal'), ('country', '@abbr')])\n",
    "\n",
    "\n",
    "output_file(\"stacked_bar.html\", title=\"stacked_bar.py example\")\n",
    "\n",
    "show(bar)"
   ]
  },
  {
   "cell_type": "code",
   "execution_count": null,
   "metadata": {
    "collapsed": true
   },
   "outputs": [],
   "source": []
  }
 ],
 "metadata": {
  "kernelspec": {
   "display_name": "Python [conda root]",
   "language": "python",
   "name": "conda-root-py"
  },
  "language_info": {
   "codemirror_mode": {
    "name": "ipython",
    "version": 3
   },
   "file_extension": ".py",
   "mimetype": "text/x-python",
   "name": "python",
   "nbconvert_exporter": "python",
   "pygments_lexer": "ipython3",
   "version": "3.5.2"
  }
 },
 "nbformat": 4,
 "nbformat_minor": 1
}
